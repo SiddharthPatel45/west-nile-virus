{
 "cells": [
  {
   "cell_type": "markdown",
   "id": "6420d3b5",
   "metadata": {},
   "source": [
    "# Project 4: West Nile Virus Analysis\n",
    "\n",
    "This is the fourth project done as part of the General Assembly's Data Science Immersive in July 2021.\n",
    "\n",
    "## Overview\n",
    "\n",
    "\n",
    "### Problem Statement\n",
    "\n",
    "**To ...**\n",
    "\n",
    "---\n",
    "\n",
    "## Executive Summary\n",
    "\n",
    "\n",
    "### Contents\n",
    "\n",
    "The contents of this notebook are as follows:\n",
    "\n"
   ]
  },
  {
   "cell_type": "code",
   "execution_count": null,
   "id": "709ac0d3",
   "metadata": {},
   "outputs": [],
   "source": []
  },
  {
   "cell_type": "code",
   "execution_count": null,
   "id": "2c4d1daa",
   "metadata": {},
   "outputs": [],
   "source": []
  },
  {
   "cell_type": "code",
   "execution_count": null,
   "id": "36126b51",
   "metadata": {},
   "outputs": [],
   "source": []
  },
  {
   "cell_type": "code",
   "execution_count": null,
   "id": "8983dc6b",
   "metadata": {},
   "outputs": [],
   "source": []
  },
  {
   "cell_type": "code",
   "execution_count": null,
   "id": "2f63bb21",
   "metadata": {},
   "outputs": [],
   "source": []
  },
  {
   "cell_type": "markdown",
   "id": "5453345c",
   "metadata": {},
   "source": [
    "## Conclusion and Recommendations"
   ]
  }
 ],
 "metadata": {
  "kernelspec": {
   "display_name": "Python 3",
   "language": "python",
   "name": "python3"
  },
  "language_info": {
   "codemirror_mode": {
    "name": "ipython",
    "version": 3
   },
   "file_extension": ".py",
   "mimetype": "text/x-python",
   "name": "python",
   "nbconvert_exporter": "python",
   "pygments_lexer": "ipython3",
   "version": "3.6.9"
  }
 },
 "nbformat": 4,
 "nbformat_minor": 5
}
