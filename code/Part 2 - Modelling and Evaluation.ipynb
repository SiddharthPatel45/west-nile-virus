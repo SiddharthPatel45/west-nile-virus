{
 "cells": [
  {
   "cell_type": "markdown",
   "id": "2e48130b",
   "metadata": {},
   "source": [
    "# Part 2 - Modelling and Evaluation"
   ]
  },
  {
   "cell_type": "markdown",
   "id": "4e10569e",
   "metadata": {},
   "source": [
    "In this notebook we are going to blah blah blah\n",
    "\n",
    "\n",
    "Modelling \n",
    "- Summary of Modelling and Methodology\n",
    "\n",
    "    Methodology: \n",
    "    - Base models with no tuning\n",
    "    - Models using polyn\n",
    "    \n",
    "    \n",
    "    \n",
    "\n",
    "\n",
    "Evaluation\n",
    "- Best Model\n",
    "- Uploading to Kaggle \n",
    "- Recommendations and Conclusion"
   ]
  },
  {
   "cell_type": "markdown",
   "id": "9d9aeca6",
   "metadata": {},
   "source": [
    "## Modelling"
   ]
  },
  {
   "cell_type": "code",
   "execution_count": 1,
   "id": "853ac0c3",
   "metadata": {},
   "outputs": [],
   "source": [
    "#import libraries"
   ]
  },
  {
   "cell_type": "code",
   "execution_count": null,
   "id": "1a6c8f4f",
   "metadata": {},
   "outputs": [],
   "source": [
    "# import data"
   ]
  },
  {
   "cell_type": "markdown",
   "id": "35f5f9d7",
   "metadata": {},
   "source": [
    "### Functions for modelling"
   ]
  },
  {
   "cell_type": "code",
   "execution_count": null,
   "id": "99bdb08d",
   "metadata": {},
   "outputs": [],
   "source": [
    "#dictionary for pipeline\n",
    "#dictionary for pipeline parameters "
   ]
  },
  {
   "cell_type": "code",
   "execution_count": null,
   "id": "69773e9d",
   "metadata": {},
   "outputs": [],
   "source": [
    "#function for model"
   ]
  },
  {
   "cell_type": "code",
   "execution_count": null,
   "id": "5df42a21",
   "metadata": {},
   "outputs": [],
   "source": []
  },
  {
   "cell_type": "markdown",
   "id": "5a20a762",
   "metadata": {},
   "source": [
    "### Generating Models"
   ]
  },
  {
   "cell_type": "markdown",
   "id": "8152b918",
   "metadata": {},
   "source": [
    "#### Baseline Model"
   ]
  },
  {
   "cell_type": "markdown",
   "id": "53736fa8",
   "metadata": {},
   "source": [
    "#### Models (No tuning)"
   ]
  },
  {
   "cell_type": "markdown",
   "id": "a41c2f1b",
   "metadata": {},
   "source": [
    "#### Models (PCA"
   ]
  },
  {
   "cell_type": "markdown",
   "id": "1b84f295",
   "metadata": {},
   "source": [
    "#### Models (SMOTE)"
   ]
  },
  {
   "cell_type": "markdown",
   "id": "d8f9c712",
   "metadata": {},
   "source": [
    "\n",
    "\n",
    "## Model Evaluation"
   ]
  },
  {
   "cell_type": "markdown",
   "id": "491e183d",
   "metadata": {},
   "source": [
    "## Kaggle"
   ]
  },
  {
   "cell_type": "markdown",
   "id": "0f75ee5d",
   "metadata": {},
   "source": [
    "## Cost-Benefit Analysis"
   ]
  },
  {
   "cell_type": "markdown",
   "id": "e27fd758",
   "metadata": {},
   "source": [
    "## Recommendations and Conclusion"
   ]
  },
  {
   "cell_type": "code",
   "execution_count": null,
   "id": "26af1be3",
   "metadata": {},
   "outputs": [],
   "source": []
  }
 ],
 "metadata": {
  "kernelspec": {
   "display_name": "Python 3",
   "language": "python",
   "name": "python3"
  },
  "language_info": {
   "codemirror_mode": {
    "name": "ipython",
    "version": 3
   },
   "file_extension": ".py",
   "mimetype": "text/x-python",
   "name": "python",
   "nbconvert_exporter": "python",
   "pygments_lexer": "ipython3",
   "version": "3.8.8"
  },
  "toc": {
   "base_numbering": 1,
   "nav_menu": {},
   "number_sections": true,
   "sideBar": true,
   "skip_h1_title": true,
   "title_cell": "Table of Contents",
   "title_sidebar": "Contents",
   "toc_cell": false,
   "toc_position": {},
   "toc_section_display": true,
   "toc_window_display": false
  }
 },
 "nbformat": 4,
 "nbformat_minor": 5
}
