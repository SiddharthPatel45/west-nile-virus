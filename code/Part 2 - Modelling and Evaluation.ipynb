{
 "cells": [
  {
   "cell_type": "markdown",
   "id": "2e48130b",
   "metadata": {},
   "source": [
    "# Project 4: West Nile Virus Analysis\n",
    "\n",
    "## Part 2 - Modelling and Evaluation"
   ]
  },
  {
   "cell_type": "markdown",
   "id": "4e10569e",
   "metadata": {},
   "source": [
    "In this notebook we will build the classification models to predict the presence of West Nile Virus in a trap on a given date. The data imported here is cleaned in Part I of this project. The virus only spreads to humans through mosquitoes and thus looking at the distribution of mosquito population across city, should be a good predictor of virus. Mosquito growth rates can vary with weather factors like $-$ temperature, precipitation. The mosquito life cycle changes with this seasonal changes and we should be able to use this data to predict the presence of virus. Location in the city is also a relevant feature that can have large impact on our modelling results.\n",
    "\n",
    "**Modelling**\n",
    "\n",
    "This is a binary classification problem where we predict if the West Nile Virus is detected (positive class) in an observation or not (negative class). These models that predict highly unbalanced classes can suffer from underfit on the minority class and metrics can be really worse depending on the output goal. One of the techniques used in this project is SMOTE. It is short for _Synthetic Minority Oversampling Technique_, which means we oversample the minority class (for training data) so that the two output classes are balanced.\n",
    "\n",
    "Training with this newly balanced class dataset does come with its own caveats, e.g., the synthetic data generated is not representative of the real-world scenario where mostly the class distribution would be uneven, and this can lead to overfitting the model on the minority class. Then when we fit the validation/test data, our model might not perform as well. However, benefits of using the oversampling technique outweighs using not using it, as shown later.\n",
    "\n",
    "We start with Logistic Regression, which is a commonly used classification model, and than try a bunch of tree based models, like, Extra Trees, Random Forests, and boosting, like AdaBoost, XGBoost. For a classification problem of this type and distribution, where we have many seemingly correlated features, decision trees can be a great way to classify them. Although, on there own, there is a very high probablity of them overfitting and thus we use other techniques such as bootstrapping along with ensemble methods like bagging classifier to overcome this issue.\n",
    "\n",
    "\n",
    "#### Contents\n",
    "\n",
    "The contents of this notebook are as follows:\n",
    "- [Imports](#Imports)\n",
    "\n",
    "- [Modelling](#Modelling)\n",
    "\n",
    "- [Evaluation](#Evaluation)\n",
    "\n",
    "- [Recommendations and Conclusion](#Recommendations-and-Conclusion)"
   ]
  },
  {
   "cell_type": "markdown",
   "id": "9d9aeca6",
   "metadata": {},
   "source": [
    "## Imports"
   ]
  },
  {
   "cell_type": "code",
   "execution_count": 1,
   "id": "853ac0c3",
   "metadata": {},
   "outputs": [],
   "source": [
    "# Import the libraries\n",
    "import pandas as pd\n",
    "import numpy as np\n",
    "import time\n",
    "import os\n",
    "\n",
    "import matplotlib.pyplot as plt\n",
    "import seaborn as sns\n",
    "%matplotlib inline\n",
    "\n",
    "from sklearn.preprocessing import StandardScaler\n",
    "from sklearn.model_selection import train_test_split\n",
    "\n",
    "from sklearn.linear_model import LogisticRegression\n",
    "from sklearn.tree import DecisionTreeClassifier\n",
    "from sklearn.ensemble import ExtraTreesClassifier\n",
    "from sklearn.ensemble import RandomForestClassifier\n",
    "from sklearn.ensemble import BaggingClassifier\n",
    "from sklearn.ensemble import AdaBoostClassifier\n",
    "from sklearn.ensemble import GradientBoostingClassifier\n",
    "from sklearn.svm import SVC\n",
    "\n",
    "from xgboost import XGBClassifier\n",
    "\n",
    "# from sklearn.pipeline import Pipeline\n",
    "from sklearn.model_selection import GridSearchCV\n",
    "from sklearn.metrics import plot_roc_curve, plot_confusion_matrix\n",
    "from sklearn.metrics import precision_score, recall_score\n",
    "from sklearn.metrics import roc_auc_score, f1_score, accuracy_score\n",
    "\n",
    "from imblearn.over_sampling import SMOTE, SMOTENC\n",
    "from imblearn.pipeline import Pipeline, make_pipeline\n",
    "\n",
    "#from joblib import dump, load"
   ]
  },
  {
   "cell_type": "code",
   "execution_count": 2,
   "id": "1ef8d1ad",
   "metadata": {},
   "outputs": [],
   "source": [
    "# Function to save kaggle submissions for WnvPresent probabilities\n",
    "def get_kaggle_format(prediction_probs):\n",
    "    # load the sample submission file\n",
    "    sub = pd.read_csv('../datasets/sampleSubmission.csv')\n",
    "    sub['WnvPresent'] = prediction_probs\n",
    "    \n",
    "    # Output filename for kaggle submission\n",
    "    i = 0\n",
    "    while os.path.exists(f\"../datasets/kaggle_sub_{i}.csv\"):\n",
    "        i += 1\n",
    "    filename = f\"../datasets/kaggle_sub_{i}.csv\"\n",
    "    \n",
    "    # Save the DataFrame to a file\n",
    "    sub.to_csv(filename, index=False)\n",
    "    print(f'File name: {filename}')"
   ]
  },
  {
   "cell_type": "code",
   "execution_count": 3,
   "id": "1a6c8f4f",
   "metadata": {},
   "outputs": [],
   "source": [
    "# import data\n",
    "pd.set_option('display.max_columns', None)\n",
    "train = pd.read_csv('../datasets/combined_cleaned.csv')\n",
    "test = pd.read_csv('../datasets/test_cleaned.csv')"
   ]
  },
  {
   "cell_type": "code",
   "execution_count": 4,
   "id": "27f60d5d",
   "metadata": {},
   "outputs": [
    {
     "data": {
      "text/html": [
       "<div>\n",
       "<style scoped>\n",
       "    .dataframe tbody tr th:only-of-type {\n",
       "        vertical-align: middle;\n",
       "    }\n",
       "\n",
       "    .dataframe tbody tr th {\n",
       "        vertical-align: top;\n",
       "    }\n",
       "\n",
       "    .dataframe thead th {\n",
       "        text-align: right;\n",
       "    }\n",
       "</style>\n",
       "<table border=\"1\" class=\"dataframe\">\n",
       "  <thead>\n",
       "    <tr style=\"text-align: right;\">\n",
       "      <th></th>\n",
       "      <th>date</th>\n",
       "      <th>latitude</th>\n",
       "      <th>longitude</th>\n",
       "      <th>wnv_present</th>\n",
       "      <th>species_label_1.0</th>\n",
       "      <th>species_label_2.0</th>\n",
       "      <th>species_label_3.0</th>\n",
       "      <th>tmax</th>\n",
       "      <th>tmin</th>\n",
       "      <th>tavg</th>\n",
       "      <th>depart</th>\n",
       "      <th>dew_point</th>\n",
       "      <th>wet_bulb</th>\n",
       "      <th>heat</th>\n",
       "      <th>cool</th>\n",
       "      <th>sunrise</th>\n",
       "      <th>sunset</th>\n",
       "      <th>precip_total</th>\n",
       "      <th>stn_pressure</th>\n",
       "      <th>sea_level</th>\n",
       "      <th>result_speed</th>\n",
       "      <th>result_dir</th>\n",
       "      <th>avg_speed</th>\n",
       "      <th>daylight</th>\n",
       "      <th>r_humid</th>\n",
       "      <th>bc</th>\n",
       "      <th>br</th>\n",
       "      <th>dz</th>\n",
       "      <th>fg</th>\n",
       "      <th>fg+</th>\n",
       "      <th>fu</th>\n",
       "      <th>gr</th>\n",
       "      <th>hz</th>\n",
       "      <th>mi</th>\n",
       "      <th>ra</th>\n",
       "      <th>sn</th>\n",
       "      <th>sq</th>\n",
       "      <th>ts</th>\n",
       "      <th>vc</th>\n",
       "      <th>tavg_10</th>\n",
       "      <th>tavg_14</th>\n",
       "      <th>tavg_28</th>\n",
       "      <th>precip_total_10</th>\n",
       "      <th>precip_total_14</th>\n",
       "      <th>precip_total_28</th>\n",
       "      <th>r_humid_10</th>\n",
       "      <th>r_humid_14</th>\n",
       "      <th>r_humid_28</th>\n",
       "      <th>week</th>\n",
       "    </tr>\n",
       "  </thead>\n",
       "  <tbody>\n",
       "    <tr>\n",
       "      <th>0</th>\n",
       "      <td>2007-05-29</td>\n",
       "      <td>41.731922</td>\n",
       "      <td>-87.677512</td>\n",
       "      <td>0</td>\n",
       "      <td>0</td>\n",
       "      <td>0</td>\n",
       "      <td>1</td>\n",
       "      <td>88.0</td>\n",
       "      <td>62.5</td>\n",
       "      <td>75.5</td>\n",
       "      <td>8.5</td>\n",
       "      <td>58.5</td>\n",
       "      <td>65.5</td>\n",
       "      <td>0.0</td>\n",
       "      <td>10.5</td>\n",
       "      <td>261.0</td>\n",
       "      <td>1157.0</td>\n",
       "      <td>0.0</td>\n",
       "      <td>29.415</td>\n",
       "      <td>30.1</td>\n",
       "      <td>5.8</td>\n",
       "      <td>17.0</td>\n",
       "      <td>6.95</td>\n",
       "      <td>896.0</td>\n",
       "      <td>179.994268</td>\n",
       "      <td>0</td>\n",
       "      <td>1</td>\n",
       "      <td>0</td>\n",
       "      <td>0</td>\n",
       "      <td>0</td>\n",
       "      <td>0</td>\n",
       "      <td>0</td>\n",
       "      <td>1</td>\n",
       "      <td>0</td>\n",
       "      <td>0</td>\n",
       "      <td>0</td>\n",
       "      <td>0</td>\n",
       "      <td>0</td>\n",
       "      <td>0</td>\n",
       "      <td>67.25</td>\n",
       "      <td>64.678571</td>\n",
       "      <td>63.714286</td>\n",
       "      <td>0.08575</td>\n",
       "      <td>0.06875</td>\n",
       "      <td>0.055</td>\n",
       "      <td>196.319405</td>\n",
       "      <td>208.835422</td>\n",
       "      <td>207.239818</td>\n",
       "      <td>22</td>\n",
       "    </tr>\n",
       "    <tr>\n",
       "      <th>1</th>\n",
       "      <td>2007-05-29</td>\n",
       "      <td>41.954690</td>\n",
       "      <td>-87.800991</td>\n",
       "      <td>0</td>\n",
       "      <td>0</td>\n",
       "      <td>1</td>\n",
       "      <td>0</td>\n",
       "      <td>88.0</td>\n",
       "      <td>62.5</td>\n",
       "      <td>75.5</td>\n",
       "      <td>8.5</td>\n",
       "      <td>58.5</td>\n",
       "      <td>65.5</td>\n",
       "      <td>0.0</td>\n",
       "      <td>10.5</td>\n",
       "      <td>261.0</td>\n",
       "      <td>1157.0</td>\n",
       "      <td>0.0</td>\n",
       "      <td>29.415</td>\n",
       "      <td>30.1</td>\n",
       "      <td>5.8</td>\n",
       "      <td>17.0</td>\n",
       "      <td>6.95</td>\n",
       "      <td>896.0</td>\n",
       "      <td>179.994268</td>\n",
       "      <td>0</td>\n",
       "      <td>1</td>\n",
       "      <td>0</td>\n",
       "      <td>0</td>\n",
       "      <td>0</td>\n",
       "      <td>0</td>\n",
       "      <td>0</td>\n",
       "      <td>1</td>\n",
       "      <td>0</td>\n",
       "      <td>0</td>\n",
       "      <td>0</td>\n",
       "      <td>0</td>\n",
       "      <td>0</td>\n",
       "      <td>0</td>\n",
       "      <td>67.25</td>\n",
       "      <td>64.678571</td>\n",
       "      <td>63.714286</td>\n",
       "      <td>0.08575</td>\n",
       "      <td>0.06875</td>\n",
       "      <td>0.055</td>\n",
       "      <td>196.319405</td>\n",
       "      <td>208.835422</td>\n",
       "      <td>207.239818</td>\n",
       "      <td>22</td>\n",
       "    </tr>\n",
       "    <tr>\n",
       "      <th>2</th>\n",
       "      <td>2007-05-29</td>\n",
       "      <td>41.974089</td>\n",
       "      <td>-87.824812</td>\n",
       "      <td>0</td>\n",
       "      <td>0</td>\n",
       "      <td>1</td>\n",
       "      <td>0</td>\n",
       "      <td>88.0</td>\n",
       "      <td>62.5</td>\n",
       "      <td>75.5</td>\n",
       "      <td>8.5</td>\n",
       "      <td>58.5</td>\n",
       "      <td>65.5</td>\n",
       "      <td>0.0</td>\n",
       "      <td>10.5</td>\n",
       "      <td>261.0</td>\n",
       "      <td>1157.0</td>\n",
       "      <td>0.0</td>\n",
       "      <td>29.415</td>\n",
       "      <td>30.1</td>\n",
       "      <td>5.8</td>\n",
       "      <td>17.0</td>\n",
       "      <td>6.95</td>\n",
       "      <td>896.0</td>\n",
       "      <td>179.994268</td>\n",
       "      <td>0</td>\n",
       "      <td>1</td>\n",
       "      <td>0</td>\n",
       "      <td>0</td>\n",
       "      <td>0</td>\n",
       "      <td>0</td>\n",
       "      <td>0</td>\n",
       "      <td>1</td>\n",
       "      <td>0</td>\n",
       "      <td>0</td>\n",
       "      <td>0</td>\n",
       "      <td>0</td>\n",
       "      <td>0</td>\n",
       "      <td>0</td>\n",
       "      <td>67.25</td>\n",
       "      <td>64.678571</td>\n",
       "      <td>63.714286</td>\n",
       "      <td>0.08575</td>\n",
       "      <td>0.06875</td>\n",
       "      <td>0.055</td>\n",
       "      <td>196.319405</td>\n",
       "      <td>208.835422</td>\n",
       "      <td>207.239818</td>\n",
       "      <td>22</td>\n",
       "    </tr>\n",
       "    <tr>\n",
       "      <th>3</th>\n",
       "      <td>2007-05-29</td>\n",
       "      <td>41.867108</td>\n",
       "      <td>-87.654224</td>\n",
       "      <td>0</td>\n",
       "      <td>0</td>\n",
       "      <td>1</td>\n",
       "      <td>0</td>\n",
       "      <td>88.0</td>\n",
       "      <td>62.5</td>\n",
       "      <td>75.5</td>\n",
       "      <td>8.5</td>\n",
       "      <td>58.5</td>\n",
       "      <td>65.5</td>\n",
       "      <td>0.0</td>\n",
       "      <td>10.5</td>\n",
       "      <td>261.0</td>\n",
       "      <td>1157.0</td>\n",
       "      <td>0.0</td>\n",
       "      <td>29.415</td>\n",
       "      <td>30.1</td>\n",
       "      <td>5.8</td>\n",
       "      <td>17.0</td>\n",
       "      <td>6.95</td>\n",
       "      <td>896.0</td>\n",
       "      <td>179.994268</td>\n",
       "      <td>0</td>\n",
       "      <td>1</td>\n",
       "      <td>0</td>\n",
       "      <td>0</td>\n",
       "      <td>0</td>\n",
       "      <td>0</td>\n",
       "      <td>0</td>\n",
       "      <td>1</td>\n",
       "      <td>0</td>\n",
       "      <td>0</td>\n",
       "      <td>0</td>\n",
       "      <td>0</td>\n",
       "      <td>0</td>\n",
       "      <td>0</td>\n",
       "      <td>67.25</td>\n",
       "      <td>64.678571</td>\n",
       "      <td>63.714286</td>\n",
       "      <td>0.08575</td>\n",
       "      <td>0.06875</td>\n",
       "      <td>0.055</td>\n",
       "      <td>196.319405</td>\n",
       "      <td>208.835422</td>\n",
       "      <td>207.239818</td>\n",
       "      <td>22</td>\n",
       "    </tr>\n",
       "    <tr>\n",
       "      <th>4</th>\n",
       "      <td>2007-05-29</td>\n",
       "      <td>41.919343</td>\n",
       "      <td>-87.694259</td>\n",
       "      <td>0</td>\n",
       "      <td>0</td>\n",
       "      <td>1</td>\n",
       "      <td>0</td>\n",
       "      <td>88.0</td>\n",
       "      <td>62.5</td>\n",
       "      <td>75.5</td>\n",
       "      <td>8.5</td>\n",
       "      <td>58.5</td>\n",
       "      <td>65.5</td>\n",
       "      <td>0.0</td>\n",
       "      <td>10.5</td>\n",
       "      <td>261.0</td>\n",
       "      <td>1157.0</td>\n",
       "      <td>0.0</td>\n",
       "      <td>29.415</td>\n",
       "      <td>30.1</td>\n",
       "      <td>5.8</td>\n",
       "      <td>17.0</td>\n",
       "      <td>6.95</td>\n",
       "      <td>896.0</td>\n",
       "      <td>179.994268</td>\n",
       "      <td>0</td>\n",
       "      <td>1</td>\n",
       "      <td>0</td>\n",
       "      <td>0</td>\n",
       "      <td>0</td>\n",
       "      <td>0</td>\n",
       "      <td>0</td>\n",
       "      <td>1</td>\n",
       "      <td>0</td>\n",
       "      <td>0</td>\n",
       "      <td>0</td>\n",
       "      <td>0</td>\n",
       "      <td>0</td>\n",
       "      <td>0</td>\n",
       "      <td>67.25</td>\n",
       "      <td>64.678571</td>\n",
       "      <td>63.714286</td>\n",
       "      <td>0.08575</td>\n",
       "      <td>0.06875</td>\n",
       "      <td>0.055</td>\n",
       "      <td>196.319405</td>\n",
       "      <td>208.835422</td>\n",
       "      <td>207.239818</td>\n",
       "      <td>22</td>\n",
       "    </tr>\n",
       "  </tbody>\n",
       "</table>\n",
       "</div>"
      ],
      "text/plain": [
       "         date   latitude  longitude  wnv_present  species_label_1.0  \\\n",
       "0  2007-05-29  41.731922 -87.677512            0                  0   \n",
       "1  2007-05-29  41.954690 -87.800991            0                  0   \n",
       "2  2007-05-29  41.974089 -87.824812            0                  0   \n",
       "3  2007-05-29  41.867108 -87.654224            0                  0   \n",
       "4  2007-05-29  41.919343 -87.694259            0                  0   \n",
       "\n",
       "   species_label_2.0  species_label_3.0  tmax  tmin  tavg  depart  dew_point  \\\n",
       "0                  0                  1  88.0  62.5  75.5     8.5       58.5   \n",
       "1                  1                  0  88.0  62.5  75.5     8.5       58.5   \n",
       "2                  1                  0  88.0  62.5  75.5     8.5       58.5   \n",
       "3                  1                  0  88.0  62.5  75.5     8.5       58.5   \n",
       "4                  1                  0  88.0  62.5  75.5     8.5       58.5   \n",
       "\n",
       "   wet_bulb  heat  cool  sunrise  sunset  precip_total  stn_pressure  \\\n",
       "0      65.5   0.0  10.5    261.0  1157.0           0.0        29.415   \n",
       "1      65.5   0.0  10.5    261.0  1157.0           0.0        29.415   \n",
       "2      65.5   0.0  10.5    261.0  1157.0           0.0        29.415   \n",
       "3      65.5   0.0  10.5    261.0  1157.0           0.0        29.415   \n",
       "4      65.5   0.0  10.5    261.0  1157.0           0.0        29.415   \n",
       "\n",
       "   sea_level  result_speed  result_dir  avg_speed  daylight     r_humid  bc  \\\n",
       "0       30.1           5.8        17.0       6.95     896.0  179.994268   0   \n",
       "1       30.1           5.8        17.0       6.95     896.0  179.994268   0   \n",
       "2       30.1           5.8        17.0       6.95     896.0  179.994268   0   \n",
       "3       30.1           5.8        17.0       6.95     896.0  179.994268   0   \n",
       "4       30.1           5.8        17.0       6.95     896.0  179.994268   0   \n",
       "\n",
       "   br  dz  fg  fg+  fu  gr  hz  mi  ra  sn  sq  ts  vc  tavg_10    tavg_14  \\\n",
       "0   1   0   0    0   0   0   1   0   0   0   0   0   0    67.25  64.678571   \n",
       "1   1   0   0    0   0   0   1   0   0   0   0   0   0    67.25  64.678571   \n",
       "2   1   0   0    0   0   0   1   0   0   0   0   0   0    67.25  64.678571   \n",
       "3   1   0   0    0   0   0   1   0   0   0   0   0   0    67.25  64.678571   \n",
       "4   1   0   0    0   0   0   1   0   0   0   0   0   0    67.25  64.678571   \n",
       "\n",
       "     tavg_28  precip_total_10  precip_total_14  precip_total_28  r_humid_10  \\\n",
       "0  63.714286          0.08575          0.06875            0.055  196.319405   \n",
       "1  63.714286          0.08575          0.06875            0.055  196.319405   \n",
       "2  63.714286          0.08575          0.06875            0.055  196.319405   \n",
       "3  63.714286          0.08575          0.06875            0.055  196.319405   \n",
       "4  63.714286          0.08575          0.06875            0.055  196.319405   \n",
       "\n",
       "   r_humid_14  r_humid_28  week  \n",
       "0  208.835422  207.239818    22  \n",
       "1  208.835422  207.239818    22  \n",
       "2  208.835422  207.239818    22  \n",
       "3  208.835422  207.239818    22  \n",
       "4  208.835422  207.239818    22  "
      ]
     },
     "execution_count": 4,
     "metadata": {},
     "output_type": "execute_result"
    }
   ],
   "source": [
    "train.head()"
   ]
  },
  {
   "cell_type": "code",
   "execution_count": 5,
   "id": "0c4f97be",
   "metadata": {},
   "outputs": [
    {
     "data": {
      "text/html": [
       "<div>\n",
       "<style scoped>\n",
       "    .dataframe tbody tr th:only-of-type {\n",
       "        vertical-align: middle;\n",
       "    }\n",
       "\n",
       "    .dataframe tbody tr th {\n",
       "        vertical-align: top;\n",
       "    }\n",
       "\n",
       "    .dataframe thead th {\n",
       "        text-align: right;\n",
       "    }\n",
       "</style>\n",
       "<table border=\"1\" class=\"dataframe\">\n",
       "  <thead>\n",
       "    <tr style=\"text-align: right;\">\n",
       "      <th></th>\n",
       "      <th>date</th>\n",
       "      <th>latitude</th>\n",
       "      <th>longitude</th>\n",
       "      <th>species_label_1.0</th>\n",
       "      <th>species_label_2.0</th>\n",
       "      <th>species_label_3.0</th>\n",
       "      <th>tmax</th>\n",
       "      <th>tmin</th>\n",
       "      <th>tavg</th>\n",
       "      <th>depart</th>\n",
       "      <th>dew_point</th>\n",
       "      <th>wet_bulb</th>\n",
       "      <th>heat</th>\n",
       "      <th>cool</th>\n",
       "      <th>sunrise</th>\n",
       "      <th>sunset</th>\n",
       "      <th>precip_total</th>\n",
       "      <th>stn_pressure</th>\n",
       "      <th>sea_level</th>\n",
       "      <th>result_speed</th>\n",
       "      <th>result_dir</th>\n",
       "      <th>avg_speed</th>\n",
       "      <th>daylight</th>\n",
       "      <th>r_humid</th>\n",
       "      <th>bc</th>\n",
       "      <th>br</th>\n",
       "      <th>dz</th>\n",
       "      <th>fg</th>\n",
       "      <th>fg+</th>\n",
       "      <th>fu</th>\n",
       "      <th>gr</th>\n",
       "      <th>hz</th>\n",
       "      <th>mi</th>\n",
       "      <th>ra</th>\n",
       "      <th>sn</th>\n",
       "      <th>sq</th>\n",
       "      <th>ts</th>\n",
       "      <th>vc</th>\n",
       "      <th>tavg_10</th>\n",
       "      <th>tavg_14</th>\n",
       "      <th>tavg_28</th>\n",
       "      <th>precip_total_10</th>\n",
       "      <th>precip_total_14</th>\n",
       "      <th>precip_total_28</th>\n",
       "      <th>r_humid_10</th>\n",
       "      <th>r_humid_14</th>\n",
       "      <th>r_humid_28</th>\n",
       "      <th>week</th>\n",
       "    </tr>\n",
       "  </thead>\n",
       "  <tbody>\n",
       "    <tr>\n",
       "      <th>0</th>\n",
       "      <td>2008-06-11</td>\n",
       "      <td>41.95469</td>\n",
       "      <td>-87.800991</td>\n",
       "      <td>0</td>\n",
       "      <td>1</td>\n",
       "      <td>0</td>\n",
       "      <td>86.0</td>\n",
       "      <td>63.5</td>\n",
       "      <td>75.0</td>\n",
       "      <td>6.0</td>\n",
       "      <td>55.5</td>\n",
       "      <td>64.0</td>\n",
       "      <td>0.0</td>\n",
       "      <td>10.0</td>\n",
       "      <td>256.0</td>\n",
       "      <td>1166.0</td>\n",
       "      <td>0.0</td>\n",
       "      <td>29.31</td>\n",
       "      <td>29.98</td>\n",
       "      <td>9.15</td>\n",
       "      <td>18.0</td>\n",
       "      <td>10.2</td>\n",
       "      <td>910.0</td>\n",
       "      <td>197.412262</td>\n",
       "      <td>0</td>\n",
       "      <td>0</td>\n",
       "      <td>0</td>\n",
       "      <td>0</td>\n",
       "      <td>0</td>\n",
       "      <td>0</td>\n",
       "      <td>0</td>\n",
       "      <td>0</td>\n",
       "      <td>0</td>\n",
       "      <td>0</td>\n",
       "      <td>0</td>\n",
       "      <td>0</td>\n",
       "      <td>0</td>\n",
       "      <td>0</td>\n",
       "      <td>72.7</td>\n",
       "      <td>70.25</td>\n",
       "      <td>62.678571</td>\n",
       "      <td>0.273</td>\n",
       "      <td>0.223214</td>\n",
       "      <td>0.127411</td>\n",
       "      <td>146.781616</td>\n",
       "      <td>153.471845</td>\n",
       "      <td>166.266846</td>\n",
       "      <td>24</td>\n",
       "    </tr>\n",
       "    <tr>\n",
       "      <th>1</th>\n",
       "      <td>2008-06-11</td>\n",
       "      <td>41.95469</td>\n",
       "      <td>-87.800991</td>\n",
       "      <td>1</td>\n",
       "      <td>0</td>\n",
       "      <td>0</td>\n",
       "      <td>86.0</td>\n",
       "      <td>63.5</td>\n",
       "      <td>75.0</td>\n",
       "      <td>6.0</td>\n",
       "      <td>55.5</td>\n",
       "      <td>64.0</td>\n",
       "      <td>0.0</td>\n",
       "      <td>10.0</td>\n",
       "      <td>256.0</td>\n",
       "      <td>1166.0</td>\n",
       "      <td>0.0</td>\n",
       "      <td>29.31</td>\n",
       "      <td>29.98</td>\n",
       "      <td>9.15</td>\n",
       "      <td>18.0</td>\n",
       "      <td>10.2</td>\n",
       "      <td>910.0</td>\n",
       "      <td>197.412262</td>\n",
       "      <td>0</td>\n",
       "      <td>0</td>\n",
       "      <td>0</td>\n",
       "      <td>0</td>\n",
       "      <td>0</td>\n",
       "      <td>0</td>\n",
       "      <td>0</td>\n",
       "      <td>0</td>\n",
       "      <td>0</td>\n",
       "      <td>0</td>\n",
       "      <td>0</td>\n",
       "      <td>0</td>\n",
       "      <td>0</td>\n",
       "      <td>0</td>\n",
       "      <td>72.7</td>\n",
       "      <td>70.25</td>\n",
       "      <td>62.678571</td>\n",
       "      <td>0.273</td>\n",
       "      <td>0.223214</td>\n",
       "      <td>0.127411</td>\n",
       "      <td>146.781616</td>\n",
       "      <td>153.471845</td>\n",
       "      <td>166.266846</td>\n",
       "      <td>24</td>\n",
       "    </tr>\n",
       "    <tr>\n",
       "      <th>2</th>\n",
       "      <td>2008-06-11</td>\n",
       "      <td>41.95469</td>\n",
       "      <td>-87.800991</td>\n",
       "      <td>0</td>\n",
       "      <td>0</td>\n",
       "      <td>1</td>\n",
       "      <td>86.0</td>\n",
       "      <td>63.5</td>\n",
       "      <td>75.0</td>\n",
       "      <td>6.0</td>\n",
       "      <td>55.5</td>\n",
       "      <td>64.0</td>\n",
       "      <td>0.0</td>\n",
       "      <td>10.0</td>\n",
       "      <td>256.0</td>\n",
       "      <td>1166.0</td>\n",
       "      <td>0.0</td>\n",
       "      <td>29.31</td>\n",
       "      <td>29.98</td>\n",
       "      <td>9.15</td>\n",
       "      <td>18.0</td>\n",
       "      <td>10.2</td>\n",
       "      <td>910.0</td>\n",
       "      <td>197.412262</td>\n",
       "      <td>0</td>\n",
       "      <td>0</td>\n",
       "      <td>0</td>\n",
       "      <td>0</td>\n",
       "      <td>0</td>\n",
       "      <td>0</td>\n",
       "      <td>0</td>\n",
       "      <td>0</td>\n",
       "      <td>0</td>\n",
       "      <td>0</td>\n",
       "      <td>0</td>\n",
       "      <td>0</td>\n",
       "      <td>0</td>\n",
       "      <td>0</td>\n",
       "      <td>72.7</td>\n",
       "      <td>70.25</td>\n",
       "      <td>62.678571</td>\n",
       "      <td>0.273</td>\n",
       "      <td>0.223214</td>\n",
       "      <td>0.127411</td>\n",
       "      <td>146.781616</td>\n",
       "      <td>153.471845</td>\n",
       "      <td>166.266846</td>\n",
       "      <td>24</td>\n",
       "    </tr>\n",
       "    <tr>\n",
       "      <th>3</th>\n",
       "      <td>2008-06-11</td>\n",
       "      <td>41.95469</td>\n",
       "      <td>-87.800991</td>\n",
       "      <td>0</td>\n",
       "      <td>0</td>\n",
       "      <td>0</td>\n",
       "      <td>86.0</td>\n",
       "      <td>63.5</td>\n",
       "      <td>75.0</td>\n",
       "      <td>6.0</td>\n",
       "      <td>55.5</td>\n",
       "      <td>64.0</td>\n",
       "      <td>0.0</td>\n",
       "      <td>10.0</td>\n",
       "      <td>256.0</td>\n",
       "      <td>1166.0</td>\n",
       "      <td>0.0</td>\n",
       "      <td>29.31</td>\n",
       "      <td>29.98</td>\n",
       "      <td>9.15</td>\n",
       "      <td>18.0</td>\n",
       "      <td>10.2</td>\n",
       "      <td>910.0</td>\n",
       "      <td>197.412262</td>\n",
       "      <td>0</td>\n",
       "      <td>0</td>\n",
       "      <td>0</td>\n",
       "      <td>0</td>\n",
       "      <td>0</td>\n",
       "      <td>0</td>\n",
       "      <td>0</td>\n",
       "      <td>0</td>\n",
       "      <td>0</td>\n",
       "      <td>0</td>\n",
       "      <td>0</td>\n",
       "      <td>0</td>\n",
       "      <td>0</td>\n",
       "      <td>0</td>\n",
       "      <td>72.7</td>\n",
       "      <td>70.25</td>\n",
       "      <td>62.678571</td>\n",
       "      <td>0.273</td>\n",
       "      <td>0.223214</td>\n",
       "      <td>0.127411</td>\n",
       "      <td>146.781616</td>\n",
       "      <td>153.471845</td>\n",
       "      <td>166.266846</td>\n",
       "      <td>24</td>\n",
       "    </tr>\n",
       "    <tr>\n",
       "      <th>4</th>\n",
       "      <td>2008-06-11</td>\n",
       "      <td>41.95469</td>\n",
       "      <td>-87.800991</td>\n",
       "      <td>0</td>\n",
       "      <td>0</td>\n",
       "      <td>0</td>\n",
       "      <td>86.0</td>\n",
       "      <td>63.5</td>\n",
       "      <td>75.0</td>\n",
       "      <td>6.0</td>\n",
       "      <td>55.5</td>\n",
       "      <td>64.0</td>\n",
       "      <td>0.0</td>\n",
       "      <td>10.0</td>\n",
       "      <td>256.0</td>\n",
       "      <td>1166.0</td>\n",
       "      <td>0.0</td>\n",
       "      <td>29.31</td>\n",
       "      <td>29.98</td>\n",
       "      <td>9.15</td>\n",
       "      <td>18.0</td>\n",
       "      <td>10.2</td>\n",
       "      <td>910.0</td>\n",
       "      <td>197.412262</td>\n",
       "      <td>0</td>\n",
       "      <td>0</td>\n",
       "      <td>0</td>\n",
       "      <td>0</td>\n",
       "      <td>0</td>\n",
       "      <td>0</td>\n",
       "      <td>0</td>\n",
       "      <td>0</td>\n",
       "      <td>0</td>\n",
       "      <td>0</td>\n",
       "      <td>0</td>\n",
       "      <td>0</td>\n",
       "      <td>0</td>\n",
       "      <td>0</td>\n",
       "      <td>72.7</td>\n",
       "      <td>70.25</td>\n",
       "      <td>62.678571</td>\n",
       "      <td>0.273</td>\n",
       "      <td>0.223214</td>\n",
       "      <td>0.127411</td>\n",
       "      <td>146.781616</td>\n",
       "      <td>153.471845</td>\n",
       "      <td>166.266846</td>\n",
       "      <td>24</td>\n",
       "    </tr>\n",
       "  </tbody>\n",
       "</table>\n",
       "</div>"
      ],
      "text/plain": [
       "         date  latitude  longitude  species_label_1.0  species_label_2.0  \\\n",
       "0  2008-06-11  41.95469 -87.800991                  0                  1   \n",
       "1  2008-06-11  41.95469 -87.800991                  1                  0   \n",
       "2  2008-06-11  41.95469 -87.800991                  0                  0   \n",
       "3  2008-06-11  41.95469 -87.800991                  0                  0   \n",
       "4  2008-06-11  41.95469 -87.800991                  0                  0   \n",
       "\n",
       "   species_label_3.0  tmax  tmin  tavg  depart  dew_point  wet_bulb  heat  \\\n",
       "0                  0  86.0  63.5  75.0     6.0       55.5      64.0   0.0   \n",
       "1                  0  86.0  63.5  75.0     6.0       55.5      64.0   0.0   \n",
       "2                  1  86.0  63.5  75.0     6.0       55.5      64.0   0.0   \n",
       "3                  0  86.0  63.5  75.0     6.0       55.5      64.0   0.0   \n",
       "4                  0  86.0  63.5  75.0     6.0       55.5      64.0   0.0   \n",
       "\n",
       "   cool  sunrise  sunset  precip_total  stn_pressure  sea_level  result_speed  \\\n",
       "0  10.0    256.0  1166.0           0.0         29.31      29.98          9.15   \n",
       "1  10.0    256.0  1166.0           0.0         29.31      29.98          9.15   \n",
       "2  10.0    256.0  1166.0           0.0         29.31      29.98          9.15   \n",
       "3  10.0    256.0  1166.0           0.0         29.31      29.98          9.15   \n",
       "4  10.0    256.0  1166.0           0.0         29.31      29.98          9.15   \n",
       "\n",
       "   result_dir  avg_speed  daylight     r_humid  bc  br  dz  fg  fg+  fu  gr  \\\n",
       "0        18.0       10.2     910.0  197.412262   0   0   0   0    0   0   0   \n",
       "1        18.0       10.2     910.0  197.412262   0   0   0   0    0   0   0   \n",
       "2        18.0       10.2     910.0  197.412262   0   0   0   0    0   0   0   \n",
       "3        18.0       10.2     910.0  197.412262   0   0   0   0    0   0   0   \n",
       "4        18.0       10.2     910.0  197.412262   0   0   0   0    0   0   0   \n",
       "\n",
       "   hz  mi  ra  sn  sq  ts  vc  tavg_10  tavg_14    tavg_28  precip_total_10  \\\n",
       "0   0   0   0   0   0   0   0     72.7    70.25  62.678571            0.273   \n",
       "1   0   0   0   0   0   0   0     72.7    70.25  62.678571            0.273   \n",
       "2   0   0   0   0   0   0   0     72.7    70.25  62.678571            0.273   \n",
       "3   0   0   0   0   0   0   0     72.7    70.25  62.678571            0.273   \n",
       "4   0   0   0   0   0   0   0     72.7    70.25  62.678571            0.273   \n",
       "\n",
       "   precip_total_14  precip_total_28  r_humid_10  r_humid_14  r_humid_28  week  \n",
       "0         0.223214         0.127411  146.781616  153.471845  166.266846    24  \n",
       "1         0.223214         0.127411  146.781616  153.471845  166.266846    24  \n",
       "2         0.223214         0.127411  146.781616  153.471845  166.266846    24  \n",
       "3         0.223214         0.127411  146.781616  153.471845  166.266846    24  \n",
       "4         0.223214         0.127411  146.781616  153.471845  166.266846    24  "
      ]
     },
     "execution_count": 5,
     "metadata": {},
     "output_type": "execute_result"
    }
   ],
   "source": [
    "test.head()"
   ]
  },
  {
   "cell_type": "code",
   "execution_count": 6,
   "id": "71e0b532",
   "metadata": {},
   "outputs": [
    {
     "data": {
      "text/plain": [
       "date                  object\n",
       "latitude             float64\n",
       "longitude            float64\n",
       "wnv_present            int64\n",
       "species_label_1.0      int64\n",
       "species_label_2.0      int64\n",
       "species_label_3.0      int64\n",
       "tmax                 float64\n",
       "tmin                 float64\n",
       "tavg                 float64\n",
       "depart               float64\n",
       "dew_point            float64\n",
       "wet_bulb             float64\n",
       "heat                 float64\n",
       "cool                 float64\n",
       "sunrise              float64\n",
       "sunset               float64\n",
       "precip_total         float64\n",
       "stn_pressure         float64\n",
       "sea_level            float64\n",
       "result_speed         float64\n",
       "result_dir           float64\n",
       "avg_speed            float64\n",
       "daylight             float64\n",
       "r_humid              float64\n",
       "bc                     int64\n",
       "br                     int64\n",
       "dz                     int64\n",
       "fg                     int64\n",
       "fg+                    int64\n",
       "fu                     int64\n",
       "gr                     int64\n",
       "hz                     int64\n",
       "mi                     int64\n",
       "ra                     int64\n",
       "sn                     int64\n",
       "sq                     int64\n",
       "ts                     int64\n",
       "vc                     int64\n",
       "tavg_10              float64\n",
       "tavg_14              float64\n",
       "tavg_28              float64\n",
       "precip_total_10      float64\n",
       "precip_total_14      float64\n",
       "precip_total_28      float64\n",
       "r_humid_10           float64\n",
       "r_humid_14           float64\n",
       "r_humid_28           float64\n",
       "week                   int64\n",
       "dtype: object"
      ]
     },
     "execution_count": 6,
     "metadata": {},
     "output_type": "execute_result"
    }
   ],
   "source": [
    "# check dtypes\n",
    "train.dtypes"
   ]
  },
  {
   "cell_type": "code",
   "execution_count": 7,
   "id": "02e3c19b",
   "metadata": {},
   "outputs": [],
   "source": [
    "# Get the training features and target variable\n",
    "X = train.drop(columns=['date', 'wnv_present',])\n",
    "y = train['wnv_present']\n",
    "\n",
    "# Get the test dataset features\n",
    "test = test.drop(columns=['date'])"
   ]
  },
  {
   "cell_type": "code",
   "execution_count": 8,
   "id": "4f258216",
   "metadata": {},
   "outputs": [],
   "source": [
    "# split the data into train and val for basic model building\n",
    "X_train, X_val, y_train, y_val = train_test_split(X, y, test_size = 0.3, random_state=42, shuffle=False)"
   ]
  },
  {
   "cell_type": "markdown",
   "id": "389e0799",
   "metadata": {},
   "source": [
    "#### Baseline accuracy"
   ]
  },
  {
   "cell_type": "code",
   "execution_count": 9,
   "id": "e6019c53",
   "metadata": {},
   "outputs": [
    {
     "data": {
      "text/plain": [
       "0    0.960502\n",
       "1    0.039498\n",
       "Name: wnv_present, dtype: float64"
      ]
     },
     "execution_count": 9,
     "metadata": {},
     "output_type": "execute_result"
    }
   ],
   "source": [
    "# target distribution\n",
    "y_train.value_counts(normalize=True)"
   ]
  },
  {
   "cell_type": "markdown",
   "id": "9acfca94",
   "metadata": {},
   "source": [
    "As discussed in the EDA part that the classes are highly unbalanced and we will employ the SMOTE technique to make the two classes of same distribution. This avoids overtraining the model on one class and makes better predictions.\n",
    "\n",
    "## Modelling\n",
    "\n",
    "Now we can build the models and train them using the training data. Since this is a classification problem of predicting whether a particular trap would have mosquitos with west nile virus or not, we will try some of them and run `GridSearchCV` to see which one gives us best results. Later, we will evaluate and discuss various metrics for the different models by interpreting the results.\n",
    "\n",
    "### Pipelines\n",
    "\n",
    "It is convenient to create pipelines using the `imblearns`'s `Pipeline` method, which is very similar to `sklearn's`, but we use this since we are using SMOTE. We can also write a function to get the results and print evaluations, so it is easier to consolidate everything when we run grid-search at once."
   ]
  },
  {
   "cell_type": "code",
   "execution_count": 10,
   "id": "99bdb08d",
   "metadata": {},
   "outputs": [],
   "source": [
    "#dictionary for pipeline\n",
    "pipes_dict = {\n",
    "    'pipe_lr': Pipeline([\n",
    "        ('smote', SMOTENC([31, 32, 33, 34], random_state=42)),\n",
    "        ('sc', StandardScaler()),\n",
    "        ('lr', LogisticRegression(random_state=42))\n",
    "    ]),\n",
    "    'pipe_dt': Pipeline([\n",
    "        ('smote', SMOTENC([31, 32, 33, 34], random_state=42)),\n",
    "        ('sc', StandardScaler()),\n",
    "        ('dt', DecisionTreeClassifier(random_state=42))\n",
    "    ]),\n",
    "    'pipe_et': Pipeline([\n",
    "        ('smote', SMOTENC([31, 32, 33, 34], random_state=42)),\n",
    "        ('sc', StandardScaler()),\n",
    "        ('et', ExtraTreesClassifier(random_state=42))\n",
    "    ]),\n",
    "    'pipe_rf': Pipeline([\n",
    "        ('smote', SMOTENC([31, 32, 33, 34], random_state=42)),\n",
    "        ('sc', StandardScaler()),\n",
    "        ('rf', RandomForestClassifier(random_state=42))\n",
    "    ]),\n",
    "    'pipe_bc': Pipeline([\n",
    "        ('smote', SMOTENC([31, 32, 33, 34], random_state=42)),\n",
    "        ('sc', StandardScaler()),\n",
    "        ('bc', BaggingClassifier(random_state=42))\n",
    "    ]),\n",
    "    'pipe_ab': Pipeline([\n",
    "        ('smote', SMOTENC([31, 32, 33, 34], random_state=42)),\n",
    "        ('sc', StandardScaler()),\n",
    "        ('ab', AdaBoostClassifier(random_state=42))\n",
    "    ]),\n",
    "    'pipe_xgb': Pipeline([\n",
    "        ('smote', SMOTENC([31, 32, 33, 34], random_state=42)),\n",
    "        ('sc', StandardScaler()),\n",
    "        ('xgb', XGBClassifier())\n",
    "    ])\n",
    "}"
   ]
  },
  {
   "cell_type": "code",
   "execution_count": 11,
   "id": "1867e3b3",
   "metadata": {},
   "outputs": [],
   "source": [
    "#dictionary for pipeline parameters\n",
    "pipe_params = {\n",
    "    'pipe_lr_params': {\n",
    "        'lr__penalty' : ['l2'],\n",
    "        'lr__C' : [0.001, 0.1, 10], #0.0001,0.001,0.01,0.1,1,10,20\n",
    "        'lr__max_iter' : [1000] \n",
    "    },\n",
    "    'pipe_dt_params': {\n",
    "        'dt__max_depth': [2], #2,4,10\n",
    "        'dt__min_samples_split': [2], #2,5,10,15\n",
    "        'dt__min_samples_leaf': [2], #2,4,6\n",
    "        'dt__ccp_alpha': [0] #0,0.01,1\n",
    "    },\n",
    "    'pipe_et_params': {\n",
    "        'et__n_estimators': [50, 100, 200],\n",
    "        'et__max_depth': [2, 3, 5, 10, 20],\n",
    "        'et__min_samples_leaf': [2, 5, 10],\n",
    "        'et__class_weight' : ['balanced', 'balanced_subsample']\n",
    "    },\n",
    "    'pipe_rf_params': {\n",
    "        'rf__max_depth': [1, 2, 5],\n",
    "        'rf__max_features': ['sqrt', 'log2'],\n",
    "        'rf__min_samples_leaf': [2, 5],\n",
    "        'rf__n_estimators': [50, 100, 500],\n",
    "         'rf__warm_start': [True, False]\n",
    "    },\n",
    "    'pipe_bc_params': {\n",
    "        'bc__bootstrap_features': [True, False],\n",
    "        'bc__n_estimators': [100, 500, 1000],\n",
    "        'bc__max_features': [0.1, 0.5, 1.0]\n",
    "    },\n",
    "    'pipe_ab_params': {\n",
    "        'ab__learning_rate': [0.1, 0.5, 0.9], #0.7,0.8,0.9,1\n",
    "        'ab__n_estimators': [25, 50, 100],  #20,25,50,100,200,300\n",
    "    },\n",
    "    'pipe_xgb_params': {\n",
    "        'xgb__n_estimators': [50, 75, 100],\n",
    "        'xgb__max_depth': [2, 3, 5],\n",
    "         'xgb__gamma' : [0.1, 0.5, 1], \n",
    "        'xgb__learning_rate' : [0.1, 0.2, 0.5],\n",
    "        'xgb__eval_metric': ['auc']\n",
    "    }\n",
    "}"
   ]
  },
  {
   "cell_type": "markdown",
   "id": "29ab07b2",
   "metadata": {},
   "source": [
    "#### Function for modelling"
   ]
  },
  {
   "cell_type": "code",
   "execution_count": 12,
   "id": "69773e9d",
   "metadata": {},
   "outputs": [],
   "source": [
    "#function for model\n",
    "#list to store results and evaluation metrics for models\n",
    "model_results = []\n",
    "\n",
    "#store the models and params from gridsearch to dict\n",
    "gs_dict = {}\n",
    "\n",
    "#function to train model and store results in model_results list\n",
    "def model_eval(pipeline, params):\n",
    "    # get the name of the grid search model\n",
    "    model = pipeline.steps[2][0]   #model name\n",
    "\n",
    "    gs = f'gs_{model}'\n",
    "    \n",
    "    # instantiate the grid search\n",
    "    gs_dict[gs] = GridSearchCV(estimator=pipeline,\n",
    "                               param_grid=params,\n",
    "                               scoring='roc_auc',\n",
    "                               verbose=1,\n",
    "                               n_jobs=-1)\n",
    "    \n",
    "    \n",
    "    gs_dict[gs].fit(X_train, y_train)  #fit our model onto gridsearchCV\n",
    "        \n",
    "    results = {}  #initialise results dictionary\n",
    "    \n",
    "    results['Classifier'] = model\n",
    "    \n",
    "    # train prediction probas\n",
    "    y_train_pred = gs_dict[gs].predict(X_train)\n",
    "    y_train_pred_probas = gs_dict[gs].predict_proba(X_train)[:,1]\n",
    "    \n",
    "    # validation predictions    \n",
    "    y_val_pred = gs_dict[gs].predict(X_val) #get the predictions\n",
    "    y_val_pred_probas = gs_dict[gs].predict_proba(X_val)[:, 1]\n",
    "    \n",
    "    results['Train Acc Score'] = accuracy_score(y_train, y_train_pred) #train accuracy score\n",
    "    results['Val Acc Score'] = accuracy_score(y_val, y_val_pred) #val accuracy score\n",
    "    \n",
    "    results['Train ROC-AUC'] = roc_auc_score(y_train, y_train_pred_probas) #train roc-auc score\n",
    "    results['Val ROC-AUC'] = roc_auc_score(y_val, y_val_pred_probas) #val roc-auc score\n",
    "    \n",
    "    results['Recall'] = recall_score(y_val, y_val_pred)  #recall score\n",
    "    results['Precision'] = precision_score(y_val, y_val_pred)  #precision score\n",
    "    results['F1-Score'] = f1_score(y_val, y_val_pred) #f1-score\n",
    "    \n",
    "    model_results.append(results) #append dictionary into model_results list\n",
    "    \n",
    "    return gs_dict[gs].best_estimator_, gs_dict[gs].best_params_"
   ]
  },
  {
   "cell_type": "markdown",
   "id": "5a20a762",
   "metadata": {},
   "source": [
    "### Generating Models\n",
    "\n",
    "Now, we can run each model pipeline through the grid search and later we can evaluate the results."
   ]
  },
  {
   "cell_type": "code",
   "execution_count": 13,
   "id": "dee360f0",
   "metadata": {},
   "outputs": [],
   "source": [
    "start = time.time()"
   ]
  },
  {
   "cell_type": "markdown",
   "id": "20f5a931",
   "metadata": {},
   "source": [
    "#### Logistic Regression"
   ]
  },
  {
   "cell_type": "code",
   "execution_count": 14,
   "id": "245c1824",
   "metadata": {},
   "outputs": [
    {
     "name": "stdout",
     "output_type": "stream",
     "text": [
      "Fitting 5 folds for each of 3 candidates, totalling 15 fits\n"
     ]
    },
    {
     "data": {
      "text/plain": [
       "(Pipeline(steps=[('smote',\n",
       "                  SMOTENC(categorical_features=[31, 32, 33, 34],\n",
       "                          random_state=42)),\n",
       "                 ('sc', StandardScaler()),\n",
       "                 ('lr',\n",
       "                  LogisticRegression(C=0.001, max_iter=1000, random_state=42))]),\n",
       " {'lr__C': 0.001, 'lr__max_iter': 1000, 'lr__penalty': 'l2'})"
      ]
     },
     "execution_count": 14,
     "metadata": {},
     "output_type": "execute_result"
    }
   ],
   "source": [
    "model_eval(pipeline=pipes_dict['pipe_lr'], params=pipe_params['pipe_lr_params'])"
   ]
  },
  {
   "cell_type": "markdown",
   "id": "522e84ce",
   "metadata": {},
   "source": [
    "#### Decision Trees"
   ]
  },
  {
   "cell_type": "code",
   "execution_count": 15,
   "id": "f7b4bf7a",
   "metadata": {},
   "outputs": [
    {
     "name": "stdout",
     "output_type": "stream",
     "text": [
      "Fitting 5 folds for each of 1 candidates, totalling 5 fits\n"
     ]
    },
    {
     "data": {
      "text/plain": [
       "(Pipeline(steps=[('smote',\n",
       "                  SMOTENC(categorical_features=[31, 32, 33, 34],\n",
       "                          random_state=42)),\n",
       "                 ('sc', StandardScaler()),\n",
       "                 ('dt',\n",
       "                  DecisionTreeClassifier(ccp_alpha=0, max_depth=2,\n",
       "                                         min_samples_leaf=2, random_state=42))]),\n",
       " {'dt__ccp_alpha': 0,\n",
       "  'dt__max_depth': 2,\n",
       "  'dt__min_samples_leaf': 2,\n",
       "  'dt__min_samples_split': 2})"
      ]
     },
     "execution_count": 15,
     "metadata": {},
     "output_type": "execute_result"
    }
   ],
   "source": [
    "model_eval(pipeline=pipes_dict['pipe_dt'], params=pipe_params['pipe_dt_params'])"
   ]
  },
  {
   "cell_type": "markdown",
   "id": "01b933b2",
   "metadata": {},
   "source": [
    "#### Extra Trees"
   ]
  },
  {
   "cell_type": "code",
   "execution_count": 16,
   "id": "f8f67e8f",
   "metadata": {},
   "outputs": [
    {
     "name": "stdout",
     "output_type": "stream",
     "text": [
      "Fitting 5 folds for each of 90 candidates, totalling 450 fits\n"
     ]
    },
    {
     "name": "stderr",
     "output_type": "stream",
     "text": [
      "/opt/anaconda3/lib/python3.8/site-packages/joblib/externals/loky/process_executor.py:688: UserWarning: A worker stopped while some jobs were given to the executor. This can be caused by a too short worker timeout or by a memory leak.\n",
      "  warnings.warn(\n"
     ]
    },
    {
     "data": {
      "text/plain": [
       "(Pipeline(steps=[('smote',\n",
       "                  SMOTENC(categorical_features=[31, 32, 33, 34],\n",
       "                          random_state=42)),\n",
       "                 ('sc', StandardScaler()),\n",
       "                 ('et',\n",
       "                  ExtraTreesClassifier(class_weight='balanced', max_depth=2,\n",
       "                                       min_samples_leaf=2, n_estimators=50,\n",
       "                                       random_state=42))]),\n",
       " {'et__class_weight': 'balanced',\n",
       "  'et__max_depth': 2,\n",
       "  'et__min_samples_leaf': 2,\n",
       "  'et__n_estimators': 50})"
      ]
     },
     "execution_count": 16,
     "metadata": {},
     "output_type": "execute_result"
    }
   ],
   "source": [
    "model_eval(pipeline=pipes_dict['pipe_et'], params=pipe_params['pipe_et_params'])"
   ]
  },
  {
   "cell_type": "markdown",
   "id": "a63be62d",
   "metadata": {},
   "source": [
    "#### Random Forest"
   ]
  },
  {
   "cell_type": "code",
   "execution_count": 17,
   "id": "34230c85",
   "metadata": {},
   "outputs": [
    {
     "name": "stdout",
     "output_type": "stream",
     "text": [
      "Fitting 5 folds for each of 72 candidates, totalling 360 fits\n"
     ]
    },
    {
     "name": "stderr",
     "output_type": "stream",
     "text": [
      "/opt/anaconda3/lib/python3.8/site-packages/joblib/externals/loky/process_executor.py:688: UserWarning: A worker stopped while some jobs were given to the executor. This can be caused by a too short worker timeout or by a memory leak.\n",
      "  warnings.warn(\n"
     ]
    },
    {
     "data": {
      "text/plain": [
       "(Pipeline(steps=[('smote',\n",
       "                  SMOTENC(categorical_features=[31, 32, 33, 34],\n",
       "                          random_state=42)),\n",
       "                 ('sc', StandardScaler()),\n",
       "                 ('rf',\n",
       "                  RandomForestClassifier(max_depth=1, max_features='log2',\n",
       "                                         min_samples_leaf=2, n_estimators=500,\n",
       "                                         random_state=42, warm_start=True))]),\n",
       " {'rf__max_depth': 1,\n",
       "  'rf__max_features': 'log2',\n",
       "  'rf__min_samples_leaf': 2,\n",
       "  'rf__n_estimators': 500,\n",
       "  'rf__warm_start': True})"
      ]
     },
     "execution_count": 17,
     "metadata": {},
     "output_type": "execute_result"
    }
   ],
   "source": [
    "model_eval(pipeline=pipes_dict['pipe_rf'], params=pipe_params['pipe_rf_params'])"
   ]
  },
  {
   "cell_type": "markdown",
   "id": "0cbc9a40",
   "metadata": {},
   "source": [
    "#### Bagging Classifier"
   ]
  },
  {
   "cell_type": "code",
   "execution_count": 18,
   "id": "d54e5680",
   "metadata": {},
   "outputs": [
    {
     "name": "stdout",
     "output_type": "stream",
     "text": [
      "Fitting 5 folds for each of 18 candidates, totalling 90 fits\n"
     ]
    },
    {
     "name": "stderr",
     "output_type": "stream",
     "text": [
      "/opt/anaconda3/lib/python3.8/site-packages/joblib/externals/loky/process_executor.py:688: UserWarning: A worker stopped while some jobs were given to the executor. This can be caused by a too short worker timeout or by a memory leak.\n",
      "  warnings.warn(\n"
     ]
    },
    {
     "data": {
      "text/plain": [
       "(Pipeline(steps=[('smote',\n",
       "                  SMOTENC(categorical_features=[31, 32, 33, 34],\n",
       "                          random_state=42)),\n",
       "                 ('sc', StandardScaler()),\n",
       "                 ('bc',\n",
       "                  BaggingClassifier(bootstrap_features=True, max_features=0.1,\n",
       "                                    n_estimators=100, random_state=42))]),\n",
       " {'bc__bootstrap_features': True,\n",
       "  'bc__max_features': 0.1,\n",
       "  'bc__n_estimators': 100})"
      ]
     },
     "execution_count": 18,
     "metadata": {},
     "output_type": "execute_result"
    }
   ],
   "source": [
    "model_eval(pipeline=pipes_dict['pipe_bc'], params=pipe_params['pipe_bc_params'])"
   ]
  },
  {
   "cell_type": "markdown",
   "id": "c4213b66",
   "metadata": {},
   "source": [
    "#### AdaBoost Classifier"
   ]
  },
  {
   "cell_type": "code",
   "execution_count": 19,
   "id": "145149ab",
   "metadata": {},
   "outputs": [
    {
     "name": "stdout",
     "output_type": "stream",
     "text": [
      "Fitting 5 folds for each of 9 candidates, totalling 45 fits\n"
     ]
    },
    {
     "name": "stderr",
     "output_type": "stream",
     "text": [
      "/opt/anaconda3/lib/python3.8/site-packages/joblib/externals/loky/process_executor.py:688: UserWarning: A worker stopped while some jobs were given to the executor. This can be caused by a too short worker timeout or by a memory leak.\n",
      "  warnings.warn(\n"
     ]
    },
    {
     "data": {
      "text/plain": [
       "(Pipeline(steps=[('smote',\n",
       "                  SMOTENC(categorical_features=[31, 32, 33, 34],\n",
       "                          random_state=42)),\n",
       "                 ('sc', StandardScaler()),\n",
       "                 ('ab',\n",
       "                  AdaBoostClassifier(learning_rate=0.1, n_estimators=25,\n",
       "                                     random_state=42))]),\n",
       " {'ab__learning_rate': 0.1, 'ab__n_estimators': 25})"
      ]
     },
     "execution_count": 19,
     "metadata": {},
     "output_type": "execute_result"
    }
   ],
   "source": [
    "model_eval(pipeline=pipes_dict['pipe_ab'], params=pipe_params['pipe_ab_params'])"
   ]
  },
  {
   "cell_type": "markdown",
   "id": "020caf12",
   "metadata": {},
   "source": [
    "#### XGBoost Classifier"
   ]
  },
  {
   "cell_type": "code",
   "execution_count": 20,
   "id": "ea246629",
   "metadata": {
    "scrolled": false
   },
   "outputs": [
    {
     "name": "stdout",
     "output_type": "stream",
     "text": [
      "Fitting 5 folds for each of 81 candidates, totalling 405 fits\n"
     ]
    },
    {
     "name": "stderr",
     "output_type": "stream",
     "text": [
      "/opt/anaconda3/lib/python3.8/site-packages/joblib/externals/loky/process_executor.py:688: UserWarning: A worker stopped while some jobs were given to the executor. This can be caused by a too short worker timeout or by a memory leak.\n",
      "  warnings.warn(\n",
      "/opt/anaconda3/lib/python3.8/site-packages/xgboost/sklearn.py:888: UserWarning: The use of label encoder in XGBClassifier is deprecated and will be removed in a future release. To remove this warning, do the following: 1) Pass option use_label_encoder=False when constructing XGBClassifier object; and 2) Encode your labels (y) as integers starting with 0, i.e. 0, 1, 2, ..., [num_class - 1].\n",
      "  warnings.warn(label_encoder_deprecation_msg, UserWarning)\n"
     ]
    },
    {
     "data": {
      "text/plain": [
       "(Pipeline(steps=[('smote',\n",
       "                  SMOTENC(categorical_features=[31, 32, 33, 34],\n",
       "                          random_state=42)),\n",
       "                 ('sc', StandardScaler()),\n",
       "                 ('xgb',\n",
       "                  XGBClassifier(base_score=0.5, booster='gbtree',\n",
       "                                colsample_bylevel=1, colsample_bynode=1,\n",
       "                                colsample_bytree=1, eval_metric='auc', gamma=0.1,\n",
       "                                gpu_id=-1, importance_type='gain',\n",
       "                                interaction_constraints='', learning_rate=0.1,\n",
       "                                max_delta_step=0, max_depth=2,\n",
       "                                min_child_weight=1, missing=nan,\n",
       "                                monotone_constraints='()', n_estimators=50,\n",
       "                                n_jobs=8, num_parallel_tree=1, random_state=0,\n",
       "                                reg_alpha=0, reg_lambda=1, scale_pos_weight=1,\n",
       "                                subsample=1, tree_method='exact',\n",
       "                                validate_parameters=1, verbosity=None))]),\n",
       " {'xgb__eval_metric': 'auc',\n",
       "  'xgb__gamma': 0.1,\n",
       "  'xgb__learning_rate': 0.1,\n",
       "  'xgb__max_depth': 2,\n",
       "  'xgb__n_estimators': 50})"
      ]
     },
     "execution_count": 20,
     "metadata": {},
     "output_type": "execute_result"
    }
   ],
   "source": [
    "model_eval(pipeline=pipes_dict['pipe_xgb'], params=pipe_params['pipe_xgb_params'])"
   ]
  },
  {
   "cell_type": "code",
   "execution_count": 21,
   "id": "3b8827e7",
   "metadata": {},
   "outputs": [
    {
     "name": "stdout",
     "output_type": "stream",
     "text": [
      "It took 537.2356491088867 secs to run grid search.\n"
     ]
    }
   ],
   "source": [
    "print(f\"It took {time.time() - start} secs to run grid search.\")"
   ]
  },
  {
   "cell_type": "markdown",
   "id": "d8f9c712",
   "metadata": {},
   "source": [
    "## Model Evaluation\n",
    "\n",
    "Based on the grid searching on models above, we will summarize the results here and select the best performing model to predict the final test dataset."
   ]
  },
  {
   "cell_type": "code",
   "execution_count": 22,
   "id": "d3fed317",
   "metadata": {},
   "outputs": [
    {
     "data": {
      "text/html": [
       "<div>\n",
       "<style scoped>\n",
       "    .dataframe tbody tr th:only-of-type {\n",
       "        vertical-align: middle;\n",
       "    }\n",
       "\n",
       "    .dataframe tbody tr th {\n",
       "        vertical-align: top;\n",
       "    }\n",
       "\n",
       "    .dataframe thead th {\n",
       "        text-align: right;\n",
       "    }\n",
       "</style>\n",
       "<table border=\"1\" class=\"dataframe\">\n",
       "  <thead>\n",
       "    <tr style=\"text-align: right;\">\n",
       "      <th></th>\n",
       "      <th>Classifier</th>\n",
       "      <th>Train Acc Score</th>\n",
       "      <th>Val Acc Score</th>\n",
       "      <th>Train ROC-AUC</th>\n",
       "      <th>Val ROC-AUC</th>\n",
       "      <th>Recall</th>\n",
       "      <th>Precision</th>\n",
       "      <th>F1-Score</th>\n",
       "    </tr>\n",
       "  </thead>\n",
       "  <tbody>\n",
       "    <tr>\n",
       "      <th>0</th>\n",
       "      <td>xgb</td>\n",
       "      <td>0.741312</td>\n",
       "      <td>0.792803</td>\n",
       "      <td>0.882247</td>\n",
       "      <td>0.729746</td>\n",
       "      <td>0.408072</td>\n",
       "      <td>0.188406</td>\n",
       "      <td>0.257790</td>\n",
       "    </tr>\n",
       "    <tr>\n",
       "      <th>1</th>\n",
       "      <td>et</td>\n",
       "      <td>0.710290</td>\n",
       "      <td>0.865164</td>\n",
       "      <td>0.848968</td>\n",
       "      <td>0.721504</td>\n",
       "      <td>0.147982</td>\n",
       "      <td>0.179348</td>\n",
       "      <td>0.162162</td>\n",
       "    </tr>\n",
       "    <tr>\n",
       "      <th>2</th>\n",
       "      <td>ab</td>\n",
       "      <td>0.708256</td>\n",
       "      <td>0.779359</td>\n",
       "      <td>0.848738</td>\n",
       "      <td>0.706233</td>\n",
       "      <td>0.295964</td>\n",
       "      <td>0.141328</td>\n",
       "      <td>0.191304</td>\n",
       "    </tr>\n",
       "    <tr>\n",
       "      <th>3</th>\n",
       "      <td>bc</td>\n",
       "      <td>0.798779</td>\n",
       "      <td>0.429419</td>\n",
       "      <td>0.916910</td>\n",
       "      <td>0.692877</td>\n",
       "      <td>0.905830</td>\n",
       "      <td>0.124384</td>\n",
       "      <td>0.218733</td>\n",
       "    </tr>\n",
       "    <tr>\n",
       "      <th>4</th>\n",
       "      <td>lr</td>\n",
       "      <td>0.746228</td>\n",
       "      <td>0.783709</td>\n",
       "      <td>0.842807</td>\n",
       "      <td>0.687969</td>\n",
       "      <td>0.336323</td>\n",
       "      <td>0.158228</td>\n",
       "      <td>0.215208</td>\n",
       "    </tr>\n",
       "    <tr>\n",
       "      <th>5</th>\n",
       "      <td>rf</td>\n",
       "      <td>0.676894</td>\n",
       "      <td>0.850534</td>\n",
       "      <td>0.845842</td>\n",
       "      <td>0.680681</td>\n",
       "      <td>0.152466</td>\n",
       "      <td>0.152466</td>\n",
       "      <td>0.152466</td>\n",
       "    </tr>\n",
       "    <tr>\n",
       "      <th>6</th>\n",
       "      <td>dt</td>\n",
       "      <td>0.787930</td>\n",
       "      <td>0.827204</td>\n",
       "      <td>0.811114</td>\n",
       "      <td>0.623974</td>\n",
       "      <td>0.233184</td>\n",
       "      <td>0.163522</td>\n",
       "      <td>0.192237</td>\n",
       "    </tr>\n",
       "  </tbody>\n",
       "</table>\n",
       "</div>"
      ],
      "text/plain": [
       "  Classifier  Train Acc Score  Val Acc Score  Train ROC-AUC  Val ROC-AUC  \\\n",
       "0        xgb         0.741312       0.792803       0.882247     0.729746   \n",
       "1         et         0.710290       0.865164       0.848968     0.721504   \n",
       "2         ab         0.708256       0.779359       0.848738     0.706233   \n",
       "3         bc         0.798779       0.429419       0.916910     0.692877   \n",
       "4         lr         0.746228       0.783709       0.842807     0.687969   \n",
       "5         rf         0.676894       0.850534       0.845842     0.680681   \n",
       "6         dt         0.787930       0.827204       0.811114     0.623974   \n",
       "\n",
       "     Recall  Precision  F1-Score  \n",
       "0  0.408072   0.188406  0.257790  \n",
       "1  0.147982   0.179348  0.162162  \n",
       "2  0.295964   0.141328  0.191304  \n",
       "3  0.905830   0.124384  0.218733  \n",
       "4  0.336323   0.158228  0.215208  \n",
       "5  0.152466   0.152466  0.152466  \n",
       "6  0.233184   0.163522  0.192237  "
      ]
     },
     "execution_count": 22,
     "metadata": {},
     "output_type": "execute_result"
    }
   ],
   "source": [
    "# results dataframe\n",
    "model_performance = pd.DataFrame(model_results).sort_values(by='Val ROC-AUC', ascending = False)\n",
    "model_performance.reset_index(drop=True)"
   ]
  },
  {
   "cell_type": "markdown",
   "id": "9f29b6e4",
   "metadata": {},
   "source": [
    "The _XGBoost Classifier_ model performed the best with , based on the accuracy score, with 0.977 on train and 0.897 on validation. Although, this shows a bit of overfitting on train data, we can tune it to get better results. However, as mentioned in the intro, accuracy is not the best metric for these, and so we look at the ROC-AUC.\n",
    "\n",
    "The above dataframe is sorted by `Val ROC-AUC`, and it shows that the _AdaBoost Classifier_ model performed the best on the validation dataset. The ROC-AUC curve is a balance between recall and precision. For us, we want to predict as many observations with virus correctly but also want to minimize misclassifying the actual observations with virus, so recall is the metric we can look at. This helps us reduce the false negatives, and thus we can choose the __AdaBoost Classifier__ as our best model."
   ]
  },
  {
   "cell_type": "code",
   "execution_count": 23,
   "id": "4933ee89",
   "metadata": {},
   "outputs": [
    {
     "data": {
      "text/plain": [
       "GridSearchCV(estimator=Pipeline(steps=[('smote',\n",
       "                                        SMOTENC(categorical_features=[31, 32,\n",
       "                                                                      33, 34],\n",
       "                                                random_state=42)),\n",
       "                                       ('sc', StandardScaler()),\n",
       "                                       ('xgb',\n",
       "                                        XGBClassifier(base_score=None,\n",
       "                                                      booster=None,\n",
       "                                                      colsample_bylevel=None,\n",
       "                                                      colsample_bynode=None,\n",
       "                                                      colsample_bytree=None,\n",
       "                                                      gamma=None, gpu_id=None,\n",
       "                                                      importance_type='gain',\n",
       "                                                      interaction_constraints=None,\n",
       "                                                      learning_rate=None,\n",
       "                                                      max_de...\n",
       "                                                      num_parallel_tree=None,\n",
       "                                                      random_state=None,\n",
       "                                                      reg_alpha=None,\n",
       "                                                      reg_lambda=None,\n",
       "                                                      scale_pos_weight=None,\n",
       "                                                      subsample=None,\n",
       "                                                      tree_method=None,\n",
       "                                                      validate_parameters=None,\n",
       "                                                      verbosity=None))]),\n",
       "             n_jobs=-1,\n",
       "             param_grid={'xgb__eval_metric': ['auc'],\n",
       "                         'xgb__gamma': [0.1, 0.5, 1],\n",
       "                         'xgb__learning_rate': [0.1, 0.2, 0.5],\n",
       "                         'xgb__max_depth': [2, 3, 5],\n",
       "                         'xgb__n_estimators': [50, 75, 100]},\n",
       "             scoring='roc_auc', verbose=1)"
      ]
     },
     "execution_count": 23,
     "metadata": {},
     "output_type": "execute_result"
    }
   ],
   "source": [
    "# best model\n",
    "best_model = gs_dict[f'gs_{model_performance.iloc[0,0]}']\n",
    "best_model"
   ]
  },
  {
   "cell_type": "markdown",
   "id": "532273a4",
   "metadata": {},
   "source": [
    "The best model as we can see above is the _AdaBoost Classifier_ with SMOTE oversampled trained data and learning rate of **xx** and number of estimators **xx**. Let's further evaluate this model to see its properties."
   ]
  },
  {
   "cell_type": "code",
   "execution_count": 24,
   "id": "a7e70e4c",
   "metadata": {},
   "outputs": [],
   "source": [
    "# write a function to plot the confusion matrix and ROC curve\n",
    "def plot_cm_roc(model, X, y):\n",
    "    roc_train = roc_auc_score(y_true=y_train, y_score=model.predict_proba(X_train)[:,1])\n",
    "    roc_test = roc_auc_score(y_true=y, y_score=model.predict_proba(X)[:,1])\n",
    "    \n",
    "    fig, ax = plt.subplots(nrows=1, ncols=2, figsize=(16,7))\n",
    "    ax[0].set_title(\"Confusion Matrix for test data\")\n",
    "    ax[1].set_title(\"ROC AUC curve\")\n",
    "    plot_confusion_matrix(estimator=model,\n",
    "                          X=X,\n",
    "                          y_true=y,\n",
    "                          cmap='Blues',\n",
    "                          values_format='d',\n",
    "                          colorbar=False,\n",
    "                          ax=ax[0])\n",
    "    plot_roc_curve(estimator=model, X=X_train, y=y_train, ax=ax[1])\n",
    "    plot_roc_curve(estimator=model, X=X, y=y, ax=ax[1])\n",
    "    ax[1].plot(np.linspace(0, 1, 100), np.linspace(0, 1, 100), '--')\n",
    "    ax[1].legend([f'train (AUC = {round(roc_train, 2)})',\n",
    "                  f'valid  (AUC = {round(roc_test, 2)})',\n",
    "                  'baseline (AUC = 0.5)']);"
   ]
  },
  {
   "cell_type": "code",
   "execution_count": 25,
   "id": "41ba4405",
   "metadata": {},
   "outputs": [
    {
     "data": {
      "image/png": "[encoded data removed]",
      "text/plain": [
       "<Figure size 1152x504 with 2 Axes>"
      ]
     },
     "metadata": {
      "needs_background": "light"
     },
     "output_type": "display_data"
    }
   ],
   "source": [
    "# plot the confusion matrix and ROC-AUC curve\n",
    "plot_cm_roc(best_model, X_val, y_val)"
   ]
  },
  {
   "cell_type": "code",
   "execution_count": 26,
   "id": "b4371763",
   "metadata": {},
   "outputs": [
    {
     "data": {
      "text/plain": [
       "0    2306\n",
       "1     223\n",
       "Name: wnv_present, dtype: int64"
      ]
     },
     "execution_count": 26,
     "metadata": {},
     "output_type": "execute_result"
    }
   ],
   "source": [
    "# target distribution for validation data\n",
    "y_val.value_counts()"
   ]
  },
  {
   "cell_type": "code",
   "execution_count": 27,
   "id": "086e2d44",
   "metadata": {},
   "outputs": [
    {
     "data": {
      "text/plain": [
       "0.4080717488789238"
      ]
     },
     "execution_count": 27,
     "metadata": {},
     "output_type": "execute_result"
    }
   ],
   "source": [
    "# recall\n",
    "recall_score(y_val, best_model.predict(X_val))"
   ]
  },
  {
   "cell_type": "markdown",
   "id": "bc87c4c2",
   "metadata": {},
   "source": [
    "The above two plots summarizes the best model performance really well. On the left is the confusion matrix, laying out the true negatives, false negatives, false positives, and true positives. Given the imbalance in the target variable for the validation data is almost 10:1, our model still predicted more than 50% of the positive class correctly. However, the false negatives are also quite high, at 527 about 25% were misclassified as being postive class, i.e. the virus was found when it is not. The reason for this is because of the oversampling of the minority class, which overtrains our model on the minority class.\n",
    "\n",
    "On the right is the ROC-AUC score, which shows how well our model separates the two classes with 0.5 being the baseline. As we can see the training score is 0.88, which is quite high compared to the validation score of 0.74. The tuning of hyper-parameters in the grid search can help us reduce this gap further. Selecting adequate features and using feature interactions could also assist in improving the score. On that note, let's look at some of the features importances of the models.\n",
    "\n",
    "### Feature importances"
   ]
  },
  {
   "cell_type": "code",
   "execution_count": 28,
   "id": "4f9d892d",
   "metadata": {},
   "outputs": [
    {
     "data": {
      "image/png": "[encoded data removed]",
      "text/plain": [
       "<Figure size 864x576 with 1 Axes>"
      ]
     },
     "metadata": {
      "needs_background": "light"
     },
     "output_type": "display_data"
    }
   ],
   "source": [
    "# Feature importances xgboost\n",
    "importance = pd.DataFrame(best_model.best_estimator_.named_steps['xgb'].feature_importances_,\n",
    "                          index=X_train.columns).sort_values(by=0, ascending=False)\n",
    "importance = importance[importance > 0].dropna().rename(columns={0: 'magnitude'})\n",
    "\n",
    "# plot the importance values > 0\n",
    "plt.figure(figsize=(12, 8))\n",
    "plt.title(\"Top features of XGBoost\", fontdict={'fontsize': 14})\n",
    "sns.barplot(data=importance, x='magnitude', y=importance.index, color='yellow');"
   ]
  },
  {
   "cell_type": "code",
   "execution_count": 29,
   "id": "937f242f",
   "metadata": {},
   "outputs": [
    {
     "data": {
      "image/png": "[encoded data removed]",
      "text/plain": [
       "<Figure size 864x288 with 1 Axes>"
      ]
     },
     "metadata": {
      "needs_background": "light"
     },
     "output_type": "display_data"
    }
   ],
   "source": [
    "# Feature importances adaboost\n",
    "importance = pd.DataFrame(gs_dict['gs_ab'].best_estimator_.named_steps['ab'].feature_importances_,\n",
    "                          index=X_train.columns).sort_values(by=0, ascending=False)\n",
    "importance = importance[importance > 0].dropna().rename(columns={0: 'magnitude'})\n",
    "\n",
    "# plot the importance values > 0\n",
    "plt.figure(figsize=(12, 4))\n",
    "plt.title(\"Top features of AdaBoost\", fontdict={'fontsize': 14})\n",
    "sns.barplot(data=importance, x='magnitude', y=importance.index, color='lightgreen');"
   ]
  },
  {
   "cell_type": "code",
   "execution_count": 30,
   "id": "bbc28e41",
   "metadata": {},
   "outputs": [
    {
     "data": {
      "image/png": "[encoded data removed]",
      "text/plain": [
       "<Figure size 864x360 with 1 Axes>"
      ]
     },
     "metadata": {
      "needs_background": "light"
     },
     "output_type": "display_data"
    }
   ],
   "source": [
    "# Feature importances random forest\n",
    "importance = pd.DataFrame(gs_dict['gs_rf'].best_estimator_.named_steps['rf'].feature_importances_,\n",
    "                          index=X_train.columns).sort_values(by=0, ascending=False)\n",
    "importance = importance[importance > 0.02].dropna().rename(columns={0: 'magnitude'})\n",
    "\n",
    "# plot the importance values > 0\n",
    "plt.figure(figsize=(12, 5))\n",
    "plt.title(\"Top features of Random Forest\", fontdict={'fontsize': 14})\n",
    "sns.barplot(data=importance, x='magnitude', y=importance.index, color='lightblue');"
   ]
  },
  {
   "cell_type": "code",
   "execution_count": 31,
   "id": "a8b95ecc",
   "metadata": {},
   "outputs": [
    {
     "data": {
      "image/png": "[encoded data removed]",
      "text/plain": [
       "<Figure size 864x576 with 1 Axes>"
      ]
     },
     "metadata": {
      "needs_background": "light"
     },
     "output_type": "display_data"
    }
   ],
   "source": [
    "# Feature importances extra trees\n",
    "importance = pd.DataFrame(gs_dict['gs_et'].best_estimator_.named_steps['et'].feature_importances_,\n",
    "                          index=X_train.columns).sort_values(by=0, ascending=False)\n",
    "importance = importance[importance > 0.02].dropna().rename(columns={0: 'magnitude'})\n",
    "\n",
    "# plot the importance values > 0\n",
    "plt.figure(figsize=(12, 8))\n",
    "plt.title(\"Top feature importance of Extra Trees\", fontdict={'fontsize': 14})\n",
    "sns.barplot(data=importance, x='magnitude', y=importance.index, color='pink');"
   ]
  },
  {
   "cell_type": "markdown",
   "id": "491e183d",
   "metadata": {},
   "source": [
    "### Kaggle"
   ]
  },
  {
   "cell_type": "code",
   "execution_count": 32,
   "id": "04623086",
   "metadata": {},
   "outputs": [
    {
     "data": {
      "text/plain": [
       "GridSearchCV(estimator=Pipeline(steps=[('smote',\n",
       "                                        SMOTENC(categorical_features=[31, 32,\n",
       "                                                                      33, 34],\n",
       "                                                random_state=42)),\n",
       "                                       ('sc', StandardScaler()),\n",
       "                                       ('xgb',\n",
       "                                        XGBClassifier(base_score=None,\n",
       "                                                      booster=None,\n",
       "                                                      colsample_bylevel=None,\n",
       "                                                      colsample_bynode=None,\n",
       "                                                      colsample_bytree=None,\n",
       "                                                      gamma=None, gpu_id=None,\n",
       "                                                      importance_type='gain',\n",
       "                                                      interaction_constraints=None,\n",
       "                                                      learning_rate=None,\n",
       "                                                      max_de...\n",
       "                                                      num_parallel_tree=None,\n",
       "                                                      random_state=None,\n",
       "                                                      reg_alpha=None,\n",
       "                                                      reg_lambda=None,\n",
       "                                                      scale_pos_weight=None,\n",
       "                                                      subsample=None,\n",
       "                                                      tree_method=None,\n",
       "                                                      validate_parameters=None,\n",
       "                                                      verbosity=None))]),\n",
       "             n_jobs=-1,\n",
       "             param_grid={'xgb__eval_metric': ['auc'],\n",
       "                         'xgb__gamma': [0.1, 0.5, 1],\n",
       "                         'xgb__learning_rate': [0.1, 0.2, 0.5],\n",
       "                         'xgb__max_depth': [2, 3, 5],\n",
       "                         'xgb__n_estimators': [50, 75, 100]},\n",
       "             scoring='roc_auc', verbose=1)"
      ]
     },
     "execution_count": 32,
     "metadata": {},
     "output_type": "execute_result"
    }
   ],
   "source": [
    "best_model"
   ]
  },
  {
   "cell_type": "code",
   "execution_count": 33,
   "id": "d0f217d6",
   "metadata": {},
   "outputs": [
    {
     "name": "stderr",
     "output_type": "stream",
     "text": [
      "/opt/anaconda3/lib/python3.8/site-packages/xgboost/sklearn.py:888: UserWarning: The use of label encoder in XGBClassifier is deprecated and will be removed in a future release. To remove this warning, do the following: 1) Pass option use_label_encoder=False when constructing XGBClassifier object; and 2) Encode your labels (y) as integers starting with 0, i.e. 0, 1, 2, ..., [num_class - 1].\n",
      "  warnings.warn(label_encoder_deprecation_msg, UserWarning)\n"
     ]
    },
    {
     "data": {
      "text/plain": [
       "Pipeline(steps=[('smote',\n",
       "                 SMOTENC(categorical_features=[31, 32, 33, 34],\n",
       "                         random_state=42)),\n",
       "                ('sc', StandardScaler()),\n",
       "                ('xgb',\n",
       "                 XGBClassifier(base_score=0.5, booster='gbtree',\n",
       "                               colsample_bylevel=1, colsample_bynode=1,\n",
       "                               colsample_bytree=1, eval_metric='auc', gamma=0.1,\n",
       "                               gpu_id=-1, importance_type='gain',\n",
       "                               interaction_constraints='', learning_rate=0.1,\n",
       "                               max_delta_step=0, max_depth=2,\n",
       "                               min_child_weight=1, missing=nan,\n",
       "                               monotone_constraints='()', n_estimators=50,\n",
       "                               n_jobs=8, num_parallel_tree=1, random_state=0,\n",
       "                               reg_alpha=0, reg_lambda=1, scale_pos_weight=1,\n",
       "                               subsample=1, tree_method='exact',\n",
       "                               validate_parameters=1, verbosity=None))])"
      ]
     },
     "execution_count": 33,
     "metadata": {},
     "output_type": "execute_result"
    }
   ],
   "source": [
    "#fit the best model with entire training data to make predictions for the test\n",
    "best_model.best_estimator_.fit(X, y)"
   ]
  },
  {
   "cell_type": "code",
   "execution_count": 34,
   "id": "242bb947",
   "metadata": {},
   "outputs": [
    {
     "name": "stdout",
     "output_type": "stream",
     "text": [
      "File name: ../datasets/kaggle_sub_4.csv\n"
     ]
    }
   ],
   "source": [
    "#save the kaggle submission file\n",
    "get_kaggle_format(best_model.predict_proba(test)[:, 1])"
   ]
  },
  {
   "cell_type": "markdown",
   "id": "893f6b52",
   "metadata": {},
   "source": [
    "#### Kaggle Submission"
   ]
  },
  {
   "cell_type": "markdown",
   "id": "3cd12b64",
   "metadata": {},
   "source": [
    "## Cost Benefit Analysis"
   ]
  },
  {
   "cell_type": "markdown",
   "id": "bf35f108",
   "metadata": {},
   "source": [
    "West Nile Virus first emerged in the New York(US) metropolitan area in the fall of 1999.\n",
    "\n",
    "As of July 23rd, 34 states have reported West Nile virus infections in people, birds, or mosquitoes in 2019.\n",
    "In 2018, 49 out of 50 states and the District of Columbia reported West Nile virus infections in people, birds, or mosquitoes. Overall, 2,647 cases of WNV were reported in humans, and there were 167 (6.3%) confirmed deaths in 2018. \n",
    "This shows an increase from the number of human cases reported in 2017 (2,097). It also brings attention to the increase in lives lost, when compared to the 146 (7%) confirmed deaths in 2017 and the 106 (4.9%) confirmed deaths from WNV in 2016."
   ]
  },
  {
   "cell_type": "markdown",
   "id": "a4b056d3",
   "metadata": {},
   "source": [
    "#### Symptoms of West Nile Virus\n",
    "- The majority (4 out of 5) of people infected with West Nile virus will experience no symptoms.\n",
    "- Approximately 20% of people affected by the virus will experience flu-like symptoms including fever, headache, nausea, muscle pain, and swollen lymph glands.\n",
    "- Other symptoms may include a stiff neck, rash, sleepiness or disorientation.\n",
    "- Less than 1% of those infected will develop West Nile Encephalitis or Meningitis, which can lead to coma, tremors, convulsions, paralysis, and even death.\n",
    "\n",
    "Hence, it is vital to prevent the spread of mosquitoes"
   ]
  },
  {
   "cell_type": "markdown",
   "id": "e35b7f42",
   "metadata": {},
   "source": [
    "#### Types of patients with West Nile Virus\n",
    "- West Nile fever (WNF): causing flu-like symptoms, mild compared to WNND\n",
    "- West Nile neuroinvasive disease (WNND): severe, affecting central nervous system symptom"
   ]
  },
  {
   "cell_type": "markdown",
   "id": "96db50a6",
   "metadata": {},
   "source": [
    "#### Total economic cost\n",
    "We will use reference of West Nile Virus economic impact from [this site].(https://www.ncbi.nlm.nih.gov/pmc/articles/PMC3322011/)\n",
    "\n",
    "According to 2005 Sacramento County WNV epidemic, there are 117 WNF and 46 WNND cases, totaling to 163 cases. The total spray area was 477 km². A summary estimate of the economic cost can be found below:"
   ]
  },
  {
   "cell_type": "markdown",
   "id": "a2d29df2",
   "metadata": {},
   "source": [
    "#image"
   ]
  },
  {
   "cell_type": "markdown",
   "id": "4f2bafde",
   "metadata": {},
   "source": [
    "It showed that for WNND cases, the cost ratio of medical, productivity and miscellaneous cost is 3 times more than the cost of spraying. A spray event would only need to stop 15 WNND cases for the benefits of spraying to outweigh the epidemic cost.\n",
    "\n",
    "The number of cases that were saved because of spraying were uncertain, but Carney et al. and Elnaiem et al. provided evidence showing the effectiveness of the 2005 emergency aerial spray as a mosquito control by showing a reduction both in mosquito populations and WNV disease cases in humans. In a study, there were no cases within the spray area, but with 18 cases outside the area. This shows that spray do help and is necessary in managing the WNV. \n",
    "\n",
    "The analysis showed that the \n",
    "\n",
    "Considering the population and area of Sacramento, we will extend the cost to Chicago.\n",
    "The average number of WNV present in the traps for train dataset is 138. Assuming each trap with WNV present could spread to 2-3 people, we would do a cost benefit analysis on 325 WNV cases and 112.3km² of spray area in Chicago."
   ]
  },
  {
   "cell_type": "markdown",
   "id": "9cf98763",
   "metadata": {},
   "source": [
    "For benefits of spraying to outweigh the epidemic cost, a spray event would need to stop 12 WNV cases.\n",
    "\n",
    "The Annual Cost Projection is shown below for test set:"
   ]
  },
  {
   "cell_type": "markdown",
   "id": "0bace5aa",
   "metadata": {},
   "source": [
    "For spraying benefit to outweigh the cost of being ill from WNV, we should spray in areas with more than 12 WNV cases.\n",
    "There are currently no WNV vaccine available. Hence, spraying is still beneficial. Spraying larvicides kills mosquito larvae that hatch from eggs, spraying adulticides quickly kills flying mosquitoes. Both larvicides and adulticides temporarily reduce the number of mosquitoes in an area, but do not permanently get rid of them. Hence, people should still play their part in preventing mosquitoes from breeding.\n",
    "\n",
    "*Estimating the medical costs of WNV patients and the true number of cases prevented by the emergency spray are uncertain.\n",
    "\n",
    "The spraying benefits for Chicago outweighs Sacramento County as it is more densely populated. Hence, a spray event would save more people."
   ]
  },
  {
   "cell_type": "markdown",
   "id": "e27fd758",
   "metadata": {},
   "source": [
    "## Conclusion and Recommendations"
   ]
  },
  {
   "cell_type": "markdown",
   "id": "34a7d966",
   "metadata": {},
   "source": [
    "Conclusion:\n",
    "\n",
    "Our model is successful in predicting the west nile virus to a great extent. However, there are many setbacks we have to consider. \n",
    "\n",
    "Firstly, majority of our best features are weather features which are also the ones we cannot control. \n",
    "\n",
    "\n",
    "\n",
    "\n",
    "Recommendations:\n",
    "\n",
    "There is no vaccine if one is affected with the virus. Hence, we have to look into preventive measures to avoid getting the virus in the first place.\n",
    "\n",
    "General Measures:\n",
    "\n",
    "Individual:\n",
    "\n",
    "\n",
    "Community:\n",
    "\n",
    "    - Example of how we do it in singapore "
   ]
  },
  {
   "cell_type": "markdown",
   "id": "b2c14240",
   "metadata": {},
   "source": [
    "# References \n",
    "\n",
    "https://www.tazewellhealth.org/228/History-of-West-Nile-Virus\n",
    "\n",
    "https://www.vdci.net/vector-borne-diseases/west-nile-virus-education-and-mosquito-management-to-protect-public-health/\n",
    "\n",
    "https://www.sciencedaily.com/releases/2014/02/140210184713.htm\n",
    "\n",
    "https://www.npr.org/sections/health-shots/2014/02/11/275262857/the-high-cost-of-treating-people-hospitalized-with-west-nile-virus\n",
    "\n",
    "https://www.chicago.gov/city/en/depts/cdph/supp_info/infectious/west_nile_virus_surveillancereports.html\n",
    "\n",
    "https://www.cdc.gov/westnile/vectorcontrol/aerial-spraying.html\n",
    "\n",
    "https://www.medicinenet.com/script/main/art.asp?articlekey=176668\n",
    "\n",
    "https://www.ncbi.nlm.nih.gov/pmc/articles/PMC3322011/\n",
    "\n",
    "https://www.in2013dollars.com/Chicago-Illinois/price-inflation"
   ]
  }
 ],
 "metadata": {
  "kernelspec": {
   "display_name": "Python 3",
   "language": "python",
   "name": "python3"
  },
  "language_info": {
   "codemirror_mode": {
    "name": "ipython",
    "version": 3
   },
   "file_extension": ".py",
   "mimetype": "text/x-python",
   "name": "python",
   "nbconvert_exporter": "python",
   "pygments_lexer": "ipython3",
   "version": "3.6.9"
  },
  "toc": {
   "base_numbering": 1,
   "nav_menu": {},
   "number_sections": true,
   "sideBar": true,
   "skip_h1_title": true,
   "title_cell": "Table of Contents",
   "title_sidebar": "Contents",
   "toc_cell": false,
   "toc_position": {
    "height": "calc(100% - 180px)",
    "left": "10px",
    "top": "150px",
    "width": "288px"
   },
   "toc_section_display": true,
   "toc_window_display": true
  }
 },
 "nbformat": 4,
 "nbformat_minor": 5
}
