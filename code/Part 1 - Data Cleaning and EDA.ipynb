{
 "cells": [
  {
   "cell_type": "markdown",
   "id": "6420d3b5",
   "metadata": {},
   "source": [
    "# Project 4: West Nile Virus Analysis\n",
    "\n",
    "\n",
    "This project is documented into the following notebooks:\n",
    "\n",
    "1. Part 1: Data Cleaning and EDA\n",
    "\n",
    "2. Part 2: Modeling and Evaluation\n",
    "\n",
    "## Part 1 - Data Cleaning and EDA"
   ]
  },
  {
   "cell_type": "markdown",
   "id": "025e59a7",
   "metadata": {},
   "source": [
    "## INTRODUCTION\n",
    "\n",
    "West Nile Virus(WNV) is most commonly spread to humans through infected mosquitos. Around 20% of people who become infected with the virus develop symptoms ranging from persistent fever to serious neurological illnesses that can result in death. In 2002, the first human cases of WNV were reported in Chicago. By 2004 the City of Chicago and the Chicago Department of Public Health (CDPH) had established a comprehensive surveillance and control program that is still in effect today.\n",
    "\n",
    "Every week from late spring through the fall, mosquitos in traps across the city are tested for the virus. The results of these tests influence when and where the city will spray airborne pesticides to control adult mosquito populations.\n",
    "\n",
    "Project based on: https://www.kaggle.com/c/predict-west-nile-virus/overview\n",
    "\n",
    "\n",
    "### Problem Statement\n",
    "\n",
    "**Due to the recent epidemic of West Nile Virus in the Windy City, the data science team at Disease And Treatment Agency was tasked to derive an effective plan to deploy pesticides throughout the city.\n",
    "Using various weather conditions and time lags, we will be analysing classification models to obtain the best model that can predict the presence of WNV in Chicago.\n",
    "\n",
    "\n",
    "### Executive Summary\n",
    "\n",
    "The purpose of this project is to identify key areas in the city that are prone to virus and provide solutions to current problems and future prevention measures.\n",
    "\n",
    "\n",
    "We have identified the key characteristics and conditions that contribute to the breeding of mosquitos that are capable of carrying the West Nile Virus, namely Location, Weather and Season. This is further elaborated below. \n",
    "\n",
    "\n",
    "1. Location\n",
    "\n",
    "    - \n",
    "\n",
    "2. Weather (Wet)\n",
    "\n",
    "    - \n",
    "\n",
    "3. Season\n",
    "\n",
    "    -\n",
    "    \n",
    "We picked our model based on the highest 'ROC-AUC' score and 'Recall' score obtained on the validation set to predict the test set. \n",
    "\n",
    "Our best model is blah blah blah with whatever score that we got\n",
    "\n",
    "\n",
    "\n",
    "\n",
    "Our evaluation and cost-benefit analysis showed that  \n",
    "\n",
    "(to see if benefit of spraying outweighs the cost of spraying)\n",
    "\n",
    "\n",
    "#### Contents\n",
    "\n",
    "- [Data Cleaning](#Data-Cleaning)\n",
    "- [Exploratory Data Analysis](#Exploratory-Data-Analysis)\n",
    "- [Export Cleaned Data](#Export-Cleaned-Data)\n",
    "\n"
   ]
  },
  {
   "cell_type": "markdown",
   "id": "36856f90",
   "metadata": {},
   "source": [
    "## Data Cleaning"
   ]
  },
  {
   "cell_type": "markdown",
   "id": "df86cd25",
   "metadata": {},
   "source": [
    "In this section, we will look at the 4 datasets closely and describe the initial observations that we find. Then we will proceed to clean the data by looking at duplicate values, null values and imputing them where necessary and conduct feature engineering."
   ]
  },
  {
   "cell_type": "markdown",
   "id": "d8ab1eff",
   "metadata": {},
   "source": [
    "Import all necessary libraries."
   ]
  },
  {
   "cell_type": "code",
   "execution_count": 1,
   "id": "0a650fc9",
   "metadata": {},
   "outputs": [],
   "source": [
    "#import all required libraries\n",
    "import pandas as pd\n",
    "import numpy as np\n",
    "import seaborn as sns\n",
    "import matplotlib.pyplot as plt\n",
    "import re\n",
    "from sklearn.feature_extraction.text import CountVectorizer"
   ]
  },
  {
   "cell_type": "markdown",
   "id": "4b6d15b1",
   "metadata": {},
   "source": [
    "Read in all the datafiles."
   ]
  },
  {
   "cell_type": "code",
   "execution_count": 2,
   "id": "656277fe",
   "metadata": {},
   "outputs": [],
   "source": [
    "#import all datafiles\n",
    "spray = pd.read_csv('../datasets/spray.csv', parse_dates=['Date'])\n",
    "test = pd.read_csv('../datasets/test.csv', parse_dates=['Date'])\n",
    "train = pd.read_csv('../datasets/train.csv', parse_dates=['Date'])\n",
    "weather = pd.read_csv('../datasets/weather.csv', parse_dates=['Date'])"
   ]
  },
  {
   "cell_type": "markdown",
   "id": "f2e1e9cc",
   "metadata": {},
   "source": [
    "Standardise column name format amongst all columns."
   ]
  },
  {
   "cell_type": "markdown",
   "id": "811e5d7b",
   "metadata": {},
   "source": [
    "First we will create a function to standardise column names."
   ]
  },
  {
   "cell_type": "code",
   "execution_count": 3,
   "id": "c68db87e",
   "metadata": {},
   "outputs": [],
   "source": [
    "#function to standardise column names amongst all datasets\n",
    "def rename_cols(df):\n",
    "    df.columns = df.columns.str.replace('(?<=[a-z0-9])(?=[A-Z])', '_', regex=True).str.lower()"
   ]
  },
  {
   "cell_type": "code",
   "execution_count": 4,
   "id": "172e3600",
   "metadata": {},
   "outputs": [],
   "source": [
    "#rename all columns in the datasets\n",
    "rename_cols(train)\n",
    "rename_cols(test)\n",
    "rename_cols(weather)\n",
    "rename_cols(spray)"
   ]
  },
  {
   "cell_type": "markdown",
   "id": "0cda2260",
   "metadata": {},
   "source": [
    "The function below provides an overview of the dataset which will be used when we look at the datasets individually."
   ]
  },
  {
   "cell_type": "code",
   "execution_count": 5,
   "id": "7423ee06",
   "metadata": {},
   "outputs": [],
   "source": [
    "#function to look at overview of df\n",
    "def df_overview(df):\n",
    "    print(f'Number of rows: {df.shape[0]}')\n",
    "    print(f'Number of columns: {df.shape[1]}')\n",
    "    print('\\nNames of columns in dataset.')    \n",
    "    display(df.columns)\n",
    "    display(df.dtypes)\n",
    "    print('Missing values in dataset')\n",
    "    display(df.isnull().sum())\n",
    "    print(f'Number of duplicate values in dataset: {df[df.duplicated(keep=False)].shape[0]}')"
   ]
  },
  {
   "cell_type": "markdown",
   "id": "23a0a69e",
   "metadata": {},
   "source": [
    "We will proceed to analyse the each dataset individually."
   ]
  },
  {
   "cell_type": "markdown",
   "id": "151cac2c",
   "metadata": {},
   "source": [
    "### Train Dataset"
   ]
  },
  {
   "cell_type": "markdown",
   "id": "757194dc",
   "metadata": {},
   "source": [
    "The training set consists of data from 2007, 2009, 2011, and 2013."
   ]
  },
  {
   "cell_type": "markdown",
   "id": "572ec45d",
   "metadata": {},
   "source": [
    "#### Overview of Train Dataset"
   ]
  },
  {
   "cell_type": "code",
   "execution_count": 6,
   "id": "f60bc97b",
   "metadata": {},
   "outputs": [
    {
     "data": {
      "text/html": [
       "<div>\n",
       "<style scoped>\n",
       "    .dataframe tbody tr th:only-of-type {\n",
       "        vertical-align: middle;\n",
       "    }\n",
       "\n",
       "    .dataframe tbody tr th {\n",
       "        vertical-align: top;\n",
       "    }\n",
       "\n",
       "    .dataframe thead th {\n",
       "        text-align: right;\n",
       "    }\n",
       "</style>\n",
       "<table border=\"1\" class=\"dataframe\">\n",
       "  <thead>\n",
       "    <tr style=\"text-align: right;\">\n",
       "      <th></th>\n",
       "      <th>date</th>\n",
       "      <th>address</th>\n",
       "      <th>species</th>\n",
       "      <th>block</th>\n",
       "      <th>street</th>\n",
       "      <th>trap</th>\n",
       "      <th>address_number_and_street</th>\n",
       "      <th>latitude</th>\n",
       "      <th>longitude</th>\n",
       "      <th>address_accuracy</th>\n",
       "      <th>num_mosquitos</th>\n",
       "      <th>wnv_present</th>\n",
       "    </tr>\n",
       "  </thead>\n",
       "  <tbody>\n",
       "    <tr>\n",
       "      <th>0</th>\n",
       "      <td>2007-05-29</td>\n",
       "      <td>4100 North Oak Park Avenue, Chicago, IL 60634,...</td>\n",
       "      <td>CULEX PIPIENS/RESTUANS</td>\n",
       "      <td>41</td>\n",
       "      <td>N OAK PARK AVE</td>\n",
       "      <td>T002</td>\n",
       "      <td>4100  N OAK PARK AVE, Chicago, IL</td>\n",
       "      <td>41.954690</td>\n",
       "      <td>-87.800991</td>\n",
       "      <td>9</td>\n",
       "      <td>1</td>\n",
       "      <td>0</td>\n",
       "    </tr>\n",
       "    <tr>\n",
       "      <th>1</th>\n",
       "      <td>2007-05-29</td>\n",
       "      <td>4100 North Oak Park Avenue, Chicago, IL 60634,...</td>\n",
       "      <td>CULEX RESTUANS</td>\n",
       "      <td>41</td>\n",
       "      <td>N OAK PARK AVE</td>\n",
       "      <td>T002</td>\n",
       "      <td>4100  N OAK PARK AVE, Chicago, IL</td>\n",
       "      <td>41.954690</td>\n",
       "      <td>-87.800991</td>\n",
       "      <td>9</td>\n",
       "      <td>1</td>\n",
       "      <td>0</td>\n",
       "    </tr>\n",
       "    <tr>\n",
       "      <th>2</th>\n",
       "      <td>2007-05-29</td>\n",
       "      <td>6200 North Mandell Avenue, Chicago, IL 60646, USA</td>\n",
       "      <td>CULEX RESTUANS</td>\n",
       "      <td>62</td>\n",
       "      <td>N MANDELL AVE</td>\n",
       "      <td>T007</td>\n",
       "      <td>6200  N MANDELL AVE, Chicago, IL</td>\n",
       "      <td>41.994991</td>\n",
       "      <td>-87.769279</td>\n",
       "      <td>9</td>\n",
       "      <td>1</td>\n",
       "      <td>0</td>\n",
       "    </tr>\n",
       "    <tr>\n",
       "      <th>3</th>\n",
       "      <td>2007-05-29</td>\n",
       "      <td>7900 West Foster Avenue, Chicago, IL 60656, USA</td>\n",
       "      <td>CULEX PIPIENS/RESTUANS</td>\n",
       "      <td>79</td>\n",
       "      <td>W FOSTER AVE</td>\n",
       "      <td>T015</td>\n",
       "      <td>7900  W FOSTER AVE, Chicago, IL</td>\n",
       "      <td>41.974089</td>\n",
       "      <td>-87.824812</td>\n",
       "      <td>8</td>\n",
       "      <td>1</td>\n",
       "      <td>0</td>\n",
       "    </tr>\n",
       "    <tr>\n",
       "      <th>4</th>\n",
       "      <td>2007-05-29</td>\n",
       "      <td>7900 West Foster Avenue, Chicago, IL 60656, USA</td>\n",
       "      <td>CULEX RESTUANS</td>\n",
       "      <td>79</td>\n",
       "      <td>W FOSTER AVE</td>\n",
       "      <td>T015</td>\n",
       "      <td>7900  W FOSTER AVE, Chicago, IL</td>\n",
       "      <td>41.974089</td>\n",
       "      <td>-87.824812</td>\n",
       "      <td>8</td>\n",
       "      <td>4</td>\n",
       "      <td>0</td>\n",
       "    </tr>\n",
       "  </tbody>\n",
       "</table>\n",
       "</div>"
      ],
      "text/plain": [
       "        date                                            address  \\\n",
       "0 2007-05-29  4100 North Oak Park Avenue, Chicago, IL 60634,...   \n",
       "1 2007-05-29  4100 North Oak Park Avenue, Chicago, IL 60634,...   \n",
       "2 2007-05-29  6200 North Mandell Avenue, Chicago, IL 60646, USA   \n",
       "3 2007-05-29    7900 West Foster Avenue, Chicago, IL 60656, USA   \n",
       "4 2007-05-29    7900 West Foster Avenue, Chicago, IL 60656, USA   \n",
       "\n",
       "                  species  block           street  trap  \\\n",
       "0  CULEX PIPIENS/RESTUANS     41   N OAK PARK AVE  T002   \n",
       "1          CULEX RESTUANS     41   N OAK PARK AVE  T002   \n",
       "2          CULEX RESTUANS     62    N MANDELL AVE  T007   \n",
       "3  CULEX PIPIENS/RESTUANS     79     W FOSTER AVE  T015   \n",
       "4          CULEX RESTUANS     79     W FOSTER AVE  T015   \n",
       "\n",
       "           address_number_and_street   latitude  longitude  address_accuracy  \\\n",
       "0  4100  N OAK PARK AVE, Chicago, IL  41.954690 -87.800991                 9   \n",
       "1  4100  N OAK PARK AVE, Chicago, IL  41.954690 -87.800991                 9   \n",
       "2   6200  N MANDELL AVE, Chicago, IL  41.994991 -87.769279                 9   \n",
       "3    7900  W FOSTER AVE, Chicago, IL  41.974089 -87.824812                 8   \n",
       "4    7900  W FOSTER AVE, Chicago, IL  41.974089 -87.824812                 8   \n",
       "\n",
       "   num_mosquitos  wnv_present  \n",
       "0              1            0  \n",
       "1              1            0  \n",
       "2              1            0  \n",
       "3              1            0  \n",
       "4              4            0  "
      ]
     },
     "execution_count": 6,
     "metadata": {},
     "output_type": "execute_result"
    }
   ],
   "source": [
    "train.head()"
   ]
  },
  {
   "cell_type": "markdown",
   "id": "eac5cb11",
   "metadata": {},
   "source": [
    "Let us look at the overview of the train dataset."
   ]
  },
  {
   "cell_type": "code",
   "execution_count": 7,
   "id": "e2dafff5",
   "metadata": {},
   "outputs": [
    {
     "name": "stdout",
     "output_type": "stream",
     "text": [
      "Number of rows: 10506\n",
      "Number of columns: 12\n",
      "\n",
      "Names of columns in dataset.\n"
     ]
    },
    {
     "data": {
      "text/plain": [
       "Index(['date', 'address', 'species', 'block', 'street', 'trap',\n",
       "       'address_number_and_street', 'latitude', 'longitude',\n",
       "       'address_accuracy', 'num_mosquitos', 'wnv_present'],\n",
       "      dtype='object')"
      ]
     },
     "metadata": {},
     "output_type": "display_data"
    },
    {
     "data": {
      "text/plain": [
       "date                         datetime64[ns]\n",
       "address                              object\n",
       "species                              object\n",
       "block                                 int64\n",
       "street                               object\n",
       "trap                                 object\n",
       "address_number_and_street            object\n",
       "latitude                            float64\n",
       "longitude                           float64\n",
       "address_accuracy                      int64\n",
       "num_mosquitos                         int64\n",
       "wnv_present                           int64\n",
       "dtype: object"
      ]
     },
     "metadata": {},
     "output_type": "display_data"
    },
    {
     "name": "stdout",
     "output_type": "stream",
     "text": [
      "Missing values in dataset\n"
     ]
    },
    {
     "data": {
      "text/plain": [
       "date                         0\n",
       "address                      0\n",
       "species                      0\n",
       "block                        0\n",
       "street                       0\n",
       "trap                         0\n",
       "address_number_and_street    0\n",
       "latitude                     0\n",
       "longitude                    0\n",
       "address_accuracy             0\n",
       "num_mosquitos                0\n",
       "wnv_present                  0\n",
       "dtype: int64"
      ]
     },
     "metadata": {},
     "output_type": "display_data"
    },
    {
     "name": "stdout",
     "output_type": "stream",
     "text": [
      "Number of duplicate values in dataset: 1062\n"
     ]
    }
   ],
   "source": [
    "df_overview(train)"
   ]
  },
  {
   "cell_type": "markdown",
   "id": "a7149985",
   "metadata": {},
   "source": [
    "#### Duplicates"
   ]
  },
  {
   "cell_type": "markdown",
   "id": "7b6d88cb",
   "metadata": {},
   "source": [
    "As the number of mosquitos in each row are capped at 50, traps with more than 50 mosquitos will have multiple rows and therefore a high number of duplicates."
   ]
  },
  {
   "cell_type": "code",
   "execution_count": 8,
   "id": "edeeec73",
   "metadata": {
    "scrolled": false
   },
   "outputs": [
    {
     "data": {
      "text/html": [
       "<div>\n",
       "<style scoped>\n",
       "    .dataframe tbody tr th:only-of-type {\n",
       "        vertical-align: middle;\n",
       "    }\n",
       "\n",
       "    .dataframe tbody tr th {\n",
       "        vertical-align: top;\n",
       "    }\n",
       "\n",
       "    .dataframe thead th {\n",
       "        text-align: right;\n",
       "    }\n",
       "</style>\n",
       "<table border=\"1\" class=\"dataframe\">\n",
       "  <thead>\n",
       "    <tr style=\"text-align: right;\">\n",
       "      <th></th>\n",
       "      <th>date</th>\n",
       "      <th>address</th>\n",
       "      <th>species</th>\n",
       "      <th>block</th>\n",
       "      <th>street</th>\n",
       "      <th>trap</th>\n",
       "      <th>address_number_and_street</th>\n",
       "      <th>latitude</th>\n",
       "      <th>longitude</th>\n",
       "      <th>address_accuracy</th>\n",
       "      <th>num_mosquitos</th>\n",
       "      <th>wnv_present</th>\n",
       "    </tr>\n",
       "  </thead>\n",
       "  <tbody>\n",
       "    <tr>\n",
       "      <th>98</th>\n",
       "      <td>2007-06-26</td>\n",
       "      <td>2200 West 113th Street, Chicago, IL 60643, USA</td>\n",
       "      <td>CULEX PIPIENS/RESTUANS</td>\n",
       "      <td>22</td>\n",
       "      <td>W 113TH ST</td>\n",
       "      <td>T086</td>\n",
       "      <td>2200  W 113TH ST, Chicago, IL</td>\n",
       "      <td>41.688324</td>\n",
       "      <td>-87.676709</td>\n",
       "      <td>8</td>\n",
       "      <td>1</td>\n",
       "      <td>0</td>\n",
       "    </tr>\n",
       "    <tr>\n",
       "      <th>99</th>\n",
       "      <td>2007-06-26</td>\n",
       "      <td>2200 West 113th Street, Chicago, IL 60643, USA</td>\n",
       "      <td>CULEX PIPIENS/RESTUANS</td>\n",
       "      <td>22</td>\n",
       "      <td>W 113TH ST</td>\n",
       "      <td>T086</td>\n",
       "      <td>2200  W 113TH ST, Chicago, IL</td>\n",
       "      <td>41.688324</td>\n",
       "      <td>-87.676709</td>\n",
       "      <td>8</td>\n",
       "      <td>1</td>\n",
       "      <td>0</td>\n",
       "    </tr>\n",
       "    <tr>\n",
       "      <th>293</th>\n",
       "      <td>2007-07-11</td>\n",
       "      <td>2200 West 113th Street, Chicago, IL 60643, USA</td>\n",
       "      <td>CULEX PIPIENS/RESTUANS</td>\n",
       "      <td>22</td>\n",
       "      <td>W 113TH ST</td>\n",
       "      <td>T086</td>\n",
       "      <td>2200  W 113TH ST, Chicago, IL</td>\n",
       "      <td>41.688324</td>\n",
       "      <td>-87.676709</td>\n",
       "      <td>8</td>\n",
       "      <td>50</td>\n",
       "      <td>0</td>\n",
       "    </tr>\n",
       "    <tr>\n",
       "      <th>295</th>\n",
       "      <td>2007-07-11</td>\n",
       "      <td>2200 West 113th Street, Chicago, IL 60643, USA</td>\n",
       "      <td>CULEX PIPIENS/RESTUANS</td>\n",
       "      <td>22</td>\n",
       "      <td>W 113TH ST</td>\n",
       "      <td>T086</td>\n",
       "      <td>2200  W 113TH ST, Chicago, IL</td>\n",
       "      <td>41.688324</td>\n",
       "      <td>-87.676709</td>\n",
       "      <td>8</td>\n",
       "      <td>50</td>\n",
       "      <td>0</td>\n",
       "    </tr>\n",
       "    <tr>\n",
       "      <th>350</th>\n",
       "      <td>2007-07-11</td>\n",
       "      <td>3500 West 116th Street, Chicago, IL 60655, USA</td>\n",
       "      <td>CULEX PIPIENS/RESTUANS</td>\n",
       "      <td>35</td>\n",
       "      <td>W 116TH ST</td>\n",
       "      <td>T158</td>\n",
       "      <td>3500  W 116TH ST, Chicago, IL</td>\n",
       "      <td>41.682587</td>\n",
       "      <td>-87.707973</td>\n",
       "      <td>9</td>\n",
       "      <td>50</td>\n",
       "      <td>0</td>\n",
       "    </tr>\n",
       "    <tr>\n",
       "      <th>...</th>\n",
       "      <td>...</td>\n",
       "      <td>...</td>\n",
       "      <td>...</td>\n",
       "      <td>...</td>\n",
       "      <td>...</td>\n",
       "      <td>...</td>\n",
       "      <td>...</td>\n",
       "      <td>...</td>\n",
       "      <td>...</td>\n",
       "      <td>...</td>\n",
       "      <td>...</td>\n",
       "      <td>...</td>\n",
       "    </tr>\n",
       "    <tr>\n",
       "      <th>10124</th>\n",
       "      <td>2013-09-06</td>\n",
       "      <td>ORD Terminal 5, O'Hare International Airport, ...</td>\n",
       "      <td>CULEX PIPIENS/RESTUANS</td>\n",
       "      <td>10</td>\n",
       "      <td>W OHARE AIRPORT</td>\n",
       "      <td>T900</td>\n",
       "      <td>1000  W OHARE AIRPORT, Chicago, IL</td>\n",
       "      <td>41.974689</td>\n",
       "      <td>-87.890615</td>\n",
       "      <td>9</td>\n",
       "      <td>50</td>\n",
       "      <td>1</td>\n",
       "    </tr>\n",
       "    <tr>\n",
       "      <th>10259</th>\n",
       "      <td>2013-09-12</td>\n",
       "      <td>ORD Terminal 5, O'Hare International Airport, ...</td>\n",
       "      <td>CULEX PIPIENS/RESTUANS</td>\n",
       "      <td>10</td>\n",
       "      <td>W OHARE AIRPORT</td>\n",
       "      <td>T900</td>\n",
       "      <td>1000  W OHARE AIRPORT, Chicago, IL</td>\n",
       "      <td>41.974689</td>\n",
       "      <td>-87.890615</td>\n",
       "      <td>9</td>\n",
       "      <td>50</td>\n",
       "      <td>0</td>\n",
       "    </tr>\n",
       "    <tr>\n",
       "      <th>10262</th>\n",
       "      <td>2013-09-12</td>\n",
       "      <td>ORD Terminal 5, O'Hare International Airport, ...</td>\n",
       "      <td>CULEX PIPIENS/RESTUANS</td>\n",
       "      <td>10</td>\n",
       "      <td>W OHARE AIRPORT</td>\n",
       "      <td>T900</td>\n",
       "      <td>1000  W OHARE AIRPORT, Chicago, IL</td>\n",
       "      <td>41.974689</td>\n",
       "      <td>-87.890615</td>\n",
       "      <td>9</td>\n",
       "      <td>50</td>\n",
       "      <td>0</td>\n",
       "    </tr>\n",
       "    <tr>\n",
       "      <th>10391</th>\n",
       "      <td>2013-09-19</td>\n",
       "      <td>ORD Terminal 5, O'Hare International Airport, ...</td>\n",
       "      <td>CULEX PIPIENS</td>\n",
       "      <td>10</td>\n",
       "      <td>W OHARE AIRPORT</td>\n",
       "      <td>T900</td>\n",
       "      <td>1000  W OHARE AIRPORT, Chicago, IL</td>\n",
       "      <td>41.974689</td>\n",
       "      <td>-87.890615</td>\n",
       "      <td>9</td>\n",
       "      <td>13</td>\n",
       "      <td>0</td>\n",
       "    </tr>\n",
       "    <tr>\n",
       "      <th>10392</th>\n",
       "      <td>2013-09-19</td>\n",
       "      <td>ORD Terminal 5, O'Hare International Airport, ...</td>\n",
       "      <td>CULEX PIPIENS</td>\n",
       "      <td>10</td>\n",
       "      <td>W OHARE AIRPORT</td>\n",
       "      <td>T900</td>\n",
       "      <td>1000  W OHARE AIRPORT, Chicago, IL</td>\n",
       "      <td>41.974689</td>\n",
       "      <td>-87.890615</td>\n",
       "      <td>9</td>\n",
       "      <td>13</td>\n",
       "      <td>0</td>\n",
       "    </tr>\n",
       "  </tbody>\n",
       "</table>\n",
       "<p>1062 rows × 12 columns</p>\n",
       "</div>"
      ],
      "text/plain": [
       "            date                                            address  \\\n",
       "98    2007-06-26     2200 West 113th Street, Chicago, IL 60643, USA   \n",
       "99    2007-06-26     2200 West 113th Street, Chicago, IL 60643, USA   \n",
       "293   2007-07-11     2200 West 113th Street, Chicago, IL 60643, USA   \n",
       "295   2007-07-11     2200 West 113th Street, Chicago, IL 60643, USA   \n",
       "350   2007-07-11     3500 West 116th Street, Chicago, IL 60655, USA   \n",
       "...          ...                                                ...   \n",
       "10124 2013-09-06  ORD Terminal 5, O'Hare International Airport, ...   \n",
       "10259 2013-09-12  ORD Terminal 5, O'Hare International Airport, ...   \n",
       "10262 2013-09-12  ORD Terminal 5, O'Hare International Airport, ...   \n",
       "10391 2013-09-19  ORD Terminal 5, O'Hare International Airport, ...   \n",
       "10392 2013-09-19  ORD Terminal 5, O'Hare International Airport, ...   \n",
       "\n",
       "                      species  block            street  trap  \\\n",
       "98     CULEX PIPIENS/RESTUANS     22        W 113TH ST  T086   \n",
       "99     CULEX PIPIENS/RESTUANS     22        W 113TH ST  T086   \n",
       "293    CULEX PIPIENS/RESTUANS     22        W 113TH ST  T086   \n",
       "295    CULEX PIPIENS/RESTUANS     22        W 113TH ST  T086   \n",
       "350    CULEX PIPIENS/RESTUANS     35        W 116TH ST  T158   \n",
       "...                       ...    ...               ...   ...   \n",
       "10124  CULEX PIPIENS/RESTUANS     10   W OHARE AIRPORT  T900   \n",
       "10259  CULEX PIPIENS/RESTUANS     10   W OHARE AIRPORT  T900   \n",
       "10262  CULEX PIPIENS/RESTUANS     10   W OHARE AIRPORT  T900   \n",
       "10391           CULEX PIPIENS     10   W OHARE AIRPORT  T900   \n",
       "10392           CULEX PIPIENS     10   W OHARE AIRPORT  T900   \n",
       "\n",
       "                address_number_and_street   latitude  longitude  \\\n",
       "98          2200  W 113TH ST, Chicago, IL  41.688324 -87.676709   \n",
       "99          2200  W 113TH ST, Chicago, IL  41.688324 -87.676709   \n",
       "293         2200  W 113TH ST, Chicago, IL  41.688324 -87.676709   \n",
       "295         2200  W 113TH ST, Chicago, IL  41.688324 -87.676709   \n",
       "350         3500  W 116TH ST, Chicago, IL  41.682587 -87.707973   \n",
       "...                                   ...        ...        ...   \n",
       "10124  1000  W OHARE AIRPORT, Chicago, IL  41.974689 -87.890615   \n",
       "10259  1000  W OHARE AIRPORT, Chicago, IL  41.974689 -87.890615   \n",
       "10262  1000  W OHARE AIRPORT, Chicago, IL  41.974689 -87.890615   \n",
       "10391  1000  W OHARE AIRPORT, Chicago, IL  41.974689 -87.890615   \n",
       "10392  1000  W OHARE AIRPORT, Chicago, IL  41.974689 -87.890615   \n",
       "\n",
       "       address_accuracy  num_mosquitos  wnv_present  \n",
       "98                    8              1            0  \n",
       "99                    8              1            0  \n",
       "293                   8             50            0  \n",
       "295                   8             50            0  \n",
       "350                   9             50            0  \n",
       "...                 ...            ...          ...  \n",
       "10124                 9             50            1  \n",
       "10259                 9             50            0  \n",
       "10262                 9             50            0  \n",
       "10391                 9             13            0  \n",
       "10392                 9             13            0  \n",
       "\n",
       "[1062 rows x 12 columns]"
      ]
     },
     "execution_count": 8,
     "metadata": {},
     "output_type": "execute_result"
    }
   ],
   "source": [
    "train[train.duplicated(keep=False)]"
   ]
  },
  {
   "cell_type": "markdown",
   "id": "a017db4f",
   "metadata": {},
   "source": [
    "However, there are rows where the number of mosquitos is less than 50 and still have duplicated rows i.e. 98 and 99. Hence we will drop these rows."
   ]
  },
  {
   "cell_type": "code",
   "execution_count": 9,
   "id": "4188d7a5",
   "metadata": {},
   "outputs": [],
   "source": [
    "train.drop(index = train[(train.duplicated(keep=False)) & (train['num_mosquitos'] <50)].index, inplace = True)"
   ]
  },
  {
   "cell_type": "markdown",
   "id": "ad812b76",
   "metadata": {},
   "source": [
    "#### Traps"
   ]
  },
  {
   "cell_type": "markdown",
   "id": "dab8cbf8",
   "metadata": {},
   "source": [
    "Traps are described by block and street names. However we do have the longitude and latitude of the traps which provide the exact location of the traps. Hence we will drop columns describing the address."
   ]
  },
  {
   "cell_type": "code",
   "execution_count": 10,
   "id": "105d8a0d",
   "metadata": {},
   "outputs": [
    {
     "data": {
      "text/plain": [
       "Index(['date', 'address', 'species', 'block', 'street', 'trap',\n",
       "       'address_number_and_street', 'latitude', 'longitude',\n",
       "       'address_accuracy', 'num_mosquitos', 'wnv_present'],\n",
       "      dtype='object')"
      ]
     },
     "execution_count": 10,
     "metadata": {},
     "output_type": "execute_result"
    }
   ],
   "source": [
    "train.columns"
   ]
  },
  {
   "cell_type": "code",
   "execution_count": 11,
   "id": "eab264cd",
   "metadata": {},
   "outputs": [],
   "source": [
    "train.drop(columns = {'address', 'block', 'street', 'address_number_and_street', 'address_accuracy'}, inplace = True)"
   ]
  },
  {
   "cell_type": "code",
   "execution_count": 12,
   "id": "5199f8da",
   "metadata": {},
   "outputs": [
    {
     "data": {
      "text/html": [
       "<div>\n",
       "<style scoped>\n",
       "    .dataframe tbody tr th:only-of-type {\n",
       "        vertical-align: middle;\n",
       "    }\n",
       "\n",
       "    .dataframe tbody tr th {\n",
       "        vertical-align: top;\n",
       "    }\n",
       "\n",
       "    .dataframe thead th {\n",
       "        text-align: right;\n",
       "    }\n",
       "</style>\n",
       "<table border=\"1\" class=\"dataframe\">\n",
       "  <thead>\n",
       "    <tr style=\"text-align: right;\">\n",
       "      <th></th>\n",
       "      <th>date</th>\n",
       "      <th>species</th>\n",
       "      <th>trap</th>\n",
       "      <th>latitude</th>\n",
       "      <th>longitude</th>\n",
       "      <th>num_mosquitos</th>\n",
       "      <th>wnv_present</th>\n",
       "    </tr>\n",
       "  </thead>\n",
       "  <tbody>\n",
       "    <tr>\n",
       "      <th>0</th>\n",
       "      <td>2007-05-29</td>\n",
       "      <td>CULEX PIPIENS/RESTUANS</td>\n",
       "      <td>T002</td>\n",
       "      <td>41.954690</td>\n",
       "      <td>-87.800991</td>\n",
       "      <td>1</td>\n",
       "      <td>0</td>\n",
       "    </tr>\n",
       "    <tr>\n",
       "      <th>1</th>\n",
       "      <td>2007-05-29</td>\n",
       "      <td>CULEX RESTUANS</td>\n",
       "      <td>T002</td>\n",
       "      <td>41.954690</td>\n",
       "      <td>-87.800991</td>\n",
       "      <td>1</td>\n",
       "      <td>0</td>\n",
       "    </tr>\n",
       "    <tr>\n",
       "      <th>2</th>\n",
       "      <td>2007-05-29</td>\n",
       "      <td>CULEX RESTUANS</td>\n",
       "      <td>T007</td>\n",
       "      <td>41.994991</td>\n",
       "      <td>-87.769279</td>\n",
       "      <td>1</td>\n",
       "      <td>0</td>\n",
       "    </tr>\n",
       "    <tr>\n",
       "      <th>3</th>\n",
       "      <td>2007-05-29</td>\n",
       "      <td>CULEX PIPIENS/RESTUANS</td>\n",
       "      <td>T015</td>\n",
       "      <td>41.974089</td>\n",
       "      <td>-87.824812</td>\n",
       "      <td>1</td>\n",
       "      <td>0</td>\n",
       "    </tr>\n",
       "    <tr>\n",
       "      <th>4</th>\n",
       "      <td>2007-05-29</td>\n",
       "      <td>CULEX RESTUANS</td>\n",
       "      <td>T015</td>\n",
       "      <td>41.974089</td>\n",
       "      <td>-87.824812</td>\n",
       "      <td>4</td>\n",
       "      <td>0</td>\n",
       "    </tr>\n",
       "  </tbody>\n",
       "</table>\n",
       "</div>"
      ],
      "text/plain": [
       "        date                 species  trap   latitude  longitude  \\\n",
       "0 2007-05-29  CULEX PIPIENS/RESTUANS  T002  41.954690 -87.800991   \n",
       "1 2007-05-29          CULEX RESTUANS  T002  41.954690 -87.800991   \n",
       "2 2007-05-29          CULEX RESTUANS  T007  41.994991 -87.769279   \n",
       "3 2007-05-29  CULEX PIPIENS/RESTUANS  T015  41.974089 -87.824812   \n",
       "4 2007-05-29          CULEX RESTUANS  T015  41.974089 -87.824812   \n",
       "\n",
       "   num_mosquitos  wnv_present  \n",
       "0              1            0  \n",
       "1              1            0  \n",
       "2              1            0  \n",
       "3              1            0  \n",
       "4              4            0  "
      ]
     },
     "execution_count": 12,
     "metadata": {},
     "output_type": "execute_result"
    }
   ],
   "source": [
    "train.head()"
   ]
  },
  {
   "cell_type": "markdown",
   "id": "aba35cdb",
   "metadata": {},
   "source": [
    "#### Number of Mosquitos and Presence of Virus"
   ]
  },
  {
   "cell_type": "markdown",
   "id": "538e28d5",
   "metadata": {},
   "source": [
    "As mentioned, the number of mosquitos in each row are capped at 50 and there are traps with more than 50 mosquitos. Let us look at the traps with mosquitos more than 50. "
   ]
  },
  {
   "cell_type": "code",
   "execution_count": 13,
   "id": "da9c37fc",
   "metadata": {},
   "outputs": [
    {
     "data": {
      "image/png": "[encoded data removed]",
      "text/plain": [
       "<Figure size 1080x576 with 1 Axes>"
      ]
     },
     "metadata": {
      "needs_background": "light"
     },
     "output_type": "display_data"
    }
   ],
   "source": [
    "# plot only the number of mosquitos in trap if the virus was detected\n",
    "plt.figure(figsize=(15, 8))\n",
    "plt.title(\"Number of mosquitos per entry\", fontdict={'fontsize': 16})\n",
    "sns.countplot(data=train[train['wnv_present'] == 1], x='num_mosquitos', palette='tab20c')\n",
    "plt.xlabel('Count', fontdict={'fontsize': 12})\n",
    "plt.ylabel('Num of Mosquito', fontdict={'fontsize': 12});"
   ]
  },
  {
   "cell_type": "markdown",
   "id": "a830c5c8",
   "metadata": {},
   "source": [
    "The above plot confirms that there is no obvious trend between the virus being detected in the trap and the number of mosquitos in that trap, except at 50, which is because the data entries are capped."
   ]
  },
  {
   "cell_type": "code",
   "execution_count": 14,
   "id": "bd6c5300",
   "metadata": {},
   "outputs": [
    {
     "data": {
      "text/html": [
       "<div>\n",
       "<style scoped>\n",
       "    .dataframe tbody tr th:only-of-type {\n",
       "        vertical-align: middle;\n",
       "    }\n",
       "\n",
       "    .dataframe tbody tr th {\n",
       "        vertical-align: top;\n",
       "    }\n",
       "\n",
       "    .dataframe thead th {\n",
       "        text-align: right;\n",
       "    }\n",
       "</style>\n",
       "<table border=\"1\" class=\"dataframe\">\n",
       "  <thead>\n",
       "    <tr style=\"text-align: right;\">\n",
       "      <th></th>\n",
       "      <th>date</th>\n",
       "      <th>species</th>\n",
       "      <th>trap</th>\n",
       "      <th>latitude</th>\n",
       "      <th>longitude</th>\n",
       "      <th>num_mosquitos</th>\n",
       "      <th>wnv_present</th>\n",
       "    </tr>\n",
       "  </thead>\n",
       "  <tbody>\n",
       "    <tr>\n",
       "      <th>9988</th>\n",
       "      <td>2013-08-29</td>\n",
       "      <td>CULEX PIPIENS</td>\n",
       "      <td>T900</td>\n",
       "      <td>41.974689</td>\n",
       "      <td>-87.890615</td>\n",
       "      <td>50</td>\n",
       "      <td>1</td>\n",
       "    </tr>\n",
       "    <tr>\n",
       "      <th>9992</th>\n",
       "      <td>2013-08-29</td>\n",
       "      <td>CULEX PIPIENS</td>\n",
       "      <td>T900</td>\n",
       "      <td>41.974689</td>\n",
       "      <td>-87.890615</td>\n",
       "      <td>50</td>\n",
       "      <td>1</td>\n",
       "    </tr>\n",
       "    <tr>\n",
       "      <th>10011</th>\n",
       "      <td>2013-08-29</td>\n",
       "      <td>CULEX PIPIENS/RESTUANS</td>\n",
       "      <td>T233</td>\n",
       "      <td>42.009876</td>\n",
       "      <td>-87.807277</td>\n",
       "      <td>50</td>\n",
       "      <td>1</td>\n",
       "    </tr>\n",
       "    <tr>\n",
       "      <th>10012</th>\n",
       "      <td>2013-08-29</td>\n",
       "      <td>CULEX PIPIENS/RESTUANS</td>\n",
       "      <td>T233</td>\n",
       "      <td>42.009876</td>\n",
       "      <td>-87.807277</td>\n",
       "      <td>50</td>\n",
       "      <td>0</td>\n",
       "    </tr>\n",
       "    <tr>\n",
       "      <th>10013</th>\n",
       "      <td>2013-08-29</td>\n",
       "      <td>CULEX PIPIENS/RESTUANS</td>\n",
       "      <td>T233</td>\n",
       "      <td>42.009876</td>\n",
       "      <td>-87.807277</td>\n",
       "      <td>50</td>\n",
       "      <td>1</td>\n",
       "    </tr>\n",
       "    <tr>\n",
       "      <th>10014</th>\n",
       "      <td>2013-08-29</td>\n",
       "      <td>CULEX PIPIENS</td>\n",
       "      <td>T233</td>\n",
       "      <td>42.009876</td>\n",
       "      <td>-87.807277</td>\n",
       "      <td>50</td>\n",
       "      <td>1</td>\n",
       "    </tr>\n",
       "    <tr>\n",
       "      <th>10020</th>\n",
       "      <td>2013-09-06</td>\n",
       "      <td>CULEX PIPIENS/RESTUANS</td>\n",
       "      <td>T002</td>\n",
       "      <td>41.954690</td>\n",
       "      <td>-87.800991</td>\n",
       "      <td>50</td>\n",
       "      <td>0</td>\n",
       "    </tr>\n",
       "    <tr>\n",
       "      <th>10029</th>\n",
       "      <td>2013-09-06</td>\n",
       "      <td>CULEX PIPIENS/RESTUANS</td>\n",
       "      <td>T054</td>\n",
       "      <td>41.921965</td>\n",
       "      <td>-87.632085</td>\n",
       "      <td>50</td>\n",
       "      <td>1</td>\n",
       "    </tr>\n",
       "    <tr>\n",
       "      <th>10031</th>\n",
       "      <td>2013-09-06</td>\n",
       "      <td>CULEX PIPIENS</td>\n",
       "      <td>T054</td>\n",
       "      <td>41.921965</td>\n",
       "      <td>-87.632085</td>\n",
       "      <td>50</td>\n",
       "      <td>1</td>\n",
       "    </tr>\n",
       "    <tr>\n",
       "      <th>10044</th>\n",
       "      <td>2013-09-06</td>\n",
       "      <td>CULEX PIPIENS</td>\n",
       "      <td>T033</td>\n",
       "      <td>41.906638</td>\n",
       "      <td>-87.701431</td>\n",
       "      <td>50</td>\n",
       "      <td>0</td>\n",
       "    </tr>\n",
       "    <tr>\n",
       "      <th>10058</th>\n",
       "      <td>2013-09-06</td>\n",
       "      <td>CULEX PIPIENS/RESTUANS</td>\n",
       "      <td>T220</td>\n",
       "      <td>41.963976</td>\n",
       "      <td>-87.691810</td>\n",
       "      <td>50</td>\n",
       "      <td>1</td>\n",
       "    </tr>\n",
       "    <tr>\n",
       "      <th>10098</th>\n",
       "      <td>2013-09-06</td>\n",
       "      <td>CULEX PIPIENS</td>\n",
       "      <td>T114</td>\n",
       "      <td>41.798697</td>\n",
       "      <td>-87.736812</td>\n",
       "      <td>50</td>\n",
       "      <td>0</td>\n",
       "    </tr>\n",
       "    <tr>\n",
       "      <th>10118</th>\n",
       "      <td>2013-09-06</td>\n",
       "      <td>CULEX PIPIENS/RESTUANS</td>\n",
       "      <td>T900</td>\n",
       "      <td>41.974689</td>\n",
       "      <td>-87.890615</td>\n",
       "      <td>50</td>\n",
       "      <td>0</td>\n",
       "    </tr>\n",
       "    <tr>\n",
       "      <th>10122</th>\n",
       "      <td>2013-09-06</td>\n",
       "      <td>CULEX PIPIENS/RESTUANS</td>\n",
       "      <td>T900</td>\n",
       "      <td>41.974689</td>\n",
       "      <td>-87.890615</td>\n",
       "      <td>50</td>\n",
       "      <td>1</td>\n",
       "    </tr>\n",
       "    <tr>\n",
       "      <th>10124</th>\n",
       "      <td>2013-09-06</td>\n",
       "      <td>CULEX PIPIENS/RESTUANS</td>\n",
       "      <td>T900</td>\n",
       "      <td>41.974689</td>\n",
       "      <td>-87.890615</td>\n",
       "      <td>50</td>\n",
       "      <td>1</td>\n",
       "    </tr>\n",
       "    <tr>\n",
       "      <th>10240</th>\n",
       "      <td>2013-09-12</td>\n",
       "      <td>CULEX PIPIENS/RESTUANS</td>\n",
       "      <td>T115</td>\n",
       "      <td>41.673408</td>\n",
       "      <td>-87.599862</td>\n",
       "      <td>50</td>\n",
       "      <td>1</td>\n",
       "    </tr>\n",
       "    <tr>\n",
       "      <th>10242</th>\n",
       "      <td>2013-09-12</td>\n",
       "      <td>CULEX PIPIENS/RESTUANS</td>\n",
       "      <td>T115</td>\n",
       "      <td>41.673408</td>\n",
       "      <td>-87.599862</td>\n",
       "      <td>50</td>\n",
       "      <td>0</td>\n",
       "    </tr>\n",
       "    <tr>\n",
       "      <th>10259</th>\n",
       "      <td>2013-09-12</td>\n",
       "      <td>CULEX PIPIENS/RESTUANS</td>\n",
       "      <td>T900</td>\n",
       "      <td>41.974689</td>\n",
       "      <td>-87.890615</td>\n",
       "      <td>50</td>\n",
       "      <td>0</td>\n",
       "    </tr>\n",
       "    <tr>\n",
       "      <th>10262</th>\n",
       "      <td>2013-09-12</td>\n",
       "      <td>CULEX PIPIENS/RESTUANS</td>\n",
       "      <td>T900</td>\n",
       "      <td>41.974689</td>\n",
       "      <td>-87.890615</td>\n",
       "      <td>50</td>\n",
       "      <td>0</td>\n",
       "    </tr>\n",
       "    <tr>\n",
       "      <th>10267</th>\n",
       "      <td>2013-09-12</td>\n",
       "      <td>CULEX PIPIENS</td>\n",
       "      <td>T900</td>\n",
       "      <td>41.974689</td>\n",
       "      <td>-87.890615</td>\n",
       "      <td>50</td>\n",
       "      <td>0</td>\n",
       "    </tr>\n",
       "  </tbody>\n",
       "</table>\n",
       "</div>"
      ],
      "text/plain": [
       "            date                 species  trap   latitude  longitude  \\\n",
       "9988  2013-08-29           CULEX PIPIENS  T900  41.974689 -87.890615   \n",
       "9992  2013-08-29           CULEX PIPIENS  T900  41.974689 -87.890615   \n",
       "10011 2013-08-29  CULEX PIPIENS/RESTUANS  T233  42.009876 -87.807277   \n",
       "10012 2013-08-29  CULEX PIPIENS/RESTUANS  T233  42.009876 -87.807277   \n",
       "10013 2013-08-29  CULEX PIPIENS/RESTUANS  T233  42.009876 -87.807277   \n",
       "10014 2013-08-29           CULEX PIPIENS  T233  42.009876 -87.807277   \n",
       "10020 2013-09-06  CULEX PIPIENS/RESTUANS  T002  41.954690 -87.800991   \n",
       "10029 2013-09-06  CULEX PIPIENS/RESTUANS  T054  41.921965 -87.632085   \n",
       "10031 2013-09-06           CULEX PIPIENS  T054  41.921965 -87.632085   \n",
       "10044 2013-09-06           CULEX PIPIENS  T033  41.906638 -87.701431   \n",
       "10058 2013-09-06  CULEX PIPIENS/RESTUANS  T220  41.963976 -87.691810   \n",
       "10098 2013-09-06           CULEX PIPIENS  T114  41.798697 -87.736812   \n",
       "10118 2013-09-06  CULEX PIPIENS/RESTUANS  T900  41.974689 -87.890615   \n",
       "10122 2013-09-06  CULEX PIPIENS/RESTUANS  T900  41.974689 -87.890615   \n",
       "10124 2013-09-06  CULEX PIPIENS/RESTUANS  T900  41.974689 -87.890615   \n",
       "10240 2013-09-12  CULEX PIPIENS/RESTUANS  T115  41.673408 -87.599862   \n",
       "10242 2013-09-12  CULEX PIPIENS/RESTUANS  T115  41.673408 -87.599862   \n",
       "10259 2013-09-12  CULEX PIPIENS/RESTUANS  T900  41.974689 -87.890615   \n",
       "10262 2013-09-12  CULEX PIPIENS/RESTUANS  T900  41.974689 -87.890615   \n",
       "10267 2013-09-12           CULEX PIPIENS  T900  41.974689 -87.890615   \n",
       "\n",
       "       num_mosquitos  wnv_present  \n",
       "9988              50            1  \n",
       "9992              50            1  \n",
       "10011             50            1  \n",
       "10012             50            0  \n",
       "10013             50            1  \n",
       "10014             50            1  \n",
       "10020             50            0  \n",
       "10029             50            1  \n",
       "10031             50            1  \n",
       "10044             50            0  \n",
       "10058             50            1  \n",
       "10098             50            0  \n",
       "10118             50            0  \n",
       "10122             50            1  \n",
       "10124             50            1  \n",
       "10240             50            1  \n",
       "10242             50            0  \n",
       "10259             50            0  \n",
       "10262             50            0  \n",
       "10267             50            0  "
      ]
     },
     "execution_count": 14,
     "metadata": {},
     "output_type": "execute_result"
    }
   ],
   "source": [
    "train[((train['num_mosquitos'] == 50) & (train['wnv_present'] == 0)) | ((train['num_mosquitos'] == 50) & (train['wnv_present'] == 1))].tail(20)"
   ]
  },
  {
   "cell_type": "markdown",
   "id": "0b274aa7",
   "metadata": {},
   "source": [
    "Just by looking at the data above, we are able to see traps that have more than 50 mosquitos but have virus present only in some of the rows. Additionally, we see numerous number of duplicated rows, such as index = 9988 and index = 9992."
   ]
  },
  {
   "cell_type": "code",
   "execution_count": 15,
   "id": "03540d06",
   "metadata": {},
   "outputs": [
    {
     "data": {
      "text/html": [
       "<div>\n",
       "<style scoped>\n",
       "    .dataframe tbody tr th:only-of-type {\n",
       "        vertical-align: middle;\n",
       "    }\n",
       "\n",
       "    .dataframe tbody tr th {\n",
       "        vertical-align: top;\n",
       "    }\n",
       "\n",
       "    .dataframe thead th {\n",
       "        text-align: right;\n",
       "    }\n",
       "</style>\n",
       "<table border=\"1\" class=\"dataframe\">\n",
       "  <thead>\n",
       "    <tr style=\"text-align: right;\">\n",
       "      <th></th>\n",
       "      <th>date</th>\n",
       "      <th>species</th>\n",
       "      <th>trap</th>\n",
       "      <th>latitude</th>\n",
       "      <th>longitude</th>\n",
       "      <th>num_mosquitos</th>\n",
       "      <th>wnv_present</th>\n",
       "    </tr>\n",
       "  </thead>\n",
       "  <tbody>\n",
       "    <tr>\n",
       "      <th>4888</th>\n",
       "      <td>2009-07-24</td>\n",
       "      <td>CULEX PIPIENS/RESTUANS</td>\n",
       "      <td>T002</td>\n",
       "      <td>41.95469</td>\n",
       "      <td>-87.800991</td>\n",
       "      <td>50</td>\n",
       "      <td>0</td>\n",
       "    </tr>\n",
       "    <tr>\n",
       "      <th>4889</th>\n",
       "      <td>2009-07-24</td>\n",
       "      <td>CULEX PIPIENS/RESTUANS</td>\n",
       "      <td>T002</td>\n",
       "      <td>41.95469</td>\n",
       "      <td>-87.800991</td>\n",
       "      <td>25</td>\n",
       "      <td>0</td>\n",
       "    </tr>\n",
       "    <tr>\n",
       "      <th>4890</th>\n",
       "      <td>2009-07-24</td>\n",
       "      <td>CULEX PIPIENS/RESTUANS</td>\n",
       "      <td>T002</td>\n",
       "      <td>41.95469</td>\n",
       "      <td>-87.800991</td>\n",
       "      <td>50</td>\n",
       "      <td>1</td>\n",
       "    </tr>\n",
       "    <tr>\n",
       "      <th>4891</th>\n",
       "      <td>2009-07-24</td>\n",
       "      <td>CULEX PIPIENS/RESTUANS</td>\n",
       "      <td>T002</td>\n",
       "      <td>41.95469</td>\n",
       "      <td>-87.800991</td>\n",
       "      <td>50</td>\n",
       "      <td>0</td>\n",
       "    </tr>\n",
       "    <tr>\n",
       "      <th>4892</th>\n",
       "      <td>2009-07-24</td>\n",
       "      <td>CULEX PIPIENS/RESTUANS</td>\n",
       "      <td>T002</td>\n",
       "      <td>41.95469</td>\n",
       "      <td>-87.800991</td>\n",
       "      <td>40</td>\n",
       "      <td>0</td>\n",
       "    </tr>\n",
       "    <tr>\n",
       "      <th>4893</th>\n",
       "      <td>2009-07-24</td>\n",
       "      <td>CULEX RESTUANS</td>\n",
       "      <td>T002</td>\n",
       "      <td>41.95469</td>\n",
       "      <td>-87.800991</td>\n",
       "      <td>18</td>\n",
       "      <td>0</td>\n",
       "    </tr>\n",
       "    <tr>\n",
       "      <th>4894</th>\n",
       "      <td>2009-07-24</td>\n",
       "      <td>CULEX PIPIENS</td>\n",
       "      <td>T002</td>\n",
       "      <td>41.95469</td>\n",
       "      <td>-87.800991</td>\n",
       "      <td>4</td>\n",
       "      <td>0</td>\n",
       "    </tr>\n",
       "  </tbody>\n",
       "</table>\n",
       "</div>"
      ],
      "text/plain": [
       "           date                 species  trap  latitude  longitude  \\\n",
       "4888 2009-07-24  CULEX PIPIENS/RESTUANS  T002  41.95469 -87.800991   \n",
       "4889 2009-07-24  CULEX PIPIENS/RESTUANS  T002  41.95469 -87.800991   \n",
       "4890 2009-07-24  CULEX PIPIENS/RESTUANS  T002  41.95469 -87.800991   \n",
       "4891 2009-07-24  CULEX PIPIENS/RESTUANS  T002  41.95469 -87.800991   \n",
       "4892 2009-07-24  CULEX PIPIENS/RESTUANS  T002  41.95469 -87.800991   \n",
       "4893 2009-07-24          CULEX RESTUANS  T002  41.95469 -87.800991   \n",
       "4894 2009-07-24           CULEX PIPIENS  T002  41.95469 -87.800991   \n",
       "\n",
       "      num_mosquitos  wnv_present  \n",
       "4888             50            0  \n",
       "4889             25            0  \n",
       "4890             50            1  \n",
       "4891             50            0  \n",
       "4892             40            0  \n",
       "4893             18            0  \n",
       "4894              4            0  "
      ]
     },
     "execution_count": 15,
     "metadata": {},
     "output_type": "execute_result"
    }
   ],
   "source": [
    "train[(train['trap'] == 'T002') & (train['date'] == '2009-07-24')]"
   ]
  },
  {
   "cell_type": "markdown",
   "id": "0f8234dc",
   "metadata": {},
   "source": [
    "For trap T115 on 2013-09-12, we see only some rows indicating presence of virus even though they belong to the same trap and are recorded on the same date. We also have to keep in mind that traps are placed at strategic locations and not all mosquitos can be captured by the traps. Although each row is capped at 50, the mosquitos are still taken from the same trap. Hence we will classify these traps as '1' if there are some bins with virus present."
   ]
  },
  {
   "cell_type": "code",
   "execution_count": 16,
   "id": "899ff437",
   "metadata": {},
   "outputs": [],
   "source": [
    "train = train.groupby([column for column in train.columns \\\n",
    "                       if column not in ['num_mosquitos','wnv_present']]).sum().reset_index()\n",
    "train['wnv_present'] = train['wnv_present'].map(lambda x: 1 if x > 0 else 0)"
   ]
  },
  {
   "cell_type": "code",
   "execution_count": 17,
   "id": "f93c3d3b",
   "metadata": {},
   "outputs": [
    {
     "data": {
      "text/html": [
       "<div>\n",
       "<style scoped>\n",
       "    .dataframe tbody tr th:only-of-type {\n",
       "        vertical-align: middle;\n",
       "    }\n",
       "\n",
       "    .dataframe tbody tr th {\n",
       "        vertical-align: top;\n",
       "    }\n",
       "\n",
       "    .dataframe thead th {\n",
       "        text-align: right;\n",
       "    }\n",
       "</style>\n",
       "<table border=\"1\" class=\"dataframe\">\n",
       "  <thead>\n",
       "    <tr style=\"text-align: right;\">\n",
       "      <th></th>\n",
       "      <th>date</th>\n",
       "      <th>species</th>\n",
       "      <th>trap</th>\n",
       "      <th>latitude</th>\n",
       "      <th>longitude</th>\n",
       "      <th>num_mosquitos</th>\n",
       "      <th>wnv_present</th>\n",
       "    </tr>\n",
       "  </thead>\n",
       "  <tbody>\n",
       "    <tr>\n",
       "      <th>0</th>\n",
       "      <td>2007-05-29</td>\n",
       "      <td>CULEX PIPIENS</td>\n",
       "      <td>T096</td>\n",
       "      <td>41.731922</td>\n",
       "      <td>-87.677512</td>\n",
       "      <td>1</td>\n",
       "      <td>0</td>\n",
       "    </tr>\n",
       "    <tr>\n",
       "      <th>1</th>\n",
       "      <td>2007-05-29</td>\n",
       "      <td>CULEX PIPIENS/RESTUANS</td>\n",
       "      <td>T002</td>\n",
       "      <td>41.954690</td>\n",
       "      <td>-87.800991</td>\n",
       "      <td>1</td>\n",
       "      <td>0</td>\n",
       "    </tr>\n",
       "    <tr>\n",
       "      <th>2</th>\n",
       "      <td>2007-05-29</td>\n",
       "      <td>CULEX PIPIENS/RESTUANS</td>\n",
       "      <td>T015</td>\n",
       "      <td>41.974089</td>\n",
       "      <td>-87.824812</td>\n",
       "      <td>1</td>\n",
       "      <td>0</td>\n",
       "    </tr>\n",
       "    <tr>\n",
       "      <th>3</th>\n",
       "      <td>2007-05-29</td>\n",
       "      <td>CULEX PIPIENS/RESTUANS</td>\n",
       "      <td>T048</td>\n",
       "      <td>41.867108</td>\n",
       "      <td>-87.654224</td>\n",
       "      <td>1</td>\n",
       "      <td>0</td>\n",
       "    </tr>\n",
       "    <tr>\n",
       "      <th>4</th>\n",
       "      <td>2007-05-29</td>\n",
       "      <td>CULEX PIPIENS/RESTUANS</td>\n",
       "      <td>T050</td>\n",
       "      <td>41.919343</td>\n",
       "      <td>-87.694259</td>\n",
       "      <td>1</td>\n",
       "      <td>0</td>\n",
       "    </tr>\n",
       "    <tr>\n",
       "      <th>...</th>\n",
       "      <td>...</td>\n",
       "      <td>...</td>\n",
       "      <td>...</td>\n",
       "      <td>...</td>\n",
       "      <td>...</td>\n",
       "      <td>...</td>\n",
       "      <td>...</td>\n",
       "    </tr>\n",
       "    <tr>\n",
       "      <th>8423</th>\n",
       "      <td>2013-09-26</td>\n",
       "      <td>CULEX RESTUANS</td>\n",
       "      <td>T082</td>\n",
       "      <td>41.803423</td>\n",
       "      <td>-87.642984</td>\n",
       "      <td>2</td>\n",
       "      <td>0</td>\n",
       "    </tr>\n",
       "    <tr>\n",
       "      <th>8424</th>\n",
       "      <td>2013-09-26</td>\n",
       "      <td>CULEX RESTUANS</td>\n",
       "      <td>T102</td>\n",
       "      <td>41.750498</td>\n",
       "      <td>-87.605294</td>\n",
       "      <td>1</td>\n",
       "      <td>0</td>\n",
       "    </tr>\n",
       "    <tr>\n",
       "      <th>8425</th>\n",
       "      <td>2013-09-26</td>\n",
       "      <td>CULEX RESTUANS</td>\n",
       "      <td>T209</td>\n",
       "      <td>41.740641</td>\n",
       "      <td>-87.546587</td>\n",
       "      <td>1</td>\n",
       "      <td>0</td>\n",
       "    </tr>\n",
       "    <tr>\n",
       "      <th>8426</th>\n",
       "      <td>2013-09-26</td>\n",
       "      <td>CULEX RESTUANS</td>\n",
       "      <td>T220</td>\n",
       "      <td>41.963976</td>\n",
       "      <td>-87.691810</td>\n",
       "      <td>8</td>\n",
       "      <td>0</td>\n",
       "    </tr>\n",
       "    <tr>\n",
       "      <th>8427</th>\n",
       "      <td>2013-09-26</td>\n",
       "      <td>CULEX RESTUANS</td>\n",
       "      <td>T221</td>\n",
       "      <td>41.659112</td>\n",
       "      <td>-87.538693</td>\n",
       "      <td>5</td>\n",
       "      <td>0</td>\n",
       "    </tr>\n",
       "  </tbody>\n",
       "</table>\n",
       "<p>8428 rows × 7 columns</p>\n",
       "</div>"
      ],
      "text/plain": [
       "           date                 species  trap   latitude  longitude  \\\n",
       "0    2007-05-29           CULEX PIPIENS  T096  41.731922 -87.677512   \n",
       "1    2007-05-29  CULEX PIPIENS/RESTUANS  T002  41.954690 -87.800991   \n",
       "2    2007-05-29  CULEX PIPIENS/RESTUANS  T015  41.974089 -87.824812   \n",
       "3    2007-05-29  CULEX PIPIENS/RESTUANS  T048  41.867108 -87.654224   \n",
       "4    2007-05-29  CULEX PIPIENS/RESTUANS  T050  41.919343 -87.694259   \n",
       "...         ...                     ...   ...        ...        ...   \n",
       "8423 2013-09-26          CULEX RESTUANS  T082  41.803423 -87.642984   \n",
       "8424 2013-09-26          CULEX RESTUANS  T102  41.750498 -87.605294   \n",
       "8425 2013-09-26          CULEX RESTUANS  T209  41.740641 -87.546587   \n",
       "8426 2013-09-26          CULEX RESTUANS  T220  41.963976 -87.691810   \n",
       "8427 2013-09-26          CULEX RESTUANS  T221  41.659112 -87.538693   \n",
       "\n",
       "      num_mosquitos  wnv_present  \n",
       "0                 1            0  \n",
       "1                 1            0  \n",
       "2                 1            0  \n",
       "3                 1            0  \n",
       "4                 1            0  \n",
       "...             ...          ...  \n",
       "8423              2            0  \n",
       "8424              1            0  \n",
       "8425              1            0  \n",
       "8426              8            0  \n",
       "8427              5            0  \n",
       "\n",
       "[8428 rows x 7 columns]"
      ]
     },
     "execution_count": 17,
     "metadata": {},
     "output_type": "execute_result"
    }
   ],
   "source": [
    "train"
   ]
  },
  {
   "cell_type": "code",
   "execution_count": 18,
   "id": "ff699106",
   "metadata": {},
   "outputs": [
    {
     "data": {
      "text/plain": [
       "(8428, 7)"
      ]
     },
     "execution_count": 18,
     "metadata": {},
     "output_type": "execute_result"
    }
   ],
   "source": [
    "train.shape"
   ]
  },
  {
   "cell_type": "markdown",
   "id": "8b9af8a5",
   "metadata": {},
   "source": [
    "This removes all our duplicated rows as well."
   ]
  },
  {
   "cell_type": "markdown",
   "id": "aea49bcf",
   "metadata": {},
   "source": [
    "### Test Dataset"
   ]
  },
  {
   "cell_type": "markdown",
   "id": "889f53ab",
   "metadata": {},
   "source": [
    "We will implement all the structural changes that we did in our Train dataset to our Test dataset as well.\n",
    "\n",
    "The test data contains data for the years 2008, 2010, 2012, and 2014."
   ]
  },
  {
   "cell_type": "markdown",
   "id": "8291c372",
   "metadata": {},
   "source": [
    "#### Overview of Test Dataset"
   ]
  },
  {
   "cell_type": "code",
   "execution_count": 19,
   "id": "369508be",
   "metadata": {},
   "outputs": [
    {
     "name": "stdout",
     "output_type": "stream",
     "text": [
      "Number of rows: 116293\n",
      "Number of columns: 11\n",
      "\n",
      "Names of columns in dataset.\n"
     ]
    },
    {
     "data": {
      "text/plain": [
       "Index(['id', 'date', 'address', 'species', 'block', 'street', 'trap',\n",
       "       'address_number_and_street', 'latitude', 'longitude',\n",
       "       'address_accuracy'],\n",
       "      dtype='object')"
      ]
     },
     "metadata": {},
     "output_type": "display_data"
    },
    {
     "data": {
      "text/plain": [
       "id                                    int64\n",
       "date                         datetime64[ns]\n",
       "address                              object\n",
       "species                              object\n",
       "block                                 int64\n",
       "street                               object\n",
       "trap                                 object\n",
       "address_number_and_street            object\n",
       "latitude                            float64\n",
       "longitude                           float64\n",
       "address_accuracy                      int64\n",
       "dtype: object"
      ]
     },
     "metadata": {},
     "output_type": "display_data"
    },
    {
     "name": "stdout",
     "output_type": "stream",
     "text": [
      "Missing values in dataset\n"
     ]
    },
    {
     "data": {
      "text/plain": [
       "id                           0\n",
       "date                         0\n",
       "address                      0\n",
       "species                      0\n",
       "block                        0\n",
       "street                       0\n",
       "trap                         0\n",
       "address_number_and_street    0\n",
       "latitude                     0\n",
       "longitude                    0\n",
       "address_accuracy             0\n",
       "dtype: int64"
      ]
     },
     "metadata": {},
     "output_type": "display_data"
    },
    {
     "name": "stdout",
     "output_type": "stream",
     "text": [
      "Number of duplicate values in dataset: 0\n"
     ]
    }
   ],
   "source": [
    "df_overview(test)"
   ]
  },
  {
   "cell_type": "markdown",
   "id": "afcd429d",
   "metadata": {},
   "source": [
    "#### Clean Test Dataset"
   ]
  },
  {
   "cell_type": "markdown",
   "id": "1a7f8eb9",
   "metadata": {},
   "source": [
    "We will clean the dataset based on our train dataset to ensure that the structures are the same when we proceed to model our data."
   ]
  },
  {
   "cell_type": "code",
   "execution_count": 20,
   "id": "686f488f",
   "metadata": {},
   "outputs": [],
   "source": [
    "test.drop(columns = {'id', 'address', 'block', 'street', \n",
    "                     'address_number_and_street', 'address_accuracy'}, inplace = True)"
   ]
  },
  {
   "cell_type": "code",
   "execution_count": 21,
   "id": "fe64f38c",
   "metadata": {},
   "outputs": [
    {
     "data": {
      "text/html": [
       "<div>\n",
       "<style scoped>\n",
       "    .dataframe tbody tr th:only-of-type {\n",
       "        vertical-align: middle;\n",
       "    }\n",
       "\n",
       "    .dataframe tbody tr th {\n",
       "        vertical-align: top;\n",
       "    }\n",
       "\n",
       "    .dataframe thead th {\n",
       "        text-align: right;\n",
       "    }\n",
       "</style>\n",
       "<table border=\"1\" class=\"dataframe\">\n",
       "  <thead>\n",
       "    <tr style=\"text-align: right;\">\n",
       "      <th></th>\n",
       "      <th>date</th>\n",
       "      <th>species</th>\n",
       "      <th>trap</th>\n",
       "      <th>latitude</th>\n",
       "      <th>longitude</th>\n",
       "    </tr>\n",
       "  </thead>\n",
       "  <tbody>\n",
       "    <tr>\n",
       "      <th>0</th>\n",
       "      <td>2008-06-11</td>\n",
       "      <td>CULEX PIPIENS/RESTUANS</td>\n",
       "      <td>T002</td>\n",
       "      <td>41.954690</td>\n",
       "      <td>-87.800991</td>\n",
       "    </tr>\n",
       "    <tr>\n",
       "      <th>1</th>\n",
       "      <td>2008-06-11</td>\n",
       "      <td>CULEX RESTUANS</td>\n",
       "      <td>T002</td>\n",
       "      <td>41.954690</td>\n",
       "      <td>-87.800991</td>\n",
       "    </tr>\n",
       "    <tr>\n",
       "      <th>2</th>\n",
       "      <td>2008-06-11</td>\n",
       "      <td>CULEX PIPIENS</td>\n",
       "      <td>T002</td>\n",
       "      <td>41.954690</td>\n",
       "      <td>-87.800991</td>\n",
       "    </tr>\n",
       "    <tr>\n",
       "      <th>3</th>\n",
       "      <td>2008-06-11</td>\n",
       "      <td>CULEX SALINARIUS</td>\n",
       "      <td>T002</td>\n",
       "      <td>41.954690</td>\n",
       "      <td>-87.800991</td>\n",
       "    </tr>\n",
       "    <tr>\n",
       "      <th>4</th>\n",
       "      <td>2008-06-11</td>\n",
       "      <td>CULEX TERRITANS</td>\n",
       "      <td>T002</td>\n",
       "      <td>41.954690</td>\n",
       "      <td>-87.800991</td>\n",
       "    </tr>\n",
       "    <tr>\n",
       "      <th>...</th>\n",
       "      <td>...</td>\n",
       "      <td>...</td>\n",
       "      <td>...</td>\n",
       "      <td>...</td>\n",
       "      <td>...</td>\n",
       "    </tr>\n",
       "    <tr>\n",
       "      <th>116288</th>\n",
       "      <td>2014-10-02</td>\n",
       "      <td>CULEX SALINARIUS</td>\n",
       "      <td>T054C</td>\n",
       "      <td>41.925652</td>\n",
       "      <td>-87.633590</td>\n",
       "    </tr>\n",
       "    <tr>\n",
       "      <th>116289</th>\n",
       "      <td>2014-10-02</td>\n",
       "      <td>CULEX TERRITANS</td>\n",
       "      <td>T054C</td>\n",
       "      <td>41.925652</td>\n",
       "      <td>-87.633590</td>\n",
       "    </tr>\n",
       "    <tr>\n",
       "      <th>116290</th>\n",
       "      <td>2014-10-02</td>\n",
       "      <td>CULEX TARSALIS</td>\n",
       "      <td>T054C</td>\n",
       "      <td>41.925652</td>\n",
       "      <td>-87.633590</td>\n",
       "    </tr>\n",
       "    <tr>\n",
       "      <th>116291</th>\n",
       "      <td>2014-10-02</td>\n",
       "      <td>UNSPECIFIED CULEX</td>\n",
       "      <td>T054C</td>\n",
       "      <td>41.925652</td>\n",
       "      <td>-87.633590</td>\n",
       "    </tr>\n",
       "    <tr>\n",
       "      <th>116292</th>\n",
       "      <td>2014-10-02</td>\n",
       "      <td>CULEX ERRATICUS</td>\n",
       "      <td>T054C</td>\n",
       "      <td>41.925652</td>\n",
       "      <td>-87.633590</td>\n",
       "    </tr>\n",
       "  </tbody>\n",
       "</table>\n",
       "<p>116293 rows × 5 columns</p>\n",
       "</div>"
      ],
      "text/plain": [
       "             date                 species   trap   latitude  longitude\n",
       "0      2008-06-11  CULEX PIPIENS/RESTUANS   T002  41.954690 -87.800991\n",
       "1      2008-06-11          CULEX RESTUANS   T002  41.954690 -87.800991\n",
       "2      2008-06-11           CULEX PIPIENS   T002  41.954690 -87.800991\n",
       "3      2008-06-11        CULEX SALINARIUS   T002  41.954690 -87.800991\n",
       "4      2008-06-11         CULEX TERRITANS   T002  41.954690 -87.800991\n",
       "...           ...                     ...    ...        ...        ...\n",
       "116288 2014-10-02        CULEX SALINARIUS  T054C  41.925652 -87.633590\n",
       "116289 2014-10-02         CULEX TERRITANS  T054C  41.925652 -87.633590\n",
       "116290 2014-10-02          CULEX TARSALIS  T054C  41.925652 -87.633590\n",
       "116291 2014-10-02       UNSPECIFIED CULEX  T054C  41.925652 -87.633590\n",
       "116292 2014-10-02         CULEX ERRATICUS  T054C  41.925652 -87.633590\n",
       "\n",
       "[116293 rows x 5 columns]"
      ]
     },
     "execution_count": 21,
     "metadata": {},
     "output_type": "execute_result"
    }
   ],
   "source": [
    "test"
   ]
  },
  {
   "cell_type": "markdown",
   "id": "ceb28500",
   "metadata": {},
   "source": [
    "### Weather Dataset"
   ]
  },
  {
   "cell_type": "markdown",
   "id": "b0491e3e",
   "metadata": {},
   "source": [
    "#### Overview of Weather Dataset"
   ]
  },
  {
   "cell_type": "markdown",
   "id": "7ee6d1c1",
   "metadata": {},
   "source": [
    "The weather dataset is taken from two stations from years 2007 to 2014."
   ]
  },
  {
   "cell_type": "code",
   "execution_count": 22,
   "id": "37f89e4e",
   "metadata": {},
   "outputs": [
    {
     "data": {
      "text/html": [
       "<div>\n",
       "<style scoped>\n",
       "    .dataframe tbody tr th:only-of-type {\n",
       "        vertical-align: middle;\n",
       "    }\n",
       "\n",
       "    .dataframe tbody tr th {\n",
       "        vertical-align: top;\n",
       "    }\n",
       "\n",
       "    .dataframe thead th {\n",
       "        text-align: right;\n",
       "    }\n",
       "</style>\n",
       "<table border=\"1\" class=\"dataframe\">\n",
       "  <thead>\n",
       "    <tr style=\"text-align: right;\">\n",
       "      <th></th>\n",
       "      <th>station</th>\n",
       "      <th>date</th>\n",
       "      <th>tmax</th>\n",
       "      <th>tmin</th>\n",
       "      <th>tavg</th>\n",
       "      <th>depart</th>\n",
       "      <th>dew_point</th>\n",
       "      <th>wet_bulb</th>\n",
       "      <th>heat</th>\n",
       "      <th>cool</th>\n",
       "      <th>...</th>\n",
       "      <th>code_sum</th>\n",
       "      <th>depth</th>\n",
       "      <th>water1</th>\n",
       "      <th>snow_fall</th>\n",
       "      <th>precip_total</th>\n",
       "      <th>stn_pressure</th>\n",
       "      <th>sea_level</th>\n",
       "      <th>result_speed</th>\n",
       "      <th>result_dir</th>\n",
       "      <th>avg_speed</th>\n",
       "    </tr>\n",
       "  </thead>\n",
       "  <tbody>\n",
       "    <tr>\n",
       "      <th>0</th>\n",
       "      <td>1</td>\n",
       "      <td>2007-05-01</td>\n",
       "      <td>83</td>\n",
       "      <td>50</td>\n",
       "      <td>67</td>\n",
       "      <td>14</td>\n",
       "      <td>51</td>\n",
       "      <td>56</td>\n",
       "      <td>0</td>\n",
       "      <td>2</td>\n",
       "      <td>...</td>\n",
       "      <td></td>\n",
       "      <td>0</td>\n",
       "      <td>M</td>\n",
       "      <td>0.0</td>\n",
       "      <td>0.00</td>\n",
       "      <td>29.10</td>\n",
       "      <td>29.82</td>\n",
       "      <td>1.7</td>\n",
       "      <td>27</td>\n",
       "      <td>9.2</td>\n",
       "    </tr>\n",
       "    <tr>\n",
       "      <th>1</th>\n",
       "      <td>2</td>\n",
       "      <td>2007-05-01</td>\n",
       "      <td>84</td>\n",
       "      <td>52</td>\n",
       "      <td>68</td>\n",
       "      <td>M</td>\n",
       "      <td>51</td>\n",
       "      <td>57</td>\n",
       "      <td>0</td>\n",
       "      <td>3</td>\n",
       "      <td>...</td>\n",
       "      <td></td>\n",
       "      <td>M</td>\n",
       "      <td>M</td>\n",
       "      <td>M</td>\n",
       "      <td>0.00</td>\n",
       "      <td>29.18</td>\n",
       "      <td>29.82</td>\n",
       "      <td>2.7</td>\n",
       "      <td>25</td>\n",
       "      <td>9.6</td>\n",
       "    </tr>\n",
       "    <tr>\n",
       "      <th>2</th>\n",
       "      <td>1</td>\n",
       "      <td>2007-05-02</td>\n",
       "      <td>59</td>\n",
       "      <td>42</td>\n",
       "      <td>51</td>\n",
       "      <td>-3</td>\n",
       "      <td>42</td>\n",
       "      <td>47</td>\n",
       "      <td>14</td>\n",
       "      <td>0</td>\n",
       "      <td>...</td>\n",
       "      <td>BR</td>\n",
       "      <td>0</td>\n",
       "      <td>M</td>\n",
       "      <td>0.0</td>\n",
       "      <td>0.00</td>\n",
       "      <td>29.38</td>\n",
       "      <td>30.09</td>\n",
       "      <td>13.0</td>\n",
       "      <td>4</td>\n",
       "      <td>13.4</td>\n",
       "    </tr>\n",
       "    <tr>\n",
       "      <th>3</th>\n",
       "      <td>2</td>\n",
       "      <td>2007-05-02</td>\n",
       "      <td>60</td>\n",
       "      <td>43</td>\n",
       "      <td>52</td>\n",
       "      <td>M</td>\n",
       "      <td>42</td>\n",
       "      <td>47</td>\n",
       "      <td>13</td>\n",
       "      <td>0</td>\n",
       "      <td>...</td>\n",
       "      <td>BR HZ</td>\n",
       "      <td>M</td>\n",
       "      <td>M</td>\n",
       "      <td>M</td>\n",
       "      <td>0.00</td>\n",
       "      <td>29.44</td>\n",
       "      <td>30.08</td>\n",
       "      <td>13.3</td>\n",
       "      <td>2</td>\n",
       "      <td>13.4</td>\n",
       "    </tr>\n",
       "    <tr>\n",
       "      <th>4</th>\n",
       "      <td>1</td>\n",
       "      <td>2007-05-03</td>\n",
       "      <td>66</td>\n",
       "      <td>46</td>\n",
       "      <td>56</td>\n",
       "      <td>2</td>\n",
       "      <td>40</td>\n",
       "      <td>48</td>\n",
       "      <td>9</td>\n",
       "      <td>0</td>\n",
       "      <td>...</td>\n",
       "      <td></td>\n",
       "      <td>0</td>\n",
       "      <td>M</td>\n",
       "      <td>0.0</td>\n",
       "      <td>0.00</td>\n",
       "      <td>29.39</td>\n",
       "      <td>30.12</td>\n",
       "      <td>11.7</td>\n",
       "      <td>7</td>\n",
       "      <td>11.9</td>\n",
       "    </tr>\n",
       "    <tr>\n",
       "      <th>5</th>\n",
       "      <td>2</td>\n",
       "      <td>2007-05-03</td>\n",
       "      <td>67</td>\n",
       "      <td>48</td>\n",
       "      <td>58</td>\n",
       "      <td>M</td>\n",
       "      <td>40</td>\n",
       "      <td>50</td>\n",
       "      <td>7</td>\n",
       "      <td>0</td>\n",
       "      <td>...</td>\n",
       "      <td>HZ</td>\n",
       "      <td>M</td>\n",
       "      <td>M</td>\n",
       "      <td>M</td>\n",
       "      <td>0.00</td>\n",
       "      <td>29.46</td>\n",
       "      <td>30.12</td>\n",
       "      <td>12.9</td>\n",
       "      <td>6</td>\n",
       "      <td>13.2</td>\n",
       "    </tr>\n",
       "    <tr>\n",
       "      <th>6</th>\n",
       "      <td>1</td>\n",
       "      <td>2007-05-04</td>\n",
       "      <td>66</td>\n",
       "      <td>49</td>\n",
       "      <td>58</td>\n",
       "      <td>4</td>\n",
       "      <td>41</td>\n",
       "      <td>50</td>\n",
       "      <td>7</td>\n",
       "      <td>0</td>\n",
       "      <td>...</td>\n",
       "      <td>RA</td>\n",
       "      <td>0</td>\n",
       "      <td>M</td>\n",
       "      <td>0.0</td>\n",
       "      <td>T</td>\n",
       "      <td>29.31</td>\n",
       "      <td>30.05</td>\n",
       "      <td>10.4</td>\n",
       "      <td>8</td>\n",
       "      <td>10.8</td>\n",
       "    </tr>\n",
       "    <tr>\n",
       "      <th>7</th>\n",
       "      <td>2</td>\n",
       "      <td>2007-05-04</td>\n",
       "      <td>78</td>\n",
       "      <td>51</td>\n",
       "      <td>M</td>\n",
       "      <td>M</td>\n",
       "      <td>42</td>\n",
       "      <td>50</td>\n",
       "      <td>M</td>\n",
       "      <td>M</td>\n",
       "      <td>...</td>\n",
       "      <td></td>\n",
       "      <td>M</td>\n",
       "      <td>M</td>\n",
       "      <td>M</td>\n",
       "      <td>0.00</td>\n",
       "      <td>29.36</td>\n",
       "      <td>30.04</td>\n",
       "      <td>10.1</td>\n",
       "      <td>7</td>\n",
       "      <td>10.4</td>\n",
       "    </tr>\n",
       "    <tr>\n",
       "      <th>8</th>\n",
       "      <td>1</td>\n",
       "      <td>2007-05-05</td>\n",
       "      <td>66</td>\n",
       "      <td>53</td>\n",
       "      <td>60</td>\n",
       "      <td>5</td>\n",
       "      <td>38</td>\n",
       "      <td>49</td>\n",
       "      <td>5</td>\n",
       "      <td>0</td>\n",
       "      <td>...</td>\n",
       "      <td></td>\n",
       "      <td>0</td>\n",
       "      <td>M</td>\n",
       "      <td>0.0</td>\n",
       "      <td>T</td>\n",
       "      <td>29.40</td>\n",
       "      <td>30.10</td>\n",
       "      <td>11.7</td>\n",
       "      <td>7</td>\n",
       "      <td>12.0</td>\n",
       "    </tr>\n",
       "    <tr>\n",
       "      <th>9</th>\n",
       "      <td>2</td>\n",
       "      <td>2007-05-05</td>\n",
       "      <td>66</td>\n",
       "      <td>54</td>\n",
       "      <td>60</td>\n",
       "      <td>M</td>\n",
       "      <td>39</td>\n",
       "      <td>50</td>\n",
       "      <td>5</td>\n",
       "      <td>0</td>\n",
       "      <td>...</td>\n",
       "      <td></td>\n",
       "      <td>M</td>\n",
       "      <td>M</td>\n",
       "      <td>M</td>\n",
       "      <td>T</td>\n",
       "      <td>29.46</td>\n",
       "      <td>30.09</td>\n",
       "      <td>11.2</td>\n",
       "      <td>7</td>\n",
       "      <td>11.5</td>\n",
       "    </tr>\n",
       "  </tbody>\n",
       "</table>\n",
       "<p>10 rows × 22 columns</p>\n",
       "</div>"
      ],
      "text/plain": [
       "   station       date  tmax  tmin tavg depart  dew_point wet_bulb heat cool  \\\n",
       "0        1 2007-05-01    83    50   67     14         51       56    0    2   \n",
       "1        2 2007-05-01    84    52   68      M         51       57    0    3   \n",
       "2        1 2007-05-02    59    42   51     -3         42       47   14    0   \n",
       "3        2 2007-05-02    60    43   52      M         42       47   13    0   \n",
       "4        1 2007-05-03    66    46   56      2         40       48    9    0   \n",
       "5        2 2007-05-03    67    48   58      M         40       50    7    0   \n",
       "6        1 2007-05-04    66    49   58      4         41       50    7    0   \n",
       "7        2 2007-05-04    78    51    M      M         42       50    M    M   \n",
       "8        1 2007-05-05    66    53   60      5         38       49    5    0   \n",
       "9        2 2007-05-05    66    54   60      M         39       50    5    0   \n",
       "\n",
       "   ... code_sum depth water1 snow_fall precip_total stn_pressure sea_level  \\\n",
       "0  ...              0      M       0.0         0.00        29.10     29.82   \n",
       "1  ...              M      M         M         0.00        29.18     29.82   \n",
       "2  ...       BR     0      M       0.0         0.00        29.38     30.09   \n",
       "3  ...    BR HZ     M      M         M         0.00        29.44     30.08   \n",
       "4  ...              0      M       0.0         0.00        29.39     30.12   \n",
       "5  ...       HZ     M      M         M         0.00        29.46     30.12   \n",
       "6  ...       RA     0      M       0.0            T        29.31     30.05   \n",
       "7  ...              M      M         M         0.00        29.36     30.04   \n",
       "8  ...              0      M       0.0            T        29.40     30.10   \n",
       "9  ...              M      M         M            T        29.46     30.09   \n",
       "\n",
       "  result_speed result_dir  avg_speed  \n",
       "0          1.7         27        9.2  \n",
       "1          2.7         25        9.6  \n",
       "2         13.0          4       13.4  \n",
       "3         13.3          2       13.4  \n",
       "4         11.7          7       11.9  \n",
       "5         12.9          6       13.2  \n",
       "6         10.4          8       10.8  \n",
       "7         10.1          7       10.4  \n",
       "8         11.7          7       12.0  \n",
       "9         11.2          7       11.5  \n",
       "\n",
       "[10 rows x 22 columns]"
      ]
     },
     "execution_count": 22,
     "metadata": {},
     "output_type": "execute_result"
    }
   ],
   "source": [
    "weather.head(10)"
   ]
  },
  {
   "cell_type": "code",
   "execution_count": 23,
   "id": "628b0fbd",
   "metadata": {},
   "outputs": [
    {
     "name": "stdout",
     "output_type": "stream",
     "text": [
      "Number of rows: 2944\n",
      "Number of columns: 22\n",
      "\n",
      "Names of columns in dataset.\n"
     ]
    },
    {
     "data": {
      "text/plain": [
       "Index(['station', 'date', 'tmax', 'tmin', 'tavg', 'depart', 'dew_point',\n",
       "       'wet_bulb', 'heat', 'cool', 'sunrise', 'sunset', 'code_sum', 'depth',\n",
       "       'water1', 'snow_fall', 'precip_total', 'stn_pressure', 'sea_level',\n",
       "       'result_speed', 'result_dir', 'avg_speed'],\n",
       "      dtype='object')"
      ]
     },
     "metadata": {},
     "output_type": "display_data"
    },
    {
     "data": {
      "text/plain": [
       "station                  int64\n",
       "date            datetime64[ns]\n",
       "tmax                     int64\n",
       "tmin                     int64\n",
       "tavg                    object\n",
       "depart                  object\n",
       "dew_point                int64\n",
       "wet_bulb                object\n",
       "heat                    object\n",
       "cool                    object\n",
       "sunrise                 object\n",
       "sunset                  object\n",
       "code_sum                object\n",
       "depth                   object\n",
       "water1                  object\n",
       "snow_fall               object\n",
       "precip_total            object\n",
       "stn_pressure            object\n",
       "sea_level               object\n",
       "result_speed           float64\n",
       "result_dir               int64\n",
       "avg_speed               object\n",
       "dtype: object"
      ]
     },
     "metadata": {},
     "output_type": "display_data"
    },
    {
     "name": "stdout",
     "output_type": "stream",
     "text": [
      "Missing values in dataset\n"
     ]
    },
    {
     "data": {
      "text/plain": [
       "station         0\n",
       "date            0\n",
       "tmax            0\n",
       "tmin            0\n",
       "tavg            0\n",
       "depart          0\n",
       "dew_point       0\n",
       "wet_bulb        0\n",
       "heat            0\n",
       "cool            0\n",
       "sunrise         0\n",
       "sunset          0\n",
       "code_sum        0\n",
       "depth           0\n",
       "water1          0\n",
       "snow_fall       0\n",
       "precip_total    0\n",
       "stn_pressure    0\n",
       "sea_level       0\n",
       "result_speed    0\n",
       "result_dir      0\n",
       "avg_speed       0\n",
       "dtype: int64"
      ]
     },
     "metadata": {},
     "output_type": "display_data"
    },
    {
     "name": "stdout",
     "output_type": "stream",
     "text": [
      "Number of duplicate values in dataset: 0\n"
     ]
    }
   ],
   "source": [
    "df_overview(weather)"
   ]
  },
  {
   "cell_type": "markdown",
   "id": "8c9cca9f",
   "metadata": {},
   "source": [
    "#### Null Values"
   ]
  },
  {
   "cell_type": "markdown",
   "id": "358eeb28",
   "metadata": {},
   "source": [
    "Although there are no null values, they are represented differently as stated in the documentation. \n",
    "\n",
    "'M' = missing values (for e.g. in Tavg column)<br>\n",
    "'-' = missing values (for e.g. in Sunrise column)<br>\n",
    "' ' = moderate (for CodeSum column)<br>\n",
    "'T' = trace values (for e.g. PrecipTotal column)<br>\n"
   ]
  },
  {
   "cell_type": "markdown",
   "id": "dd4e9b3d",
   "metadata": {},
   "source": [
    "Let us look at all the null values again."
   ]
  },
  {
   "cell_type": "code",
   "execution_count": 24,
   "id": "5492aceb",
   "metadata": {},
   "outputs": [
    {
     "data": {
      "text/plain": [
       "water1          2944\n",
       "snow_fall       1484\n",
       "sunset          1472\n",
       "depth           1472\n",
       "depart          1472\n",
       "sunrise         1472\n",
       "precip_total     320\n",
       "tavg              11\n",
       "heat              11\n",
       "cool              11\n",
       "sea_level          9\n",
       "stn_pressure       4\n",
       "wet_bulb           4\n",
       "avg_speed          3\n",
       "code_sum           0\n",
       "date               0\n",
       "dew_point          0\n",
       "tmin               0\n",
       "tmax               0\n",
       "result_speed       0\n",
       "result_dir         0\n",
       "station            0\n",
       "dtype: int64"
      ]
     },
     "execution_count": 24,
     "metadata": {},
     "output_type": "execute_result"
    }
   ],
   "source": [
    "weather.isin(['M', '-', '  T']).sum().sort_values(ascending=False)"
   ]
  },
  {
   "cell_type": "markdown",
   "id": "12831d96",
   "metadata": {},
   "source": [
    "'water1' feature has null values for all rows in the dataset. Hence we will drop this feature."
   ]
  },
  {
   "cell_type": "code",
   "execution_count": 25,
   "id": "962a0640",
   "metadata": {},
   "outputs": [
    {
     "data": {
      "text/plain": [
       "station  snow_fall\n",
       "1        0.0          1459\n",
       "           T            12\n",
       "         0.1             1\n",
       "2        M            1472\n",
       "Name: snow_fall, dtype: int64"
      ]
     },
     "execution_count": 25,
     "metadata": {},
     "output_type": "execute_result"
    }
   ],
   "source": [
    "weather.groupby('station')['snow_fall'].value_counts()"
   ]
  },
  {
   "cell_type": "markdown",
   "id": "b9385f81",
   "metadata": {},
   "source": [
    "Seems that the values from both stations are either missing or 0, or do not provide any useful insights that can help us predict the virus, hence we will drop this feature."
   ]
  },
  {
   "cell_type": "code",
   "execution_count": 26,
   "id": "ec2a3c99",
   "metadata": {},
   "outputs": [
    {
     "data": {
      "text/plain": [
       "station  sunset\n",
       "1        1931        96\n",
       "         1930        56\n",
       "         1929        48\n",
       "         1923        32\n",
       "         1925        32\n",
       "                   ... \n",
       "         1900         8\n",
       "         1901         8\n",
       "         1905         8\n",
       "         1912         8\n",
       "2        -         1472\n",
       "Name: sunset, Length: 119, dtype: int64"
      ]
     },
     "execution_count": 26,
     "metadata": {},
     "output_type": "execute_result"
    }
   ],
   "source": [
    "weather.groupby('station')['sunset'].value_counts()"
   ]
  },
  {
   "cell_type": "markdown",
   "id": "776caf4b",
   "metadata": {},
   "source": [
    "Given any day, the sunset from both weather stations will be the same, hence we will impute based on the time given at one station."
   ]
  },
  {
   "cell_type": "code",
   "execution_count": 27,
   "id": "f08f412e",
   "metadata": {},
   "outputs": [
    {
     "data": {
      "text/plain": [
       "station  depth\n",
       "1        0        1472\n",
       "2        M        1472\n",
       "Name: depth, dtype: int64"
      ]
     },
     "execution_count": 27,
     "metadata": {},
     "output_type": "execute_result"
    }
   ],
   "source": [
    "weather.groupby('station')['depth'].value_counts()"
   ]
  },
  {
   "cell_type": "markdown",
   "id": "56ea6911",
   "metadata": {},
   "source": [
    "'Depth' feature has either 0 or missing values as well for both stations, so we will drop this feature."
   ]
  },
  {
   "cell_type": "code",
   "execution_count": 28,
   "id": "a9f02efe",
   "metadata": {},
   "outputs": [
    {
     "data": {
      "text/plain": [
       "station  depart\n",
       "1         2          93\n",
       "         -1          84\n",
       "         -2          80\n",
       "          5          77\n",
       "          1          76\n",
       "          7          76\n",
       "          3          75\n",
       "          0          74\n",
       "         -3          72\n",
       "          4          71\n",
       "          6          67\n",
       "          8          59\n",
       "         -5          57\n",
       "         -4          56\n",
       "         -6          50\n",
       "          9          47\n",
       "         10          46\n",
       "         -8          43\n",
       "         -7          30\n",
       "         11          28\n",
       "         12          28\n",
       "         -9          25\n",
       "         13          23\n",
       "         -10         22\n",
       "         14          22\n",
       "         15          15\n",
       "         16          12\n",
       "         -11         10\n",
       "         -12          8\n",
       "         17           7\n",
       "         -14          6\n",
       "         18           6\n",
       "         -13          5\n",
       "         19           4\n",
       "         20           4\n",
       "         -15          3\n",
       "         -16          3\n",
       "         22           3\n",
       "         -17          2\n",
       "         21           2\n",
       "         23           1\n",
       "2        M         1472\n",
       "Name: depart, dtype: int64"
      ]
     },
     "execution_count": 28,
     "metadata": {},
     "output_type": "execute_result"
    }
   ],
   "source": [
    "weather.groupby('station')['depart'].value_counts()"
   ]
  },
  {
   "cell_type": "markdown",
   "id": "52c230d3",
   "metadata": {},
   "source": [
    "We can impute station 2's temperature departure from normal based on station's 1 as well."
   ]
  },
  {
   "cell_type": "code",
   "execution_count": 29,
   "id": "186f015c",
   "metadata": {},
   "outputs": [
    {
     "data": {
      "text/plain": [
       "station  sunrise\n",
       "1        0416        104\n",
       "         0417         64\n",
       "         0419         40\n",
       "         0418         32\n",
       "         0420         32\n",
       "                    ... \n",
       "         0619          8\n",
       "         0620          8\n",
       "         0622          8\n",
       "         0623          8\n",
       "2        -          1472\n",
       "Name: sunrise, Length: 122, dtype: int64"
      ]
     },
     "execution_count": 29,
     "metadata": {},
     "output_type": "execute_result"
    }
   ],
   "source": [
    "weather.groupby('station')['sunrise'].value_counts()"
   ]
  },
  {
   "cell_type": "markdown",
   "id": "baf50d1d",
   "metadata": {},
   "source": [
    "Just like sunset, we can impute station 2's sunrise from station 1's values."
   ]
  },
  {
   "cell_type": "code",
   "execution_count": 30,
   "id": "120befac",
   "metadata": {},
   "outputs": [
    {
     "data": {
      "text/plain": [
       "station  precip_total\n",
       "1        0.00            794\n",
       "           T             163\n",
       "         0.01             54\n",
       "         0.02             30\n",
       "         0.03             20\n",
       "                        ... \n",
       "2        3.15              1\n",
       "         3.17              1\n",
       "         3.31              1\n",
       "         3.66              1\n",
       "         4.73              1\n",
       "Name: precip_total, Length: 256, dtype: int64"
      ]
     },
     "execution_count": 30,
     "metadata": {},
     "output_type": "execute_result"
    }
   ],
   "source": [
    "weather.groupby('station')['precip_total'].value_counts()"
   ]
  },
  {
   "cell_type": "markdown",
   "id": "23da05ff",
   "metadata": {},
   "source": [
    "For 'T' values, we will replace with trace value as 0.005."
   ]
  },
  {
   "cell_type": "markdown",
   "id": "72e19510",
   "metadata": {},
   "source": [
    "For 'tavg', 'heat', 'cool', 'sea level', 'stn_pressure', 'wet_bulb', 'avg_speed' features, we will impute based on either the other station's value or other calculations based on other features which will be done in the next section."
   ]
  },
  {
   "cell_type": "markdown",
   "id": "da06c951",
   "metadata": {},
   "source": [
    "As we have analysed, 'water1', 'snow_fall' and 'depth' do not provide us with sufficient information to predict presence of the virus and have too many null values, hence we are dropping these columns."
   ]
  },
  {
   "cell_type": "code",
   "execution_count": 31,
   "id": "e3004116",
   "metadata": {},
   "outputs": [],
   "source": [
    "weather.drop(columns = {'water1', 'snow_fall', 'depth'}, inplace = True)"
   ]
  },
  {
   "cell_type": "markdown",
   "id": "b1d184cb",
   "metadata": {},
   "source": [
    "#### Null Imputation"
   ]
  },
  {
   "cell_type": "markdown",
   "id": "45ed1d4e",
   "metadata": {},
   "source": [
    "Imputing values based on other station's values for the 'sunrise', 'sunset', 'depart' and 'avg_speed' features.\n",
    "\n",
    "For 'sunrise' and 'sunset', we will impute using station 1's value."
   ]
  },
  {
   "cell_type": "code",
   "execution_count": 32,
   "id": "b97b17c5",
   "metadata": {},
   "outputs": [],
   "source": [
    "#function to impute sunrise and sunset based on other station's values\n",
    "def fill_sunrisesunset(row):\n",
    "    \n",
    "    if row['sunrise'] == '-': \n",
    "        row['sunrise'] = weather.loc[(weather['date'] == row['date']) & \\\n",
    "                                    (weather['station'] == 1), 'sunrise'].values[0]\n",
    "    if row['sunset'] == '-':\n",
    "        row['sunset'] = weather.loc[(weather['date'] == row['date']) & \\\n",
    "                                    (weather['station'] == 1), 'sunset'].values[0]\n",
    "    return row"
   ]
  },
  {
   "cell_type": "code",
   "execution_count": 33,
   "id": "27d9cbaf",
   "metadata": {},
   "outputs": [],
   "source": [
    "weather = weather.apply(fill_sunrisesunset, axis=1)"
   ]
  },
  {
   "cell_type": "markdown",
   "id": "dbf5391e",
   "metadata": {},
   "source": [
    "Imputing trace value for 'precip_total' feature."
   ]
  },
  {
   "cell_type": "code",
   "execution_count": 34,
   "id": "0c9a8dd2",
   "metadata": {
    "scrolled": false
   },
   "outputs": [],
   "source": [
    "weather['precip_total'].replace('  T', 0.005, inplace = True)\n",
    "weather['precip_total'].replace('M', 0, inplace = True)"
   ]
  },
  {
   "cell_type": "markdown",
   "id": "46bee021",
   "metadata": {},
   "source": [
    "Impute 'tavg' by taking average of tmax and tmin."
   ]
  },
  {
   "cell_type": "code",
   "execution_count": 35,
   "id": "b199dd99",
   "metadata": {},
   "outputs": [],
   "source": [
    "#function to impute average temperature using tmax and tmin\n",
    "def fill_tavg(row):\n",
    "    if row['tavg'] == 'M':\n",
    "        row['tavg'] = round((row['tmax'] + row['tmin']) / 2)\n",
    "    return row"
   ]
  },
  {
   "cell_type": "code",
   "execution_count": 36,
   "id": "3c9509fc",
   "metadata": {},
   "outputs": [],
   "source": [
    "weather = weather.apply(fill_tavg, axis=1)"
   ]
  },
  {
   "cell_type": "markdown",
   "id": "23888a36",
   "metadata": {},
   "source": [
    "Departure from normal is the difference between the average temperature 'tavg' and the 30 year normal temperature for that day. A minus (-) is number of degrees below normal. A zero (0) indicates that the average for that day was the Normal.\n",
    "\n",
    "Station 1:\n",
    "depart1 + averagetemp1 = 30 year normal\n",
    "\n",
    "Station 2:\n",
    "depart2 + averagetemp2 = 30 year normal\n",
    "\n",
    "depart2 = depart1 + averagetemp1 - averagetemp2\n",
    "\n",
    "To impute the values for 'depart' for Station 2, we will add the values of 'depart' and 'tavg' for Station 1 and subtract the 'tavg' for station 2."
   ]
  },
  {
   "cell_type": "code",
   "execution_count": 37,
   "id": "5d241019",
   "metadata": {},
   "outputs": [],
   "source": [
    "#function to impute depart\n",
    "def fill_depart(row):\n",
    "    if row['station'] == 2:\n",
    "        row['depart'] = int(weather.loc[(weather['date'] == row['date']) &\n",
    "                      (weather['station'] == 1), 'depart']) + int(weather.loc[(weather['date'] == row['date']) &\n",
    "                      (weather['station'] == 1), 'tavg']) - int(row['tavg'])\n",
    "    return row"
   ]
  },
  {
   "cell_type": "code",
   "execution_count": 38,
   "id": "14f8b7ab",
   "metadata": {},
   "outputs": [],
   "source": [
    "weather = weather.apply(fill_depart, axis=1)"
   ]
  },
  {
   "cell_type": "markdown",
   "id": "ae07c157",
   "metadata": {},
   "source": [
    "The 'heating' and 'cooling' features are derived from the taking the difference between the 'tavg' and base temperature of 65 F. If the difference is positive, it is classified as 'heating' and vice versa."
   ]
  },
  {
   "cell_type": "code",
   "execution_count": 39,
   "id": "b117c4ba",
   "metadata": {},
   "outputs": [],
   "source": [
    "#function to impute heat and cool\n",
    "def fill_heatcool(row):\n",
    "    \n",
    "    if row['heat'] == 'M' or row['cool'] == 'M':\n",
    "        \n",
    "        difference = 65 - float(row['tavg'])\n",
    "        \n",
    "        if difference > 0: \n",
    "            row['heat'] = difference\n",
    "            row['cool'] = 0\n",
    "        elif difference < 0:\n",
    "            row['heat'] = 0\n",
    "            row['cool'] = difference\n",
    "        else:\n",
    "            row['heat'] = row['cool'] = 0\n",
    "    \n",
    "    return row"
   ]
  },
  {
   "cell_type": "code",
   "execution_count": 40,
   "id": "39429be6",
   "metadata": {},
   "outputs": [],
   "source": [
    "weather = weather.apply(fill_heatcool, axis=1)"
   ]
  },
  {
   "cell_type": "markdown",
   "id": "f41da2c1",
   "metadata": {},
   "source": [
    "Impute 'sea_level' and 'stn_pressure' by looking at previous day and next day values."
   ]
  },
  {
   "cell_type": "code",
   "execution_count": 41,
   "id": "b4cf801c",
   "metadata": {},
   "outputs": [],
   "source": [
    "#function to impute previous and next day values (for any numerical column)\n",
    "def fill_prevnext(col_name):\n",
    "    for index, row in weather.loc[weather[col_name].isin(['M'])].iterrows():\n",
    "        inter = (float(weather.iloc[(index - 2)][col_name]) + float(weather.iloc[(index + 2)][col_name])) / 2\n",
    "        weather.at[index, col_name] = round(inter, 2) "
   ]
  },
  {
   "cell_type": "code",
   "execution_count": 42,
   "id": "ee463627",
   "metadata": {},
   "outputs": [],
   "source": [
    "fill_prevnext('sea_level')\n",
    "fill_prevnext('stn_pressure')"
   ]
  },
  {
   "cell_type": "markdown",
   "id": "b415a671",
   "metadata": {},
   "source": [
    "Impute avg_speed and wet_bulb based on other station's values."
   ]
  },
  {
   "cell_type": "code",
   "execution_count": 43,
   "id": "c3a5592c",
   "metadata": {},
   "outputs": [],
   "source": [
    "#function to impute average speed and wetbulb based on other station's values\n",
    "def fill_speedwetbulb(row):\n",
    "    if row['avg_speed'] == 'M': \n",
    "        if row['station'] == 1:\n",
    "            row['avg_speed'] = weather.loc[(weather['date'] == row['date']) & \\\n",
    "                                    (weather['station'] == 2), 'avg_speed'].values[0]\n",
    "        else: \n",
    "            row['avg_speed'] = weather.loc[(weather['date'] == row['date']) & \\\n",
    "                                    (weather['station'] == 1), 'avg_speed'].values[0]\n",
    "    if row['wet_bulb'] == 'M': \n",
    "        if row['station'] == 1:\n",
    "            row['wet_bulb'] = weather.loc[(weather['date'] == row['date']) & \\\n",
    "                                    (weather['station'] == 2), 'wet_bulb'].values[0]\n",
    "        else: \n",
    "            row['wet_bulb'] = weather.loc[(weather['date'] == row['date']) & \\\n",
    "                                    (weather['station'] == 1), 'wet_bulb'].values[0]\n",
    "    return row"
   ]
  },
  {
   "cell_type": "code",
   "execution_count": 44,
   "id": "190d3e69",
   "metadata": {},
   "outputs": [],
   "source": [
    "weather = weather.apply(fill_speedwetbulb, axis=1)"
   ]
  },
  {
   "cell_type": "code",
   "execution_count": 45,
   "id": "5d5c33f6",
   "metadata": {},
   "outputs": [
    {
     "data": {
      "text/plain": [
       "station         0\n",
       "date            0\n",
       "tmax            0\n",
       "tmin            0\n",
       "tavg            0\n",
       "depart          0\n",
       "dew_point       0\n",
       "wet_bulb        0\n",
       "heat            0\n",
       "cool            0\n",
       "sunrise         0\n",
       "sunset          0\n",
       "code_sum        0\n",
       "precip_total    0\n",
       "stn_pressure    0\n",
       "sea_level       0\n",
       "result_speed    0\n",
       "result_dir      0\n",
       "avg_speed       0\n",
       "dtype: int64"
      ]
     },
     "execution_count": 45,
     "metadata": {},
     "output_type": "execute_result"
    }
   ],
   "source": [
    "#check if all null values have been imputed\n",
    "weather.isin(['M', '-', '  T']).sum()"
   ]
  },
  {
   "cell_type": "markdown",
   "id": "5f813ffb",
   "metadata": {},
   "source": [
    "**Change datatypes**"
   ]
  },
  {
   "cell_type": "code",
   "execution_count": 46,
   "id": "a4f1a91d",
   "metadata": {},
   "outputs": [],
   "source": [
    "# convert objects to numeric type\n",
    "cols_to_floats = ['tavg', 'precip_total', 'stn_pressure', 'sea_level', 'avg_speed', 'heat', 'cool']\n",
    "cols_to_int = ['wet_bulb', 'sunrise', 'sunset', 'depart']\n",
    "for col in weather.columns:\n",
    "    if col in cols_to_floats:\n",
    "        weather[col] = weather[col].astype(float)\n",
    "    if col in cols_to_int:\n",
    "        weather[col] = weather[col].astype(int)"
   ]
  },
  {
   "cell_type": "code",
   "execution_count": 47,
   "id": "91907d0a",
   "metadata": {},
   "outputs": [
    {
     "data": {
      "text/plain": [
       "station                  int64\n",
       "date            datetime64[ns]\n",
       "tmax                     int64\n",
       "tmin                     int64\n",
       "tavg                   float64\n",
       "depart                   int64\n",
       "dew_point                int64\n",
       "wet_bulb                 int64\n",
       "heat                   float64\n",
       "cool                   float64\n",
       "sunrise                  int64\n",
       "sunset                   int64\n",
       "code_sum                object\n",
       "precip_total           float64\n",
       "stn_pressure           float64\n",
       "sea_level              float64\n",
       "result_speed           float64\n",
       "result_dir               int64\n",
       "avg_speed              float64\n",
       "dtype: object"
      ]
     },
     "execution_count": 47,
     "metadata": {},
     "output_type": "execute_result"
    }
   ],
   "source": [
    "weather.dtypes"
   ]
  },
  {
   "cell_type": "markdown",
   "id": "29f79848",
   "metadata": {},
   "source": [
    "#### Daylight"
   ]
  },
  {
   "cell_type": "markdown",
   "id": "6ac792ac",
   "metadata": {},
   "source": [
    "'sunrise' and 'sunset' features only provide us with the time of the day and do not provide us with insightful information about the daylight in a day. Instead we will create a feature called 'daylight' which is more insightful in explaining the relationships between amount of light and presence of mosquitos in an area. The 'daylight' feature will be in minutes.\n",
    "\n",
    "To do this, we will first convert sunrise and sunset to minutes from start of day, and subtract the values to find the total minutes of daylight."
   ]
  },
  {
   "cell_type": "code",
   "execution_count": 48,
   "id": "8da9ed45",
   "metadata": {},
   "outputs": [],
   "source": [
    "#function to convert time to minutes from 12:00 am\n",
    "def convert_mins(row):\n",
    "    #get hour\n",
    "    hour = row//100\n",
    "    mins = row % 100\n",
    "    total = hour * 60 + mins\n",
    "    return total"
   ]
  },
  {
   "cell_type": "code",
   "execution_count": 49,
   "id": "2f533d16",
   "metadata": {},
   "outputs": [],
   "source": [
    "weather['sunrise'] = weather['sunrise'].apply(convert_mins)\n",
    "weather['sunset'] = weather['sunset'].apply(convert_mins)"
   ]
  },
  {
   "cell_type": "code",
   "execution_count": 50,
   "id": "d0483762",
   "metadata": {},
   "outputs": [],
   "source": [
    "#total daylight experienced in a day\n",
    "weather['daylight'] = weather['sunset'] - weather['sunrise']"
   ]
  },
  {
   "cell_type": "code",
   "execution_count": 51,
   "id": "cbd483ce",
   "metadata": {},
   "outputs": [],
   "source": [
    "weather.drop(columns = {'sunrise', 'sunset'}, inplace = True)"
   ]
  },
  {
   "cell_type": "markdown",
   "id": "35fb91b7",
   "metadata": {},
   "source": [
    "#### Relative Humidity "
   ]
  },
  {
   "cell_type": "markdown",
   "id": "fe08171a",
   "metadata": {},
   "source": [
    "Relative humidity refers to the moisture content (water vapor) in the atmosphere, at constant temperature and pressure."
   ]
  },
  {
   "cell_type": "markdown",
   "id": "fc96e4e9",
   "metadata": {},
   "source": [
    "Relative Humidity = (e(17.625 * temp degC)/ (temp degC +243.04)) / (e(17.625 * dew degC)/ (dew degC +243.04)) * 100"
   ]
  },
  {
   "cell_type": "code",
   "execution_count": 52,
   "id": "f5185a45",
   "metadata": {},
   "outputs": [],
   "source": [
    "#convert tavg and dewpoint to degrees Celsius first\n",
    "tavg_degC = ((weather['tavg'] - 32) * 5 / 9)\n",
    "dew_degC = ((weather['dew_point'] - 32) * 5 / 9)\n",
    "\n",
    "r_humid = np.exp((17.625 * tavg_degC)/(tavg_degC +243.04)) / np.exp((17.625 * dew_degC)/(dew_degC +243.04)) * 100"
   ]
  },
  {
   "cell_type": "code",
   "execution_count": 53,
   "id": "aa9477be",
   "metadata": {},
   "outputs": [],
   "source": [
    "weather['r_humid'] = r_humid"
   ]
  },
  {
   "cell_type": "markdown",
   "id": "c00c2a59",
   "metadata": {},
   "source": [
    "#### Averaging Stations"
   ]
  },
  {
   "cell_type": "markdown",
   "id": "071abaf4",
   "metadata": {},
   "source": [
    "The weather stations provide us with weather information at two different locations. However, as the stations are placed close together, we can use a combined dataset to look at an overview of the weather in the entire targeted area.\n",
    "\n",
    "\n",
    "Therefore, we will merge and take the average from both stations."
   ]
  },
  {
   "cell_type": "code",
   "execution_count": 54,
   "id": "5f7d0070",
   "metadata": {},
   "outputs": [],
   "source": [
    "weather_merged = weather.groupby('date').mean()"
   ]
  },
  {
   "cell_type": "code",
   "execution_count": 55,
   "id": "284db100",
   "metadata": {},
   "outputs": [],
   "source": [
    "weather_merged = weather_merged.reset_index()"
   ]
  },
  {
   "cell_type": "code",
   "execution_count": 56,
   "id": "d113d0b8",
   "metadata": {},
   "outputs": [],
   "source": [
    "weather_merged.drop(columns ='station', inplace = True)"
   ]
  },
  {
   "cell_type": "markdown",
   "id": "5cf61f41",
   "metadata": {},
   "source": [
    "Add CodeSum back into merged dataframe."
   ]
  },
  {
   "cell_type": "markdown",
   "id": "52784d17",
   "metadata": {},
   "source": [
    "Before that we are going to combine the 'codesum' feature values in both stations before we add to the merged dataframe."
   ]
  },
  {
   "cell_type": "code",
   "execution_count": 57,
   "id": "d3c819bc",
   "metadata": {},
   "outputs": [],
   "source": [
    "weather['code_sum'] = weather['code_sum'].str.replace(\"BCFG\",\"BC FG\")\n",
    "weather['code_sum'] = weather['code_sum'].str.replace(\"MIFG\",\"MI FG\")\n",
    "weather['code_sum'] = weather['code_sum'].str.replace(\"TSRA\",\"TS RA\")\n",
    "weather['code_sum'] = weather['code_sum'].str.replace(\"VCFG\",\"VC FG\")\n",
    "weather['code_sum'] = weather['code_sum'].str.replace(\"VCTS\",\"VC TS\")"
   ]
  },
  {
   "cell_type": "code",
   "execution_count": 58,
   "id": "a9990568",
   "metadata": {},
   "outputs": [],
   "source": [
    "#function to combine codesum for both columns\n",
    "def combine_codesum(codesum):\n",
    "    combine = \" \".join(codesum) \n",
    "    combine = combine.split() \n",
    "    distinct = set(combine)\n",
    "    join_list = \" \".join(distinct)\n",
    "    return join_list"
   ]
  },
  {
   "cell_type": "code",
   "execution_count": 59,
   "id": "16f0e87e",
   "metadata": {},
   "outputs": [],
   "source": [
    "combined_codesum = weather.groupby('date')['code_sum'].agg(combine_codesum)"
   ]
  },
  {
   "cell_type": "markdown",
   "id": "08b84ed8",
   "metadata": {},
   "source": [
    "Create dummy variables for codesum using Count Vectorizer."
   ]
  },
  {
   "cell_type": "code",
   "execution_count": 60,
   "id": "1f4660f8",
   "metadata": {},
   "outputs": [],
   "source": [
    "#instantiate count vectorizer and fit code sum list\n",
    "cvec = CountVectorizer(analyzer='word', token_pattern=r'[\\w\\+]+')\n",
    "cs_cvec = cvec.fit_transform(combined_codesum.tolist())"
   ]
  },
  {
   "cell_type": "code",
   "execution_count": 61,
   "id": "b74035a1",
   "metadata": {},
   "outputs": [],
   "source": [
    "#convert to dataframe\n",
    "df = pd.DataFrame(cs_cvec.toarray(), columns=cvec.get_feature_names())"
   ]
  },
  {
   "cell_type": "code",
   "execution_count": 62,
   "id": "6ab6e360",
   "metadata": {},
   "outputs": [],
   "source": [
    "#final weather data\n",
    "weather_final = pd.concat([weather_merged, df.reset_index(drop=True)], axis=1)"
   ]
  },
  {
   "cell_type": "code",
   "execution_count": 63,
   "id": "11a2ad29",
   "metadata": {
    "scrolled": true
   },
   "outputs": [
    {
     "data": {
      "text/html": [
       "<div>\n",
       "<style scoped>\n",
       "    .dataframe tbody tr th:only-of-type {\n",
       "        vertical-align: middle;\n",
       "    }\n",
       "\n",
       "    .dataframe tbody tr th {\n",
       "        vertical-align: top;\n",
       "    }\n",
       "\n",
       "    .dataframe thead th {\n",
       "        text-align: right;\n",
       "    }\n",
       "</style>\n",
       "<table border=\"1\" class=\"dataframe\">\n",
       "  <thead>\n",
       "    <tr style=\"text-align: right;\">\n",
       "      <th></th>\n",
       "      <th>date</th>\n",
       "      <th>tmax</th>\n",
       "      <th>tmin</th>\n",
       "      <th>tavg</th>\n",
       "      <th>depart</th>\n",
       "      <th>dew_point</th>\n",
       "      <th>wet_bulb</th>\n",
       "      <th>heat</th>\n",
       "      <th>cool</th>\n",
       "      <th>precip_total</th>\n",
       "      <th>stn_pressure</th>\n",
       "      <th>sea_level</th>\n",
       "      <th>result_speed</th>\n",
       "      <th>result_dir</th>\n",
       "      <th>avg_speed</th>\n",
       "      <th>daylight</th>\n",
       "      <th>r_humid</th>\n",
       "      <th>bc</th>\n",
       "      <th>br</th>\n",
       "      <th>dz</th>\n",
       "      <th>fg</th>\n",
       "      <th>fg+</th>\n",
       "      <th>fu</th>\n",
       "      <th>gr</th>\n",
       "      <th>hz</th>\n",
       "      <th>mi</th>\n",
       "      <th>ra</th>\n",
       "      <th>sn</th>\n",
       "      <th>sq</th>\n",
       "      <th>ts</th>\n",
       "      <th>vc</th>\n",
       "    </tr>\n",
       "  </thead>\n",
       "  <tbody>\n",
       "    <tr>\n",
       "      <th>0</th>\n",
       "      <td>2007-05-01</td>\n",
       "      <td>83.5</td>\n",
       "      <td>51.0</td>\n",
       "      <td>67.5</td>\n",
       "      <td>13.5</td>\n",
       "      <td>51.0</td>\n",
       "      <td>56.5</td>\n",
       "      <td>0.0</td>\n",
       "      <td>2.5</td>\n",
       "      <td>0.0000</td>\n",
       "      <td>29.140</td>\n",
       "      <td>29.820</td>\n",
       "      <td>2.20</td>\n",
       "      <td>26.0</td>\n",
       "      <td>9.40</td>\n",
       "      <td>841.0</td>\n",
       "      <td>180.290544</td>\n",
       "      <td>0</td>\n",
       "      <td>0</td>\n",
       "      <td>0</td>\n",
       "      <td>0</td>\n",
       "      <td>0</td>\n",
       "      <td>0</td>\n",
       "      <td>0</td>\n",
       "      <td>0</td>\n",
       "      <td>0</td>\n",
       "      <td>0</td>\n",
       "      <td>0</td>\n",
       "      <td>0</td>\n",
       "      <td>0</td>\n",
       "      <td>0</td>\n",
       "    </tr>\n",
       "    <tr>\n",
       "      <th>1</th>\n",
       "      <td>2007-05-02</td>\n",
       "      <td>59.5</td>\n",
       "      <td>42.5</td>\n",
       "      <td>51.5</td>\n",
       "      <td>-3.5</td>\n",
       "      <td>42.0</td>\n",
       "      <td>47.0</td>\n",
       "      <td>13.5</td>\n",
       "      <td>0.0</td>\n",
       "      <td>0.0000</td>\n",
       "      <td>29.410</td>\n",
       "      <td>30.085</td>\n",
       "      <td>13.15</td>\n",
       "      <td>3.0</td>\n",
       "      <td>13.40</td>\n",
       "      <td>843.0</td>\n",
       "      <td>143.099258</td>\n",
       "      <td>0</td>\n",
       "      <td>1</td>\n",
       "      <td>0</td>\n",
       "      <td>0</td>\n",
       "      <td>0</td>\n",
       "      <td>0</td>\n",
       "      <td>0</td>\n",
       "      <td>1</td>\n",
       "      <td>0</td>\n",
       "      <td>0</td>\n",
       "      <td>0</td>\n",
       "      <td>0</td>\n",
       "      <td>0</td>\n",
       "      <td>0</td>\n",
       "    </tr>\n",
       "    <tr>\n",
       "      <th>2</th>\n",
       "      <td>2007-05-03</td>\n",
       "      <td>66.5</td>\n",
       "      <td>47.0</td>\n",
       "      <td>57.0</td>\n",
       "      <td>1.0</td>\n",
       "      <td>40.0</td>\n",
       "      <td>49.0</td>\n",
       "      <td>8.0</td>\n",
       "      <td>0.0</td>\n",
       "      <td>0.0000</td>\n",
       "      <td>29.425</td>\n",
       "      <td>30.120</td>\n",
       "      <td>12.30</td>\n",
       "      <td>6.5</td>\n",
       "      <td>12.55</td>\n",
       "      <td>845.0</td>\n",
       "      <td>189.044811</td>\n",
       "      <td>0</td>\n",
       "      <td>0</td>\n",
       "      <td>0</td>\n",
       "      <td>0</td>\n",
       "      <td>0</td>\n",
       "      <td>0</td>\n",
       "      <td>0</td>\n",
       "      <td>1</td>\n",
       "      <td>0</td>\n",
       "      <td>0</td>\n",
       "      <td>0</td>\n",
       "      <td>0</td>\n",
       "      <td>0</td>\n",
       "      <td>0</td>\n",
       "    </tr>\n",
       "    <tr>\n",
       "      <th>3</th>\n",
       "      <td>2007-05-04</td>\n",
       "      <td>72.0</td>\n",
       "      <td>50.0</td>\n",
       "      <td>61.0</td>\n",
       "      <td>1.0</td>\n",
       "      <td>41.5</td>\n",
       "      <td>50.0</td>\n",
       "      <td>4.0</td>\n",
       "      <td>0.0</td>\n",
       "      <td>0.0025</td>\n",
       "      <td>29.335</td>\n",
       "      <td>30.045</td>\n",
       "      <td>10.25</td>\n",
       "      <td>7.5</td>\n",
       "      <td>10.60</td>\n",
       "      <td>848.0</td>\n",
       "      <td>206.316156</td>\n",
       "      <td>0</td>\n",
       "      <td>0</td>\n",
       "      <td>0</td>\n",
       "      <td>0</td>\n",
       "      <td>0</td>\n",
       "      <td>0</td>\n",
       "      <td>0</td>\n",
       "      <td>0</td>\n",
       "      <td>0</td>\n",
       "      <td>1</td>\n",
       "      <td>0</td>\n",
       "      <td>0</td>\n",
       "      <td>0</td>\n",
       "      <td>0</td>\n",
       "    </tr>\n",
       "    <tr>\n",
       "      <th>4</th>\n",
       "      <td>2007-05-05</td>\n",
       "      <td>66.0</td>\n",
       "      <td>53.5</td>\n",
       "      <td>60.0</td>\n",
       "      <td>5.0</td>\n",
       "      <td>38.5</td>\n",
       "      <td>49.5</td>\n",
       "      <td>5.0</td>\n",
       "      <td>0.0</td>\n",
       "      <td>0.0050</td>\n",
       "      <td>29.430</td>\n",
       "      <td>30.095</td>\n",
       "      <td>11.45</td>\n",
       "      <td>7.0</td>\n",
       "      <td>11.75</td>\n",
       "      <td>850.0</td>\n",
       "      <td>223.086078</td>\n",
       "      <td>0</td>\n",
       "      <td>0</td>\n",
       "      <td>0</td>\n",
       "      <td>0</td>\n",
       "      <td>0</td>\n",
       "      <td>0</td>\n",
       "      <td>0</td>\n",
       "      <td>0</td>\n",
       "      <td>0</td>\n",
       "      <td>0</td>\n",
       "      <td>0</td>\n",
       "      <td>0</td>\n",
       "      <td>0</td>\n",
       "      <td>0</td>\n",
       "    </tr>\n",
       "  </tbody>\n",
       "</table>\n",
       "</div>"
      ],
      "text/plain": [
       "        date  tmax  tmin  tavg  depart  dew_point  wet_bulb  heat  cool  \\\n",
       "0 2007-05-01  83.5  51.0  67.5    13.5       51.0      56.5   0.0   2.5   \n",
       "1 2007-05-02  59.5  42.5  51.5    -3.5       42.0      47.0  13.5   0.0   \n",
       "2 2007-05-03  66.5  47.0  57.0     1.0       40.0      49.0   8.0   0.0   \n",
       "3 2007-05-04  72.0  50.0  61.0     1.0       41.5      50.0   4.0   0.0   \n",
       "4 2007-05-05  66.0  53.5  60.0     5.0       38.5      49.5   5.0   0.0   \n",
       "\n",
       "   precip_total  stn_pressure  sea_level  result_speed  result_dir  avg_speed  \\\n",
       "0        0.0000        29.140     29.820          2.20        26.0       9.40   \n",
       "1        0.0000        29.410     30.085         13.15         3.0      13.40   \n",
       "2        0.0000        29.425     30.120         12.30         6.5      12.55   \n",
       "3        0.0025        29.335     30.045         10.25         7.5      10.60   \n",
       "4        0.0050        29.430     30.095         11.45         7.0      11.75   \n",
       "\n",
       "   daylight     r_humid  bc  br  dz  fg  fg+  fu  gr  hz  mi  ra  sn  sq  ts  \\\n",
       "0     841.0  180.290544   0   0   0   0    0   0   0   0   0   0   0   0   0   \n",
       "1     843.0  143.099258   0   1   0   0    0   0   0   1   0   0   0   0   0   \n",
       "2     845.0  189.044811   0   0   0   0    0   0   0   1   0   0   0   0   0   \n",
       "3     848.0  206.316156   0   0   0   0    0   0   0   0   0   1   0   0   0   \n",
       "4     850.0  223.086078   0   0   0   0    0   0   0   0   0   0   0   0   0   \n",
       "\n",
       "   vc  \n",
       "0   0  \n",
       "1   0  \n",
       "2   0  \n",
       "3   0  \n",
       "4   0  "
      ]
     },
     "execution_count": 63,
     "metadata": {},
     "output_type": "execute_result"
    }
   ],
   "source": [
    "pd.set_option('display.max_columns', None)\n",
    "weather_final.head()"
   ]
  },
  {
   "cell_type": "markdown",
   "id": "a4383337",
   "metadata": {},
   "source": [
    "### Spray Dataset"
   ]
  },
  {
   "cell_type": "markdown",
   "id": "586f2d6f",
   "metadata": {},
   "source": [
    "The spray dataset contains the spraying efforts conducted in 2011 and 2013."
   ]
  },
  {
   "cell_type": "markdown",
   "id": "a7cc1bc3",
   "metadata": {},
   "source": [
    "#### Overview of Spray Dataset"
   ]
  },
  {
   "cell_type": "code",
   "execution_count": 64,
   "id": "513c8714",
   "metadata": {
    "scrolled": true
   },
   "outputs": [
    {
     "name": "stdout",
     "output_type": "stream",
     "text": [
      "Number of rows: 14835\n",
      "Number of columns: 4\n",
      "\n",
      "Names of columns in dataset.\n"
     ]
    },
    {
     "data": {
      "text/plain": [
       "Index(['date', 'time', 'latitude', 'longitude'], dtype='object')"
      ]
     },
     "metadata": {},
     "output_type": "display_data"
    },
    {
     "data": {
      "text/plain": [
       "date         datetime64[ns]\n",
       "time                 object\n",
       "latitude            float64\n",
       "longitude           float64\n",
       "dtype: object"
      ]
     },
     "metadata": {},
     "output_type": "display_data"
    },
    {
     "name": "stdout",
     "output_type": "stream",
     "text": [
      "Missing values in dataset\n"
     ]
    },
    {
     "data": {
      "text/plain": [
       "date           0\n",
       "time         584\n",
       "latitude       0\n",
       "longitude      0\n",
       "dtype: int64"
      ]
     },
     "metadata": {},
     "output_type": "display_data"
    },
    {
     "name": "stdout",
     "output_type": "stream",
     "text": [
      "Number of duplicate values in dataset: 543\n"
     ]
    }
   ],
   "source": [
    "df_overview(spray)"
   ]
  },
  {
   "cell_type": "code",
   "execution_count": 65,
   "id": "7f0b57ed",
   "metadata": {
    "scrolled": true
   },
   "outputs": [
    {
     "data": {
      "image/png": "[encoded data removed]",
      "text/plain": [
       "<Figure size 1080x1080 with 4 Axes>"
      ]
     },
     "metadata": {
      "needs_background": "light"
     },
     "output_type": "display_data"
    }
   ],
   "source": [
    "# Histogram of the dates for the different datasets\n",
    "fig, ax = plt.subplots(4, 1, figsize=(15, 15), sharex=True)\n",
    "df_name = [train, test, spray, weather]\n",
    "title_name = ['train', 'test', 'spray', 'weather']\n",
    "\n",
    "for i, df in enumerate(df_name):\n",
    "    ax[i].hist(df['date'], bins=100)\n",
    "    ax[i].set_title(f'Histogram of Date for {title_name[i]}', size=20)\n",
    "    ax[i].set_xlabel('Year')\n",
    "    ax[i].set_ylabel('Number of observations')\n",
    "plt.tight_layout()"
   ]
  },
  {
   "cell_type": "markdown",
   "id": "b46028a8",
   "metadata": {},
   "source": [
    "We can see that the date collection of datesets are different for the different datasets. Spray dataset has the least number of data. Train and test data collection are mutually exclusive. Weather dataset's dates covered most of the train and test dataset. "
   ]
  },
  {
   "cell_type": "markdown",
   "id": "c9f19934",
   "metadata": {},
   "source": [
    "**Columns to Drop**"
   ]
  },
  {
   "cell_type": "markdown",
   "id": "a184b707",
   "metadata": {},
   "source": [
    "There are missing values in the time feature that we cannot impute and all of our other datasets only consist of Date and not time, we will drop the time feature."
   ]
  },
  {
   "cell_type": "code",
   "execution_count": 66,
   "id": "c53cdce7",
   "metadata": {},
   "outputs": [],
   "source": [
    "spray.drop(columns = 'time', inplace = True)"
   ]
  },
  {
   "cell_type": "markdown",
   "id": "c1a67834",
   "metadata": {},
   "source": [
    "## Exploratory Data Analysis"
   ]
  },
  {
   "cell_type": "markdown",
   "id": "f6791c82",
   "metadata": {},
   "source": [
    "Now that we have cleaned our data, in this section we will conduct EDA on our cleaned datasets. We will explore how the features from the datasets are related to each other and how they influence our target variable."
   ]
  },
  {
   "cell_type": "markdown",
   "id": "88047a65",
   "metadata": {},
   "source": [
    "### Train Dataset"
   ]
  },
  {
   "cell_type": "markdown",
   "id": "56d66dc4",
   "metadata": {},
   "source": [
    "#### Species of Mosquitos"
   ]
  },
  {
   "cell_type": "markdown",
   "id": "4250411a",
   "metadata": {},
   "source": [
    "Let us look at the presence of virus in the different species of mosquitos."
   ]
  },
  {
   "cell_type": "code",
   "execution_count": 67,
   "id": "2848fd27",
   "metadata": {},
   "outputs": [
    {
     "data": {
      "text/html": [
       "<div>\n",
       "<style scoped>\n",
       "    .dataframe tbody tr th:only-of-type {\n",
       "        vertical-align: middle;\n",
       "    }\n",
       "\n",
       "    .dataframe tbody tr th {\n",
       "        vertical-align: top;\n",
       "    }\n",
       "\n",
       "    .dataframe thead th {\n",
       "        text-align: right;\n",
       "    }\n",
       "</style>\n",
       "<table border=\"1\" class=\"dataframe\">\n",
       "  <thead>\n",
       "    <tr style=\"text-align: right;\">\n",
       "      <th></th>\n",
       "      <th>species</th>\n",
       "      <th>num_mosquitos</th>\n",
       "      <th>wnv_present</th>\n",
       "    </tr>\n",
       "  </thead>\n",
       "  <tbody>\n",
       "    <tr>\n",
       "      <th>2</th>\n",
       "      <td>CULEX PIPIENS/RESTUANS</td>\n",
       "      <td>65419</td>\n",
       "      <td>224</td>\n",
       "    </tr>\n",
       "    <tr>\n",
       "      <th>1</th>\n",
       "      <td>CULEX PIPIENS</td>\n",
       "      <td>44305</td>\n",
       "      <td>184</td>\n",
       "    </tr>\n",
       "    <tr>\n",
       "      <th>3</th>\n",
       "      <td>CULEX RESTUANS</td>\n",
       "      <td>23223</td>\n",
       "      <td>48</td>\n",
       "    </tr>\n",
       "    <tr>\n",
       "      <th>6</th>\n",
       "      <td>CULEX TERRITANS</td>\n",
       "      <td>506</td>\n",
       "      <td>0</td>\n",
       "    </tr>\n",
       "    <tr>\n",
       "      <th>4</th>\n",
       "      <td>CULEX SALINARIUS</td>\n",
       "      <td>143</td>\n",
       "      <td>0</td>\n",
       "    </tr>\n",
       "    <tr>\n",
       "      <th>0</th>\n",
       "      <td>CULEX ERRATICUS</td>\n",
       "      <td>7</td>\n",
       "      <td>0</td>\n",
       "    </tr>\n",
       "    <tr>\n",
       "      <th>5</th>\n",
       "      <td>CULEX TARSALIS</td>\n",
       "      <td>7</td>\n",
       "      <td>0</td>\n",
       "    </tr>\n",
       "  </tbody>\n",
       "</table>\n",
       "</div>"
      ],
      "text/plain": [
       "                  species  num_mosquitos  wnv_present\n",
       "2  CULEX PIPIENS/RESTUANS          65419          224\n",
       "1           CULEX PIPIENS          44305          184\n",
       "3          CULEX RESTUANS          23223           48\n",
       "6         CULEX TERRITANS            506            0\n",
       "4        CULEX SALINARIUS            143            0\n",
       "0         CULEX ERRATICUS              7            0\n",
       "5          CULEX TARSALIS              7            0"
      ]
     },
     "execution_count": 67,
     "metadata": {},
     "output_type": "execute_result"
    }
   ],
   "source": [
    "train.groupby('species')\\\n",
    "[['num_mosquitos','wnv_present']].sum().reset_index().sort_values(by='num_mosquitos',ascending=False)"
   ]
  },
  {
   "cell_type": "code",
   "execution_count": 68,
   "id": "94ac5203",
   "metadata": {},
   "outputs": [
    {
     "data": {
      "image/png": "[encoded data removed]",
      "text/plain": [
       "<Figure size 432x288 with 1 Axes>"
      ]
     },
     "metadata": {
      "needs_background": "light"
     },
     "output_type": "display_data"
    }
   ],
   "source": [
    "train.groupby(['species'])[['wnv_present']].mean().plot.barh()\n",
    "plt.title('Barplot of average of West Nile Virus present in each mosquito species', size=15);"
   ]
  },
  {
   "cell_type": "markdown",
   "id": "003d8ecc",
   "metadata": {},
   "source": [
    "Observations show that virus was promininetly found in 3 species, 'Culex Pipiens', 'Culex Pipiens/Restuans' and 'Culex Restuans'. 'Culex Pipiens/Restuans' also had the largest number of mosquitos collected followed by 'Culex Pipens' and 'Culex Pipiens/Restuans'. \n",
    "\n",
    "The graphs above represent the total number of mosquitos and presence of virus for all the years in our dataset. As we see no presence of virus and low number of mosquitos collected for the other species. We will one hot encode these species.\n",
    "\n",
    "0 - All other species\n",
    "1 - Culex Restuans\n",
    "2 - Culex Pipiens/Restuans\n",
    "3 - Culex Pipiens"
   ]
  },
  {
   "cell_type": "code",
   "execution_count": 69,
   "id": "ad28b126",
   "metadata": {},
   "outputs": [],
   "source": [
    "#one hot encoding for top 3 species\n",
    "train['species_ohe'] = train['species'].map(\n",
    "    {'CULEX RESTUANS': 1, 'CULEX PIPIENS/RESTUANS': 2, 'CULEX PIPIENS': 3})\n",
    "#0 for all other species\n",
    "train['species_ohe'].fillna(0, inplace=True)"
   ]
  },
  {
   "cell_type": "markdown",
   "id": "dbddcf87",
   "metadata": {},
   "source": [
    "#### Traps"
   ]
  },
  {
   "cell_type": "markdown",
   "id": "6b571c44",
   "metadata": {},
   "source": [
    "Traps by number of mosquitos collected"
   ]
  },
  {
   "cell_type": "code",
   "execution_count": 70,
   "id": "fb48c10f",
   "metadata": {},
   "outputs": [
    {
     "data": {
      "image/png": "[encoded data removed]",
      "text/plain": [
       "<Figure size 432x288 with 1 Axes>"
      ]
     },
     "metadata": {
      "needs_background": "light"
     },
     "output_type": "display_data"
    }
   ],
   "source": [
    "train.groupby(['trap'])['num_mosquitos'].sum().sort_values(ascending=False).head().plot(kind = 'bar');"
   ]
  },
  {
   "cell_type": "markdown",
   "id": "37775851",
   "metadata": {},
   "source": [
    "Traps by number of times sampled."
   ]
  },
  {
   "cell_type": "code",
   "execution_count": 71,
   "id": "e6880df3",
   "metadata": {},
   "outputs": [
    {
     "data": {
      "image/png": "[encoded data removed]",
      "text/plain": [
       "<Figure size 432x288 with 1 Axes>"
      ]
     },
     "metadata": {
      "needs_background": "light"
     },
     "output_type": "display_data"
    }
   ],
   "source": [
    "train['trap'].value_counts(ascending=False).head(10).plot(kind='bar');"
   ]
  },
  {
   "cell_type": "markdown",
   "id": "29a4eb8f",
   "metadata": {},
   "source": [
    "Traps 'T115' and 'T900' have collected the most number of mosquitos over the years and the 'T900' also seemed to be sampled the most."
   ]
  },
  {
   "cell_type": "code",
   "execution_count": 72,
   "id": "d9788969",
   "metadata": {},
   "outputs": [
    {
     "data": {
      "text/plain": [
       "136"
      ]
     },
     "metadata": {},
     "output_type": "display_data"
    },
    {
     "data": {
      "text/plain": [
       "149"
      ]
     },
     "metadata": {},
     "output_type": "display_data"
    },
    {
     "data": {
      "text/plain": [
       "latitude     138\n",
       "longitude    138\n",
       "dtype: int64"
      ]
     },
     "metadata": {},
     "output_type": "display_data"
    },
    {
     "data": {
      "text/plain": [
       "latitude     151\n",
       "longitude    151\n",
       "dtype: int64"
      ]
     },
     "metadata": {},
     "output_type": "display_data"
    }
   ],
   "source": [
    "display(train.trap.nunique())\n",
    "display(test.trap.nunique())\n",
    "display(train.loc[:, ('latitude', 'longitude')].nunique())\n",
    "display(test.loc[:, ('latitude', 'longitude')].nunique())"
   ]
  },
  {
   "cell_type": "code",
   "execution_count": 73,
   "id": "d8f62a72",
   "metadata": {},
   "outputs": [
    {
     "data": {
      "text/plain": [
       "{'T002A',\n",
       " 'T002B',\n",
       " 'T065A',\n",
       " 'T090A',\n",
       " 'T090B',\n",
       " 'T090C',\n",
       " 'T128A',\n",
       " 'T200A',\n",
       " 'T200B',\n",
       " 'T218A',\n",
       " 'T218B',\n",
       " 'T218C',\n",
       " 'T234'}"
      ]
     },
     "execution_count": 73,
     "metadata": {},
     "output_type": "execute_result"
    }
   ],
   "source": [
    "set(test['trap'].unique()) ^ set(train['trap'].unique())"
   ]
  },
  {
   "cell_type": "markdown",
   "id": "d05de1cb",
   "metadata": {},
   "source": [
    "The number of traps and the exact location that we have do not match. As traps are not in the same position, traps would be drop. In addtion, test and train dataset have different trap numbers as well."
   ]
  },
  {
   "cell_type": "code",
   "execution_count": 74,
   "id": "48ff992e",
   "metadata": {},
   "outputs": [],
   "source": [
    "train['year'] = train['date'].apply(lambda x: x.year)\n",
    "train['month'] = train['date'].apply(lambda x: x.month)"
   ]
  },
  {
   "cell_type": "code",
   "execution_count": 75,
   "id": "f996884b",
   "metadata": {},
   "outputs": [
    {
     "data": {
      "image/png": "[encoded data removed]",
      "text/plain": [
       "<Figure size 1080x1449.89 with 4 Axes>"
      ]
     },
     "metadata": {},
     "output_type": "display_data"
    }
   ],
   "source": [
    "# Code is adapted from: https://www.kaggle.com/jbobtaylor/show-map-image-in-python\n",
    "mapdata = np.loadtxt(\"../datasets//mapdata_copyright_openstreetmap_contributors.txt\")\n",
    "aspect = mapdata.shape[0] * 1.0 / mapdata.shape[1]\n",
    "\n",
    "# trap locations in latitude and longitudes\n",
    "trap_loc = train.drop_duplicates('trap')[['trap','longitude', 'latitude', 'wnv_present']]\n",
    "\n",
    "# to create the map boundaries\n",
    "min_lon = trap_loc['longitude'].min() - 0.05\n",
    "max_lon = trap_loc['longitude'].max() + 0.05\n",
    "min_lat = trap_loc['latitude'].min() - 0.025\n",
    "max_lat = trap_loc['latitude'].max() + 0.025\n",
    "\n",
    "lon_lat_box = (min_lon, max_lon, min_lat, max_lat)\n",
    "\n",
    "fig, ax = plt.subplots(ncols=4, nrows=1, figsize=(15, 15*aspect), sharey=True, sharex=True)\n",
    "# fig.suptitle(\"Traps with virus every year\")\n",
    "\n",
    "for i, year in enumerate(train['year'].unique()):\n",
    "    trap_loc = train[train['year'] == year].drop_duplicates('trap')[['trap','longitude', 'latitude', 'wnv_present']]\n",
    "\n",
    "    trap_virus_present = train[(train['year'] == year) & (train['wnv_present'] > 0)].groupby('trap')[\n",
    "                        ['wnv_present']].mean().sort_values(by='wnv_present', ascending=False)\n",
    "    \n",
    "    df = pd.merge(trap_loc.drop(columns='wnv_present'), trap_virus_present, on='trap')\n",
    "\n",
    "    locations = trap_loc[['longitude', 'latitude']].drop_duplicates().values\n",
    "\n",
    "    ax[i].imshow(mapdata,\n",
    "               cmap=plt.get_cmap('gray'), \n",
    "               extent=lon_lat_box, \n",
    "               aspect=aspect,\n",
    "               alpha=0.7)\n",
    "    \n",
    "    ax[i].scatter(locations[:,0], locations[:,1], marker='x', s=70)\n",
    "    ax[i].scatter(df.values[:, 1], df.values[:, 2], marker='o', s=30) # , cmap='coolwarm'\n",
    "    \n",
    "    # for i in range(df.shape[0]):\n",
    "    #     plt.text(df.values[i, 1], df.values[i, 2], df.values[i, 0])\n",
    "\n",
    "    ax[i].set_xticks([])\n",
    "    ax[i].set_yticks([])\n",
    "    \n",
    "    ax[i].title.set_text(year)\n",
    "plt.tight_layout()"
   ]
  },
  {
   "cell_type": "markdown",
   "id": "19a0e7d3",
   "metadata": {},
   "source": [
    "The above plot shows all the traps vs the traps where virus was detected across the years. 2007 and 2013 saw the outbreak of virus while in 2009 and 2011, it was relatively low."
   ]
  },
  {
   "cell_type": "code",
   "execution_count": 76,
   "id": "1fce1f27",
   "metadata": {},
   "outputs": [],
   "source": [
    "train.drop(columns = 'trap', inplace = True)"
   ]
  },
  {
   "cell_type": "markdown",
   "id": "cb6a86bd",
   "metadata": {},
   "source": [
    "### Weather Dataset"
   ]
  },
  {
   "cell_type": "code",
   "execution_count": 77,
   "id": "be1312b6",
   "metadata": {},
   "outputs": [
    {
     "data": {
      "image/png": "[encoded data removed]",
      "text/plain": [
       "<Figure size 1800x1296 with 2 Axes>"
      ]
     },
     "metadata": {
      "needs_background": "light"
     },
     "output_type": "display_data"
    }
   ],
   "source": [
    "# correlation in weather dataset\n",
    "plt.figure(figsize=(25,18))\n",
    "mask = np.triu(weather_final.corr())\n",
    "sns.heatmap(weather_final.corr(), annot=True, mask=mask);\n",
    "plt.title('Heatmap of weather dataset', size=15);"
   ]
  },
  {
   "cell_type": "markdown",
   "id": "ef895b8d",
   "metadata": {},
   "source": [
    "#### Rolling Features"
   ]
  },
  {
   "cell_type": "markdown",
   "id": "a6cb298a",
   "metadata": {},
   "source": [
    "Our research shows that breeding cycles are significantly affected by small changes in temperature. For example, the lifecycle of a culex mosquito that takes 14 days at 70° F takes only 10 days at 80° F. (https://www.mosquito.org/page/lifecycle) -> we can use better articles for citation. \n",
    "\n",
    "We will look into the rolling average for the following features.\n",
    "\n",
    "1. 'tavg' which refers to the average temperature\n",
    "\n",
    "2. 'precip_total' which refers to total precipitation\n",
    "\n",
    "3. 'r_humid' which refers to relative humidity"
   ]
  },
  {
   "cell_type": "code",
   "execution_count": 78,
   "id": "fde79d99",
   "metadata": {},
   "outputs": [],
   "source": [
    "features = ['tavg', 'precip_total', 'r_humid']\n",
    "lag_days = [5, 10, 14, 28]\n",
    "\n",
    "for feature in features:\n",
    "    for days in lag_days:\n",
    "        weather_final[feature+'_'+ str(days)] = weather_final[feature].rolling(days).mean()"
   ]
  },
  {
   "cell_type": "markdown",
   "id": "52bcbc7e",
   "metadata": {},
   "source": [
    "### Spray Dataset"
   ]
  },
  {
   "cell_type": "markdown",
   "id": "f8ff8ad3",
   "metadata": {},
   "source": [
    "Sid, you can insert your codes here with the map"
   ]
  },
  {
   "cell_type": "code",
   "execution_count": 79,
   "id": "303aea94",
   "metadata": {},
   "outputs": [
    {
     "data": {
      "text/plain": [
       "array(['2011-08-29T00:00:00.000000000', '2011-09-07T00:00:00.000000000',\n",
       "       '2013-07-17T00:00:00.000000000', '2013-07-25T00:00:00.000000000',\n",
       "       '2013-08-08T00:00:00.000000000', '2013-08-15T00:00:00.000000000',\n",
       "       '2013-08-16T00:00:00.000000000', '2013-08-22T00:00:00.000000000',\n",
       "       '2013-08-29T00:00:00.000000000', '2013-09-05T00:00:00.000000000'],\n",
       "      dtype='datetime64[ns]')"
      ]
     },
     "execution_count": 79,
     "metadata": {},
     "output_type": "execute_result"
    }
   ],
   "source": [
    "# dates for which spray data is available\n",
    "spray['date'].unique()"
   ]
  },
  {
   "cell_type": "markdown",
   "id": "a4234881",
   "metadata": {},
   "source": [
    "There are only 2 dates in 2011 and 8 dates in 2013 on which the city has some spray data on. The spray is supposed to reduce the growth/population of the mosquito, as cited [here](https://www.cdc.gov/westnile/vectorcontrol/aerial-spraying.html). Let's see if that is what actually happens."
   ]
  },
  {
   "cell_type": "code",
   "execution_count": 80,
   "id": "e5b969aa",
   "metadata": {},
   "outputs": [],
   "source": [
    "spray['year'] = spray['date'].apply(lambda x: x.year)\n",
    "spray['month'] = spray['date'].apply(lambda x: x.month)"
   ]
  },
  {
   "cell_type": "code",
   "execution_count": 81,
   "id": "b688cfa7",
   "metadata": {},
   "outputs": [],
   "source": [
    "# plot the 2011 number of mosquito count with spray dates\n",
    "def plot_spray_data(year):\n",
    "    plt.figure(figsize=(15, 5))\n",
    "    plt.title(f\"Number of Mosquitos in {year} with spray dates\", fontdict={'fontsize': 16})\n",
    "    plt.plot(train[train['year'] == year].groupby('date')['num_mosquitos'].sum())\n",
    "    for date in spray[spray['year'] == year]['date'].unique():\n",
    "        plt.axvline(x=date, ls='--', color='k')"
   ]
  },
  {
   "cell_type": "code",
   "execution_count": 82,
   "id": "c9cc9871",
   "metadata": {},
   "outputs": [
    {
     "data": {
      "image/png": "[encoded data removed]",
      "text/plain": [
       "<Figure size 1080x360 with 1 Axes>"
      ]
     },
     "metadata": {
      "needs_background": "light"
     },
     "output_type": "display_data"
    }
   ],
   "source": [
    "plot_spray_data(2011)"
   ]
  },
  {
   "cell_type": "code",
   "execution_count": 83,
   "id": "0fc79552",
   "metadata": {},
   "outputs": [
    {
     "data": {
      "image/png": "[encoded data removed]",
      "text/plain": [
       "<Figure size 1080x360 with 1 Axes>"
      ]
     },
     "metadata": {
      "needs_background": "light"
     },
     "output_type": "display_data"
    }
   ],
   "source": [
    "plot_spray_data(2013)"
   ]
  },
  {
   "cell_type": "markdown",
   "id": "2a51f6dc",
   "metadata": {},
   "source": [
    "As we can see from the two plots, it cannot be conclusively said that the spraying had any direct effect on the mosquito population. Although, it must be noted that these are the total number of mosquitos and it would make sense to plot the spray data vs mosquito population based on location where it was sprayed."
   ]
  },
  {
   "cell_type": "markdown",
   "id": "8c8ec4c1",
   "metadata": {},
   "source": [
    "Description:\n",
    "\n",
    "- Spray was only done on 2 years and certain dates\n",
    "- Epidemic in 2002\n",
    "- Gov Tech article :'This risk is why the Chicago Department for Public Health (CDPH) established a surveillance and control program in 2004, which includes annual spraying.'\n",
    "- Annual spraying since 2004, but we only have data set from 2011 and 2013\n",
    "- Will not use spray in model\n",
    "\n",
    "https://www.ncbi.nlm.nih.gov/pmc/articles/PMC3322011/\n",
    "https://www.govtech.com/analytics/chicago-turns-to-predictive-analytics-to-map-west-nile-threat.html"
   ]
  },
  {
   "cell_type": "code",
   "execution_count": 84,
   "id": "06836663",
   "metadata": {},
   "outputs": [],
   "source": [
    "train.drop(columns=['year', 'month'], inplace=True)\n",
    "spray.drop(columns=['year', 'month'], inplace=True)"
   ]
  },
  {
   "cell_type": "markdown",
   "id": "d0181529",
   "metadata": {},
   "source": [
    "### Merged Dataset"
   ]
  },
  {
   "cell_type": "code",
   "execution_count": 85,
   "id": "f3edc903",
   "metadata": {},
   "outputs": [],
   "source": [
    "#merging train and weather\n",
    "combined = pd.merge(train, weather_final, on='date').drop(columns=['species'])"
   ]
  },
  {
   "cell_type": "code",
   "execution_count": 86,
   "id": "b8a67f38",
   "metadata": {},
   "outputs": [],
   "source": [
    "# split date into day, week, month and year for weather\n",
    "combined['year'] = combined['date'].dt.year\n",
    "combined['month'] = combined['date'].dt.month\n",
    "combined['week'] = combined['date'].dt.isocalendar().week\n",
    "combined['day'] = combined['date'].dt.dayofweek"
   ]
  },
  {
   "cell_type": "code",
   "execution_count": 87,
   "id": "cc6a4bfc",
   "metadata": {
    "scrolled": true
   },
   "outputs": [
    {
     "data": {
      "image/png": "[encoded data removed]",
      "text/plain": [
       "<Figure size 1008x360 with 1 Axes>"
      ]
     },
     "metadata": {},
     "output_type": "display_data"
    }
   ],
   "source": [
    "# % Wnv present during the different months\n",
    "sns.set(rc={'figure.figsize':(14,5)})\n",
    "sns.lineplot(data=combined, x='month',\n",
    "             y='wnv_present', ci=None).set(title='Line plot of Wnv present across the months');"
   ]
  },
  {
   "cell_type": "markdown",
   "id": "11f97c34",
   "metadata": {},
   "source": [
    "We see that in the month of August, there are higher number of WNV present."
   ]
  },
  {
   "cell_type": "code",
   "execution_count": 88,
   "id": "68b1ab3b",
   "metadata": {
    "scrolled": true
   },
   "outputs": [
    {
     "data": {
      "image/png": "[encoded data removed]",
      "text/plain": [
       "<Figure size 1008x360 with 1 Axes>"
      ]
     },
     "metadata": {},
     "output_type": "display_data"
    }
   ],
   "source": [
    "# % Wnv present during the different years\n",
    "sns.set(rc={'figure.figsize':(14,5)})\n",
    "sns.lineplot(data=combined, x='year', \n",
    "             y='wnv_present', ci=None).set(title='Line plot of Wnv present across the years');"
   ]
  },
  {
   "cell_type": "markdown",
   "id": "282d09fc",
   "metadata": {},
   "source": [
    "Presence of WNV dip from 2007 to 2009. However, its started to increase after 2009 and at a higher rate from 2011."
   ]
  },
  {
   "cell_type": "code",
   "execution_count": 89,
   "id": "0aff8265",
   "metadata": {},
   "outputs": [
    {
     "data": {
      "image/png": "[encoded data removed]",
      "text/plain": [
       "<Figure size 1008x360 with 1 Axes>"
      ]
     },
     "metadata": {},
     "output_type": "display_data"
    }
   ],
   "source": [
    "# % Wnv present during the different days\n",
    "sns.set(rc={'figure.figsize':(14,5)})\n",
    "sns.barplot(data=combined, \n",
    "            x='day', y='wnv_present', ci=None).set(title='Bar plot of Wnv present across the days');"
   ]
  },
  {
   "cell_type": "markdown",
   "id": "9dd000ed",
   "metadata": {},
   "source": [
    "Legend:<br>\n",
    "Day 0: Monday <br>\n",
    "Day 1: Tuesday<br>\n",
    "Day 2: Wednesday<br>\n",
    "Day 3: Thursday<br>\n",
    "Day 4: Friday<br>\n",
    "Day 5: Saturday<br>\n",
    "Day 6: Sunday<br>"
   ]
  },
  {
   "cell_type": "markdown",
   "id": "f366fbce",
   "metadata": {},
   "source": [
    "Presence of WNV peaks on Wednesday, followed by Thursday and then Tuesday. There are no data on Saturday and Sunday as probably no data collection has been done due to the weekends."
   ]
  },
  {
   "cell_type": "markdown",
   "id": "bbd0f3fb",
   "metadata": {},
   "source": [
    "Top 20 Features that are correlated to Presence of Virus"
   ]
  },
  {
   "cell_type": "code",
   "execution_count": 90,
   "id": "52b96e29",
   "metadata": {},
   "outputs": [
    {
     "data": {
      "text/html": [
       "<div>\n",
       "<style scoped>\n",
       "    .dataframe tbody tr th:only-of-type {\n",
       "        vertical-align: middle;\n",
       "    }\n",
       "\n",
       "    .dataframe tbody tr th {\n",
       "        vertical-align: top;\n",
       "    }\n",
       "\n",
       "    .dataframe thead th {\n",
       "        text-align: right;\n",
       "    }\n",
       "</style>\n",
       "<table border=\"1\" class=\"dataframe\">\n",
       "  <thead>\n",
       "    <tr style=\"text-align: right;\">\n",
       "      <th></th>\n",
       "      <th>wnv_present</th>\n",
       "    </tr>\n",
       "  </thead>\n",
       "  <tbody>\n",
       "    <tr>\n",
       "      <th>num_mosquitos</th>\n",
       "      <td>0.232540</td>\n",
       "    </tr>\n",
       "    <tr>\n",
       "      <th>tavg_28</th>\n",
       "      <td>0.130653</td>\n",
       "    </tr>\n",
       "    <tr>\n",
       "      <th>species_ohe</th>\n",
       "      <td>0.126857</td>\n",
       "    </tr>\n",
       "    <tr>\n",
       "      <th>r_humid_14</th>\n",
       "      <td>0.107357</td>\n",
       "    </tr>\n",
       "    <tr>\n",
       "      <th>week</th>\n",
       "      <td>0.100982</td>\n",
       "    </tr>\n",
       "    <tr>\n",
       "      <th>tavg_14</th>\n",
       "      <td>0.099624</td>\n",
       "    </tr>\n",
       "    <tr>\n",
       "      <th>month</th>\n",
       "      <td>0.098732</td>\n",
       "    </tr>\n",
       "    <tr>\n",
       "      <th>dew_point</th>\n",
       "      <td>0.094955</td>\n",
       "    </tr>\n",
       "    <tr>\n",
       "      <th>r_humid_10</th>\n",
       "      <td>0.092391</td>\n",
       "    </tr>\n",
       "    <tr>\n",
       "      <th>wet_bulb</th>\n",
       "      <td>0.092374</td>\n",
       "    </tr>\n",
       "    <tr>\n",
       "      <th>tmin</th>\n",
       "      <td>0.089461</td>\n",
       "    </tr>\n",
       "    <tr>\n",
       "      <th>r_humid_5</th>\n",
       "      <td>0.087661</td>\n",
       "    </tr>\n",
       "    <tr>\n",
       "      <th>tavg_10</th>\n",
       "      <td>0.084530</td>\n",
       "    </tr>\n",
       "    <tr>\n",
       "      <th>tavg</th>\n",
       "      <td>0.079284</td>\n",
       "    </tr>\n",
       "    <tr>\n",
       "      <th>r_humid_28</th>\n",
       "      <td>0.078190</td>\n",
       "    </tr>\n",
       "    <tr>\n",
       "      <th>fg</th>\n",
       "      <td>0.077732</td>\n",
       "    </tr>\n",
       "    <tr>\n",
       "      <th>cool</th>\n",
       "      <td>0.076403</td>\n",
       "    </tr>\n",
       "    <tr>\n",
       "      <th>longitude</th>\n",
       "      <td>0.076109</td>\n",
       "    </tr>\n",
       "    <tr>\n",
       "      <th>tavg_5</th>\n",
       "      <td>0.074395</td>\n",
       "    </tr>\n",
       "    <tr>\n",
       "      <th>daylight</th>\n",
       "      <td>0.072849</td>\n",
       "    </tr>\n",
       "  </tbody>\n",
       "</table>\n",
       "</div>"
      ],
      "text/plain": [
       "               wnv_present\n",
       "num_mosquitos     0.232540\n",
       "tavg_28           0.130653\n",
       "species_ohe       0.126857\n",
       "r_humid_14        0.107357\n",
       "week              0.100982\n",
       "tavg_14           0.099624\n",
       "month             0.098732\n",
       "dew_point         0.094955\n",
       "r_humid_10        0.092391\n",
       "wet_bulb          0.092374\n",
       "tmin              0.089461\n",
       "r_humid_5         0.087661\n",
       "tavg_10           0.084530\n",
       "tavg              0.079284\n",
       "r_humid_28        0.078190\n",
       "fg                0.077732\n",
       "cool              0.076403\n",
       "longitude         0.076109\n",
       "tavg_5            0.074395\n",
       "daylight          0.072849"
      ]
     },
     "execution_count": 90,
     "metadata": {},
     "output_type": "execute_result"
    }
   ],
   "source": [
    "combined.corr()[['wnv_present']].abs().sort_values('wnv_present',ascending=False)[1:21]"
   ]
  },
  {
   "cell_type": "markdown",
   "id": "35fbb249",
   "metadata": {},
   "source": [
    "Although the number of mosquitos has the highest correlation with the presence of virus, this feature is not a strong indicator of the presence of virus as there is no consistency between the number of mosquitos found in the traps over the years. Additionally, this feature is also not present in our test dataset, hence we will drop this feature. "
   ]
  },
  {
   "cell_type": "code",
   "execution_count": 91,
   "id": "1593cfdb",
   "metadata": {},
   "outputs": [],
   "source": [
    "combined.drop(columns='num_mosquitos', inplace=True)"
   ]
  },
  {
   "cell_type": "code",
   "execution_count": 92,
   "id": "def6c14d",
   "metadata": {},
   "outputs": [
    {
     "data": {
      "text/html": [
       "<div>\n",
       "<style scoped>\n",
       "    .dataframe tbody tr th:only-of-type {\n",
       "        vertical-align: middle;\n",
       "    }\n",
       "\n",
       "    .dataframe tbody tr th {\n",
       "        vertical-align: top;\n",
       "    }\n",
       "\n",
       "    .dataframe thead th {\n",
       "        text-align: right;\n",
       "    }\n",
       "</style>\n",
       "<table border=\"1\" class=\"dataframe\">\n",
       "  <thead>\n",
       "    <tr style=\"text-align: right;\">\n",
       "      <th></th>\n",
       "      <th>date</th>\n",
       "      <th>latitude</th>\n",
       "      <th>longitude</th>\n",
       "      <th>wnv_present</th>\n",
       "      <th>species_ohe</th>\n",
       "      <th>tmax</th>\n",
       "      <th>tmin</th>\n",
       "      <th>tavg</th>\n",
       "      <th>depart</th>\n",
       "      <th>dew_point</th>\n",
       "      <th>wet_bulb</th>\n",
       "      <th>heat</th>\n",
       "      <th>cool</th>\n",
       "      <th>precip_total</th>\n",
       "      <th>stn_pressure</th>\n",
       "      <th>sea_level</th>\n",
       "      <th>result_speed</th>\n",
       "      <th>result_dir</th>\n",
       "      <th>avg_speed</th>\n",
       "      <th>daylight</th>\n",
       "      <th>r_humid</th>\n",
       "      <th>bc</th>\n",
       "      <th>br</th>\n",
       "      <th>dz</th>\n",
       "      <th>fg</th>\n",
       "      <th>fg+</th>\n",
       "      <th>fu</th>\n",
       "      <th>gr</th>\n",
       "      <th>hz</th>\n",
       "      <th>mi</th>\n",
       "      <th>ra</th>\n",
       "      <th>sn</th>\n",
       "      <th>sq</th>\n",
       "      <th>ts</th>\n",
       "      <th>vc</th>\n",
       "      <th>tavg_5</th>\n",
       "      <th>tavg_10</th>\n",
       "      <th>tavg_14</th>\n",
       "      <th>tavg_28</th>\n",
       "      <th>precip_total_5</th>\n",
       "      <th>precip_total_10</th>\n",
       "      <th>precip_total_14</th>\n",
       "      <th>precip_total_28</th>\n",
       "      <th>r_humid_5</th>\n",
       "      <th>r_humid_10</th>\n",
       "      <th>r_humid_14</th>\n",
       "      <th>r_humid_28</th>\n",
       "      <th>year</th>\n",
       "      <th>month</th>\n",
       "      <th>week</th>\n",
       "      <th>day</th>\n",
       "    </tr>\n",
       "  </thead>\n",
       "  <tbody>\n",
       "    <tr>\n",
       "      <th>0</th>\n",
       "      <td>2007-05-29</td>\n",
       "      <td>41.731922</td>\n",
       "      <td>-87.677512</td>\n",
       "      <td>0</td>\n",
       "      <td>3.0</td>\n",
       "      <td>88.0</td>\n",
       "      <td>62.5</td>\n",
       "      <td>75.5</td>\n",
       "      <td>8.5</td>\n",
       "      <td>58.5</td>\n",
       "      <td>65.5</td>\n",
       "      <td>0.0</td>\n",
       "      <td>10.5</td>\n",
       "      <td>0.0</td>\n",
       "      <td>29.415</td>\n",
       "      <td>30.10</td>\n",
       "      <td>5.80</td>\n",
       "      <td>17.0</td>\n",
       "      <td>6.95</td>\n",
       "      <td>896.0</td>\n",
       "      <td>179.994268</td>\n",
       "      <td>0</td>\n",
       "      <td>1</td>\n",
       "      <td>0</td>\n",
       "      <td>0</td>\n",
       "      <td>0</td>\n",
       "      <td>0</td>\n",
       "      <td>0</td>\n",
       "      <td>1</td>\n",
       "      <td>0</td>\n",
       "      <td>0</td>\n",
       "      <td>0</td>\n",
       "      <td>0</td>\n",
       "      <td>0</td>\n",
       "      <td>0</td>\n",
       "      <td>65.6</td>\n",
       "      <td>67.25</td>\n",
       "      <td>64.678571</td>\n",
       "      <td>63.714286</td>\n",
       "      <td>0.151</td>\n",
       "      <td>0.08575</td>\n",
       "      <td>0.06875</td>\n",
       "      <td>0.055000</td>\n",
       "      <td>172.671291</td>\n",
       "      <td>196.319405</td>\n",
       "      <td>208.835422</td>\n",
       "      <td>207.239818</td>\n",
       "      <td>2007</td>\n",
       "      <td>5</td>\n",
       "      <td>22</td>\n",
       "      <td>1</td>\n",
       "    </tr>\n",
       "    <tr>\n",
       "      <th>1</th>\n",
       "      <td>2007-05-29</td>\n",
       "      <td>41.954690</td>\n",
       "      <td>-87.800991</td>\n",
       "      <td>0</td>\n",
       "      <td>2.0</td>\n",
       "      <td>88.0</td>\n",
       "      <td>62.5</td>\n",
       "      <td>75.5</td>\n",
       "      <td>8.5</td>\n",
       "      <td>58.5</td>\n",
       "      <td>65.5</td>\n",
       "      <td>0.0</td>\n",
       "      <td>10.5</td>\n",
       "      <td>0.0</td>\n",
       "      <td>29.415</td>\n",
       "      <td>30.10</td>\n",
       "      <td>5.80</td>\n",
       "      <td>17.0</td>\n",
       "      <td>6.95</td>\n",
       "      <td>896.0</td>\n",
       "      <td>179.994268</td>\n",
       "      <td>0</td>\n",
       "      <td>1</td>\n",
       "      <td>0</td>\n",
       "      <td>0</td>\n",
       "      <td>0</td>\n",
       "      <td>0</td>\n",
       "      <td>0</td>\n",
       "      <td>1</td>\n",
       "      <td>0</td>\n",
       "      <td>0</td>\n",
       "      <td>0</td>\n",
       "      <td>0</td>\n",
       "      <td>0</td>\n",
       "      <td>0</td>\n",
       "      <td>65.6</td>\n",
       "      <td>67.25</td>\n",
       "      <td>64.678571</td>\n",
       "      <td>63.714286</td>\n",
       "      <td>0.151</td>\n",
       "      <td>0.08575</td>\n",
       "      <td>0.06875</td>\n",
       "      <td>0.055000</td>\n",
       "      <td>172.671291</td>\n",
       "      <td>196.319405</td>\n",
       "      <td>208.835422</td>\n",
       "      <td>207.239818</td>\n",
       "      <td>2007</td>\n",
       "      <td>5</td>\n",
       "      <td>22</td>\n",
       "      <td>1</td>\n",
       "    </tr>\n",
       "    <tr>\n",
       "      <th>2</th>\n",
       "      <td>2007-05-29</td>\n",
       "      <td>41.974089</td>\n",
       "      <td>-87.824812</td>\n",
       "      <td>0</td>\n",
       "      <td>2.0</td>\n",
       "      <td>88.0</td>\n",
       "      <td>62.5</td>\n",
       "      <td>75.5</td>\n",
       "      <td>8.5</td>\n",
       "      <td>58.5</td>\n",
       "      <td>65.5</td>\n",
       "      <td>0.0</td>\n",
       "      <td>10.5</td>\n",
       "      <td>0.0</td>\n",
       "      <td>29.415</td>\n",
       "      <td>30.10</td>\n",
       "      <td>5.80</td>\n",
       "      <td>17.0</td>\n",
       "      <td>6.95</td>\n",
       "      <td>896.0</td>\n",
       "      <td>179.994268</td>\n",
       "      <td>0</td>\n",
       "      <td>1</td>\n",
       "      <td>0</td>\n",
       "      <td>0</td>\n",
       "      <td>0</td>\n",
       "      <td>0</td>\n",
       "      <td>0</td>\n",
       "      <td>1</td>\n",
       "      <td>0</td>\n",
       "      <td>0</td>\n",
       "      <td>0</td>\n",
       "      <td>0</td>\n",
       "      <td>0</td>\n",
       "      <td>0</td>\n",
       "      <td>65.6</td>\n",
       "      <td>67.25</td>\n",
       "      <td>64.678571</td>\n",
       "      <td>63.714286</td>\n",
       "      <td>0.151</td>\n",
       "      <td>0.08575</td>\n",
       "      <td>0.06875</td>\n",
       "      <td>0.055000</td>\n",
       "      <td>172.671291</td>\n",
       "      <td>196.319405</td>\n",
       "      <td>208.835422</td>\n",
       "      <td>207.239818</td>\n",
       "      <td>2007</td>\n",
       "      <td>5</td>\n",
       "      <td>22</td>\n",
       "      <td>1</td>\n",
       "    </tr>\n",
       "    <tr>\n",
       "      <th>3</th>\n",
       "      <td>2007-05-29</td>\n",
       "      <td>41.867108</td>\n",
       "      <td>-87.654224</td>\n",
       "      <td>0</td>\n",
       "      <td>2.0</td>\n",
       "      <td>88.0</td>\n",
       "      <td>62.5</td>\n",
       "      <td>75.5</td>\n",
       "      <td>8.5</td>\n",
       "      <td>58.5</td>\n",
       "      <td>65.5</td>\n",
       "      <td>0.0</td>\n",
       "      <td>10.5</td>\n",
       "      <td>0.0</td>\n",
       "      <td>29.415</td>\n",
       "      <td>30.10</td>\n",
       "      <td>5.80</td>\n",
       "      <td>17.0</td>\n",
       "      <td>6.95</td>\n",
       "      <td>896.0</td>\n",
       "      <td>179.994268</td>\n",
       "      <td>0</td>\n",
       "      <td>1</td>\n",
       "      <td>0</td>\n",
       "      <td>0</td>\n",
       "      <td>0</td>\n",
       "      <td>0</td>\n",
       "      <td>0</td>\n",
       "      <td>1</td>\n",
       "      <td>0</td>\n",
       "      <td>0</td>\n",
       "      <td>0</td>\n",
       "      <td>0</td>\n",
       "      <td>0</td>\n",
       "      <td>0</td>\n",
       "      <td>65.6</td>\n",
       "      <td>67.25</td>\n",
       "      <td>64.678571</td>\n",
       "      <td>63.714286</td>\n",
       "      <td>0.151</td>\n",
       "      <td>0.08575</td>\n",
       "      <td>0.06875</td>\n",
       "      <td>0.055000</td>\n",
       "      <td>172.671291</td>\n",
       "      <td>196.319405</td>\n",
       "      <td>208.835422</td>\n",
       "      <td>207.239818</td>\n",
       "      <td>2007</td>\n",
       "      <td>5</td>\n",
       "      <td>22</td>\n",
       "      <td>1</td>\n",
       "    </tr>\n",
       "    <tr>\n",
       "      <th>4</th>\n",
       "      <td>2007-05-29</td>\n",
       "      <td>41.919343</td>\n",
       "      <td>-87.694259</td>\n",
       "      <td>0</td>\n",
       "      <td>2.0</td>\n",
       "      <td>88.0</td>\n",
       "      <td>62.5</td>\n",
       "      <td>75.5</td>\n",
       "      <td>8.5</td>\n",
       "      <td>58.5</td>\n",
       "      <td>65.5</td>\n",
       "      <td>0.0</td>\n",
       "      <td>10.5</td>\n",
       "      <td>0.0</td>\n",
       "      <td>29.415</td>\n",
       "      <td>30.10</td>\n",
       "      <td>5.80</td>\n",
       "      <td>17.0</td>\n",
       "      <td>6.95</td>\n",
       "      <td>896.0</td>\n",
       "      <td>179.994268</td>\n",
       "      <td>0</td>\n",
       "      <td>1</td>\n",
       "      <td>0</td>\n",
       "      <td>0</td>\n",
       "      <td>0</td>\n",
       "      <td>0</td>\n",
       "      <td>0</td>\n",
       "      <td>1</td>\n",
       "      <td>0</td>\n",
       "      <td>0</td>\n",
       "      <td>0</td>\n",
       "      <td>0</td>\n",
       "      <td>0</td>\n",
       "      <td>0</td>\n",
       "      <td>65.6</td>\n",
       "      <td>67.25</td>\n",
       "      <td>64.678571</td>\n",
       "      <td>63.714286</td>\n",
       "      <td>0.151</td>\n",
       "      <td>0.08575</td>\n",
       "      <td>0.06875</td>\n",
       "      <td>0.055000</td>\n",
       "      <td>172.671291</td>\n",
       "      <td>196.319405</td>\n",
       "      <td>208.835422</td>\n",
       "      <td>207.239818</td>\n",
       "      <td>2007</td>\n",
       "      <td>5</td>\n",
       "      <td>22</td>\n",
       "      <td>1</td>\n",
       "    </tr>\n",
       "    <tr>\n",
       "      <th>...</th>\n",
       "      <td>...</td>\n",
       "      <td>...</td>\n",
       "      <td>...</td>\n",
       "      <td>...</td>\n",
       "      <td>...</td>\n",
       "      <td>...</td>\n",
       "      <td>...</td>\n",
       "      <td>...</td>\n",
       "      <td>...</td>\n",
       "      <td>...</td>\n",
       "      <td>...</td>\n",
       "      <td>...</td>\n",
       "      <td>...</td>\n",
       "      <td>...</td>\n",
       "      <td>...</td>\n",
       "      <td>...</td>\n",
       "      <td>...</td>\n",
       "      <td>...</td>\n",
       "      <td>...</td>\n",
       "      <td>...</td>\n",
       "      <td>...</td>\n",
       "      <td>...</td>\n",
       "      <td>...</td>\n",
       "      <td>...</td>\n",
       "      <td>...</td>\n",
       "      <td>...</td>\n",
       "      <td>...</td>\n",
       "      <td>...</td>\n",
       "      <td>...</td>\n",
       "      <td>...</td>\n",
       "      <td>...</td>\n",
       "      <td>...</td>\n",
       "      <td>...</td>\n",
       "      <td>...</td>\n",
       "      <td>...</td>\n",
       "      <td>...</td>\n",
       "      <td>...</td>\n",
       "      <td>...</td>\n",
       "      <td>...</td>\n",
       "      <td>...</td>\n",
       "      <td>...</td>\n",
       "      <td>...</td>\n",
       "      <td>...</td>\n",
       "      <td>...</td>\n",
       "      <td>...</td>\n",
       "      <td>...</td>\n",
       "      <td>...</td>\n",
       "      <td>...</td>\n",
       "      <td>...</td>\n",
       "      <td>...</td>\n",
       "      <td>...</td>\n",
       "    </tr>\n",
       "    <tr>\n",
       "      <th>8423</th>\n",
       "      <td>2013-09-26</td>\n",
       "      <td>41.803423</td>\n",
       "      <td>-87.642984</td>\n",
       "      <td>0</td>\n",
       "      <td>1.0</td>\n",
       "      <td>75.0</td>\n",
       "      <td>52.5</td>\n",
       "      <td>64.0</td>\n",
       "      <td>2.0</td>\n",
       "      <td>52.0</td>\n",
       "      <td>58.0</td>\n",
       "      <td>1.0</td>\n",
       "      <td>0.0</td>\n",
       "      <td>0.0</td>\n",
       "      <td>29.370</td>\n",
       "      <td>30.04</td>\n",
       "      <td>3.95</td>\n",
       "      <td>8.5</td>\n",
       "      <td>4.40</td>\n",
       "      <td>719.0</td>\n",
       "      <td>153.933102</td>\n",
       "      <td>0</td>\n",
       "      <td>1</td>\n",
       "      <td>0</td>\n",
       "      <td>0</td>\n",
       "      <td>0</td>\n",
       "      <td>0</td>\n",
       "      <td>0</td>\n",
       "      <td>0</td>\n",
       "      <td>0</td>\n",
       "      <td>0</td>\n",
       "      <td>0</td>\n",
       "      <td>0</td>\n",
       "      <td>0</td>\n",
       "      <td>0</td>\n",
       "      <td>61.7</td>\n",
       "      <td>64.50</td>\n",
       "      <td>63.214286</td>\n",
       "      <td>69.428571</td>\n",
       "      <td>0.000</td>\n",
       "      <td>0.09675</td>\n",
       "      <td>0.10125</td>\n",
       "      <td>0.088304</td>\n",
       "      <td>160.851952</td>\n",
       "      <td>153.939384</td>\n",
       "      <td>157.685866</td>\n",
       "      <td>160.038985</td>\n",
       "      <td>2013</td>\n",
       "      <td>9</td>\n",
       "      <td>39</td>\n",
       "      <td>3</td>\n",
       "    </tr>\n",
       "    <tr>\n",
       "      <th>8424</th>\n",
       "      <td>2013-09-26</td>\n",
       "      <td>41.750498</td>\n",
       "      <td>-87.605294</td>\n",
       "      <td>0</td>\n",
       "      <td>1.0</td>\n",
       "      <td>75.0</td>\n",
       "      <td>52.5</td>\n",
       "      <td>64.0</td>\n",
       "      <td>2.0</td>\n",
       "      <td>52.0</td>\n",
       "      <td>58.0</td>\n",
       "      <td>1.0</td>\n",
       "      <td>0.0</td>\n",
       "      <td>0.0</td>\n",
       "      <td>29.370</td>\n",
       "      <td>30.04</td>\n",
       "      <td>3.95</td>\n",
       "      <td>8.5</td>\n",
       "      <td>4.40</td>\n",
       "      <td>719.0</td>\n",
       "      <td>153.933102</td>\n",
       "      <td>0</td>\n",
       "      <td>1</td>\n",
       "      <td>0</td>\n",
       "      <td>0</td>\n",
       "      <td>0</td>\n",
       "      <td>0</td>\n",
       "      <td>0</td>\n",
       "      <td>0</td>\n",
       "      <td>0</td>\n",
       "      <td>0</td>\n",
       "      <td>0</td>\n",
       "      <td>0</td>\n",
       "      <td>0</td>\n",
       "      <td>0</td>\n",
       "      <td>61.7</td>\n",
       "      <td>64.50</td>\n",
       "      <td>63.214286</td>\n",
       "      <td>69.428571</td>\n",
       "      <td>0.000</td>\n",
       "      <td>0.09675</td>\n",
       "      <td>0.10125</td>\n",
       "      <td>0.088304</td>\n",
       "      <td>160.851952</td>\n",
       "      <td>153.939384</td>\n",
       "      <td>157.685866</td>\n",
       "      <td>160.038985</td>\n",
       "      <td>2013</td>\n",
       "      <td>9</td>\n",
       "      <td>39</td>\n",
       "      <td>3</td>\n",
       "    </tr>\n",
       "    <tr>\n",
       "      <th>8425</th>\n",
       "      <td>2013-09-26</td>\n",
       "      <td>41.740641</td>\n",
       "      <td>-87.546587</td>\n",
       "      <td>0</td>\n",
       "      <td>1.0</td>\n",
       "      <td>75.0</td>\n",
       "      <td>52.5</td>\n",
       "      <td>64.0</td>\n",
       "      <td>2.0</td>\n",
       "      <td>52.0</td>\n",
       "      <td>58.0</td>\n",
       "      <td>1.0</td>\n",
       "      <td>0.0</td>\n",
       "      <td>0.0</td>\n",
       "      <td>29.370</td>\n",
       "      <td>30.04</td>\n",
       "      <td>3.95</td>\n",
       "      <td>8.5</td>\n",
       "      <td>4.40</td>\n",
       "      <td>719.0</td>\n",
       "      <td>153.933102</td>\n",
       "      <td>0</td>\n",
       "      <td>1</td>\n",
       "      <td>0</td>\n",
       "      <td>0</td>\n",
       "      <td>0</td>\n",
       "      <td>0</td>\n",
       "      <td>0</td>\n",
       "      <td>0</td>\n",
       "      <td>0</td>\n",
       "      <td>0</td>\n",
       "      <td>0</td>\n",
       "      <td>0</td>\n",
       "      <td>0</td>\n",
       "      <td>0</td>\n",
       "      <td>61.7</td>\n",
       "      <td>64.50</td>\n",
       "      <td>63.214286</td>\n",
       "      <td>69.428571</td>\n",
       "      <td>0.000</td>\n",
       "      <td>0.09675</td>\n",
       "      <td>0.10125</td>\n",
       "      <td>0.088304</td>\n",
       "      <td>160.851952</td>\n",
       "      <td>153.939384</td>\n",
       "      <td>157.685866</td>\n",
       "      <td>160.038985</td>\n",
       "      <td>2013</td>\n",
       "      <td>9</td>\n",
       "      <td>39</td>\n",
       "      <td>3</td>\n",
       "    </tr>\n",
       "    <tr>\n",
       "      <th>8426</th>\n",
       "      <td>2013-09-26</td>\n",
       "      <td>41.963976</td>\n",
       "      <td>-87.691810</td>\n",
       "      <td>0</td>\n",
       "      <td>1.0</td>\n",
       "      <td>75.0</td>\n",
       "      <td>52.5</td>\n",
       "      <td>64.0</td>\n",
       "      <td>2.0</td>\n",
       "      <td>52.0</td>\n",
       "      <td>58.0</td>\n",
       "      <td>1.0</td>\n",
       "      <td>0.0</td>\n",
       "      <td>0.0</td>\n",
       "      <td>29.370</td>\n",
       "      <td>30.04</td>\n",
       "      <td>3.95</td>\n",
       "      <td>8.5</td>\n",
       "      <td>4.40</td>\n",
       "      <td>719.0</td>\n",
       "      <td>153.933102</td>\n",
       "      <td>0</td>\n",
       "      <td>1</td>\n",
       "      <td>0</td>\n",
       "      <td>0</td>\n",
       "      <td>0</td>\n",
       "      <td>0</td>\n",
       "      <td>0</td>\n",
       "      <td>0</td>\n",
       "      <td>0</td>\n",
       "      <td>0</td>\n",
       "      <td>0</td>\n",
       "      <td>0</td>\n",
       "      <td>0</td>\n",
       "      <td>0</td>\n",
       "      <td>61.7</td>\n",
       "      <td>64.50</td>\n",
       "      <td>63.214286</td>\n",
       "      <td>69.428571</td>\n",
       "      <td>0.000</td>\n",
       "      <td>0.09675</td>\n",
       "      <td>0.10125</td>\n",
       "      <td>0.088304</td>\n",
       "      <td>160.851952</td>\n",
       "      <td>153.939384</td>\n",
       "      <td>157.685866</td>\n",
       "      <td>160.038985</td>\n",
       "      <td>2013</td>\n",
       "      <td>9</td>\n",
       "      <td>39</td>\n",
       "      <td>3</td>\n",
       "    </tr>\n",
       "    <tr>\n",
       "      <th>8427</th>\n",
       "      <td>2013-09-26</td>\n",
       "      <td>41.659112</td>\n",
       "      <td>-87.538693</td>\n",
       "      <td>0</td>\n",
       "      <td>1.0</td>\n",
       "      <td>75.0</td>\n",
       "      <td>52.5</td>\n",
       "      <td>64.0</td>\n",
       "      <td>2.0</td>\n",
       "      <td>52.0</td>\n",
       "      <td>58.0</td>\n",
       "      <td>1.0</td>\n",
       "      <td>0.0</td>\n",
       "      <td>0.0</td>\n",
       "      <td>29.370</td>\n",
       "      <td>30.04</td>\n",
       "      <td>3.95</td>\n",
       "      <td>8.5</td>\n",
       "      <td>4.40</td>\n",
       "      <td>719.0</td>\n",
       "      <td>153.933102</td>\n",
       "      <td>0</td>\n",
       "      <td>1</td>\n",
       "      <td>0</td>\n",
       "      <td>0</td>\n",
       "      <td>0</td>\n",
       "      <td>0</td>\n",
       "      <td>0</td>\n",
       "      <td>0</td>\n",
       "      <td>0</td>\n",
       "      <td>0</td>\n",
       "      <td>0</td>\n",
       "      <td>0</td>\n",
       "      <td>0</td>\n",
       "      <td>0</td>\n",
       "      <td>61.7</td>\n",
       "      <td>64.50</td>\n",
       "      <td>63.214286</td>\n",
       "      <td>69.428571</td>\n",
       "      <td>0.000</td>\n",
       "      <td>0.09675</td>\n",
       "      <td>0.10125</td>\n",
       "      <td>0.088304</td>\n",
       "      <td>160.851952</td>\n",
       "      <td>153.939384</td>\n",
       "      <td>157.685866</td>\n",
       "      <td>160.038985</td>\n",
       "      <td>2013</td>\n",
       "      <td>9</td>\n",
       "      <td>39</td>\n",
       "      <td>3</td>\n",
       "    </tr>\n",
       "  </tbody>\n",
       "</table>\n",
       "<p>8428 rows × 51 columns</p>\n",
       "</div>"
      ],
      "text/plain": [
       "           date   latitude  longitude  wnv_present  species_ohe  tmax  tmin  \\\n",
       "0    2007-05-29  41.731922 -87.677512            0          3.0  88.0  62.5   \n",
       "1    2007-05-29  41.954690 -87.800991            0          2.0  88.0  62.5   \n",
       "2    2007-05-29  41.974089 -87.824812            0          2.0  88.0  62.5   \n",
       "3    2007-05-29  41.867108 -87.654224            0          2.0  88.0  62.5   \n",
       "4    2007-05-29  41.919343 -87.694259            0          2.0  88.0  62.5   \n",
       "...         ...        ...        ...          ...          ...   ...   ...   \n",
       "8423 2013-09-26  41.803423 -87.642984            0          1.0  75.0  52.5   \n",
       "8424 2013-09-26  41.750498 -87.605294            0          1.0  75.0  52.5   \n",
       "8425 2013-09-26  41.740641 -87.546587            0          1.0  75.0  52.5   \n",
       "8426 2013-09-26  41.963976 -87.691810            0          1.0  75.0  52.5   \n",
       "8427 2013-09-26  41.659112 -87.538693            0          1.0  75.0  52.5   \n",
       "\n",
       "      tavg  depart  dew_point  wet_bulb  heat  cool  precip_total  \\\n",
       "0     75.5     8.5       58.5      65.5   0.0  10.5           0.0   \n",
       "1     75.5     8.5       58.5      65.5   0.0  10.5           0.0   \n",
       "2     75.5     8.5       58.5      65.5   0.0  10.5           0.0   \n",
       "3     75.5     8.5       58.5      65.5   0.0  10.5           0.0   \n",
       "4     75.5     8.5       58.5      65.5   0.0  10.5           0.0   \n",
       "...    ...     ...        ...       ...   ...   ...           ...   \n",
       "8423  64.0     2.0       52.0      58.0   1.0   0.0           0.0   \n",
       "8424  64.0     2.0       52.0      58.0   1.0   0.0           0.0   \n",
       "8425  64.0     2.0       52.0      58.0   1.0   0.0           0.0   \n",
       "8426  64.0     2.0       52.0      58.0   1.0   0.0           0.0   \n",
       "8427  64.0     2.0       52.0      58.0   1.0   0.0           0.0   \n",
       "\n",
       "      stn_pressure  sea_level  result_speed  result_dir  avg_speed  daylight  \\\n",
       "0           29.415      30.10          5.80        17.0       6.95     896.0   \n",
       "1           29.415      30.10          5.80        17.0       6.95     896.0   \n",
       "2           29.415      30.10          5.80        17.0       6.95     896.0   \n",
       "3           29.415      30.10          5.80        17.0       6.95     896.0   \n",
       "4           29.415      30.10          5.80        17.0       6.95     896.0   \n",
       "...            ...        ...           ...         ...        ...       ...   \n",
       "8423        29.370      30.04          3.95         8.5       4.40     719.0   \n",
       "8424        29.370      30.04          3.95         8.5       4.40     719.0   \n",
       "8425        29.370      30.04          3.95         8.5       4.40     719.0   \n",
       "8426        29.370      30.04          3.95         8.5       4.40     719.0   \n",
       "8427        29.370      30.04          3.95         8.5       4.40     719.0   \n",
       "\n",
       "         r_humid  bc  br  dz  fg  fg+  fu  gr  hz  mi  ra  sn  sq  ts  vc  \\\n",
       "0     179.994268   0   1   0   0    0   0   0   1   0   0   0   0   0   0   \n",
       "1     179.994268   0   1   0   0    0   0   0   1   0   0   0   0   0   0   \n",
       "2     179.994268   0   1   0   0    0   0   0   1   0   0   0   0   0   0   \n",
       "3     179.994268   0   1   0   0    0   0   0   1   0   0   0   0   0   0   \n",
       "4     179.994268   0   1   0   0    0   0   0   1   0   0   0   0   0   0   \n",
       "...          ...  ..  ..  ..  ..  ...  ..  ..  ..  ..  ..  ..  ..  ..  ..   \n",
       "8423  153.933102   0   1   0   0    0   0   0   0   0   0   0   0   0   0   \n",
       "8424  153.933102   0   1   0   0    0   0   0   0   0   0   0   0   0   0   \n",
       "8425  153.933102   0   1   0   0    0   0   0   0   0   0   0   0   0   0   \n",
       "8426  153.933102   0   1   0   0    0   0   0   0   0   0   0   0   0   0   \n",
       "8427  153.933102   0   1   0   0    0   0   0   0   0   0   0   0   0   0   \n",
       "\n",
       "      tavg_5  tavg_10    tavg_14    tavg_28  precip_total_5  precip_total_10  \\\n",
       "0       65.6    67.25  64.678571  63.714286           0.151          0.08575   \n",
       "1       65.6    67.25  64.678571  63.714286           0.151          0.08575   \n",
       "2       65.6    67.25  64.678571  63.714286           0.151          0.08575   \n",
       "3       65.6    67.25  64.678571  63.714286           0.151          0.08575   \n",
       "4       65.6    67.25  64.678571  63.714286           0.151          0.08575   \n",
       "...      ...      ...        ...        ...             ...              ...   \n",
       "8423    61.7    64.50  63.214286  69.428571           0.000          0.09675   \n",
       "8424    61.7    64.50  63.214286  69.428571           0.000          0.09675   \n",
       "8425    61.7    64.50  63.214286  69.428571           0.000          0.09675   \n",
       "8426    61.7    64.50  63.214286  69.428571           0.000          0.09675   \n",
       "8427    61.7    64.50  63.214286  69.428571           0.000          0.09675   \n",
       "\n",
       "      precip_total_14  precip_total_28   r_humid_5  r_humid_10  r_humid_14  \\\n",
       "0             0.06875         0.055000  172.671291  196.319405  208.835422   \n",
       "1             0.06875         0.055000  172.671291  196.319405  208.835422   \n",
       "2             0.06875         0.055000  172.671291  196.319405  208.835422   \n",
       "3             0.06875         0.055000  172.671291  196.319405  208.835422   \n",
       "4             0.06875         0.055000  172.671291  196.319405  208.835422   \n",
       "...               ...              ...         ...         ...         ...   \n",
       "8423          0.10125         0.088304  160.851952  153.939384  157.685866   \n",
       "8424          0.10125         0.088304  160.851952  153.939384  157.685866   \n",
       "8425          0.10125         0.088304  160.851952  153.939384  157.685866   \n",
       "8426          0.10125         0.088304  160.851952  153.939384  157.685866   \n",
       "8427          0.10125         0.088304  160.851952  153.939384  157.685866   \n",
       "\n",
       "      r_humid_28  year  month  week  day  \n",
       "0     207.239818  2007      5    22    1  \n",
       "1     207.239818  2007      5    22    1  \n",
       "2     207.239818  2007      5    22    1  \n",
       "3     207.239818  2007      5    22    1  \n",
       "4     207.239818  2007      5    22    1  \n",
       "...          ...   ...    ...   ...  ...  \n",
       "8423  160.038985  2013      9    39    3  \n",
       "8424  160.038985  2013      9    39    3  \n",
       "8425  160.038985  2013      9    39    3  \n",
       "8426  160.038985  2013      9    39    3  \n",
       "8427  160.038985  2013      9    39    3  \n",
       "\n",
       "[8428 rows x 51 columns]"
      ]
     },
     "execution_count": 92,
     "metadata": {},
     "output_type": "execute_result"
    }
   ],
   "source": [
    "combined"
   ]
  },
  {
   "cell_type": "markdown",
   "id": "8da7e879",
   "metadata": {},
   "source": [
    "### Test Dataset"
   ]
  },
  {
   "cell_type": "markdown",
   "id": "665a5054",
   "metadata": {},
   "source": [
    "We will one hot encode the species column for the test dataset as well."
   ]
  },
  {
   "cell_type": "code",
   "execution_count": 93,
   "id": "8022ab84",
   "metadata": {},
   "outputs": [],
   "source": [
    "#one hot encode species\n",
    "test['species_ohe'] = test['species'].map(\n",
    "    {'CULEX RESTUANS': 1, 'CULEX PIPIENS/RESTUANS': 2, 'CULEX PIPIENS': 3})\n",
    "#0 for all other species\n",
    "test['species_ohe'].fillna(0, inplace=True)"
   ]
  },
  {
   "cell_type": "code",
   "execution_count": 94,
   "id": "ef4fd394",
   "metadata": {},
   "outputs": [],
   "source": [
    "test.drop(columns={'species', 'trap'}, inplace=True)"
   ]
  },
  {
   "cell_type": "code",
   "execution_count": 95,
   "id": "b5f4ad26",
   "metadata": {},
   "outputs": [],
   "source": [
    "test_combined = pd.merge(test, weather_final, on='date')"
   ]
  },
  {
   "cell_type": "code",
   "execution_count": 96,
   "id": "88e6585f",
   "metadata": {},
   "outputs": [],
   "source": [
    "# split date into day, week, month and year\n",
    "test_combined['year'] = test_combined['date'].dt.year\n",
    "test_combined['month'] = test_combined['date'].dt.month\n",
    "test_combined['week'] = test_combined['date'].dt.isocalendar().week\n",
    "test_combined['day'] = test_combined['date'].dt.dayofweek"
   ]
  },
  {
   "cell_type": "markdown",
   "id": "0d8961c4",
   "metadata": {},
   "source": [
    "## Export Cleaned Data"
   ]
  },
  {
   "cell_type": "code",
   "execution_count": 97,
   "id": "b2377636",
   "metadata": {},
   "outputs": [],
   "source": [
    "combined.to_csv('../datasets/combined_cleaned.csv', index=False)"
   ]
  },
  {
   "cell_type": "code",
   "execution_count": 98,
   "id": "8d15a564",
   "metadata": {},
   "outputs": [],
   "source": [
    "test_combined.to_csv('../datasets/test_cleaned.csv', index=False)"
   ]
  }
 ],
 "metadata": {
  "kernelspec": {
   "display_name": "Python 3",
   "language": "python",
   "name": "python3"
  },
  "language_info": {
   "codemirror_mode": {
    "name": "ipython",
    "version": 3
   },
   "file_extension": ".py",
   "mimetype": "text/x-python",
   "name": "python",
   "nbconvert_exporter": "python",
   "pygments_lexer": "ipython3",
   "version": "3.8.8"
  },
  "toc": {
   "base_numbering": 1,
   "nav_menu": {},
   "number_sections": true,
   "sideBar": true,
   "skip_h1_title": true,
   "title_cell": "Table of Contents",
   "title_sidebar": "Contents",
   "toc_cell": false,
   "toc_position": {
    "height": "calc(100% - 180px)",
    "left": "10px",
    "top": "150px",
    "width": "288px"
   },
   "toc_section_display": true,
   "toc_window_display": true
  }
 },
 "nbformat": 4,
 "nbformat_minor": 5
}
