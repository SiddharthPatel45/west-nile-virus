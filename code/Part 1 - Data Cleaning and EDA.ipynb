{
 "cells": [
  {
   "cell_type": "markdown",
   "id": "6420d3b5",
   "metadata": {},
   "source": [
    "# Project 4: West Nile Virus Analysis\n",
    "\n",
    "\n",
    "This project is documented into the following notebooks:\n",
    "\n",
    "1. Part 1: Data Cleaning and EDA\n",
    "\n",
    "2. Part 2: Modeling and Evaluation\n",
    "\n",
    "## Part 1 - Data Cleaning and EDA"
   ]
  },
  {
   "cell_type": "markdown",
   "id": "025e59a7",
   "metadata": {},
   "source": [
    "## Introduction\n",
    "\n",
    "Overview of West Nile Virus \n",
    "\n",
    "The west nile virus is a blah blah blah\n",
    "\n",
    "\n",
    "\n",
    "\n",
    "### Problem Statement\n",
    "\n",
    "**To predict the presence of the West Nile Virus in Chicago**\n",
    "\n",
    "\n",
    "### Executive Summary\n",
    "\n",
    "The purpose of this project is to identify key areas in the city that are prone to virus and provide solutions to current problems and future prevention measures.\n",
    "\n",
    "\n",
    "We have identified the key characteristics and conditions that contribute to the breeding of mosquitos that are capable of carrying the West Nile Virus, namely Location, Weather and Season. This is further elaborated below. \n",
    "\n",
    "1. Location\n",
    "\n",
    "    - Longitude and Latitude \n",
    "    - (Describe the locations that are prone to the virus)\n",
    "\n",
    "2. Weather (Wet)\n",
    "\n",
    "    - Describe the conditions that affect the virus\n",
    "\n",
    "3. Season\n",
    "\n",
    "    - Time/Month/Week of the year\n",
    "\n",
    "#### Contents\n",
    "\n",
    "The contents of this notebook are as follows:\n",
    "\n"
   ]
  },
  {
   "cell_type": "markdown",
   "id": "36856f90",
   "metadata": {},
   "source": [
    "## Data Cleaning"
   ]
  },
  {
   "cell_type": "markdown",
   "id": "df86cd25",
   "metadata": {},
   "source": [
    "In this section, we will look at the 4 datasets closely and conduct data cleaning and describe the initial observations that we find. "
   ]
  },
  {
   "cell_type": "markdown",
   "id": "d8ab1eff",
   "metadata": {},
   "source": [
    "Import all necessary libraries."
   ]
  },
  {
   "cell_type": "code",
   "execution_count": 1,
   "id": "0a650fc9",
   "metadata": {},
   "outputs": [],
   "source": [
    "import pandas as pd\n",
    "import numpy as np\n",
    "import seaborn as sns\n",
    "import matplotlib.pyplot as plt\n",
    "import re\n",
    "from sklearn.feature_extraction.text import CountVectorizer"
   ]
  },
  {
   "cell_type": "markdown",
   "id": "4b6d15b1",
   "metadata": {},
   "source": [
    "Read in all the datafiles."
   ]
  },
  {
   "cell_type": "code",
   "execution_count": 2,
   "id": "656277fe",
   "metadata": {},
   "outputs": [],
   "source": [
    "spray = pd.read_csv('../datasets/spray.csv', parse_dates=['Date'])\n",
    "test = pd.read_csv('../datasets/test.csv', parse_dates=['Date'])\n",
    "train = pd.read_csv('../datasets/train.csv', parse_dates=['Date'])\n",
    "weather = pd.read_csv('../datasets/weather.csv', parse_dates=['Date'])"
   ]
  },
  {
   "cell_type": "markdown",
   "id": "f2e1e9cc",
   "metadata": {},
   "source": [
    "Standardise column name format amongst all columns."
   ]
  },
  {
   "cell_type": "markdown",
   "id": "811e5d7b",
   "metadata": {},
   "source": [
    "First we will create a function to standardise column names."
   ]
  },
  {
   "cell_type": "code",
   "execution_count": 3,
   "id": "c68db87e",
   "metadata": {},
   "outputs": [],
   "source": [
    "#function to standardise column names amongst all datasets\n",
    "def rename_cols(df):\n",
    "    df.columns = df.columns.str.replace('(?<=[a-z0-9])(?=[A-Z])', '_', regex=True).str.lower()"
   ]
  },
  {
   "cell_type": "code",
   "execution_count": 4,
   "id": "172e3600",
   "metadata": {},
   "outputs": [],
   "source": [
    "rename_cols(train)\n",
    "rename_cols(test)\n",
    "rename_cols(weather)\n",
    "rename_cols(spray)"
   ]
  },
  {
   "cell_type": "code",
   "execution_count": 5,
   "id": "7423ee06",
   "metadata": {},
   "outputs": [],
   "source": [
    "def df_overview(df):\n",
    "    print(f'Number of rows: {df.shape[0]}')\n",
    "    print(f'Number of columns: {df.shape[1]}')\n",
    "    print('\\nNames of columns in dataset.')    \n",
    "    display(df.columns)\n",
    "    display(df.dtypes)\n",
    "    print('Missing values in dataset')\n",
    "    display(df.isnull().sum())\n",
    "    print(f'Number of duplicate values in dataset: {df[df.duplicated(keep=False)].shape[0]}')"
   ]
  },
  {
   "cell_type": "markdown",
   "id": "23a0a69e",
   "metadata": {},
   "source": [
    "We will proceed to analyse the each dataset individually."
   ]
  },
  {
   "cell_type": "markdown",
   "id": "151cac2c",
   "metadata": {},
   "source": [
    "### Train Dataset"
   ]
  },
  {
   "cell_type": "markdown",
   "id": "572ec45d",
   "metadata": {},
   "source": [
    "#### Overview of Train Dataset"
   ]
  },
  {
   "cell_type": "code",
   "execution_count": 6,
   "id": "f60bc97b",
   "metadata": {},
   "outputs": [
    {
     "data": {
      "text/html": [
       "<div>\n",
       "<style scoped>\n",
       "    .dataframe tbody tr th:only-of-type {\n",
       "        vertical-align: middle;\n",
       "    }\n",
       "\n",
       "    .dataframe tbody tr th {\n",
       "        vertical-align: top;\n",
       "    }\n",
       "\n",
       "    .dataframe thead th {\n",
       "        text-align: right;\n",
       "    }\n",
       "</style>\n",
       "<table border=\"1\" class=\"dataframe\">\n",
       "  <thead>\n",
       "    <tr style=\"text-align: right;\">\n",
       "      <th></th>\n",
       "      <th>date</th>\n",
       "      <th>address</th>\n",
       "      <th>species</th>\n",
       "      <th>block</th>\n",
       "      <th>street</th>\n",
       "      <th>trap</th>\n",
       "      <th>address_number_and_street</th>\n",
       "      <th>latitude</th>\n",
       "      <th>longitude</th>\n",
       "      <th>address_accuracy</th>\n",
       "      <th>num_mosquitos</th>\n",
       "      <th>wnv_present</th>\n",
       "    </tr>\n",
       "  </thead>\n",
       "  <tbody>\n",
       "    <tr>\n",
       "      <th>0</th>\n",
       "      <td>2007-05-29</td>\n",
       "      <td>4100 North Oak Park Avenue, Chicago, IL 60634,...</td>\n",
       "      <td>CULEX PIPIENS/RESTUANS</td>\n",
       "      <td>41</td>\n",
       "      <td>N OAK PARK AVE</td>\n",
       "      <td>T002</td>\n",
       "      <td>4100  N OAK PARK AVE, Chicago, IL</td>\n",
       "      <td>41.954690</td>\n",
       "      <td>-87.800991</td>\n",
       "      <td>9</td>\n",
       "      <td>1</td>\n",
       "      <td>0</td>\n",
       "    </tr>\n",
       "    <tr>\n",
       "      <th>1</th>\n",
       "      <td>2007-05-29</td>\n",
       "      <td>4100 North Oak Park Avenue, Chicago, IL 60634,...</td>\n",
       "      <td>CULEX RESTUANS</td>\n",
       "      <td>41</td>\n",
       "      <td>N OAK PARK AVE</td>\n",
       "      <td>T002</td>\n",
       "      <td>4100  N OAK PARK AVE, Chicago, IL</td>\n",
       "      <td>41.954690</td>\n",
       "      <td>-87.800991</td>\n",
       "      <td>9</td>\n",
       "      <td>1</td>\n",
       "      <td>0</td>\n",
       "    </tr>\n",
       "    <tr>\n",
       "      <th>2</th>\n",
       "      <td>2007-05-29</td>\n",
       "      <td>6200 North Mandell Avenue, Chicago, IL 60646, USA</td>\n",
       "      <td>CULEX RESTUANS</td>\n",
       "      <td>62</td>\n",
       "      <td>N MANDELL AVE</td>\n",
       "      <td>T007</td>\n",
       "      <td>6200  N MANDELL AVE, Chicago, IL</td>\n",
       "      <td>41.994991</td>\n",
       "      <td>-87.769279</td>\n",
       "      <td>9</td>\n",
       "      <td>1</td>\n",
       "      <td>0</td>\n",
       "    </tr>\n",
       "    <tr>\n",
       "      <th>3</th>\n",
       "      <td>2007-05-29</td>\n",
       "      <td>7900 West Foster Avenue, Chicago, IL 60656, USA</td>\n",
       "      <td>CULEX PIPIENS/RESTUANS</td>\n",
       "      <td>79</td>\n",
       "      <td>W FOSTER AVE</td>\n",
       "      <td>T015</td>\n",
       "      <td>7900  W FOSTER AVE, Chicago, IL</td>\n",
       "      <td>41.974089</td>\n",
       "      <td>-87.824812</td>\n",
       "      <td>8</td>\n",
       "      <td>1</td>\n",
       "      <td>0</td>\n",
       "    </tr>\n",
       "    <tr>\n",
       "      <th>4</th>\n",
       "      <td>2007-05-29</td>\n",
       "      <td>7900 West Foster Avenue, Chicago, IL 60656, USA</td>\n",
       "      <td>CULEX RESTUANS</td>\n",
       "      <td>79</td>\n",
       "      <td>W FOSTER AVE</td>\n",
       "      <td>T015</td>\n",
       "      <td>7900  W FOSTER AVE, Chicago, IL</td>\n",
       "      <td>41.974089</td>\n",
       "      <td>-87.824812</td>\n",
       "      <td>8</td>\n",
       "      <td>4</td>\n",
       "      <td>0</td>\n",
       "    </tr>\n",
       "  </tbody>\n",
       "</table>\n",
       "</div>"
      ],
      "text/plain": [
       "        date                                            address  \\\n",
       "0 2007-05-29  4100 North Oak Park Avenue, Chicago, IL 60634,...   \n",
       "1 2007-05-29  4100 North Oak Park Avenue, Chicago, IL 60634,...   \n",
       "2 2007-05-29  6200 North Mandell Avenue, Chicago, IL 60646, USA   \n",
       "3 2007-05-29    7900 West Foster Avenue, Chicago, IL 60656, USA   \n",
       "4 2007-05-29    7900 West Foster Avenue, Chicago, IL 60656, USA   \n",
       "\n",
       "                  species  block           street  trap  \\\n",
       "0  CULEX PIPIENS/RESTUANS     41   N OAK PARK AVE  T002   \n",
       "1          CULEX RESTUANS     41   N OAK PARK AVE  T002   \n",
       "2          CULEX RESTUANS     62    N MANDELL AVE  T007   \n",
       "3  CULEX PIPIENS/RESTUANS     79     W FOSTER AVE  T015   \n",
       "4          CULEX RESTUANS     79     W FOSTER AVE  T015   \n",
       "\n",
       "           address_number_and_street   latitude  longitude  address_accuracy  \\\n",
       "0  4100  N OAK PARK AVE, Chicago, IL  41.954690 -87.800991                 9   \n",
       "1  4100  N OAK PARK AVE, Chicago, IL  41.954690 -87.800991                 9   \n",
       "2   6200  N MANDELL AVE, Chicago, IL  41.994991 -87.769279                 9   \n",
       "3    7900  W FOSTER AVE, Chicago, IL  41.974089 -87.824812                 8   \n",
       "4    7900  W FOSTER AVE, Chicago, IL  41.974089 -87.824812                 8   \n",
       "\n",
       "   num_mosquitos  wnv_present  \n",
       "0              1            0  \n",
       "1              1            0  \n",
       "2              1            0  \n",
       "3              1            0  \n",
       "4              4            0  "
      ]
     },
     "execution_count": 6,
     "metadata": {},
     "output_type": "execute_result"
    }
   ],
   "source": [
    "train.head()"
   ]
  },
  {
   "cell_type": "code",
   "execution_count": 7,
   "id": "e2dafff5",
   "metadata": {},
   "outputs": [
    {
     "name": "stdout",
     "output_type": "stream",
     "text": [
      "Number of rows: 10506\n",
      "Number of columns: 12\n",
      "\n",
      "Names of columns in dataset.\n"
     ]
    },
    {
     "data": {
      "text/plain": [
       "Index(['date', 'address', 'species', 'block', 'street', 'trap',\n",
       "       'address_number_and_street', 'latitude', 'longitude',\n",
       "       'address_accuracy', 'num_mosquitos', 'wnv_present'],\n",
       "      dtype='object')"
      ]
     },
     "metadata": {},
     "output_type": "display_data"
    },
    {
     "data": {
      "text/plain": [
       "date                         datetime64[ns]\n",
       "address                              object\n",
       "species                              object\n",
       "block                                 int64\n",
       "street                               object\n",
       "trap                                 object\n",
       "address_number_and_street            object\n",
       "latitude                            float64\n",
       "longitude                           float64\n",
       "address_accuracy                      int64\n",
       "num_mosquitos                         int64\n",
       "wnv_present                           int64\n",
       "dtype: object"
      ]
     },
     "metadata": {},
     "output_type": "display_data"
    },
    {
     "name": "stdout",
     "output_type": "stream",
     "text": [
      "Missing values in dataset\n"
     ]
    },
    {
     "data": {
      "text/plain": [
       "date                         0\n",
       "address                      0\n",
       "species                      0\n",
       "block                        0\n",
       "street                       0\n",
       "trap                         0\n",
       "address_number_and_street    0\n",
       "latitude                     0\n",
       "longitude                    0\n",
       "address_accuracy             0\n",
       "num_mosquitos                0\n",
       "wnv_present                  0\n",
       "dtype: int64"
      ]
     },
     "metadata": {},
     "output_type": "display_data"
    },
    {
     "name": "stdout",
     "output_type": "stream",
     "text": [
      "Number of duplicate values in dataset: 1062\n"
     ]
    }
   ],
   "source": [
    "df_overview(train)"
   ]
  },
  {
   "cell_type": "markdown",
   "id": "a7149985",
   "metadata": {},
   "source": [
    "#### Duplicates"
   ]
  },
  {
   "cell_type": "code",
   "execution_count": 8,
   "id": "edeeec73",
   "metadata": {
    "scrolled": false
   },
   "outputs": [
    {
     "data": {
      "text/html": [
       "<div>\n",
       "<style scoped>\n",
       "    .dataframe tbody tr th:only-of-type {\n",
       "        vertical-align: middle;\n",
       "    }\n",
       "\n",
       "    .dataframe tbody tr th {\n",
       "        vertical-align: top;\n",
       "    }\n",
       "\n",
       "    .dataframe thead th {\n",
       "        text-align: right;\n",
       "    }\n",
       "</style>\n",
       "<table border=\"1\" class=\"dataframe\">\n",
       "  <thead>\n",
       "    <tr style=\"text-align: right;\">\n",
       "      <th></th>\n",
       "      <th>date</th>\n",
       "      <th>address</th>\n",
       "      <th>species</th>\n",
       "      <th>block</th>\n",
       "      <th>street</th>\n",
       "      <th>trap</th>\n",
       "      <th>address_number_and_street</th>\n",
       "      <th>latitude</th>\n",
       "      <th>longitude</th>\n",
       "      <th>address_accuracy</th>\n",
       "      <th>num_mosquitos</th>\n",
       "      <th>wnv_present</th>\n",
       "    </tr>\n",
       "  </thead>\n",
       "  <tbody>\n",
       "    <tr>\n",
       "      <th>98</th>\n",
       "      <td>2007-06-26</td>\n",
       "      <td>2200 West 113th Street, Chicago, IL 60643, USA</td>\n",
       "      <td>CULEX PIPIENS/RESTUANS</td>\n",
       "      <td>22</td>\n",
       "      <td>W 113TH ST</td>\n",
       "      <td>T086</td>\n",
       "      <td>2200  W 113TH ST, Chicago, IL</td>\n",
       "      <td>41.688324</td>\n",
       "      <td>-87.676709</td>\n",
       "      <td>8</td>\n",
       "      <td>1</td>\n",
       "      <td>0</td>\n",
       "    </tr>\n",
       "    <tr>\n",
       "      <th>99</th>\n",
       "      <td>2007-06-26</td>\n",
       "      <td>2200 West 113th Street, Chicago, IL 60643, USA</td>\n",
       "      <td>CULEX PIPIENS/RESTUANS</td>\n",
       "      <td>22</td>\n",
       "      <td>W 113TH ST</td>\n",
       "      <td>T086</td>\n",
       "      <td>2200  W 113TH ST, Chicago, IL</td>\n",
       "      <td>41.688324</td>\n",
       "      <td>-87.676709</td>\n",
       "      <td>8</td>\n",
       "      <td>1</td>\n",
       "      <td>0</td>\n",
       "    </tr>\n",
       "    <tr>\n",
       "      <th>293</th>\n",
       "      <td>2007-07-11</td>\n",
       "      <td>2200 West 113th Street, Chicago, IL 60643, USA</td>\n",
       "      <td>CULEX PIPIENS/RESTUANS</td>\n",
       "      <td>22</td>\n",
       "      <td>W 113TH ST</td>\n",
       "      <td>T086</td>\n",
       "      <td>2200  W 113TH ST, Chicago, IL</td>\n",
       "      <td>41.688324</td>\n",
       "      <td>-87.676709</td>\n",
       "      <td>8</td>\n",
       "      <td>50</td>\n",
       "      <td>0</td>\n",
       "    </tr>\n",
       "    <tr>\n",
       "      <th>295</th>\n",
       "      <td>2007-07-11</td>\n",
       "      <td>2200 West 113th Street, Chicago, IL 60643, USA</td>\n",
       "      <td>CULEX PIPIENS/RESTUANS</td>\n",
       "      <td>22</td>\n",
       "      <td>W 113TH ST</td>\n",
       "      <td>T086</td>\n",
       "      <td>2200  W 113TH ST, Chicago, IL</td>\n",
       "      <td>41.688324</td>\n",
       "      <td>-87.676709</td>\n",
       "      <td>8</td>\n",
       "      <td>50</td>\n",
       "      <td>0</td>\n",
       "    </tr>\n",
       "    <tr>\n",
       "      <th>350</th>\n",
       "      <td>2007-07-11</td>\n",
       "      <td>3500 West 116th Street, Chicago, IL 60655, USA</td>\n",
       "      <td>CULEX PIPIENS/RESTUANS</td>\n",
       "      <td>35</td>\n",
       "      <td>W 116TH ST</td>\n",
       "      <td>T158</td>\n",
       "      <td>3500  W 116TH ST, Chicago, IL</td>\n",
       "      <td>41.682587</td>\n",
       "      <td>-87.707973</td>\n",
       "      <td>9</td>\n",
       "      <td>50</td>\n",
       "      <td>0</td>\n",
       "    </tr>\n",
       "    <tr>\n",
       "      <th>...</th>\n",
       "      <td>...</td>\n",
       "      <td>...</td>\n",
       "      <td>...</td>\n",
       "      <td>...</td>\n",
       "      <td>...</td>\n",
       "      <td>...</td>\n",
       "      <td>...</td>\n",
       "      <td>...</td>\n",
       "      <td>...</td>\n",
       "      <td>...</td>\n",
       "      <td>...</td>\n",
       "      <td>...</td>\n",
       "    </tr>\n",
       "    <tr>\n",
       "      <th>10124</th>\n",
       "      <td>2013-09-06</td>\n",
       "      <td>ORD Terminal 5, O'Hare International Airport, ...</td>\n",
       "      <td>CULEX PIPIENS/RESTUANS</td>\n",
       "      <td>10</td>\n",
       "      <td>W OHARE AIRPORT</td>\n",
       "      <td>T900</td>\n",
       "      <td>1000  W OHARE AIRPORT, Chicago, IL</td>\n",
       "      <td>41.974689</td>\n",
       "      <td>-87.890615</td>\n",
       "      <td>9</td>\n",
       "      <td>50</td>\n",
       "      <td>1</td>\n",
       "    </tr>\n",
       "    <tr>\n",
       "      <th>10259</th>\n",
       "      <td>2013-09-12</td>\n",
       "      <td>ORD Terminal 5, O'Hare International Airport, ...</td>\n",
       "      <td>CULEX PIPIENS/RESTUANS</td>\n",
       "      <td>10</td>\n",
       "      <td>W OHARE AIRPORT</td>\n",
       "      <td>T900</td>\n",
       "      <td>1000  W OHARE AIRPORT, Chicago, IL</td>\n",
       "      <td>41.974689</td>\n",
       "      <td>-87.890615</td>\n",
       "      <td>9</td>\n",
       "      <td>50</td>\n",
       "      <td>0</td>\n",
       "    </tr>\n",
       "    <tr>\n",
       "      <th>10262</th>\n",
       "      <td>2013-09-12</td>\n",
       "      <td>ORD Terminal 5, O'Hare International Airport, ...</td>\n",
       "      <td>CULEX PIPIENS/RESTUANS</td>\n",
       "      <td>10</td>\n",
       "      <td>W OHARE AIRPORT</td>\n",
       "      <td>T900</td>\n",
       "      <td>1000  W OHARE AIRPORT, Chicago, IL</td>\n",
       "      <td>41.974689</td>\n",
       "      <td>-87.890615</td>\n",
       "      <td>9</td>\n",
       "      <td>50</td>\n",
       "      <td>0</td>\n",
       "    </tr>\n",
       "    <tr>\n",
       "      <th>10391</th>\n",
       "      <td>2013-09-19</td>\n",
       "      <td>ORD Terminal 5, O'Hare International Airport, ...</td>\n",
       "      <td>CULEX PIPIENS</td>\n",
       "      <td>10</td>\n",
       "      <td>W OHARE AIRPORT</td>\n",
       "      <td>T900</td>\n",
       "      <td>1000  W OHARE AIRPORT, Chicago, IL</td>\n",
       "      <td>41.974689</td>\n",
       "      <td>-87.890615</td>\n",
       "      <td>9</td>\n",
       "      <td>13</td>\n",
       "      <td>0</td>\n",
       "    </tr>\n",
       "    <tr>\n",
       "      <th>10392</th>\n",
       "      <td>2013-09-19</td>\n",
       "      <td>ORD Terminal 5, O'Hare International Airport, ...</td>\n",
       "      <td>CULEX PIPIENS</td>\n",
       "      <td>10</td>\n",
       "      <td>W OHARE AIRPORT</td>\n",
       "      <td>T900</td>\n",
       "      <td>1000  W OHARE AIRPORT, Chicago, IL</td>\n",
       "      <td>41.974689</td>\n",
       "      <td>-87.890615</td>\n",
       "      <td>9</td>\n",
       "      <td>13</td>\n",
       "      <td>0</td>\n",
       "    </tr>\n",
       "  </tbody>\n",
       "</table>\n",
       "<p>1062 rows × 12 columns</p>\n",
       "</div>"
      ],
      "text/plain": [
       "            date                                            address  \\\n",
       "98    2007-06-26     2200 West 113th Street, Chicago, IL 60643, USA   \n",
       "99    2007-06-26     2200 West 113th Street, Chicago, IL 60643, USA   \n",
       "293   2007-07-11     2200 West 113th Street, Chicago, IL 60643, USA   \n",
       "295   2007-07-11     2200 West 113th Street, Chicago, IL 60643, USA   \n",
       "350   2007-07-11     3500 West 116th Street, Chicago, IL 60655, USA   \n",
       "...          ...                                                ...   \n",
       "10124 2013-09-06  ORD Terminal 5, O'Hare International Airport, ...   \n",
       "10259 2013-09-12  ORD Terminal 5, O'Hare International Airport, ...   \n",
       "10262 2013-09-12  ORD Terminal 5, O'Hare International Airport, ...   \n",
       "10391 2013-09-19  ORD Terminal 5, O'Hare International Airport, ...   \n",
       "10392 2013-09-19  ORD Terminal 5, O'Hare International Airport, ...   \n",
       "\n",
       "                      species  block            street  trap  \\\n",
       "98     CULEX PIPIENS/RESTUANS     22        W 113TH ST  T086   \n",
       "99     CULEX PIPIENS/RESTUANS     22        W 113TH ST  T086   \n",
       "293    CULEX PIPIENS/RESTUANS     22        W 113TH ST  T086   \n",
       "295    CULEX PIPIENS/RESTUANS     22        W 113TH ST  T086   \n",
       "350    CULEX PIPIENS/RESTUANS     35        W 116TH ST  T158   \n",
       "...                       ...    ...               ...   ...   \n",
       "10124  CULEX PIPIENS/RESTUANS     10   W OHARE AIRPORT  T900   \n",
       "10259  CULEX PIPIENS/RESTUANS     10   W OHARE AIRPORT  T900   \n",
       "10262  CULEX PIPIENS/RESTUANS     10   W OHARE AIRPORT  T900   \n",
       "10391           CULEX PIPIENS     10   W OHARE AIRPORT  T900   \n",
       "10392           CULEX PIPIENS     10   W OHARE AIRPORT  T900   \n",
       "\n",
       "                address_number_and_street   latitude  longitude  \\\n",
       "98          2200  W 113TH ST, Chicago, IL  41.688324 -87.676709   \n",
       "99          2200  W 113TH ST, Chicago, IL  41.688324 -87.676709   \n",
       "293         2200  W 113TH ST, Chicago, IL  41.688324 -87.676709   \n",
       "295         2200  W 113TH ST, Chicago, IL  41.688324 -87.676709   \n",
       "350         3500  W 116TH ST, Chicago, IL  41.682587 -87.707973   \n",
       "...                                   ...        ...        ...   \n",
       "10124  1000  W OHARE AIRPORT, Chicago, IL  41.974689 -87.890615   \n",
       "10259  1000  W OHARE AIRPORT, Chicago, IL  41.974689 -87.890615   \n",
       "10262  1000  W OHARE AIRPORT, Chicago, IL  41.974689 -87.890615   \n",
       "10391  1000  W OHARE AIRPORT, Chicago, IL  41.974689 -87.890615   \n",
       "10392  1000  W OHARE AIRPORT, Chicago, IL  41.974689 -87.890615   \n",
       "\n",
       "       address_accuracy  num_mosquitos  wnv_present  \n",
       "98                    8              1            0  \n",
       "99                    8              1            0  \n",
       "293                   8             50            0  \n",
       "295                   8             50            0  \n",
       "350                   9             50            0  \n",
       "...                 ...            ...          ...  \n",
       "10124                 9             50            1  \n",
       "10259                 9             50            0  \n",
       "10262                 9             50            0  \n",
       "10391                 9             13            0  \n",
       "10392                 9             13            0  \n",
       "\n",
       "[1062 rows x 12 columns]"
      ]
     },
     "execution_count": 8,
     "metadata": {},
     "output_type": "execute_result"
    }
   ],
   "source": [
    "train[train.duplicated(keep=False)]"
   ]
  },
  {
   "cell_type": "markdown",
   "id": "a017db4f",
   "metadata": {},
   "source": [
    "As the number of mosquitos in each row are capped at 50, traps with more than 50 mosquitos will have multiple rows. However, there are rows where the number of mosquitos is less than 50 and still have duplicated rows i.e. 98 and 99. Hence we will drop these rows."
   ]
  },
  {
   "cell_type": "code",
   "execution_count": 9,
   "id": "4188d7a5",
   "metadata": {},
   "outputs": [],
   "source": [
    "train.drop(index = train[(train.duplicated(keep=False)) & (train['num_mosquitos'] <50)].index, inplace = True)"
   ]
  },
  {
   "cell_type": "markdown",
   "id": "ad812b76",
   "metadata": {},
   "source": [
    "#### Traps"
   ]
  },
  {
   "cell_type": "markdown",
   "id": "dab8cbf8",
   "metadata": {},
   "source": [
    "Traps are described by block and street names. However we do have the longitude and latitude of the traps which provide the exact location of the traps. Hence we will drop columns describing the address."
   ]
  },
  {
   "cell_type": "code",
   "execution_count": 10,
   "id": "105d8a0d",
   "metadata": {},
   "outputs": [
    {
     "data": {
      "text/plain": [
       "Index(['date', 'address', 'species', 'block', 'street', 'trap',\n",
       "       'address_number_and_street', 'latitude', 'longitude',\n",
       "       'address_accuracy', 'num_mosquitos', 'wnv_present'],\n",
       "      dtype='object')"
      ]
     },
     "execution_count": 10,
     "metadata": {},
     "output_type": "execute_result"
    }
   ],
   "source": [
    "train.columns"
   ]
  },
  {
   "cell_type": "code",
   "execution_count": 11,
   "id": "eab264cd",
   "metadata": {},
   "outputs": [],
   "source": [
    "train.drop(columns = {'address', 'block', 'street', 'address_number_and_street', 'address_accuracy'}, inplace = True)"
   ]
  },
  {
   "cell_type": "code",
   "execution_count": 12,
   "id": "5199f8da",
   "metadata": {},
   "outputs": [
    {
     "data": {
      "text/html": [
       "<div>\n",
       "<style scoped>\n",
       "    .dataframe tbody tr th:only-of-type {\n",
       "        vertical-align: middle;\n",
       "    }\n",
       "\n",
       "    .dataframe tbody tr th {\n",
       "        vertical-align: top;\n",
       "    }\n",
       "\n",
       "    .dataframe thead th {\n",
       "        text-align: right;\n",
       "    }\n",
       "</style>\n",
       "<table border=\"1\" class=\"dataframe\">\n",
       "  <thead>\n",
       "    <tr style=\"text-align: right;\">\n",
       "      <th></th>\n",
       "      <th>date</th>\n",
       "      <th>species</th>\n",
       "      <th>trap</th>\n",
       "      <th>latitude</th>\n",
       "      <th>longitude</th>\n",
       "      <th>num_mosquitos</th>\n",
       "      <th>wnv_present</th>\n",
       "    </tr>\n",
       "  </thead>\n",
       "  <tbody>\n",
       "    <tr>\n",
       "      <th>0</th>\n",
       "      <td>2007-05-29</td>\n",
       "      <td>CULEX PIPIENS/RESTUANS</td>\n",
       "      <td>T002</td>\n",
       "      <td>41.954690</td>\n",
       "      <td>-87.800991</td>\n",
       "      <td>1</td>\n",
       "      <td>0</td>\n",
       "    </tr>\n",
       "    <tr>\n",
       "      <th>1</th>\n",
       "      <td>2007-05-29</td>\n",
       "      <td>CULEX RESTUANS</td>\n",
       "      <td>T002</td>\n",
       "      <td>41.954690</td>\n",
       "      <td>-87.800991</td>\n",
       "      <td>1</td>\n",
       "      <td>0</td>\n",
       "    </tr>\n",
       "    <tr>\n",
       "      <th>2</th>\n",
       "      <td>2007-05-29</td>\n",
       "      <td>CULEX RESTUANS</td>\n",
       "      <td>T007</td>\n",
       "      <td>41.994991</td>\n",
       "      <td>-87.769279</td>\n",
       "      <td>1</td>\n",
       "      <td>0</td>\n",
       "    </tr>\n",
       "    <tr>\n",
       "      <th>3</th>\n",
       "      <td>2007-05-29</td>\n",
       "      <td>CULEX PIPIENS/RESTUANS</td>\n",
       "      <td>T015</td>\n",
       "      <td>41.974089</td>\n",
       "      <td>-87.824812</td>\n",
       "      <td>1</td>\n",
       "      <td>0</td>\n",
       "    </tr>\n",
       "    <tr>\n",
       "      <th>4</th>\n",
       "      <td>2007-05-29</td>\n",
       "      <td>CULEX RESTUANS</td>\n",
       "      <td>T015</td>\n",
       "      <td>41.974089</td>\n",
       "      <td>-87.824812</td>\n",
       "      <td>4</td>\n",
       "      <td>0</td>\n",
       "    </tr>\n",
       "  </tbody>\n",
       "</table>\n",
       "</div>"
      ],
      "text/plain": [
       "        date                 species  trap   latitude  longitude  \\\n",
       "0 2007-05-29  CULEX PIPIENS/RESTUANS  T002  41.954690 -87.800991   \n",
       "1 2007-05-29          CULEX RESTUANS  T002  41.954690 -87.800991   \n",
       "2 2007-05-29          CULEX RESTUANS  T007  41.994991 -87.769279   \n",
       "3 2007-05-29  CULEX PIPIENS/RESTUANS  T015  41.974089 -87.824812   \n",
       "4 2007-05-29          CULEX RESTUANS  T015  41.974089 -87.824812   \n",
       "\n",
       "   num_mosquitos  wnv_present  \n",
       "0              1            0  \n",
       "1              1            0  \n",
       "2              1            0  \n",
       "3              1            0  \n",
       "4              4            0  "
      ]
     },
     "execution_count": 12,
     "metadata": {},
     "output_type": "execute_result"
    }
   ],
   "source": [
    "train.head()"
   ]
  },
  {
   "cell_type": "markdown",
   "id": "aba35cdb",
   "metadata": {},
   "source": [
    "#### Number of Mosquitos and Presence of Virus"
   ]
  },
  {
   "cell_type": "markdown",
   "id": "538e28d5",
   "metadata": {},
   "source": [
    "As mentioned, the number of mosquitos in each row are capped at 50 and there are traps with more than 50 mosquitos. Let us look at the traps with mosquitos more than 50. "
   ]
  },
  {
   "cell_type": "code",
   "execution_count": 13,
   "id": "da9c37fc",
   "metadata": {},
   "outputs": [
    {
     "data": {
      "image/png": "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\n",
      "text/plain": [
       "<Figure size 1080x576 with 1 Axes>"
      ]
     },
     "metadata": {
      "needs_background": "light"
     },
     "output_type": "display_data"
    }
   ],
   "source": [
    "# plot only the number of mosquitos in trap if the virus was detected\n",
    "plt.figure(figsize=(15, 8))\n",
    "plt.title(\"Number of mosquitos per entry\", fontdict={'fontsize': 16})\n",
    "sns.countplot(data=train[train['wnv_present'] == 1], x='num_mosquitos', palette='tab20c')\n",
    "plt.xlabel('Count', fontdict={'fontsize': 12})\n",
    "plt.ylabel('Num of Mosquito', fontdict={'fontsize': 12});"
   ]
  },
  {
   "cell_type": "markdown",
   "id": "a830c5c8",
   "metadata": {},
   "source": [
    "The above plot confirms that there is no obvious trend between the virus being detected in the trap and the number of mosquitos in that trap, except at 50, which is because the data entries are capped."
   ]
  },
  {
   "cell_type": "code",
   "execution_count": 14,
   "id": "bd6c5300",
   "metadata": {},
   "outputs": [
    {
     "data": {
      "text/html": [
       "<div>\n",
       "<style scoped>\n",
       "    .dataframe tbody tr th:only-of-type {\n",
       "        vertical-align: middle;\n",
       "    }\n",
       "\n",
       "    .dataframe tbody tr th {\n",
       "        vertical-align: top;\n",
       "    }\n",
       "\n",
       "    .dataframe thead th {\n",
       "        text-align: right;\n",
       "    }\n",
       "</style>\n",
       "<table border=\"1\" class=\"dataframe\">\n",
       "  <thead>\n",
       "    <tr style=\"text-align: right;\">\n",
       "      <th></th>\n",
       "      <th>date</th>\n",
       "      <th>species</th>\n",
       "      <th>trap</th>\n",
       "      <th>latitude</th>\n",
       "      <th>longitude</th>\n",
       "      <th>num_mosquitos</th>\n",
       "      <th>wnv_present</th>\n",
       "    </tr>\n",
       "  </thead>\n",
       "  <tbody>\n",
       "    <tr>\n",
       "      <th>9988</th>\n",
       "      <td>2013-08-29</td>\n",
       "      <td>CULEX PIPIENS</td>\n",
       "      <td>T900</td>\n",
       "      <td>41.974689</td>\n",
       "      <td>-87.890615</td>\n",
       "      <td>50</td>\n",
       "      <td>1</td>\n",
       "    </tr>\n",
       "    <tr>\n",
       "      <th>9992</th>\n",
       "      <td>2013-08-29</td>\n",
       "      <td>CULEX PIPIENS</td>\n",
       "      <td>T900</td>\n",
       "      <td>41.974689</td>\n",
       "      <td>-87.890615</td>\n",
       "      <td>50</td>\n",
       "      <td>1</td>\n",
       "    </tr>\n",
       "    <tr>\n",
       "      <th>10011</th>\n",
       "      <td>2013-08-29</td>\n",
       "      <td>CULEX PIPIENS/RESTUANS</td>\n",
       "      <td>T233</td>\n",
       "      <td>42.009876</td>\n",
       "      <td>-87.807277</td>\n",
       "      <td>50</td>\n",
       "      <td>1</td>\n",
       "    </tr>\n",
       "    <tr>\n",
       "      <th>10012</th>\n",
       "      <td>2013-08-29</td>\n",
       "      <td>CULEX PIPIENS/RESTUANS</td>\n",
       "      <td>T233</td>\n",
       "      <td>42.009876</td>\n",
       "      <td>-87.807277</td>\n",
       "      <td>50</td>\n",
       "      <td>0</td>\n",
       "    </tr>\n",
       "    <tr>\n",
       "      <th>10013</th>\n",
       "      <td>2013-08-29</td>\n",
       "      <td>CULEX PIPIENS/RESTUANS</td>\n",
       "      <td>T233</td>\n",
       "      <td>42.009876</td>\n",
       "      <td>-87.807277</td>\n",
       "      <td>50</td>\n",
       "      <td>1</td>\n",
       "    </tr>\n",
       "    <tr>\n",
       "      <th>10014</th>\n",
       "      <td>2013-08-29</td>\n",
       "      <td>CULEX PIPIENS</td>\n",
       "      <td>T233</td>\n",
       "      <td>42.009876</td>\n",
       "      <td>-87.807277</td>\n",
       "      <td>50</td>\n",
       "      <td>1</td>\n",
       "    </tr>\n",
       "    <tr>\n",
       "      <th>10020</th>\n",
       "      <td>2013-09-06</td>\n",
       "      <td>CULEX PIPIENS/RESTUANS</td>\n",
       "      <td>T002</td>\n",
       "      <td>41.954690</td>\n",
       "      <td>-87.800991</td>\n",
       "      <td>50</td>\n",
       "      <td>0</td>\n",
       "    </tr>\n",
       "    <tr>\n",
       "      <th>10029</th>\n",
       "      <td>2013-09-06</td>\n",
       "      <td>CULEX PIPIENS/RESTUANS</td>\n",
       "      <td>T054</td>\n",
       "      <td>41.921965</td>\n",
       "      <td>-87.632085</td>\n",
       "      <td>50</td>\n",
       "      <td>1</td>\n",
       "    </tr>\n",
       "    <tr>\n",
       "      <th>10031</th>\n",
       "      <td>2013-09-06</td>\n",
       "      <td>CULEX PIPIENS</td>\n",
       "      <td>T054</td>\n",
       "      <td>41.921965</td>\n",
       "      <td>-87.632085</td>\n",
       "      <td>50</td>\n",
       "      <td>1</td>\n",
       "    </tr>\n",
       "    <tr>\n",
       "      <th>10044</th>\n",
       "      <td>2013-09-06</td>\n",
       "      <td>CULEX PIPIENS</td>\n",
       "      <td>T033</td>\n",
       "      <td>41.906638</td>\n",
       "      <td>-87.701431</td>\n",
       "      <td>50</td>\n",
       "      <td>0</td>\n",
       "    </tr>\n",
       "    <tr>\n",
       "      <th>10058</th>\n",
       "      <td>2013-09-06</td>\n",
       "      <td>CULEX PIPIENS/RESTUANS</td>\n",
       "      <td>T220</td>\n",
       "      <td>41.963976</td>\n",
       "      <td>-87.691810</td>\n",
       "      <td>50</td>\n",
       "      <td>1</td>\n",
       "    </tr>\n",
       "    <tr>\n",
       "      <th>10098</th>\n",
       "      <td>2013-09-06</td>\n",
       "      <td>CULEX PIPIENS</td>\n",
       "      <td>T114</td>\n",
       "      <td>41.798697</td>\n",
       "      <td>-87.736812</td>\n",
       "      <td>50</td>\n",
       "      <td>0</td>\n",
       "    </tr>\n",
       "    <tr>\n",
       "      <th>10118</th>\n",
       "      <td>2013-09-06</td>\n",
       "      <td>CULEX PIPIENS/RESTUANS</td>\n",
       "      <td>T900</td>\n",
       "      <td>41.974689</td>\n",
       "      <td>-87.890615</td>\n",
       "      <td>50</td>\n",
       "      <td>0</td>\n",
       "    </tr>\n",
       "    <tr>\n",
       "      <th>10122</th>\n",
       "      <td>2013-09-06</td>\n",
       "      <td>CULEX PIPIENS/RESTUANS</td>\n",
       "      <td>T900</td>\n",
       "      <td>41.974689</td>\n",
       "      <td>-87.890615</td>\n",
       "      <td>50</td>\n",
       "      <td>1</td>\n",
       "    </tr>\n",
       "    <tr>\n",
       "      <th>10124</th>\n",
       "      <td>2013-09-06</td>\n",
       "      <td>CULEX PIPIENS/RESTUANS</td>\n",
       "      <td>T900</td>\n",
       "      <td>41.974689</td>\n",
       "      <td>-87.890615</td>\n",
       "      <td>50</td>\n",
       "      <td>1</td>\n",
       "    </tr>\n",
       "    <tr>\n",
       "      <th>10240</th>\n",
       "      <td>2013-09-12</td>\n",
       "      <td>CULEX PIPIENS/RESTUANS</td>\n",
       "      <td>T115</td>\n",
       "      <td>41.673408</td>\n",
       "      <td>-87.599862</td>\n",
       "      <td>50</td>\n",
       "      <td>1</td>\n",
       "    </tr>\n",
       "    <tr>\n",
       "      <th>10242</th>\n",
       "      <td>2013-09-12</td>\n",
       "      <td>CULEX PIPIENS/RESTUANS</td>\n",
       "      <td>T115</td>\n",
       "      <td>41.673408</td>\n",
       "      <td>-87.599862</td>\n",
       "      <td>50</td>\n",
       "      <td>0</td>\n",
       "    </tr>\n",
       "    <tr>\n",
       "      <th>10259</th>\n",
       "      <td>2013-09-12</td>\n",
       "      <td>CULEX PIPIENS/RESTUANS</td>\n",
       "      <td>T900</td>\n",
       "      <td>41.974689</td>\n",
       "      <td>-87.890615</td>\n",
       "      <td>50</td>\n",
       "      <td>0</td>\n",
       "    </tr>\n",
       "    <tr>\n",
       "      <th>10262</th>\n",
       "      <td>2013-09-12</td>\n",
       "      <td>CULEX PIPIENS/RESTUANS</td>\n",
       "      <td>T900</td>\n",
       "      <td>41.974689</td>\n",
       "      <td>-87.890615</td>\n",
       "      <td>50</td>\n",
       "      <td>0</td>\n",
       "    </tr>\n",
       "    <tr>\n",
       "      <th>10267</th>\n",
       "      <td>2013-09-12</td>\n",
       "      <td>CULEX PIPIENS</td>\n",
       "      <td>T900</td>\n",
       "      <td>41.974689</td>\n",
       "      <td>-87.890615</td>\n",
       "      <td>50</td>\n",
       "      <td>0</td>\n",
       "    </tr>\n",
       "  </tbody>\n",
       "</table>\n",
       "</div>"
      ],
      "text/plain": [
       "            date                 species  trap   latitude  longitude  \\\n",
       "9988  2013-08-29           CULEX PIPIENS  T900  41.974689 -87.890615   \n",
       "9992  2013-08-29           CULEX PIPIENS  T900  41.974689 -87.890615   \n",
       "10011 2013-08-29  CULEX PIPIENS/RESTUANS  T233  42.009876 -87.807277   \n",
       "10012 2013-08-29  CULEX PIPIENS/RESTUANS  T233  42.009876 -87.807277   \n",
       "10013 2013-08-29  CULEX PIPIENS/RESTUANS  T233  42.009876 -87.807277   \n",
       "10014 2013-08-29           CULEX PIPIENS  T233  42.009876 -87.807277   \n",
       "10020 2013-09-06  CULEX PIPIENS/RESTUANS  T002  41.954690 -87.800991   \n",
       "10029 2013-09-06  CULEX PIPIENS/RESTUANS  T054  41.921965 -87.632085   \n",
       "10031 2013-09-06           CULEX PIPIENS  T054  41.921965 -87.632085   \n",
       "10044 2013-09-06           CULEX PIPIENS  T033  41.906638 -87.701431   \n",
       "10058 2013-09-06  CULEX PIPIENS/RESTUANS  T220  41.963976 -87.691810   \n",
       "10098 2013-09-06           CULEX PIPIENS  T114  41.798697 -87.736812   \n",
       "10118 2013-09-06  CULEX PIPIENS/RESTUANS  T900  41.974689 -87.890615   \n",
       "10122 2013-09-06  CULEX PIPIENS/RESTUANS  T900  41.974689 -87.890615   \n",
       "10124 2013-09-06  CULEX PIPIENS/RESTUANS  T900  41.974689 -87.890615   \n",
       "10240 2013-09-12  CULEX PIPIENS/RESTUANS  T115  41.673408 -87.599862   \n",
       "10242 2013-09-12  CULEX PIPIENS/RESTUANS  T115  41.673408 -87.599862   \n",
       "10259 2013-09-12  CULEX PIPIENS/RESTUANS  T900  41.974689 -87.890615   \n",
       "10262 2013-09-12  CULEX PIPIENS/RESTUANS  T900  41.974689 -87.890615   \n",
       "10267 2013-09-12           CULEX PIPIENS  T900  41.974689 -87.890615   \n",
       "\n",
       "       num_mosquitos  wnv_present  \n",
       "9988              50            1  \n",
       "9992              50            1  \n",
       "10011             50            1  \n",
       "10012             50            0  \n",
       "10013             50            1  \n",
       "10014             50            1  \n",
       "10020             50            0  \n",
       "10029             50            1  \n",
       "10031             50            1  \n",
       "10044             50            0  \n",
       "10058             50            1  \n",
       "10098             50            0  \n",
       "10118             50            0  \n",
       "10122             50            1  \n",
       "10124             50            1  \n",
       "10240             50            1  \n",
       "10242             50            0  \n",
       "10259             50            0  \n",
       "10262             50            0  \n",
       "10267             50            0  "
      ]
     },
     "execution_count": 14,
     "metadata": {},
     "output_type": "execute_result"
    }
   ],
   "source": [
    "train[((train['num_mosquitos'] == 50) & (train['wnv_present'] == 0)) | ((train['num_mosquitos'] == 50) & (train['wnv_present'] == 1))].tail(20)"
   ]
  },
  {
   "cell_type": "markdown",
   "id": "0b274aa7",
   "metadata": {},
   "source": [
    "Just by looking at the data above, we are able to see traps that have more than 50 mosquitos but have virus present only in some of the rows. Additionally, we see numerous number of duplicated rows, such as index = 9988 and index = 9992."
   ]
  },
  {
   "cell_type": "code",
   "execution_count": 15,
   "id": "03540d06",
   "metadata": {},
   "outputs": [
    {
     "data": {
      "text/html": [
       "<div>\n",
       "<style scoped>\n",
       "    .dataframe tbody tr th:only-of-type {\n",
       "        vertical-align: middle;\n",
       "    }\n",
       "\n",
       "    .dataframe tbody tr th {\n",
       "        vertical-align: top;\n",
       "    }\n",
       "\n",
       "    .dataframe thead th {\n",
       "        text-align: right;\n",
       "    }\n",
       "</style>\n",
       "<table border=\"1\" class=\"dataframe\">\n",
       "  <thead>\n",
       "    <tr style=\"text-align: right;\">\n",
       "      <th></th>\n",
       "      <th>date</th>\n",
       "      <th>species</th>\n",
       "      <th>trap</th>\n",
       "      <th>latitude</th>\n",
       "      <th>longitude</th>\n",
       "      <th>num_mosquitos</th>\n",
       "      <th>wnv_present</th>\n",
       "    </tr>\n",
       "  </thead>\n",
       "  <tbody>\n",
       "    <tr>\n",
       "      <th>4888</th>\n",
       "      <td>2009-07-24</td>\n",
       "      <td>CULEX PIPIENS/RESTUANS</td>\n",
       "      <td>T002</td>\n",
       "      <td>41.95469</td>\n",
       "      <td>-87.800991</td>\n",
       "      <td>50</td>\n",
       "      <td>0</td>\n",
       "    </tr>\n",
       "    <tr>\n",
       "      <th>4889</th>\n",
       "      <td>2009-07-24</td>\n",
       "      <td>CULEX PIPIENS/RESTUANS</td>\n",
       "      <td>T002</td>\n",
       "      <td>41.95469</td>\n",
       "      <td>-87.800991</td>\n",
       "      <td>25</td>\n",
       "      <td>0</td>\n",
       "    </tr>\n",
       "    <tr>\n",
       "      <th>4890</th>\n",
       "      <td>2009-07-24</td>\n",
       "      <td>CULEX PIPIENS/RESTUANS</td>\n",
       "      <td>T002</td>\n",
       "      <td>41.95469</td>\n",
       "      <td>-87.800991</td>\n",
       "      <td>50</td>\n",
       "      <td>1</td>\n",
       "    </tr>\n",
       "    <tr>\n",
       "      <th>4891</th>\n",
       "      <td>2009-07-24</td>\n",
       "      <td>CULEX PIPIENS/RESTUANS</td>\n",
       "      <td>T002</td>\n",
       "      <td>41.95469</td>\n",
       "      <td>-87.800991</td>\n",
       "      <td>50</td>\n",
       "      <td>0</td>\n",
       "    </tr>\n",
       "    <tr>\n",
       "      <th>4892</th>\n",
       "      <td>2009-07-24</td>\n",
       "      <td>CULEX PIPIENS/RESTUANS</td>\n",
       "      <td>T002</td>\n",
       "      <td>41.95469</td>\n",
       "      <td>-87.800991</td>\n",
       "      <td>40</td>\n",
       "      <td>0</td>\n",
       "    </tr>\n",
       "    <tr>\n",
       "      <th>4893</th>\n",
       "      <td>2009-07-24</td>\n",
       "      <td>CULEX RESTUANS</td>\n",
       "      <td>T002</td>\n",
       "      <td>41.95469</td>\n",
       "      <td>-87.800991</td>\n",
       "      <td>18</td>\n",
       "      <td>0</td>\n",
       "    </tr>\n",
       "    <tr>\n",
       "      <th>4894</th>\n",
       "      <td>2009-07-24</td>\n",
       "      <td>CULEX PIPIENS</td>\n",
       "      <td>T002</td>\n",
       "      <td>41.95469</td>\n",
       "      <td>-87.800991</td>\n",
       "      <td>4</td>\n",
       "      <td>0</td>\n",
       "    </tr>\n",
       "  </tbody>\n",
       "</table>\n",
       "</div>"
      ],
      "text/plain": [
       "           date                 species  trap  latitude  longitude  \\\n",
       "4888 2009-07-24  CULEX PIPIENS/RESTUANS  T002  41.95469 -87.800991   \n",
       "4889 2009-07-24  CULEX PIPIENS/RESTUANS  T002  41.95469 -87.800991   \n",
       "4890 2009-07-24  CULEX PIPIENS/RESTUANS  T002  41.95469 -87.800991   \n",
       "4891 2009-07-24  CULEX PIPIENS/RESTUANS  T002  41.95469 -87.800991   \n",
       "4892 2009-07-24  CULEX PIPIENS/RESTUANS  T002  41.95469 -87.800991   \n",
       "4893 2009-07-24          CULEX RESTUANS  T002  41.95469 -87.800991   \n",
       "4894 2009-07-24           CULEX PIPIENS  T002  41.95469 -87.800991   \n",
       "\n",
       "      num_mosquitos  wnv_present  \n",
       "4888             50            0  \n",
       "4889             25            0  \n",
       "4890             50            1  \n",
       "4891             50            0  \n",
       "4892             40            0  \n",
       "4893             18            0  \n",
       "4894              4            0  "
      ]
     },
     "execution_count": 15,
     "metadata": {},
     "output_type": "execute_result"
    }
   ],
   "source": [
    "train[(train['trap'] == 'T002') & (train['date'] == '2009-07-24')]"
   ]
  },
  {
   "cell_type": "markdown",
   "id": "0f8234dc",
   "metadata": {},
   "source": [
    "For trap T115 on 2013-09-12, we see only some rows indicating presence of virus even though they belong to the same trap and are recorded on the same date. We also have to keep in mind that traps are placed at strategic locations and not all mosquitos can be captured by the traps. Although each row is capped at 50, the mosquitos are still taken from the same trap. Hence we will classify all bins in traps as '1' if there are some bins with virus present."
   ]
  },
  {
   "cell_type": "code",
   "execution_count": 16,
   "id": "899ff437",
   "metadata": {},
   "outputs": [],
   "source": [
    "train = train.groupby([column for column in train.columns \\\n",
    "                       if column not in ['num_mosquitos','wnv_present']]).sum().reset_index()\n",
    "train['wnv_present'] = train['wnv_present'].map(lambda x: 1 if x > 0 else 0)"
   ]
  },
  {
   "cell_type": "code",
   "execution_count": 17,
   "id": "ff699106",
   "metadata": {},
   "outputs": [
    {
     "data": {
      "text/plain": [
       "(8428, 7)"
      ]
     },
     "execution_count": 17,
     "metadata": {},
     "output_type": "execute_result"
    }
   ],
   "source": [
    "train.shape"
   ]
  },
  {
   "cell_type": "markdown",
   "id": "8b9af8a5",
   "metadata": {},
   "source": [
    "With that, our duplicated rows have been removed as well."
   ]
  },
  {
   "cell_type": "markdown",
   "id": "aea49bcf",
   "metadata": {},
   "source": [
    "### Test Dataset"
   ]
  },
  {
   "cell_type": "markdown",
   "id": "889f53ab",
   "metadata": {},
   "source": [
    "We will implement all the structural changes that we did in our Train dataset to our Test dataset to ensure that blah blah blah blah"
   ]
  },
  {
   "cell_type": "markdown",
   "id": "8291c372",
   "metadata": {},
   "source": [
    "#### Overview of Test Dataset"
   ]
  },
  {
   "cell_type": "code",
   "execution_count": 18,
   "id": "369508be",
   "metadata": {},
   "outputs": [
    {
     "name": "stdout",
     "output_type": "stream",
     "text": [
      "Number of rows: 116293\n",
      "Number of columns: 11\n",
      "\n",
      "Names of columns in dataset.\n"
     ]
    },
    {
     "data": {
      "text/plain": [
       "Index(['id', 'date', 'address', 'species', 'block', 'street', 'trap',\n",
       "       'address_number_and_street', 'latitude', 'longitude',\n",
       "       'address_accuracy'],\n",
       "      dtype='object')"
      ]
     },
     "metadata": {},
     "output_type": "display_data"
    },
    {
     "data": {
      "text/plain": [
       "id                                    int64\n",
       "date                         datetime64[ns]\n",
       "address                              object\n",
       "species                              object\n",
       "block                                 int64\n",
       "street                               object\n",
       "trap                                 object\n",
       "address_number_and_street            object\n",
       "latitude                            float64\n",
       "longitude                           float64\n",
       "address_accuracy                      int64\n",
       "dtype: object"
      ]
     },
     "metadata": {},
     "output_type": "display_data"
    },
    {
     "name": "stdout",
     "output_type": "stream",
     "text": [
      "Missing values in dataset\n"
     ]
    },
    {
     "data": {
      "text/plain": [
       "id                           0\n",
       "date                         0\n",
       "address                      0\n",
       "species                      0\n",
       "block                        0\n",
       "street                       0\n",
       "trap                         0\n",
       "address_number_and_street    0\n",
       "latitude                     0\n",
       "longitude                    0\n",
       "address_accuracy             0\n",
       "dtype: int64"
      ]
     },
     "metadata": {},
     "output_type": "display_data"
    },
    {
     "name": "stdout",
     "output_type": "stream",
     "text": [
      "Number of duplicate values in dataset: 0\n"
     ]
    }
   ],
   "source": [
    "df_overview(test)"
   ]
  },
  {
   "cell_type": "markdown",
   "id": "afcd429d",
   "metadata": {},
   "source": [
    "#### Clean Test Dataset"
   ]
  },
  {
   "cell_type": "markdown",
   "id": "1a7f8eb9",
   "metadata": {},
   "source": [
    "We will clean the dataset based on our train dataset to ensure that the structures are the same when we proceed to model our data."
   ]
  },
  {
   "cell_type": "code",
   "execution_count": 19,
   "id": "686f488f",
   "metadata": {},
   "outputs": [],
   "source": [
    "test.drop(columns = {'id', 'address', 'block', 'street', \n",
    "                     'address_number_and_street', 'address_accuracy'}, inplace = True)"
   ]
  },
  {
   "cell_type": "code",
   "execution_count": 20,
   "id": "fe64f38c",
   "metadata": {},
   "outputs": [
    {
     "data": {
      "text/html": [
       "<div>\n",
       "<style scoped>\n",
       "    .dataframe tbody tr th:only-of-type {\n",
       "        vertical-align: middle;\n",
       "    }\n",
       "\n",
       "    .dataframe tbody tr th {\n",
       "        vertical-align: top;\n",
       "    }\n",
       "\n",
       "    .dataframe thead th {\n",
       "        text-align: right;\n",
       "    }\n",
       "</style>\n",
       "<table border=\"1\" class=\"dataframe\">\n",
       "  <thead>\n",
       "    <tr style=\"text-align: right;\">\n",
       "      <th></th>\n",
       "      <th>date</th>\n",
       "      <th>species</th>\n",
       "      <th>trap</th>\n",
       "      <th>latitude</th>\n",
       "      <th>longitude</th>\n",
       "    </tr>\n",
       "  </thead>\n",
       "  <tbody>\n",
       "    <tr>\n",
       "      <th>0</th>\n",
       "      <td>2008-06-11</td>\n",
       "      <td>CULEX PIPIENS/RESTUANS</td>\n",
       "      <td>T002</td>\n",
       "      <td>41.954690</td>\n",
       "      <td>-87.800991</td>\n",
       "    </tr>\n",
       "    <tr>\n",
       "      <th>1</th>\n",
       "      <td>2008-06-11</td>\n",
       "      <td>CULEX RESTUANS</td>\n",
       "      <td>T002</td>\n",
       "      <td>41.954690</td>\n",
       "      <td>-87.800991</td>\n",
       "    </tr>\n",
       "    <tr>\n",
       "      <th>2</th>\n",
       "      <td>2008-06-11</td>\n",
       "      <td>CULEX PIPIENS</td>\n",
       "      <td>T002</td>\n",
       "      <td>41.954690</td>\n",
       "      <td>-87.800991</td>\n",
       "    </tr>\n",
       "    <tr>\n",
       "      <th>3</th>\n",
       "      <td>2008-06-11</td>\n",
       "      <td>CULEX SALINARIUS</td>\n",
       "      <td>T002</td>\n",
       "      <td>41.954690</td>\n",
       "      <td>-87.800991</td>\n",
       "    </tr>\n",
       "    <tr>\n",
       "      <th>4</th>\n",
       "      <td>2008-06-11</td>\n",
       "      <td>CULEX TERRITANS</td>\n",
       "      <td>T002</td>\n",
       "      <td>41.954690</td>\n",
       "      <td>-87.800991</td>\n",
       "    </tr>\n",
       "    <tr>\n",
       "      <th>...</th>\n",
       "      <td>...</td>\n",
       "      <td>...</td>\n",
       "      <td>...</td>\n",
       "      <td>...</td>\n",
       "      <td>...</td>\n",
       "    </tr>\n",
       "    <tr>\n",
       "      <th>116288</th>\n",
       "      <td>2014-10-02</td>\n",
       "      <td>CULEX SALINARIUS</td>\n",
       "      <td>T054C</td>\n",
       "      <td>41.925652</td>\n",
       "      <td>-87.633590</td>\n",
       "    </tr>\n",
       "    <tr>\n",
       "      <th>116289</th>\n",
       "      <td>2014-10-02</td>\n",
       "      <td>CULEX TERRITANS</td>\n",
       "      <td>T054C</td>\n",
       "      <td>41.925652</td>\n",
       "      <td>-87.633590</td>\n",
       "    </tr>\n",
       "    <tr>\n",
       "      <th>116290</th>\n",
       "      <td>2014-10-02</td>\n",
       "      <td>CULEX TARSALIS</td>\n",
       "      <td>T054C</td>\n",
       "      <td>41.925652</td>\n",
       "      <td>-87.633590</td>\n",
       "    </tr>\n",
       "    <tr>\n",
       "      <th>116291</th>\n",
       "      <td>2014-10-02</td>\n",
       "      <td>UNSPECIFIED CULEX</td>\n",
       "      <td>T054C</td>\n",
       "      <td>41.925652</td>\n",
       "      <td>-87.633590</td>\n",
       "    </tr>\n",
       "    <tr>\n",
       "      <th>116292</th>\n",
       "      <td>2014-10-02</td>\n",
       "      <td>CULEX ERRATICUS</td>\n",
       "      <td>T054C</td>\n",
       "      <td>41.925652</td>\n",
       "      <td>-87.633590</td>\n",
       "    </tr>\n",
       "  </tbody>\n",
       "</table>\n",
       "<p>116293 rows × 5 columns</p>\n",
       "</div>"
      ],
      "text/plain": [
       "             date                 species   trap   latitude  longitude\n",
       "0      2008-06-11  CULEX PIPIENS/RESTUANS   T002  41.954690 -87.800991\n",
       "1      2008-06-11          CULEX RESTUANS   T002  41.954690 -87.800991\n",
       "2      2008-06-11           CULEX PIPIENS   T002  41.954690 -87.800991\n",
       "3      2008-06-11        CULEX SALINARIUS   T002  41.954690 -87.800991\n",
       "4      2008-06-11         CULEX TERRITANS   T002  41.954690 -87.800991\n",
       "...           ...                     ...    ...        ...        ...\n",
       "116288 2014-10-02        CULEX SALINARIUS  T054C  41.925652 -87.633590\n",
       "116289 2014-10-02         CULEX TERRITANS  T054C  41.925652 -87.633590\n",
       "116290 2014-10-02          CULEX TARSALIS  T054C  41.925652 -87.633590\n",
       "116291 2014-10-02       UNSPECIFIED CULEX  T054C  41.925652 -87.633590\n",
       "116292 2014-10-02         CULEX ERRATICUS  T054C  41.925652 -87.633590\n",
       "\n",
       "[116293 rows x 5 columns]"
      ]
     },
     "execution_count": 20,
     "metadata": {},
     "output_type": "execute_result"
    }
   ],
   "source": [
    "test"
   ]
  },
  {
   "cell_type": "markdown",
   "id": "ceb28500",
   "metadata": {},
   "source": [
    "### Weather Dataset"
   ]
  },
  {
   "cell_type": "markdown",
   "id": "b0491e3e",
   "metadata": {},
   "source": [
    "#### Overview of Weather Dataset"
   ]
  },
  {
   "cell_type": "markdown",
   "id": "7ee6d1c1",
   "metadata": {},
   "source": [
    "The weather dataset is taken from two stations from years 2007 to 2014."
   ]
  },
  {
   "cell_type": "code",
   "execution_count": 21,
   "id": "37f89e4e",
   "metadata": {},
   "outputs": [
    {
     "data": {
      "text/html": [
       "<div>\n",
       "<style scoped>\n",
       "    .dataframe tbody tr th:only-of-type {\n",
       "        vertical-align: middle;\n",
       "    }\n",
       "\n",
       "    .dataframe tbody tr th {\n",
       "        vertical-align: top;\n",
       "    }\n",
       "\n",
       "    .dataframe thead th {\n",
       "        text-align: right;\n",
       "    }\n",
       "</style>\n",
       "<table border=\"1\" class=\"dataframe\">\n",
       "  <thead>\n",
       "    <tr style=\"text-align: right;\">\n",
       "      <th></th>\n",
       "      <th>station</th>\n",
       "      <th>date</th>\n",
       "      <th>tmax</th>\n",
       "      <th>tmin</th>\n",
       "      <th>tavg</th>\n",
       "      <th>depart</th>\n",
       "      <th>dew_point</th>\n",
       "      <th>wet_bulb</th>\n",
       "      <th>heat</th>\n",
       "      <th>cool</th>\n",
       "      <th>...</th>\n",
       "      <th>code_sum</th>\n",
       "      <th>depth</th>\n",
       "      <th>water1</th>\n",
       "      <th>snow_fall</th>\n",
       "      <th>precip_total</th>\n",
       "      <th>stn_pressure</th>\n",
       "      <th>sea_level</th>\n",
       "      <th>result_speed</th>\n",
       "      <th>result_dir</th>\n",
       "      <th>avg_speed</th>\n",
       "    </tr>\n",
       "  </thead>\n",
       "  <tbody>\n",
       "    <tr>\n",
       "      <th>0</th>\n",
       "      <td>1</td>\n",
       "      <td>2007-05-01</td>\n",
       "      <td>83</td>\n",
       "      <td>50</td>\n",
       "      <td>67</td>\n",
       "      <td>14</td>\n",
       "      <td>51</td>\n",
       "      <td>56</td>\n",
       "      <td>0</td>\n",
       "      <td>2</td>\n",
       "      <td>...</td>\n",
       "      <td></td>\n",
       "      <td>0</td>\n",
       "      <td>M</td>\n",
       "      <td>0.0</td>\n",
       "      <td>0.00</td>\n",
       "      <td>29.10</td>\n",
       "      <td>29.82</td>\n",
       "      <td>1.7</td>\n",
       "      <td>27</td>\n",
       "      <td>9.2</td>\n",
       "    </tr>\n",
       "    <tr>\n",
       "      <th>1</th>\n",
       "      <td>2</td>\n",
       "      <td>2007-05-01</td>\n",
       "      <td>84</td>\n",
       "      <td>52</td>\n",
       "      <td>68</td>\n",
       "      <td>M</td>\n",
       "      <td>51</td>\n",
       "      <td>57</td>\n",
       "      <td>0</td>\n",
       "      <td>3</td>\n",
       "      <td>...</td>\n",
       "      <td></td>\n",
       "      <td>M</td>\n",
       "      <td>M</td>\n",
       "      <td>M</td>\n",
       "      <td>0.00</td>\n",
       "      <td>29.18</td>\n",
       "      <td>29.82</td>\n",
       "      <td>2.7</td>\n",
       "      <td>25</td>\n",
       "      <td>9.6</td>\n",
       "    </tr>\n",
       "    <tr>\n",
       "      <th>2</th>\n",
       "      <td>1</td>\n",
       "      <td>2007-05-02</td>\n",
       "      <td>59</td>\n",
       "      <td>42</td>\n",
       "      <td>51</td>\n",
       "      <td>-3</td>\n",
       "      <td>42</td>\n",
       "      <td>47</td>\n",
       "      <td>14</td>\n",
       "      <td>0</td>\n",
       "      <td>...</td>\n",
       "      <td>BR</td>\n",
       "      <td>0</td>\n",
       "      <td>M</td>\n",
       "      <td>0.0</td>\n",
       "      <td>0.00</td>\n",
       "      <td>29.38</td>\n",
       "      <td>30.09</td>\n",
       "      <td>13.0</td>\n",
       "      <td>4</td>\n",
       "      <td>13.4</td>\n",
       "    </tr>\n",
       "    <tr>\n",
       "      <th>3</th>\n",
       "      <td>2</td>\n",
       "      <td>2007-05-02</td>\n",
       "      <td>60</td>\n",
       "      <td>43</td>\n",
       "      <td>52</td>\n",
       "      <td>M</td>\n",
       "      <td>42</td>\n",
       "      <td>47</td>\n",
       "      <td>13</td>\n",
       "      <td>0</td>\n",
       "      <td>...</td>\n",
       "      <td>BR HZ</td>\n",
       "      <td>M</td>\n",
       "      <td>M</td>\n",
       "      <td>M</td>\n",
       "      <td>0.00</td>\n",
       "      <td>29.44</td>\n",
       "      <td>30.08</td>\n",
       "      <td>13.3</td>\n",
       "      <td>2</td>\n",
       "      <td>13.4</td>\n",
       "    </tr>\n",
       "    <tr>\n",
       "      <th>4</th>\n",
       "      <td>1</td>\n",
       "      <td>2007-05-03</td>\n",
       "      <td>66</td>\n",
       "      <td>46</td>\n",
       "      <td>56</td>\n",
       "      <td>2</td>\n",
       "      <td>40</td>\n",
       "      <td>48</td>\n",
       "      <td>9</td>\n",
       "      <td>0</td>\n",
       "      <td>...</td>\n",
       "      <td></td>\n",
       "      <td>0</td>\n",
       "      <td>M</td>\n",
       "      <td>0.0</td>\n",
       "      <td>0.00</td>\n",
       "      <td>29.39</td>\n",
       "      <td>30.12</td>\n",
       "      <td>11.7</td>\n",
       "      <td>7</td>\n",
       "      <td>11.9</td>\n",
       "    </tr>\n",
       "    <tr>\n",
       "      <th>5</th>\n",
       "      <td>2</td>\n",
       "      <td>2007-05-03</td>\n",
       "      <td>67</td>\n",
       "      <td>48</td>\n",
       "      <td>58</td>\n",
       "      <td>M</td>\n",
       "      <td>40</td>\n",
       "      <td>50</td>\n",
       "      <td>7</td>\n",
       "      <td>0</td>\n",
       "      <td>...</td>\n",
       "      <td>HZ</td>\n",
       "      <td>M</td>\n",
       "      <td>M</td>\n",
       "      <td>M</td>\n",
       "      <td>0.00</td>\n",
       "      <td>29.46</td>\n",
       "      <td>30.12</td>\n",
       "      <td>12.9</td>\n",
       "      <td>6</td>\n",
       "      <td>13.2</td>\n",
       "    </tr>\n",
       "    <tr>\n",
       "      <th>6</th>\n",
       "      <td>1</td>\n",
       "      <td>2007-05-04</td>\n",
       "      <td>66</td>\n",
       "      <td>49</td>\n",
       "      <td>58</td>\n",
       "      <td>4</td>\n",
       "      <td>41</td>\n",
       "      <td>50</td>\n",
       "      <td>7</td>\n",
       "      <td>0</td>\n",
       "      <td>...</td>\n",
       "      <td>RA</td>\n",
       "      <td>0</td>\n",
       "      <td>M</td>\n",
       "      <td>0.0</td>\n",
       "      <td>T</td>\n",
       "      <td>29.31</td>\n",
       "      <td>30.05</td>\n",
       "      <td>10.4</td>\n",
       "      <td>8</td>\n",
       "      <td>10.8</td>\n",
       "    </tr>\n",
       "    <tr>\n",
       "      <th>7</th>\n",
       "      <td>2</td>\n",
       "      <td>2007-05-04</td>\n",
       "      <td>78</td>\n",
       "      <td>51</td>\n",
       "      <td>M</td>\n",
       "      <td>M</td>\n",
       "      <td>42</td>\n",
       "      <td>50</td>\n",
       "      <td>M</td>\n",
       "      <td>M</td>\n",
       "      <td>...</td>\n",
       "      <td></td>\n",
       "      <td>M</td>\n",
       "      <td>M</td>\n",
       "      <td>M</td>\n",
       "      <td>0.00</td>\n",
       "      <td>29.36</td>\n",
       "      <td>30.04</td>\n",
       "      <td>10.1</td>\n",
       "      <td>7</td>\n",
       "      <td>10.4</td>\n",
       "    </tr>\n",
       "    <tr>\n",
       "      <th>8</th>\n",
       "      <td>1</td>\n",
       "      <td>2007-05-05</td>\n",
       "      <td>66</td>\n",
       "      <td>53</td>\n",
       "      <td>60</td>\n",
       "      <td>5</td>\n",
       "      <td>38</td>\n",
       "      <td>49</td>\n",
       "      <td>5</td>\n",
       "      <td>0</td>\n",
       "      <td>...</td>\n",
       "      <td></td>\n",
       "      <td>0</td>\n",
       "      <td>M</td>\n",
       "      <td>0.0</td>\n",
       "      <td>T</td>\n",
       "      <td>29.40</td>\n",
       "      <td>30.10</td>\n",
       "      <td>11.7</td>\n",
       "      <td>7</td>\n",
       "      <td>12.0</td>\n",
       "    </tr>\n",
       "    <tr>\n",
       "      <th>9</th>\n",
       "      <td>2</td>\n",
       "      <td>2007-05-05</td>\n",
       "      <td>66</td>\n",
       "      <td>54</td>\n",
       "      <td>60</td>\n",
       "      <td>M</td>\n",
       "      <td>39</td>\n",
       "      <td>50</td>\n",
       "      <td>5</td>\n",
       "      <td>0</td>\n",
       "      <td>...</td>\n",
       "      <td></td>\n",
       "      <td>M</td>\n",
       "      <td>M</td>\n",
       "      <td>M</td>\n",
       "      <td>T</td>\n",
       "      <td>29.46</td>\n",
       "      <td>30.09</td>\n",
       "      <td>11.2</td>\n",
       "      <td>7</td>\n",
       "      <td>11.5</td>\n",
       "    </tr>\n",
       "  </tbody>\n",
       "</table>\n",
       "<p>10 rows × 22 columns</p>\n",
       "</div>"
      ],
      "text/plain": [
       "   station       date  tmax  tmin tavg depart  dew_point wet_bulb heat cool  \\\n",
       "0        1 2007-05-01    83    50   67     14         51       56    0    2   \n",
       "1        2 2007-05-01    84    52   68      M         51       57    0    3   \n",
       "2        1 2007-05-02    59    42   51     -3         42       47   14    0   \n",
       "3        2 2007-05-02    60    43   52      M         42       47   13    0   \n",
       "4        1 2007-05-03    66    46   56      2         40       48    9    0   \n",
       "5        2 2007-05-03    67    48   58      M         40       50    7    0   \n",
       "6        1 2007-05-04    66    49   58      4         41       50    7    0   \n",
       "7        2 2007-05-04    78    51    M      M         42       50    M    M   \n",
       "8        1 2007-05-05    66    53   60      5         38       49    5    0   \n",
       "9        2 2007-05-05    66    54   60      M         39       50    5    0   \n",
       "\n",
       "   ... code_sum depth water1 snow_fall precip_total stn_pressure sea_level  \\\n",
       "0  ...              0      M       0.0         0.00        29.10     29.82   \n",
       "1  ...              M      M         M         0.00        29.18     29.82   \n",
       "2  ...       BR     0      M       0.0         0.00        29.38     30.09   \n",
       "3  ...    BR HZ     M      M         M         0.00        29.44     30.08   \n",
       "4  ...              0      M       0.0         0.00        29.39     30.12   \n",
       "5  ...       HZ     M      M         M         0.00        29.46     30.12   \n",
       "6  ...       RA     0      M       0.0            T        29.31     30.05   \n",
       "7  ...              M      M         M         0.00        29.36     30.04   \n",
       "8  ...              0      M       0.0            T        29.40     30.10   \n",
       "9  ...              M      M         M            T        29.46     30.09   \n",
       "\n",
       "  result_speed result_dir  avg_speed  \n",
       "0          1.7         27        9.2  \n",
       "1          2.7         25        9.6  \n",
       "2         13.0          4       13.4  \n",
       "3         13.3          2       13.4  \n",
       "4         11.7          7       11.9  \n",
       "5         12.9          6       13.2  \n",
       "6         10.4          8       10.8  \n",
       "7         10.1          7       10.4  \n",
       "8         11.7          7       12.0  \n",
       "9         11.2          7       11.5  \n",
       "\n",
       "[10 rows x 22 columns]"
      ]
     },
     "execution_count": 21,
     "metadata": {},
     "output_type": "execute_result"
    }
   ],
   "source": [
    "weather.head(10)"
   ]
  },
  {
   "cell_type": "code",
   "execution_count": 22,
   "id": "628b0fbd",
   "metadata": {},
   "outputs": [
    {
     "name": "stdout",
     "output_type": "stream",
     "text": [
      "Number of rows: 2944\n",
      "Number of columns: 22\n",
      "\n",
      "Names of columns in dataset.\n"
     ]
    },
    {
     "data": {
      "text/plain": [
       "Index(['station', 'date', 'tmax', 'tmin', 'tavg', 'depart', 'dew_point',\n",
       "       'wet_bulb', 'heat', 'cool', 'sunrise', 'sunset', 'code_sum', 'depth',\n",
       "       'water1', 'snow_fall', 'precip_total', 'stn_pressure', 'sea_level',\n",
       "       'result_speed', 'result_dir', 'avg_speed'],\n",
       "      dtype='object')"
      ]
     },
     "metadata": {},
     "output_type": "display_data"
    },
    {
     "data": {
      "text/plain": [
       "station                  int64\n",
       "date            datetime64[ns]\n",
       "tmax                     int64\n",
       "tmin                     int64\n",
       "tavg                    object\n",
       "depart                  object\n",
       "dew_point                int64\n",
       "wet_bulb                object\n",
       "heat                    object\n",
       "cool                    object\n",
       "sunrise                 object\n",
       "sunset                  object\n",
       "code_sum                object\n",
       "depth                   object\n",
       "water1                  object\n",
       "snow_fall               object\n",
       "precip_total            object\n",
       "stn_pressure            object\n",
       "sea_level               object\n",
       "result_speed           float64\n",
       "result_dir               int64\n",
       "avg_speed               object\n",
       "dtype: object"
      ]
     },
     "metadata": {},
     "output_type": "display_data"
    },
    {
     "name": "stdout",
     "output_type": "stream",
     "text": [
      "Missing values in dataset\n"
     ]
    },
    {
     "data": {
      "text/plain": [
       "station         0\n",
       "date            0\n",
       "tmax            0\n",
       "tmin            0\n",
       "tavg            0\n",
       "depart          0\n",
       "dew_point       0\n",
       "wet_bulb        0\n",
       "heat            0\n",
       "cool            0\n",
       "sunrise         0\n",
       "sunset          0\n",
       "code_sum        0\n",
       "depth           0\n",
       "water1          0\n",
       "snow_fall       0\n",
       "precip_total    0\n",
       "stn_pressure    0\n",
       "sea_level       0\n",
       "result_speed    0\n",
       "result_dir      0\n",
       "avg_speed       0\n",
       "dtype: int64"
      ]
     },
     "metadata": {},
     "output_type": "display_data"
    },
    {
     "name": "stdout",
     "output_type": "stream",
     "text": [
      "Number of duplicate values in dataset: 0\n"
     ]
    }
   ],
   "source": [
    "df_overview(weather)"
   ]
  },
  {
   "cell_type": "markdown",
   "id": "8c9cca9f",
   "metadata": {},
   "source": [
    "#### Null Values"
   ]
  },
  {
   "cell_type": "markdown",
   "id": "358eeb28",
   "metadata": {},
   "source": [
    "Although there are no null values, they are represented differently as stated in the documentation. \n",
    "\n",
    "'M' = missing values (for e.g. in Tavg column)<br>\n",
    "'-' = missing values (for e.g. in Sunrise column)<br>\n",
    "' ' = moderate (for CodeSum column)<br>\n",
    "'T' = trace values (for e.g. PrecipTotal column)<br>\n"
   ]
  },
  {
   "cell_type": "markdown",
   "id": "dd4e9b3d",
   "metadata": {},
   "source": [
    "Let us look at all the null values again."
   ]
  },
  {
   "cell_type": "code",
   "execution_count": 23,
   "id": "5492aceb",
   "metadata": {},
   "outputs": [
    {
     "data": {
      "text/plain": [
       "water1          2944\n",
       "snow_fall       1484\n",
       "sunrise         1472\n",
       "depth           1472\n",
       "depart          1472\n",
       "sunset          1472\n",
       "precip_total     320\n",
       "heat              11\n",
       "tavg              11\n",
       "cool              11\n",
       "sea_level          9\n",
       "stn_pressure       4\n",
       "wet_bulb           4\n",
       "avg_speed          3\n",
       "result_dir         0\n",
       "dew_point          0\n",
       "code_sum           0\n",
       "result_speed       0\n",
       "tmin               0\n",
       "tmax               0\n",
       "date               0\n",
       "station            0\n",
       "dtype: int64"
      ]
     },
     "execution_count": 23,
     "metadata": {},
     "output_type": "execute_result"
    }
   ],
   "source": [
    "weather.isin(['M', '-', '  T']).sum().sort_values(ascending=False)"
   ]
  },
  {
   "cell_type": "markdown",
   "id": "12831d96",
   "metadata": {},
   "source": [
    "'water1' feature has null values for all rows in the dataset. Hence we will drop this feature."
   ]
  },
  {
   "cell_type": "code",
   "execution_count": 24,
   "id": "962a0640",
   "metadata": {},
   "outputs": [
    {
     "data": {
      "text/plain": [
       "station  snow_fall\n",
       "1        0.0          1459\n",
       "           T            12\n",
       "         0.1             1\n",
       "2        M            1472\n",
       "Name: snow_fall, dtype: int64"
      ]
     },
     "execution_count": 24,
     "metadata": {},
     "output_type": "execute_result"
    }
   ],
   "source": [
    "weather.groupby('station')['snow_fall'].value_counts()"
   ]
  },
  {
   "cell_type": "markdown",
   "id": "b9385f81",
   "metadata": {},
   "source": [
    "Seems that the values from both stations are either missing or 0, or do not provide any useful insights that can help us predict the virus, hence we will drop this feature."
   ]
  },
  {
   "cell_type": "code",
   "execution_count": 25,
   "id": "ec2a3c99",
   "metadata": {},
   "outputs": [
    {
     "data": {
      "text/plain": [
       "station  sunset\n",
       "1        1931        96\n",
       "         1930        56\n",
       "         1929        48\n",
       "         1923        32\n",
       "         1925        32\n",
       "                   ... \n",
       "         1900         8\n",
       "         1901         8\n",
       "         1905         8\n",
       "         1912         8\n",
       "2        -         1472\n",
       "Name: sunset, Length: 119, dtype: int64"
      ]
     },
     "execution_count": 25,
     "metadata": {},
     "output_type": "execute_result"
    }
   ],
   "source": [
    "weather.groupby('station')['sunset'].value_counts()"
   ]
  },
  {
   "cell_type": "markdown",
   "id": "776caf4b",
   "metadata": {},
   "source": [
    "Given any day, the sunset from both weather stations will be the same, hence we will impute based on the time given at one station."
   ]
  },
  {
   "cell_type": "code",
   "execution_count": 26,
   "id": "f08f412e",
   "metadata": {},
   "outputs": [
    {
     "data": {
      "text/plain": [
       "station  depth\n",
       "1        0        1472\n",
       "2        M        1472\n",
       "Name: depth, dtype: int64"
      ]
     },
     "execution_count": 26,
     "metadata": {},
     "output_type": "execute_result"
    }
   ],
   "source": [
    "weather.groupby('station')['depth'].value_counts()"
   ]
  },
  {
   "cell_type": "markdown",
   "id": "56ea6911",
   "metadata": {},
   "source": [
    "'Depth' feature has either 0 or missing values as well for both stations, so we will drop this feature."
   ]
  },
  {
   "cell_type": "code",
   "execution_count": 27,
   "id": "a9f02efe",
   "metadata": {},
   "outputs": [
    {
     "data": {
      "text/plain": [
       "station  depart\n",
       "1         2          93\n",
       "         -1          84\n",
       "         -2          80\n",
       "          5          77\n",
       "          1          76\n",
       "          7          76\n",
       "          3          75\n",
       "          0          74\n",
       "         -3          72\n",
       "          4          71\n",
       "          6          67\n",
       "          8          59\n",
       "         -5          57\n",
       "         -4          56\n",
       "         -6          50\n",
       "          9          47\n",
       "         10          46\n",
       "         -8          43\n",
       "         -7          30\n",
       "         11          28\n",
       "         12          28\n",
       "         -9          25\n",
       "         13          23\n",
       "         -10         22\n",
       "         14          22\n",
       "         15          15\n",
       "         16          12\n",
       "         -11         10\n",
       "         -12          8\n",
       "         17           7\n",
       "         -14          6\n",
       "         18           6\n",
       "         -13          5\n",
       "         19           4\n",
       "         20           4\n",
       "         -15          3\n",
       "         -16          3\n",
       "         22           3\n",
       "         -17          2\n",
       "         21           2\n",
       "         23           1\n",
       "2        M         1472\n",
       "Name: depart, dtype: int64"
      ]
     },
     "execution_count": 27,
     "metadata": {},
     "output_type": "execute_result"
    }
   ],
   "source": [
    "weather.groupby('station')['depart'].value_counts()"
   ]
  },
  {
   "cell_type": "markdown",
   "id": "52c230d3",
   "metadata": {},
   "source": [
    "We can impute station 2's temperature departure from normal based on station's 1 as well."
   ]
  },
  {
   "cell_type": "code",
   "execution_count": 28,
   "id": "186f015c",
   "metadata": {},
   "outputs": [
    {
     "data": {
      "text/plain": [
       "station  sunrise\n",
       "1        0416        104\n",
       "         0417         64\n",
       "         0419         40\n",
       "         0418         32\n",
       "         0420         32\n",
       "                    ... \n",
       "         0619          8\n",
       "         0620          8\n",
       "         0622          8\n",
       "         0623          8\n",
       "2        -          1472\n",
       "Name: sunrise, Length: 122, dtype: int64"
      ]
     },
     "execution_count": 28,
     "metadata": {},
     "output_type": "execute_result"
    }
   ],
   "source": [
    "weather.groupby('station')['sunrise'].value_counts()"
   ]
  },
  {
   "cell_type": "markdown",
   "id": "baf50d1d",
   "metadata": {},
   "source": [
    "Just like sunset, we can impute station 2's sunrise from station 1's values."
   ]
  },
  {
   "cell_type": "code",
   "execution_count": 29,
   "id": "120befac",
   "metadata": {},
   "outputs": [
    {
     "data": {
      "text/plain": [
       "station  precip_total\n",
       "1        0.00            794\n",
       "           T             163\n",
       "         0.01             54\n",
       "         0.02             30\n",
       "         0.03             20\n",
       "                        ... \n",
       "2        3.15              1\n",
       "         3.17              1\n",
       "         3.31              1\n",
       "         3.66              1\n",
       "         4.73              1\n",
       "Name: precip_total, Length: 256, dtype: int64"
      ]
     },
     "execution_count": 29,
     "metadata": {},
     "output_type": "execute_result"
    }
   ],
   "source": [
    "weather.groupby('station')['precip_total'].value_counts()"
   ]
  },
  {
   "cell_type": "markdown",
   "id": "23da05ff",
   "metadata": {},
   "source": [
    "For 'T' values, we will replace with trace value as 0.005."
   ]
  },
  {
   "cell_type": "markdown",
   "id": "72e19510",
   "metadata": {},
   "source": [
    "For 'tavg', 'heat', 'cool', 'sea level', 'stn_pressure', 'wet_bulb', 'avg_speed' features, we will impute based on either the other station's value or other calculations based on other features which will be done in the next section."
   ]
  },
  {
   "cell_type": "markdown",
   "id": "da06c951",
   "metadata": {},
   "source": [
    "As we have analysed, 'water1', 'snow_fall' and 'depth' do not provide us with sufficient information to predict presence of the virus and have too many null values, hence we are dropping these columns."
   ]
  },
  {
   "cell_type": "code",
   "execution_count": 30,
   "id": "e3004116",
   "metadata": {},
   "outputs": [],
   "source": [
    "weather.drop(columns = {'water1', 'snow_fall', 'depth'}, inplace = True)"
   ]
  },
  {
   "cell_type": "markdown",
   "id": "b1d184cb",
   "metadata": {},
   "source": [
    "#### Null Imputation"
   ]
  },
  {
   "cell_type": "markdown",
   "id": "45ed1d4e",
   "metadata": {},
   "source": [
    "Imputing values based on other station's values for the 'sunrise', 'sunset', 'depart' and 'avg_speed' features.\n",
    "\n",
    "For 'sunrise' and 'sunset', we will impute using station 1's value."
   ]
  },
  {
   "cell_type": "code",
   "execution_count": 31,
   "id": "b97b17c5",
   "metadata": {},
   "outputs": [],
   "source": [
    "def fill_sunrisesunset(row):\n",
    "    \n",
    "    if row['sunrise'] == '-': \n",
    "        row['sunrise'] = weather.loc[(weather['date'] == row['date']) & \\\n",
    "                                    (weather['station'] == 1), 'sunrise'].values[0]\n",
    "    if row['sunset'] == '-':\n",
    "        row['sunset'] = weather.loc[(weather['date'] == row['date']) & \\\n",
    "                                    (weather['station'] == 1), 'sunset'].values[0]\n",
    "    return row\n",
    " "
   ]
  },
  {
   "cell_type": "code",
   "execution_count": 32,
   "id": "27d9cbaf",
   "metadata": {},
   "outputs": [],
   "source": [
    "weather = weather.apply(fill_sunrisesunset, axis=1)"
   ]
  },
  {
   "cell_type": "markdown",
   "id": "dbf5391e",
   "metadata": {},
   "source": [
    "Imputing trace value for 'precip_total' feature."
   ]
  },
  {
   "cell_type": "code",
   "execution_count": 33,
   "id": "0c9a8dd2",
   "metadata": {
    "scrolled": false
   },
   "outputs": [],
   "source": [
    "weather['precip_total'].replace('  T', 0.005, inplace = True)\n",
    "weather['precip_total'].replace('M', 0, inplace = True)"
   ]
  },
  {
   "cell_type": "markdown",
   "id": "46bee021",
   "metadata": {},
   "source": [
    "Impute 'tavg' by taking average of tmax and tmin."
   ]
  },
  {
   "cell_type": "code",
   "execution_count": 34,
   "id": "b199dd99",
   "metadata": {},
   "outputs": [],
   "source": [
    "def fill_tavg(row):\n",
    "    if row['tavg'] == 'M':\n",
    "        row['tavg'] = round((row['tmax'] + row['tmin']) / 2)\n",
    "    return row"
   ]
  },
  {
   "cell_type": "code",
   "execution_count": 35,
   "id": "3c9509fc",
   "metadata": {},
   "outputs": [],
   "source": [
    "weather = weather.apply(fill_tavg, axis=1)"
   ]
  },
  {
   "cell_type": "markdown",
   "id": "23888a36",
   "metadata": {},
   "source": [
    "Departure from normal is the difference between the average temperature 'tavg' and the 30 year normal temperature for that day. A minus (-) is number of degrees below normal. A zero (0) indicates that the average for that day was the Normal.\n",
    "\n",
    "Station 1:\n",
    "depart1 + averagetemp1 = 30 year normal\n",
    "\n",
    "Station 2:\n",
    "depart2 + averagetemp2 = 30 year normal\n",
    "\n",
    "depart2 = depart1 + averagetemp1 - averagetemp2\n",
    "\n",
    "To impute the values for 'depart' for Station 2, we will add the values of 'depart' and 'tavg' for Station 1 and subtract the 'tavg' for station 2."
   ]
  },
  {
   "cell_type": "code",
   "execution_count": 36,
   "id": "5d241019",
   "metadata": {},
   "outputs": [],
   "source": [
    "def fill_depart(row):\n",
    "    if row['station'] == 2:\n",
    "        row['depart'] = int(weather.loc[(weather['date'] == row['date']) &\n",
    "                      (weather['station'] == 1), 'depart']) + int(weather.loc[(weather['date'] == row['date']) &\n",
    "                      (weather['station'] == 1), 'tavg']) - int(row['tavg'])\n",
    "    return row"
   ]
  },
  {
   "cell_type": "code",
   "execution_count": 37,
   "id": "14f8b7ab",
   "metadata": {},
   "outputs": [],
   "source": [
    "weather = weather.apply(fill_depart, axis=1)"
   ]
  },
  {
   "cell_type": "markdown",
   "id": "ae07c157",
   "metadata": {},
   "source": [
    "The 'heating' and 'cooling' features are derived from the taking the difference between the 'tavg' and base temperature of 65 F. If the difference is positive, it is classified as 'heating' and vice versa."
   ]
  },
  {
   "cell_type": "code",
   "execution_count": 38,
   "id": "b117c4ba",
   "metadata": {},
   "outputs": [],
   "source": [
    "def fill_heatcool(row):\n",
    "    \n",
    "    if row['heat'] == 'M' or row['cool'] == 'M':\n",
    "        \n",
    "        difference = 65 - float(row['tavg'])\n",
    "        \n",
    "        if difference > 0: \n",
    "            row['heat'] = difference\n",
    "            row['cool'] = 0\n",
    "        elif difference < 0:\n",
    "            row['heat'] = 0\n",
    "            row['cool'] = difference\n",
    "        else:\n",
    "            row['heat'] = row['cool'] = 0\n",
    "    \n",
    "    return row"
   ]
  },
  {
   "cell_type": "code",
   "execution_count": 39,
   "id": "39429be6",
   "metadata": {},
   "outputs": [],
   "source": [
    "weather = weather.apply(fill_heatcool, axis=1)"
   ]
  },
  {
   "cell_type": "markdown",
   "id": "f41da2c1",
   "metadata": {},
   "source": [
    "Impute 'sea_level' and 'stn_pressure' by looking at previous day and next day values."
   ]
  },
  {
   "cell_type": "code",
   "execution_count": 40,
   "id": "b4cf801c",
   "metadata": {},
   "outputs": [],
   "source": [
    "def fill_prevnext(col_name):\n",
    "    for index, row in weather.loc[weather[col_name].isin(['M'])].iterrows():\n",
    "        inter = (float(weather.iloc[(index - 2)][col_name]) + float(weather.iloc[(index + 2)][col_name])) / 2\n",
    "        weather.at[index, col_name] = round(inter, 2) "
   ]
  },
  {
   "cell_type": "code",
   "execution_count": 41,
   "id": "ee463627",
   "metadata": {},
   "outputs": [],
   "source": [
    "fill_prevnext('sea_level')\n",
    "fill_prevnext('stn_pressure')"
   ]
  },
  {
   "cell_type": "markdown",
   "id": "b415a671",
   "metadata": {},
   "source": [
    "Impute avg_speed and wet_bulb based on other station's values."
   ]
  },
  {
   "cell_type": "code",
   "execution_count": 42,
   "id": "c3a5592c",
   "metadata": {},
   "outputs": [],
   "source": [
    "def fill_speedwetbulb(row):\n",
    "    if row['avg_speed'] == 'M': \n",
    "        if row['station'] == 1:\n",
    "            row['avg_speed'] = weather.loc[(weather['date'] == row['date']) & \\\n",
    "                                    (weather['station'] == 2), 'avg_speed'].values[0]\n",
    "        else: \n",
    "            row['avg_speed'] = weather.loc[(weather['date'] == row['date']) & \\\n",
    "                                    (weather['station'] == 1), 'avg_speed'].values[0]\n",
    "    if row['wet_bulb'] == 'M': \n",
    "        if row['station'] == 1:\n",
    "            row['wet_bulb'] = weather.loc[(weather['date'] == row['date']) & \\\n",
    "                                    (weather['station'] == 2), 'wet_bulb'].values[0]\n",
    "        else: \n",
    "            row['wet_bulb'] = weather.loc[(weather['date'] == row['date']) & \\\n",
    "                                    (weather['station'] == 1), 'wet_bulb'].values[0]\n",
    "    return row"
   ]
  },
  {
   "cell_type": "code",
   "execution_count": 43,
   "id": "190d3e69",
   "metadata": {},
   "outputs": [],
   "source": [
    "weather = weather.apply(fill_speedwetbulb, axis=1)"
   ]
  },
  {
   "cell_type": "code",
   "execution_count": 44,
   "id": "5d5c33f6",
   "metadata": {},
   "outputs": [
    {
     "data": {
      "text/plain": [
       "station         0\n",
       "date            0\n",
       "tmax            0\n",
       "tmin            0\n",
       "tavg            0\n",
       "depart          0\n",
       "dew_point       0\n",
       "wet_bulb        0\n",
       "heat            0\n",
       "cool            0\n",
       "sunrise         0\n",
       "sunset          0\n",
       "code_sum        0\n",
       "precip_total    0\n",
       "stn_pressure    0\n",
       "sea_level       0\n",
       "result_speed    0\n",
       "result_dir      0\n",
       "avg_speed       0\n",
       "dtype: int64"
      ]
     },
     "execution_count": 44,
     "metadata": {},
     "output_type": "execute_result"
    }
   ],
   "source": [
    "#check if all null values have been imputed\n",
    "weather.isin(['M', '-', '  T']).sum()"
   ]
  },
  {
   "cell_type": "markdown",
   "id": "5f813ffb",
   "metadata": {},
   "source": [
    "**Change datatypes**"
   ]
  },
  {
   "cell_type": "code",
   "execution_count": 45,
   "id": "a4f1a91d",
   "metadata": {},
   "outputs": [],
   "source": [
    "# convert objects to numeric type\n",
    "cols_to_floats = ['tavg', 'precip_total', 'stn_pressure', 'sea_level', 'avg_speed', 'heat', 'cool']\n",
    "cols_to_int = ['wet_bulb', 'sunrise', 'sunset', 'depart']\n",
    "for col in weather.columns:\n",
    "    if col in cols_to_floats:\n",
    "        weather[col] = weather[col].astype(float)\n",
    "    if col in cols_to_int:\n",
    "        weather[col] = weather[col].astype(int)"
   ]
  },
  {
   "cell_type": "code",
   "execution_count": 46,
   "id": "91907d0a",
   "metadata": {},
   "outputs": [
    {
     "data": {
      "text/plain": [
       "station                  int64\n",
       "date            datetime64[ns]\n",
       "tmax                     int64\n",
       "tmin                     int64\n",
       "tavg                   float64\n",
       "depart                   int64\n",
       "dew_point                int64\n",
       "wet_bulb                 int64\n",
       "heat                   float64\n",
       "cool                   float64\n",
       "sunrise                  int64\n",
       "sunset                   int64\n",
       "code_sum                object\n",
       "precip_total           float64\n",
       "stn_pressure           float64\n",
       "sea_level              float64\n",
       "result_speed           float64\n",
       "result_dir               int64\n",
       "avg_speed              float64\n",
       "dtype: object"
      ]
     },
     "execution_count": 46,
     "metadata": {},
     "output_type": "execute_result"
    }
   ],
   "source": [
    "weather.dtypes"
   ]
  },
  {
   "cell_type": "markdown",
   "id": "29f79848",
   "metadata": {},
   "source": [
    "#### Daylight"
   ]
  },
  {
   "cell_type": "markdown",
   "id": "6ac792ac",
   "metadata": {},
   "source": [
    "'sunrise' and 'sunset' features only provide us with the time of the day and do not provide us with insightful information about the daylight in a day. Instead we will create a feature called 'daylight' which is more insightful in explaining the relationships between amount of light and presence of mosquitos in an area. The 'daylight' feature will be in minutes.\n",
    "\n",
    "To do this, we will first convert sunrise and sunset to minutes from start of day, and subtract the values to find the total minutes of daylight."
   ]
  },
  {
   "cell_type": "code",
   "execution_count": 47,
   "id": "8da9ed45",
   "metadata": {},
   "outputs": [],
   "source": [
    "def convert_mins(row):\n",
    "    #get hour\n",
    "    hour = row//100\n",
    "    mins = row % 100\n",
    "    total = hour * 60 + mins\n",
    "    return total"
   ]
  },
  {
   "cell_type": "code",
   "execution_count": 48,
   "id": "2f533d16",
   "metadata": {},
   "outputs": [],
   "source": [
    "weather['sunrise'] = weather['sunrise'].apply(convert_mins)\n",
    "weather['sunset'] = weather['sunset'].apply(convert_mins)"
   ]
  },
  {
   "cell_type": "code",
   "execution_count": 49,
   "id": "d0483762",
   "metadata": {},
   "outputs": [],
   "source": [
    "weather['daylight'] = weather['sunset'] - weather['sunrise']"
   ]
  },
  {
   "cell_type": "code",
   "execution_count": 50,
   "id": "cbd483ce",
   "metadata": {},
   "outputs": [],
   "source": [
    "weather.drop(columns = {'sunrise', 'sunset'}, inplace = True)"
   ]
  },
  {
   "cell_type": "markdown",
   "id": "35fb91b7",
   "metadata": {},
   "source": [
    "#### Relative Humidity "
   ]
  },
  {
   "cell_type": "markdown",
   "id": "fe08171a",
   "metadata": {},
   "source": [
    "Need for relative humidity explanation"
   ]
  },
  {
   "cell_type": "markdown",
   "id": "fc96e4e9",
   "metadata": {},
   "source": [
    "Relative Humidity = (e(17.625 * temp degC)/ (temp degC +243.04)) / (e(17.625 * dew degC)/ (dew degC +243.04)) * 100"
   ]
  },
  {
   "cell_type": "code",
   "execution_count": 51,
   "id": "f5185a45",
   "metadata": {},
   "outputs": [],
   "source": [
    "tavg_degC = ((weather['tavg'] - 32) * 5 / 9)\n",
    "dew_degC = ((weather['dew_point'] - 32) * 5 / 9)\n",
    "\n",
    "r_humid = np.exp((17.625 * tavg_degC)/(tavg_degC +243.04)) / np.exp((17.625 * dew_degC)/(dew_degC +243.04)) * 100"
   ]
  },
  {
   "cell_type": "code",
   "execution_count": 52,
   "id": "aa9477be",
   "metadata": {},
   "outputs": [],
   "source": [
    "weather['r_humid'] = r_humid"
   ]
  },
  {
   "cell_type": "markdown",
   "id": "c00c2a59",
   "metadata": {},
   "source": [
    "#### Averaging Stations"
   ]
  },
  {
   "cell_type": "markdown",
   "id": "071abaf4",
   "metadata": {},
   "source": [
    "Explanation\n",
    "\n",
    "\n",
    "Therefore, we will merge and take the average from both stations."
   ]
  },
  {
   "cell_type": "code",
   "execution_count": 53,
   "id": "5f7d0070",
   "metadata": {},
   "outputs": [],
   "source": [
    "weather_merged = weather.groupby('date').mean()"
   ]
  },
  {
   "cell_type": "code",
   "execution_count": 54,
   "id": "284db100",
   "metadata": {},
   "outputs": [],
   "source": [
    "weather_merged = weather_merged.reset_index()"
   ]
  },
  {
   "cell_type": "code",
   "execution_count": 55,
   "id": "d113d0b8",
   "metadata": {},
   "outputs": [],
   "source": [
    "weather_merged.drop(columns ='station', inplace = True)"
   ]
  },
  {
   "cell_type": "markdown",
   "id": "fa90d767",
   "metadata": {},
   "source": [
    "#### CodeSum"
   ]
  },
  {
   "cell_type": "markdown",
   "id": "5cf61f41",
   "metadata": {},
   "source": [
    "Add CodeSum back into merged dataframe."
   ]
  },
  {
   "cell_type": "markdown",
   "id": "52784d17",
   "metadata": {},
   "source": [
    "Before that we are going to combine the 'codesum' feature values in both stations before we add to the merged dataframe."
   ]
  },
  {
   "cell_type": "code",
   "execution_count": 56,
   "id": "d3c819bc",
   "metadata": {},
   "outputs": [],
   "source": [
    "weather['code_sum'] = weather['code_sum'].str.replace(\"BCFG\",\"BC FG\")\n",
    "weather['code_sum'] = weather['code_sum'].str.replace(\"MIFG\",\"MI FG\")\n",
    "weather['code_sum'] = weather['code_sum'].str.replace(\"TSRA\",\"TS RA\")\n",
    "weather['code_sum'] = weather['code_sum'].str.replace(\"VCFG\",\"VC FG\")\n",
    "weather['code_sum'] = weather['code_sum'].str.replace(\"VCTS\",\"VC TS\")"
   ]
  },
  {
   "cell_type": "code",
   "execution_count": 57,
   "id": "a9990568",
   "metadata": {},
   "outputs": [],
   "source": [
    "def combine_codesum(codesum):\n",
    "    combine = \" \".join(codesum) \n",
    "    combine = combine.split() \n",
    "    distinct = set(combine)\n",
    "    join_list = \" \".join(distinct)\n",
    "    return join_list"
   ]
  },
  {
   "cell_type": "code",
   "execution_count": 58,
   "id": "16f0e87e",
   "metadata": {},
   "outputs": [],
   "source": [
    "combined_codesum = weather.groupby('date')['code_sum'].agg(combine_codesum)"
   ]
  },
  {
   "cell_type": "markdown",
   "id": "08b84ed8",
   "metadata": {},
   "source": [
    "Create dummy variables using Count Vectorizer."
   ]
  },
  {
   "cell_type": "code",
   "execution_count": 59,
   "id": "1f4660f8",
   "metadata": {},
   "outputs": [],
   "source": [
    "cvec = CountVectorizer(analyzer='word', token_pattern=r'[\\w\\+]+')\n",
    "cs_cvec = cvec.fit_transform(combined_codesum.tolist())"
   ]
  },
  {
   "cell_type": "code",
   "execution_count": 60,
   "id": "b74035a1",
   "metadata": {},
   "outputs": [],
   "source": [
    "#convert to dataframe\n",
    "df = pd.DataFrame(cs_cvec.toarray(), columns=cvec.get_feature_names())"
   ]
  },
  {
   "cell_type": "code",
   "execution_count": 61,
   "id": "6ab6e360",
   "metadata": {},
   "outputs": [],
   "source": [
    "weather_final = pd.concat([weather_merged, df.reset_index(drop=True)], axis=1)"
   ]
  },
  {
   "cell_type": "code",
   "execution_count": null,
   "id": "e476f518",
   "metadata": {},
   "outputs": [],
   "source": [
    "weather_final.drop(columns = 'code_sum', inplace = True)"
   ]
  },
  {
   "cell_type": "code",
   "execution_count": 62,
   "id": "11a2ad29",
   "metadata": {},
   "outputs": [
    {
     "data": {
      "text/html": [
       "<div>\n",
       "<style scoped>\n",
       "    .dataframe tbody tr th:only-of-type {\n",
       "        vertical-align: middle;\n",
       "    }\n",
       "\n",
       "    .dataframe tbody tr th {\n",
       "        vertical-align: top;\n",
       "    }\n",
       "\n",
       "    .dataframe thead th {\n",
       "        text-align: right;\n",
       "    }\n",
       "</style>\n",
       "<table border=\"1\" class=\"dataframe\">\n",
       "  <thead>\n",
       "    <tr style=\"text-align: right;\">\n",
       "      <th></th>\n",
       "      <th>date</th>\n",
       "      <th>tmax</th>\n",
       "      <th>tmin</th>\n",
       "      <th>tavg</th>\n",
       "      <th>depart</th>\n",
       "      <th>dew_point</th>\n",
       "      <th>wet_bulb</th>\n",
       "      <th>heat</th>\n",
       "      <th>cool</th>\n",
       "      <th>precip_total</th>\n",
       "      <th>...</th>\n",
       "      <th>fg+</th>\n",
       "      <th>fu</th>\n",
       "      <th>gr</th>\n",
       "      <th>hz</th>\n",
       "      <th>mi</th>\n",
       "      <th>ra</th>\n",
       "      <th>sn</th>\n",
       "      <th>sq</th>\n",
       "      <th>ts</th>\n",
       "      <th>vc</th>\n",
       "    </tr>\n",
       "  </thead>\n",
       "  <tbody>\n",
       "    <tr>\n",
       "      <th>0</th>\n",
       "      <td>2007-05-01</td>\n",
       "      <td>83.5</td>\n",
       "      <td>51.0</td>\n",
       "      <td>67.5</td>\n",
       "      <td>13.5</td>\n",
       "      <td>51.0</td>\n",
       "      <td>56.5</td>\n",
       "      <td>0.0</td>\n",
       "      <td>2.5</td>\n",
       "      <td>0.0000</td>\n",
       "      <td>...</td>\n",
       "      <td>0</td>\n",
       "      <td>0</td>\n",
       "      <td>0</td>\n",
       "      <td>0</td>\n",
       "      <td>0</td>\n",
       "      <td>0</td>\n",
       "      <td>0</td>\n",
       "      <td>0</td>\n",
       "      <td>0</td>\n",
       "      <td>0</td>\n",
       "    </tr>\n",
       "    <tr>\n",
       "      <th>1</th>\n",
       "      <td>2007-05-02</td>\n",
       "      <td>59.5</td>\n",
       "      <td>42.5</td>\n",
       "      <td>51.5</td>\n",
       "      <td>-3.5</td>\n",
       "      <td>42.0</td>\n",
       "      <td>47.0</td>\n",
       "      <td>13.5</td>\n",
       "      <td>0.0</td>\n",
       "      <td>0.0000</td>\n",
       "      <td>...</td>\n",
       "      <td>0</td>\n",
       "      <td>0</td>\n",
       "      <td>0</td>\n",
       "      <td>1</td>\n",
       "      <td>0</td>\n",
       "      <td>0</td>\n",
       "      <td>0</td>\n",
       "      <td>0</td>\n",
       "      <td>0</td>\n",
       "      <td>0</td>\n",
       "    </tr>\n",
       "    <tr>\n",
       "      <th>2</th>\n",
       "      <td>2007-05-03</td>\n",
       "      <td>66.5</td>\n",
       "      <td>47.0</td>\n",
       "      <td>57.0</td>\n",
       "      <td>1.0</td>\n",
       "      <td>40.0</td>\n",
       "      <td>49.0</td>\n",
       "      <td>8.0</td>\n",
       "      <td>0.0</td>\n",
       "      <td>0.0000</td>\n",
       "      <td>...</td>\n",
       "      <td>0</td>\n",
       "      <td>0</td>\n",
       "      <td>0</td>\n",
       "      <td>1</td>\n",
       "      <td>0</td>\n",
       "      <td>0</td>\n",
       "      <td>0</td>\n",
       "      <td>0</td>\n",
       "      <td>0</td>\n",
       "      <td>0</td>\n",
       "    </tr>\n",
       "    <tr>\n",
       "      <th>3</th>\n",
       "      <td>2007-05-04</td>\n",
       "      <td>72.0</td>\n",
       "      <td>50.0</td>\n",
       "      <td>61.0</td>\n",
       "      <td>1.0</td>\n",
       "      <td>41.5</td>\n",
       "      <td>50.0</td>\n",
       "      <td>4.0</td>\n",
       "      <td>0.0</td>\n",
       "      <td>0.0025</td>\n",
       "      <td>...</td>\n",
       "      <td>0</td>\n",
       "      <td>0</td>\n",
       "      <td>0</td>\n",
       "      <td>0</td>\n",
       "      <td>0</td>\n",
       "      <td>1</td>\n",
       "      <td>0</td>\n",
       "      <td>0</td>\n",
       "      <td>0</td>\n",
       "      <td>0</td>\n",
       "    </tr>\n",
       "    <tr>\n",
       "      <th>4</th>\n",
       "      <td>2007-05-05</td>\n",
       "      <td>66.0</td>\n",
       "      <td>53.5</td>\n",
       "      <td>60.0</td>\n",
       "      <td>5.0</td>\n",
       "      <td>38.5</td>\n",
       "      <td>49.5</td>\n",
       "      <td>5.0</td>\n",
       "      <td>0.0</td>\n",
       "      <td>0.0050</td>\n",
       "      <td>...</td>\n",
       "      <td>0</td>\n",
       "      <td>0</td>\n",
       "      <td>0</td>\n",
       "      <td>0</td>\n",
       "      <td>0</td>\n",
       "      <td>0</td>\n",
       "      <td>0</td>\n",
       "      <td>0</td>\n",
       "      <td>0</td>\n",
       "      <td>0</td>\n",
       "    </tr>\n",
       "  </tbody>\n",
       "</table>\n",
       "<p>5 rows × 31 columns</p>\n",
       "</div>"
      ],
      "text/plain": [
       "        date  tmax  tmin  tavg  depart  dew_point  wet_bulb  heat  cool  \\\n",
       "0 2007-05-01  83.5  51.0  67.5    13.5       51.0      56.5   0.0   2.5   \n",
       "1 2007-05-02  59.5  42.5  51.5    -3.5       42.0      47.0  13.5   0.0   \n",
       "2 2007-05-03  66.5  47.0  57.0     1.0       40.0      49.0   8.0   0.0   \n",
       "3 2007-05-04  72.0  50.0  61.0     1.0       41.5      50.0   4.0   0.0   \n",
       "4 2007-05-05  66.0  53.5  60.0     5.0       38.5      49.5   5.0   0.0   \n",
       "\n",
       "   precip_total  ...  fg+  fu  gr  hz  mi  ra  sn  sq  ts  vc  \n",
       "0        0.0000  ...    0   0   0   0   0   0   0   0   0   0  \n",
       "1        0.0000  ...    0   0   0   1   0   0   0   0   0   0  \n",
       "2        0.0000  ...    0   0   0   1   0   0   0   0   0   0  \n",
       "3        0.0025  ...    0   0   0   0   0   1   0   0   0   0  \n",
       "4        0.0050  ...    0   0   0   0   0   0   0   0   0   0  \n",
       "\n",
       "[5 rows x 31 columns]"
      ]
     },
     "execution_count": 62,
     "metadata": {},
     "output_type": "execute_result"
    }
   ],
   "source": [
    "weather_final.head()"
   ]
  },
  {
   "cell_type": "markdown",
   "id": "a4383337",
   "metadata": {},
   "source": [
    "### Spray Dataset"
   ]
  },
  {
   "cell_type": "markdown",
   "id": "a7cc1bc3",
   "metadata": {},
   "source": [
    "#### Overview of Spray Dataset"
   ]
  },
  {
   "cell_type": "code",
   "execution_count": 63,
   "id": "513c8714",
   "metadata": {},
   "outputs": [
    {
     "name": "stdout",
     "output_type": "stream",
     "text": [
      "Number of rows: 14835\n",
      "Number of columns: 4\n",
      "\n",
      "Names of columns in dataset.\n"
     ]
    },
    {
     "data": {
      "text/plain": [
       "Index(['date', 'time', 'latitude', 'longitude'], dtype='object')"
      ]
     },
     "metadata": {},
     "output_type": "display_data"
    },
    {
     "data": {
      "text/plain": [
       "date         datetime64[ns]\n",
       "time                 object\n",
       "latitude            float64\n",
       "longitude           float64\n",
       "dtype: object"
      ]
     },
     "metadata": {},
     "output_type": "display_data"
    },
    {
     "name": "stdout",
     "output_type": "stream",
     "text": [
      "Missing values in dataset\n"
     ]
    },
    {
     "data": {
      "text/plain": [
       "date           0\n",
       "time         584\n",
       "latitude       0\n",
       "longitude      0\n",
       "dtype: int64"
      ]
     },
     "metadata": {},
     "output_type": "display_data"
    },
    {
     "name": "stdout",
     "output_type": "stream",
     "text": [
      "Number of duplicate values in dataset: 543\n"
     ]
    }
   ],
   "source": [
    "df_overview(spray)"
   ]
  },
  {
   "cell_type": "markdown",
   "id": "c9f19934",
   "metadata": {},
   "source": [
    "**Columns to Drop**"
   ]
  },
  {
   "cell_type": "markdown",
   "id": "a184b707",
   "metadata": {},
   "source": [
    "There are missing values in the time feature that we cannot impute and all of our other datasets only consist of Date and not time, we will drop the time feature."
   ]
  },
  {
   "cell_type": "code",
   "execution_count": 64,
   "id": "c53cdce7",
   "metadata": {},
   "outputs": [],
   "source": [
    "spray.drop(columns = 'time', inplace = True)"
   ]
  },
  {
   "cell_type": "markdown",
   "id": "c1a67834",
   "metadata": {},
   "source": [
    "## Exploratory Data Analysis"
   ]
  },
  {
   "cell_type": "markdown",
   "id": "f6791c82",
   "metadata": {},
   "source": [
    "Now that we have cleaned our data, let us look analyse the presence of virus against other factors."
   ]
  },
  {
   "cell_type": "markdown",
   "id": "88047a65",
   "metadata": {},
   "source": [
    "### Train Dataset"
   ]
  },
  {
   "cell_type": "markdown",
   "id": "56d66dc4",
   "metadata": {},
   "source": [
    "#### Species of Mosquitos"
   ]
  },
  {
   "cell_type": "markdown",
   "id": "4250411a",
   "metadata": {},
   "source": [
    "Let us look at the presence of virus in the different species of mosquitos."
   ]
  },
  {
   "cell_type": "code",
   "execution_count": 65,
   "id": "2848fd27",
   "metadata": {},
   "outputs": [
    {
     "data": {
      "text/html": [
       "<div>\n",
       "<style scoped>\n",
       "    .dataframe tbody tr th:only-of-type {\n",
       "        vertical-align: middle;\n",
       "    }\n",
       "\n",
       "    .dataframe tbody tr th {\n",
       "        vertical-align: top;\n",
       "    }\n",
       "\n",
       "    .dataframe thead th {\n",
       "        text-align: right;\n",
       "    }\n",
       "</style>\n",
       "<table border=\"1\" class=\"dataframe\">\n",
       "  <thead>\n",
       "    <tr style=\"text-align: right;\">\n",
       "      <th></th>\n",
       "      <th>species</th>\n",
       "      <th>num_mosquitos</th>\n",
       "      <th>wnv_present</th>\n",
       "    </tr>\n",
       "  </thead>\n",
       "  <tbody>\n",
       "    <tr>\n",
       "      <th>2</th>\n",
       "      <td>CULEX PIPIENS/RESTUANS</td>\n",
       "      <td>65419</td>\n",
       "      <td>224</td>\n",
       "    </tr>\n",
       "    <tr>\n",
       "      <th>1</th>\n",
       "      <td>CULEX PIPIENS</td>\n",
       "      <td>44305</td>\n",
       "      <td>184</td>\n",
       "    </tr>\n",
       "    <tr>\n",
       "      <th>3</th>\n",
       "      <td>CULEX RESTUANS</td>\n",
       "      <td>23223</td>\n",
       "      <td>48</td>\n",
       "    </tr>\n",
       "    <tr>\n",
       "      <th>6</th>\n",
       "      <td>CULEX TERRITANS</td>\n",
       "      <td>506</td>\n",
       "      <td>0</td>\n",
       "    </tr>\n",
       "    <tr>\n",
       "      <th>4</th>\n",
       "      <td>CULEX SALINARIUS</td>\n",
       "      <td>143</td>\n",
       "      <td>0</td>\n",
       "    </tr>\n",
       "    <tr>\n",
       "      <th>0</th>\n",
       "      <td>CULEX ERRATICUS</td>\n",
       "      <td>7</td>\n",
       "      <td>0</td>\n",
       "    </tr>\n",
       "    <tr>\n",
       "      <th>5</th>\n",
       "      <td>CULEX TARSALIS</td>\n",
       "      <td>7</td>\n",
       "      <td>0</td>\n",
       "    </tr>\n",
       "  </tbody>\n",
       "</table>\n",
       "</div>"
      ],
      "text/plain": [
       "                  species  num_mosquitos  wnv_present\n",
       "2  CULEX PIPIENS/RESTUANS          65419          224\n",
       "1           CULEX PIPIENS          44305          184\n",
       "3          CULEX RESTUANS          23223           48\n",
       "6         CULEX TERRITANS            506            0\n",
       "4        CULEX SALINARIUS            143            0\n",
       "0         CULEX ERRATICUS              7            0\n",
       "5          CULEX TARSALIS              7            0"
      ]
     },
     "execution_count": 65,
     "metadata": {},
     "output_type": "execute_result"
    }
   ],
   "source": [
    "train.groupby('species')\\\n",
    "[['num_mosquitos','wnv_present']].sum().reset_index().sort_values(by='num_mosquitos',ascending=False)"
   ]
  },
  {
   "cell_type": "code",
   "execution_count": 66,
   "id": "94ac5203",
   "metadata": {},
   "outputs": [
    {
     "data": {
      "image/png": "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\n",
      "text/plain": [
       "<Figure size 432x288 with 1 Axes>"
      ]
     },
     "metadata": {
      "needs_background": "light"
     },
     "output_type": "display_data"
    }
   ],
   "source": [
    "train.groupby(['species'])[['wnv_present']].mean().plot.barh()\n",
    "plt.title('Barplot of average of West Nile Virus present in each mosquito species', size=15);"
   ]
  },
  {
   "cell_type": "markdown",
   "id": "003d8ecc",
   "metadata": {},
   "source": [
    "Observations show that virus was promininetly found in 3 species, 'Culex Pipiens', 'Culex Pipiens/Restuans' and 'Culex Restuans'. 'Culex Pipiens/Restuans' also had the largest number of mosquitos collected followed by 'Culex Pipens' and 'Culex Pipiens/Restuans'. \n",
    "\n",
    "The graphs above represent the total number of mosquitos and presence of virus for all the years in our dataset. As we see no presence of virus and low number of mosquitos collected for the other species. We will one hot encode these species.\n",
    "\n",
    "0 - All other species\n",
    "1 - Culex Restuans\n",
    "2 - Culex Pipiens/Restuans\n",
    "3 - Culex Pipiens"
   ]
  },
  {
   "cell_type": "code",
   "execution_count": 67,
   "id": "ad28b126",
   "metadata": {},
   "outputs": [],
   "source": [
    "#one hot encoding for top 3 species\n",
    "train['species_ohe'] = train['species'].map(\n",
    "    {'CULEX RESTUANS': 1, 'CULEX PIPIENS/RESTUANS': 2, 'CULEX PIPIENS': 3})\n",
    "#0 for all other species\n",
    "train['species_ohe'].fillna(0, inplace=True)"
   ]
  },
  {
   "cell_type": "markdown",
   "id": "dbddcf87",
   "metadata": {},
   "source": [
    "#### Traps"
   ]
  },
  {
   "cell_type": "markdown",
   "id": "6b571c44",
   "metadata": {},
   "source": [
    "Traps by number of mosquitos collected"
   ]
  },
  {
   "cell_type": "code",
   "execution_count": 68,
   "id": "fb48c10f",
   "metadata": {},
   "outputs": [
    {
     "data": {
      "image/png": "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\n",
      "text/plain": [
       "<Figure size 432x288 with 1 Axes>"
      ]
     },
     "metadata": {
      "needs_background": "light"
     },
     "output_type": "display_data"
    }
   ],
   "source": [
    "train.groupby(['trap'])['num_mosquitos'].sum().sort_values(ascending=False).head().plot(kind = 'bar');"
   ]
  },
  {
   "cell_type": "markdown",
   "id": "37775851",
   "metadata": {},
   "source": [
    "Traps by number of times sampled."
   ]
  },
  {
   "cell_type": "code",
   "execution_count": 69,
   "id": "e6880df3",
   "metadata": {},
   "outputs": [
    {
     "data": {
      "image/png": "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\n",
      "text/plain": [
       "<Figure size 432x288 with 1 Axes>"
      ]
     },
     "metadata": {
      "needs_background": "light"
     },
     "output_type": "display_data"
    }
   ],
   "source": [
    "train['trap'].value_counts(ascending=False).head(10).plot(kind='bar');"
   ]
  },
  {
   "cell_type": "markdown",
   "id": "29a4eb8f",
   "metadata": {},
   "source": [
    "Traps 'T115' and 'T900' have collected the most number of mosquitos over the years and the 'T900' also seemed to be sampled the most."
   ]
  },
  {
   "cell_type": "code",
   "execution_count": 70,
   "id": "d9788969",
   "metadata": {},
   "outputs": [
    {
     "data": {
      "text/plain": [
       "136"
      ]
     },
     "metadata": {},
     "output_type": "display_data"
    },
    {
     "data": {
      "text/plain": [
       "149"
      ]
     },
     "metadata": {},
     "output_type": "display_data"
    },
    {
     "data": {
      "text/plain": [
       "latitude     138\n",
       "longitude    138\n",
       "dtype: int64"
      ]
     },
     "metadata": {},
     "output_type": "display_data"
    },
    {
     "data": {
      "text/plain": [
       "latitude     151\n",
       "longitude    151\n",
       "dtype: int64"
      ]
     },
     "metadata": {},
     "output_type": "display_data"
    }
   ],
   "source": [
    "display(train.trap.nunique())\n",
    "display(test.trap.nunique())\n",
    "display(train.loc[:, ('latitude', 'longitude')].nunique())\n",
    "display(test.loc[:, ('latitude', 'longitude')].nunique())"
   ]
  },
  {
   "cell_type": "code",
   "execution_count": 71,
   "id": "d8f62a72",
   "metadata": {},
   "outputs": [
    {
     "data": {
      "text/plain": [
       "{'T002A',\n",
       " 'T002B',\n",
       " 'T065A',\n",
       " 'T090A',\n",
       " 'T090B',\n",
       " 'T090C',\n",
       " 'T128A',\n",
       " 'T200A',\n",
       " 'T200B',\n",
       " 'T218A',\n",
       " 'T218B',\n",
       " 'T218C',\n",
       " 'T234'}"
      ]
     },
     "execution_count": 71,
     "metadata": {},
     "output_type": "execute_result"
    }
   ],
   "source": [
    "set(test['trap'].unique()) ^ set(train['trap'].unique())"
   ]
  },
  {
   "cell_type": "markdown",
   "id": "d05de1cb",
   "metadata": {},
   "source": [
    "@Sid @Felicia\n",
    "\n",
    "The number of traps and the exact location that we have do not match.\n",
    "Traps no longer in same position? Perhaps? Should we drop trap in its entirety? \n",
    "Afterall trap catch mosquitos, presence of virus in area is larger, hence we can use lat and long and plot on map to see.\n",
    "\n",
    "We found out that the test data has some traps which the train data does not have. Most of these are the satellite traps which are located near the original trap."
   ]
  },
  {
   "cell_type": "code",
   "execution_count": 72,
   "id": "48ff992e",
   "metadata": {},
   "outputs": [],
   "source": [
    "train['year'] = train['date'].apply(lambda x: x.year)\n",
    "train['month'] = train['date'].apply(lambda x: x.month)"
   ]
  },
  {
   "cell_type": "code",
   "execution_count": 73,
   "id": "f996884b",
   "metadata": {},
   "outputs": [
    {
     "data": {
      "image/png": "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\n",
      "text/plain": [
       "<Figure size 1080x1449.89 with 4 Axes>"
      ]
     },
     "metadata": {},
     "output_type": "display_data"
    }
   ],
   "source": [
    "# Code is adapted from: https://www.kaggle.com/jbobtaylor/show-map-image-in-python\n",
    "mapdata = np.loadtxt(\"../datasets//mapdata_copyright_openstreetmap_contributors.txt\")\n",
    "aspect = mapdata.shape[0] * 1.0 / mapdata.shape[1]\n",
    "\n",
    "# trap locations in latitude and longitudes\n",
    "trap_loc = train.drop_duplicates('trap')[['trap','longitude', 'latitude', 'wnv_present']]\n",
    "\n",
    "# to create the map boundaries\n",
    "min_lon = trap_loc['longitude'].min() - 0.05\n",
    "max_lon = trap_loc['longitude'].max() + 0.05\n",
    "min_lat = trap_loc['latitude'].min() - 0.025\n",
    "max_lat = trap_loc['latitude'].max() + 0.025\n",
    "\n",
    "lon_lat_box = (min_lon, max_lon, min_lat, max_lat)\n",
    "\n",
    "fig, ax = plt.subplots(ncols=4, nrows=1, figsize=(15, 15*aspect), sharey=True, sharex=True)\n",
    "# fig.suptitle(\"Traps with virus every year\")\n",
    "\n",
    "for i, year in enumerate(train['year'].unique()):\n",
    "    trap_loc = train[train['year'] == year].drop_duplicates('trap')[['trap','longitude', 'latitude', 'wnv_present']]\n",
    "\n",
    "    trap_virus_present = train[(train['year'] == year) & (train['wnv_present'] > 0)].groupby('trap')[\n",
    "                        ['wnv_present']].mean().sort_values(by='wnv_present', ascending=False)\n",
    "    \n",
    "    df = pd.merge(trap_loc.drop(columns='wnv_present'), trap_virus_present, on='trap')\n",
    "\n",
    "    locations = trap_loc[['longitude', 'latitude']].drop_duplicates().values\n",
    "\n",
    "    ax[i].imshow(mapdata,\n",
    "               cmap=plt.get_cmap('gray'), \n",
    "               extent=lon_lat_box, \n",
    "               aspect=aspect,\n",
    "               alpha=0.7)\n",
    "    \n",
    "    ax[i].scatter(locations[:,0], locations[:,1], marker='x', s=70)\n",
    "    ax[i].scatter(df.values[:, 1], df.values[:, 2], marker='o', s=30) # , cmap='coolwarm'\n",
    "    \n",
    "    # for i in range(df.shape[0]):\n",
    "    #     plt.text(df.values[i, 1], df.values[i, 2], df.values[i, 0])\n",
    "\n",
    "    ax[i].set_xticks([])\n",
    "    ax[i].set_yticks([])\n",
    "    \n",
    "    ax[i].title.set_text(year)\n",
    "plt.tight_layout()"
   ]
  },
  {
   "cell_type": "markdown",
   "id": "19a0e7d3",
   "metadata": {},
   "source": [
    "The above plot shows all the traps vs the traps where virus was detected across the years. 2007 and 2013 saw the outbreak of virus while in 2009 and 2011, it was relatively low."
   ]
  },
  {
   "cell_type": "code",
   "execution_count": 74,
   "id": "1fce1f27",
   "metadata": {},
   "outputs": [],
   "source": [
    "train.drop(columns = 'trap', inplace = True)"
   ]
  },
  {
   "cell_type": "markdown",
   "id": "cb6a86bd",
   "metadata": {},
   "source": [
    "### Weather Dataset"
   ]
  },
  {
   "cell_type": "markdown",
   "id": "ef895b8d",
   "metadata": {},
   "source": [
    "#### Rolling Features"
   ]
  },
  {
   "cell_type": "markdown",
   "id": "a6cb298a",
   "metadata": {},
   "source": [
    "Our research shows that breeding cycles are significantly affected by small changes in temperature. For example, the lifecycle of a culex mosquito that takes 14 days at 70° F takes only 10 days at 80° F. (https://www.mosquito.org/page/lifecycle) -> we can use better articles for citation. \n",
    "\n",
    "We will look into the rolling average for the following features.\n",
    "\n",
    "1. 'tavg' which refers to the average temperature\n",
    "\n",
    "2. 'precip_total' which refers to total precipitation\n",
    "\n",
    "3. 'r_humid' which refers to relative humidity"
   ]
  },
  {
   "cell_type": "code",
   "execution_count": 75,
   "id": "fde79d99",
   "metadata": {},
   "outputs": [],
   "source": [
    "features = ['tavg', 'precip_total', 'r_humid']\n",
    "lag_days = [5, 10, 14, 28]\n",
    "\n",
    "for feature in features:\n",
    "    for days in lag_days:\n",
    "        weather[feature+'_'+ str(days)] = weather[feature].rolling(days).mean()"
   ]
  },
  {
   "cell_type": "markdown",
   "id": "52bcbc7e",
   "metadata": {},
   "source": [
    "### Spray Dataset"
   ]
  },
  {
   "cell_type": "markdown",
   "id": "f8ff8ad3",
   "metadata": {},
   "source": [
    "Sid, you can insert your codes here with the map"
   ]
  },
  {
   "cell_type": "code",
   "execution_count": 76,
   "id": "303aea94",
   "metadata": {},
   "outputs": [
    {
     "data": {
      "text/plain": [
       "array(['2011-08-29T00:00:00.000000000', '2011-09-07T00:00:00.000000000',\n",
       "       '2013-07-17T00:00:00.000000000', '2013-07-25T00:00:00.000000000',\n",
       "       '2013-08-08T00:00:00.000000000', '2013-08-15T00:00:00.000000000',\n",
       "       '2013-08-16T00:00:00.000000000', '2013-08-22T00:00:00.000000000',\n",
       "       '2013-08-29T00:00:00.000000000', '2013-09-05T00:00:00.000000000'],\n",
       "      dtype='datetime64[ns]')"
      ]
     },
     "execution_count": 76,
     "metadata": {},
     "output_type": "execute_result"
    }
   ],
   "source": [
    "# dates for which spray data is available\n",
    "spray['date'].unique()"
   ]
  },
  {
   "cell_type": "markdown",
   "id": "a4234881",
   "metadata": {},
   "source": [
    "There are only 2 dates in 2011 and 8 dates in 2013 on which the city has some spray data on. The spray is supposed to reduce the growth/population of the mosquito, as cited [here](https://www.cdc.gov/westnile/vectorcontrol/aerial-spraying.html). Let's see if that is what actually happens."
   ]
  },
  {
   "cell_type": "code",
   "execution_count": 77,
   "id": "e5b969aa",
   "metadata": {},
   "outputs": [],
   "source": [
    "spray['year'] = spray['date'].apply(lambda x: x.year)\n",
    "spray['month'] = spray['date'].apply(lambda x: x.month)"
   ]
  },
  {
   "cell_type": "code",
   "execution_count": 78,
   "id": "b688cfa7",
   "metadata": {},
   "outputs": [],
   "source": [
    "# plot the 2011 number of mosquito count with spray dates\n",
    "def plot_spray_data(year):\n",
    "    plt.figure(figsize=(15, 5))\n",
    "    plt.title(f\"Number of Mosquitos in {year} with spray dates\", fontdict={'fontsize': 16})\n",
    "    plt.plot(train[train['year'] == year].groupby('date')['num_mosquitos'].sum())\n",
    "    for date in spray[spray['year'] == year]['date'].unique():\n",
    "        plt.axvline(x=date, ls='--', color='k')"
   ]
  },
  {
   "cell_type": "code",
   "execution_count": 79,
   "id": "c9cc9871",
   "metadata": {},
   "outputs": [
    {
     "data": {
      "image/png": "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\n",
      "text/plain": [
       "<Figure size 1080x360 with 1 Axes>"
      ]
     },
     "metadata": {
      "needs_background": "light"
     },
     "output_type": "display_data"
    }
   ],
   "source": [
    "plot_spray_data(2011)"
   ]
  },
  {
   "cell_type": "code",
   "execution_count": 80,
   "id": "0fc79552",
   "metadata": {},
   "outputs": [
    {
     "data": {
      "image/png": "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\n",
      "text/plain": [
       "<Figure size 1080x360 with 1 Axes>"
      ]
     },
     "metadata": {
      "needs_background": "light"
     },
     "output_type": "display_data"
    }
   ],
   "source": [
    "plot_spray_data(2013)"
   ]
  },
  {
   "cell_type": "markdown",
   "id": "2a51f6dc",
   "metadata": {},
   "source": [
    "As we can see from the two plots, it cannot be conclusively said that the spraying had any direct effect on the mosquito population. Although, it must be noted that these are the total number of mosquitos and it would make sense to plot the spray data vs mosquito population based on location where it was sprayed."
   ]
  },
  {
   "cell_type": "markdown",
   "id": "8c8ec4c1",
   "metadata": {},
   "source": [
    "Description:\n",
    "\n",
    "- Spray was only done on 2 years and certain dates\n",
    "- Epidemic in 2002\n",
    "- Gov Tech article :'This risk is why the Chicago Department for Public Health (CDPH) established a surveillance and control program in 2004, which includes annual spraying.'\n",
    "- Annual spraying since 2004, but we only have data set from 2011 and 2013\n",
    "- Will not use spray in model\n",
    "\n",
    "https://www.ncbi.nlm.nih.gov/pmc/articles/PMC3322011/\n",
    "https://www.govtech.com/analytics/chicago-turns-to-predictive-analytics-to-map-west-nile-threat.html"
   ]
  },
  {
   "cell_type": "code",
   "execution_count": 81,
   "id": "06836663",
   "metadata": {},
   "outputs": [],
   "source": [
    "train.drop(columns=['year', 'month'], inplace=True)\n",
    "spray.drop(columns=['year', 'month'], inplace=True)"
   ]
  },
  {
   "cell_type": "markdown",
   "id": "d0181529",
   "metadata": {},
   "source": [
    "### Merged Dataset"
   ]
  },
  {
   "cell_type": "code",
   "execution_count": 82,
   "id": "f3edc903",
   "metadata": {},
   "outputs": [],
   "source": [
    "combined = pd.merge(train, weather, on='date').drop(columns=['species'])"
   ]
  },
  {
   "cell_type": "code",
   "execution_count": 83,
   "id": "b8a67f38",
   "metadata": {},
   "outputs": [],
   "source": [
    "# split date into day, week, month and year for weather\n",
    "combined['year'] = combined['date'].dt.year\n",
    "combined['month'] = combined['date'].dt.month\n",
    "combined['week'] = combined['date'].dt.isocalendar().week\n",
    "combined['day'] = combined['date'].dt.dayofweek"
   ]
  },
  {
   "cell_type": "code",
   "execution_count": 84,
   "id": "cc6a4bfc",
   "metadata": {},
   "outputs": [
    {
     "data": {
      "image/png": "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\n",
      "text/plain": [
       "<Figure size 1008x360 with 1 Axes>"
      ]
     },
     "metadata": {},
     "output_type": "display_data"
    }
   ],
   "source": [
    "# % Wnv present during the different months\n",
    "sns.set(rc={'figure.figsize':(14,5)})\n",
    "sns.lineplot(data=combined, x='month',\n",
    "             y='wnv_present', ci=None).set(title='Line plot of Wnv present across the months');"
   ]
  },
  {
   "cell_type": "code",
   "execution_count": 85,
   "id": "68b1ab3b",
   "metadata": {},
   "outputs": [
    {
     "data": {
      "image/png": "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\n",
      "text/plain": [
       "<Figure size 1008x360 with 1 Axes>"
      ]
     },
     "metadata": {},
     "output_type": "display_data"
    }
   ],
   "source": [
    "# % Wnv present during the different years\n",
    "sns.set(rc={'figure.figsize':(14,5)})\n",
    "sns.lineplot(data=combined, x='year', \n",
    "             y='wnv_present', ci=None).set(title='Line plot of Wnv present across the years');"
   ]
  },
  {
   "cell_type": "code",
   "execution_count": 86,
   "id": "0aff8265",
   "metadata": {},
   "outputs": [
    {
     "data": {
      "image/png": "iVBORw0KGgoAAAANSUhEUgAAA0gAAAFNCAYAAAA6tU9BAAAAOXRFWHRTb2Z0d2FyZQBNYXRwbG90bGliIHZlcnNpb24zLjMuNCwgaHR0cHM6Ly9tYXRwbG90bGliLm9yZy8QVMy6AAAACXBIWXMAAAsTAAALEwEAmpwYAAAz3ElEQVR4nO3de0BUdcL/8c8gF0VN0p0hc7eyK1kSleuFFLMkFCEJsEyLtKTsZtJGokiW1/KhJazWZ9cubi0mRAqxj4t0vwhZYStuqbtmppLLoKiBggJzfn90ml+ENF6aGZX36y/O+Z7LZ+Cr+PGcOWMxDMMQAAAAAEA+3g4AAAAAACcLChIAAAAAmChIAAAAAGCiIAEAAACAiYIEAAAAACYKEgAAAACYKEgAcAJ27typSy+9VKNHj9bo0aMVGxurMWPGqLy83G3nTEtL04svvviL29TW1iopKemYj71ixQpde+21uuuuu1qsnzRpkpYuXepc/uabb3TJJZfo6aefdq7bs2ePLr/8ctXW1h7zeU8FM2fO1L/+9S9vxzgm77//vrKzsyX98LO95557ftXj33PPPVqxYsWvekwA8DYKEgCcoI4dO6qwsFCFhYUqKirSxIkTNX36dK9m2r9/vzZs2HDM+xUUFCglJaVVAYuIiNCnn37qXH7vvfc0bNgwvfvuu851n3zyia688kp17dr1+IOfxEpLS3WqfXTghg0btH//fm/HAIBTiq+3AwDA6Wbfvn2yWq2SJIfDofnz52v9+vU6cOCADMPQ3LlzdfXVVystLU379u3Tjh07dO211yo1NdV5jLVr12rhwoUKDg7Wjh071LFjRz355JO64IILWpzr888/18KFC1VfXy8/Pz9NnTpVERERmj59uhoaGjR69GitWLFCHTp0cO5TW1urJ554Qps2bZLFYtGQIUP08MMPa+HChdqwYYN27typvXv3asKECc59IiIi9Nxzz8nhcMjHx0fvvfeeUlJS9PDDD2vHjh363e9+p7KyMl177bWSpOuuu0433XSTysrKtGvXLo0cOVKPPvqo/vCHP6hPnz7OK1Svvfaa1q5dq2eeeabF67ruuus0fPhwff7556qtrdXEiRM1btw4rV27VvPmzVNgYKAOHjyo/Px8ffzxx1q8eLEaGxvVsWNHTZs2TVdeeaW+/vprpaen6/DhwzIMQ4mJiRo/frwkafHixSopKZHD4VCvXr00a9YsBQcH6/bbb1dYWJjWrVunXbt26eqrr9ZTTz2l7Oxs2e12PfLII1q4cKGuuOIKZ9aDBw/q8ccf17Zt27R//3517txZmZmZOv/881VdXa1Zs2Zp69at8vHx0dixY5WUlKTbb79d3bp109atW3XrrbcqMjJSjz/+uCorK2UYhuLi4jRp0iQ1NTVpzpw5Wrdunfz8/PTb3/5WCxYsUEBAwBHXd+7c2Zlr/fr1Wr58uZqbm9W1a1ede+65qq6u1t13361du3apQ4cOevrpp3XBBReotrZW8+bN07///W81NjZq0KBBevTRR+Xr2/KfCVVVVUpLS5PdbtfZZ5+tPXv2OMfy8/OVm5urxsZG7d+/X8nJyRo3bpwmTpyoESNG6JZbbnF+7/fu3avk5GRNmzZNe/fulSQNHTpUU6dOdfnnCwDczgAAHLcdO3YYISEhxo033mjceOONxrXXXmtcdtllxvvvv28YhmGsW7fOePDBB43m5mbDMAzjz3/+s3HPPfcYhmEY06ZNM+64444jHveTTz4xQkJCjM8++8wwDMNYtmyZcdNNNzn3e+GFF4yamhpj0KBBxj//+U/DMAzj3//+t9G/f39j+/btxo4dO4ywsLAjHvvRRx815syZYzgcDuPQoUPGnXfeafz5z382DMMwbrvtNuMf//jHEfcbPny48dVXXxn79u0zrrnmGqO5udnIyMgwXn75ZcMwDOO6664ztmzZYhiGYQwbNsx48sknDcMwjP/+979G3759je3btxtlZWVGTEyM85iJiYnGmjVrWp1r2LBhRkZGhuFwOIxdu3YZAwYMMDZt2uT8vuzcudMwDMP45ptvjJiYGKOmpsb5PbjmmmuMAwcOGNOnT3e+LrvdbkydOtVobm42Vq5caUydOtVobGw0DMMwli9fbkyaNMn5+qdMmWI0NzcbtbW1xuDBg42ysjJnpoqKilZZ//GPfxhz5sxxLmdkZBizZ882DMMw7r//fuOpp54yDMMwvv/+e2PUqFHGtm3bjNtuu82YPn26c5/x48cbL730knO72NhY4+9//7vx2WefGSNGjDAcDodhGIaxcOFCo7y8vM31P7do0SLjiSeeMAzDMN544w2jX79+xrZt2wzDMIw5c+Y4M6SlpRmvvPKKYRiG0dTUZDzyyCPGX/7yl1bHu++++4ysrCzDMAxj27ZtRlhYmPHGG28YdXV1xs033+z8OXzxxRfO+ffWW28ZCQkJhmEYRnNzszFs2DDj66+/Np577jkjIyPDMAzDOHDggDF16lTj+++/b3VOAPA0riABwAn68Ra7H61bt07JyckqKCjQlVdeqW7dumn58uXasWOH1q5d2+J/+a+++uo2jxsSEqJ+/fpJkhISEjR79mzn/7ZLUkVFhc455xzn1YyLLrpIV111lT799FMNGDCgzeN++OGHeu2112SxWOTv76+xY8fqr3/9q+6+++5ffJ0RERFau3atevToofDwcPn4+GjYsGHKycnR8OHDJanFFa7rr79ekhQcHKwePXpo//79GjBggA4dOqQNGzaoU6dOqqmp0aBBg454vnHjxsliseiss87SkCFDtGbNGl122WXq2bOnevXqJUlas2aN7HZ7i6tdFotF27dvV2RkpKZNm6aKigoNGjRIM2fOdF792rBhgxISEiT9cJWvvr7euf+wYcPk4+OjLl266Nxzz3V5i9qIESP0u9/9Tq+++qq+/fZbffrpp7ryyisl/XBb3o9XBrt27aq///3vzv1+/NkePHhQ69at00svveTcLj4+Xh9++KHS09PVoUMHjRkzRoMHD1ZUVJRCQ0P1/fffH3G9K6GhoTr33HMlSZdeeqneeustST+8V2nDhg3Kz8+XJDU0NBxx/9LSUk2bNk2SdO655zrnWefOnfW///u/+uCDD7Rt2zZt2rRJBw8edH4/586dq02bNqmqqkq//e1vdf7552vIkCHOq1nh4eH6wx/+cNrengng1EJBAoBf2VVXXaXevXtrw4YN+vrrrzVv3jxNnDhR119/vc4//3y9+eabzm0DAwPbPM5Pb4uTJMMwWqxzOByt9jEMQ01NTb+Y7+f7ORwOl/tIPxSk119/XQEBAc7yM3DgQGVkZLS4ve5HAQEBzq8tFosMw5DFYlFiYqIKCwvl5+enxMREWSyWI57vp7d3/Xhrn9Tye+ZwODRo0KAWt+jt2rVLNptNISEhWr16tUpLS1VWVqbnn39ey5cvl8Ph0KRJkzRu3DhJ0uHDh1uUoI4dO7bK/UuWLVumvLw8jR8/XrGxsQoKCtLOnTudr+Gnr2/Hjh0688wzW7wOh8PR6hw//kzOOOMMFRYWat26dfrkk080depUJSUlacKECW2u/yU//Z7+9LU5HA5lZ2c7C+73339/xJ/Lz78fPx7vv//9r2655RbdfPPNuvrqqzVixAi99957kn6Yx2PHjlV+fr7sdrvGjh0r6Yey9s4776isrEyffPKJxowZo+eff15XXXXVL74GAHA3HtIAAL+yb775Rtu2bdOll16qNWvWaNiwYRo3bpz69u2rt99+W83NzUd1nE2bNmnTpk2SpNzcXF111VU644wznONXXHGFvvnmG1VUVEiS/vOf/+izzz5T//795evrq+bm5iP+437w4MHKycmRYRg6fPiw8vLyFB4e7jLPgAEDtHHjRn366acaMmSIJKlTp07q06eP/va3v2no0KFH9bpuuukmvfvuu1q9erXi4+Pb3K6goECS9N1332nNmjWKiIhotc3AgQO1Zs0aff3115KkDz74QDfeeKMOHTqkP/zhD1q1apVGjRqlWbNmqUuXLtq1a5cGDx6s/Px81dXVSZKys7P16KOPuszdoUOHIxbJjz/+WDfddJPGjBmj3r17691333X+jAcNGqQ33nhD0g/v/brjjju0bdu2Fvt36dJFV1xxhXJycpzbFRQUKDw8XO+9954mTJigK6+8Ug8++KDi4uK0adOmNtcfbeafGzx4sJYuXeqcE/fee6/+9re/tdpuyJAhys3NlfTDz2Xt2rWSpH/961/q3r277rvvPg0ZMsRZjn78PowZM0Zvv/22vvzyS0VGRkqSMjMz9ac//UnDhw9Xenq6LrzwwlbfGwDwBq4gAcAJ+vFhCD9yOByaPXu2evfurbFjx+qRRx5RbGysOnTooH79+jkfDuDKb37zGz3zzDOqrKxU9+7dtXDhwhbj3bt3V3Z2tubMmaOGhgZZLBYtWLBAvXv3VnNzs/r06aORI0fqtddec161kH54XPXcuXMVGxurxsZGDRkyRJMnT3aZp2PHjjrvvPPU2NjY4laooUOH6n/+539+8ba+n7JarerTp4+ampoUHBzc5nY7d+5UfHy8GhoaNHPmTOdDD37qoosu0uzZs/Xwww/LMAz5+vpq8eLFCgwM1H333af09HTl5uaqQ4cOGj58uPr376/f//73qqqq0s033yyLxaKePXvqySefdJl7+PDhSklJ0dy5czV48GDn+jvvvFOPPfaY82EYl112mf79739Lkh577DE9/vjjio2NlWEYuueee3T55Ze3OnZmZqZmz56tFStW6PDhw4qNjVV8fLwcDoc+/PBDxcTEKDAwUN26ddOcOXPUs2fPI67/uUGDBunBBx+Un5+fLrvssjZfW3p6uubNm+ecE+Hh4Zo0aVKr7WbNmqXp06dr5MiROuussxQSEiJJuuaaa5Sfn68RI0aoU6dOCg0NVffu3fXtt9/q/PPPV48ePXT55ZfrggsukJ+fnyTpjjvuUFpammJiYuTv769LLrlEMTExLn8OAOBuFsPVvQMAAI9bu3at5syZ0+I9K+3Jddddp+zsbPXt29fbUfArqKmpUWJionJyctSzZ09vxwGAX8QtdgAAwG3y8vIUHR2tpKQkyhGAUwJXkAAAAADAxBUkAAAAADBRkAAAAADAREECAAAAABMFCQAAAABMp+XnIO3de0AOB8+eAAAAANCaj49FZ57Z+Yhjp2VBcjgMChIAAACAY8YtdgAAAABgoiABAAAAgImCBAAAAAAmChIAAAAAmChIAAAAAGCiIAEAAACAiYIEAAAAACYKEgAAAACYKEgAAAAAYPL1dgAAgGec0S1AAf7+3o4BDzp0+LC+33/I2zEA4JRCQQKAdiLA318TXn7I2zHgQUsnZkuiIAHAseAWOwAAAAAwUZAAAAAAwOTWglRUVKTo6GhFRkYqJyen1fjGjRuVkJCgqKgopaenq6mpSZK0c+dOjR8/XqNHj9btt9+uyspKd8YEAAAAAEluLEhVVVXKysrSsmXLVFhYqNzcXG3ZsqXFNqmpqcrIyNDq1atlGIby8vIkSdnZ2Ro1apQKCwt1ww03KCsry10xAQAAAMDJbQ9pKC0t1cCBAxUUFCRJioqKUnFxsR544AFJUmVlpRoaGhQWFiZJio+P16JFizRu3Dg5HA7V1dVJkurr69WxY0d3xQQAAG4S1NVffh0DvB0DHtTYcEj7ag97OwZwQtxWkOx2u6xWq3PZZrOpoqKizXGr1aqqqipJ0kMPPaSxY8fq1VdfVWNjo3Jzc4/p3D16dDnB9AAAnB6s1q5ePf+qpIlePT88K/qVl2WlFOMU57aCZBhGq3UWi+WoxqdNm6bZs2dr+PDhWr16tR544AG9+eabLfb/JXv21MnhaH18AGjPvP0PZXhHdXWt187NnGufvDnngKPl42Np86KK296DFBwcrN27dzuX7Xa7bDZbm+PV1dWy2WyqqanR1q1bNXz4cEk/3JpXXV2tvXv3uisqAAAAAEhyY0EKDw9XWVmZampqVF9fr5KSEkVERDjHe/XqpYCAAJWXl0uSCgoKFBERoTPPPFMBAQH6/PPPJUnl5eXq3Lmzunfv7q6oAAAAACDJjbfYBQcHKyUlRUlJSWpsbFRiYqJCQ0OVnJysKVOmqG/fvsrMzNTMmTN14MAB9enTR0lJSbJYLHruuec0Z84cNTQ0qHPnznr22WfdFRMAAAAAnCzGkd4MdIrjPUgA0JrV2lUTXn7I2zHgQUsnZnv9PUg8pKF9iX7lZd6DhFOCV96DBAAAAACnGgoSAAAAAJgoSAAAAABgoiABAAAAgImCBAAAAAAmChIAAAAAmChIAAAAAGCiIAEAAACAiYIEAAAAACYKEgAAAACYKEgAAAAAYKIgAQAAAICJggQAAAAAJgoSAAAAAJgoSAAAAABgoiABAAAAgImCBAAAAAAmChIAAAAAmChIAAAAAGCiIAEAAACAiYIEAAAAACYKEgAAAACYKEgAAAAAYPJ158GLioq0ePFiNTY2asKECRo/fnyL8Y0bN2rmzJmqq6tTv3799MQTT2j//v268847ndvU1tZq7969+uKLL9wZFQAAAADcdwWpqqpKWVlZWrZsmQoLC5Wbm6stW7a02CY1NVUZGRlavXq1DMNQXl6eevToocLCQhUWFmrlypXq1auXZs+e7a6YAAAAAODktoJUWlqqgQMHKigoSIGBgYqKilJxcbFzvLKyUg0NDQoLC5MkxcfHtxiXpDfeeEOdOnVSbGysu2ICAAAAgJPbbrGz2+2yWq3OZZvNpoqKijbHrVarqqqqnMvNzc1avHixFi9efMzn7tGjy3GmBjzL0dQoH18/b8eAB/Ezh6dZrV29HQHtDHMOpzq3FSTDMFqts1gsRz3+0UcfqXfv3rrkkkuO+dx79tTJ4Wh9fOBkY7V2VfnCSd6OAQ+6+tEXVF1d65Vz84+W9slb801izrVX3pxzwNHy8bG0eVHFbbfYBQcHa/fu3c5lu90um83W5nh1dXWL8bffflvR0dHuigcAAAAArbitIIWHh6usrEw1NTWqr69XSUmJIiIinOO9evVSQECAysvLJUkFBQUtxv/5z3+qX79+7ooHAAAAAK249QpSSkqKkpKSFBcXp5iYGIWGhio5OVkbNmyQJGVmZmrBggUaOXKk6uvrlZSU5Nx/x44dOuuss9wVDwAAAABacevnIMXGxrZ6At2SJUucX4eEhCg/P/+I+65fv96d0QAAAACgFbddQQIAAACAUw0FCQAAAABMFCQAAAAAMFGQAAAAAMBEQQIAAAAAEwUJAAAAAEwUJAAAAAAwUZAAAAAAwERBAgAAAAATBQkAAAAATBQkAAAAADBRkAAAAADAREECAAAAABMFCQAAAABMFCQAAAAAMFGQAAAAAMBEQQIAAAAAEwUJAAAAAEwUJAAAAAAwUZAAAAAAwERBAgAAAAATBQkAAAAATG4tSEVFRYqOjlZkZKRycnJajW/cuFEJCQmKiopSenq6mpqaJEl2u11333234uLiNHbsWO3cudOdMQEAAABAkhsLUlVVlbKysrRs2TIVFhYqNzdXW7ZsabFNamqqMjIytHr1ahmGoby8PEnSo48+qmHDhqmgoECjR49WZmamu2ICAAAAgJPbClJpaakGDhyooKAgBQYGKioqSsXFxc7xyspKNTQ0KCwsTJIUHx+v4uJi1dTUaNOmTRo7dqwkKSEhQVOnTnVXTAAAAABw8nXXge12u6xWq3PZZrOpoqKizXGr1aqqqirt2LFDZ599tubPn6+1a9fq7LPPVkZGxjGdu0ePLif+AgDATazWrt6OgHaE+QZPY87hVOe2gmQYRqt1FovF5XhTU5O++uorPfjgg0pPT9frr7+utLQ0vfrqq0d97j176uRwtD4+cLLhl0j7VF1d65XzMt/aJ2/NN4k51155c84BR8vHx9LmRRW33WIXHBys3bt3O5ftdrtsNlub49XV1bLZbLJarercubOGDRsmSYqJiWlx5QkAAAAA3MVtBSk8PFxlZWWqqalRfX29SkpKFBER4Rzv1auXAgICVF5eLkkqKChQRESEzjnnHAUHB+uDDz6QJL333nu67LLL3BUTAAAAAJzcegUpJSVFSUlJiouLU0xMjEJDQ5WcnKwNGzZIkjIzM7VgwQKNHDlS9fX1SkpKkiQ999xzeuGFFxQTE6NXXnlF8+fPd1dMAAAAAHBy23uQJCk2NlaxsbEt1i1ZssT5dUhIiPLz81vtd/755x/Te44AAAAA4Nfg1g+KBQAAAIBTCQUJAAAAAEwUJAAAAAAwUZAAAAAAwERBAgAAAAATBQkAAAAATBQkAAAAADBRkAAAAADAREECAAAAABMFCQAAAABMFCQAAAAAMFGQAAAAAMBEQQIAAAAAEwUJAAAAAEwUJAAAAAAwUZAAAAAAwOSyIM2YMaPVugcffNAtYQAAAADAm3zbGpg1a5aqqqpUXl6umpoa5/qmpiZt3brVI+EAAAAAwJPaLEiJiYn6z3/+o82bNysqKsq5vkOHDrryyis9Eg4AAAAAPKnNgtS3b1/17dtX4eHhOuusszyZCQAAAAC8os2C9KPt27crNTVV+/fvl2EYzvVFRUVuDQYAAAAAnuayIM2ePVsJCQnq06ePLBaLJzIBAAAAgFe4LEh+fn6aOHGiJ7IAAAAAgFe5fMz3RRddpM2bNx/XwYuKihQdHa3IyEjl5OS0Gt+4caMSEhIUFRWl9PR0NTU1SZIKCgo0ePBgjR49WqNHj1ZWVtZxnR8AAAAAjoXLK0g7duxQQkKCzj77bAUEBDjXu3oPUlVVlbKysrRixQr5+/tr7NixGjBggC688ELnNqmpqZo7d67CwsI0Y8YM5eXlady4cdqwYYPS0tIUExNzAi8NAAAAAI6Ny4KUkpJyXAcuLS3VwIEDFRQUJEmKiopScXGxHnjgAUlSZWWlGhoaFBYWJkmKj4/XokWLnAXp22+/1V/+8hddfPHFysjIULdu3Y4rBwAAAAAcLZcFqX///qqoqNBXX32l+Ph4ffnll0f1OUh2u11Wq9W5bLPZVFFR0ea41WpVVVWV8+u7775boaGh+uMf/6jZs2fr6aefPuoX1aNHl6PeFgA8zWrt6u0IaEeYb/A05hxOdS4L0ooVK/Tiiy/q0KFDioyM1H333aeUlBTdfPPNv7jfTx8J/qOfPgXvl8aff/5557pJkyZp+PDhrmK2sGdPnRyO1scHTjb8EmmfqqtrvXJe5lv75K35JjHn2itvzjngaPn4WNq8qOLyIQ2vvvqqcnNz1aVLF/Xo0UMrVqzQX//6V5cnDQ4O1u7du53LdrtdNputzfHq6mrZbDbV1tZq6dKlzvWGYcjX12WPAwAAAIAT5rIg+fj4qEuX/9+uevbsqQ4dOrg8cHh4uMrKylRTU6P6+nqVlJQoIiLCOd6rVy8FBASovLxc0g9ProuIiFBgYKBeeOEFrV+/XpL0t7/9TZGRkcf8wgAAAADgWLm8NBMUFKSNGzc6b3978803j+qBCcHBwUpJSVFSUpIaGxuVmJio0NBQJScna8qUKerbt68yMzM1c+ZMHThwQH369FFSUpI6dOigZ555Ro8//rgaGhp03nnnaeHChSf+SgEAAADABZcFacaMGXrooYe0fft2DR48WAEBAfrTn/50VAePjY1VbGxsi3VLlixxfh0SEqL8/PxW+/Xr108rV648qnMAAAAAwK/FZUG64IILVFhYqG3btqm5uVm9e/eWn5+fJ7IBAAAAgEe5fA/S7t279f777+uCCy5Qfn6+7rrrLm3atMkT2QAAAADAo1wWpLS0NO3YsUNlZWX65JNPFBcXp7lz53oiGwAAAAB4lMuCtG/fPk2YMEEffvihYmJiFB8fr/r6ek9kAwAAAACPclmQGhsb1djYqI8++kjh4eGqr6/XwYMHPZENAAAAADzKZUG6/vrrNWjQIJ155pm6/PLLNWbMGMXExHgiGwAAAAB4lMun2E2ZMkU333yzzjrrLElSZmamQkJC3B4MAAAAADzN5RUkh8Oh//u//1NaWprq6ur0wQcfqLm52RPZAAAAAMCjXBakhQsXavPmzVq/fr0k6aOPPtKCBQvcHgwAAAAAPM1lQSorK9OTTz6pgIAAdenSRS+99JLWrFnjiWwAAAAA4FEuC5Kvr698fP7/Zv7+/vL1dfnWJQAAAAA45bhsOhdffLFycnLU3NysrVu3aunSpTykAQAAAMBpyeUVpPT0dH355Zfas2ePxo0bp4MHD2rGjBmeyAYAAAAAHuXyClJhYaHmz5/viSwAAAAA4FUuryC99tprnsgBAAAAAF7n8gpS7969NXPmTPXr10+BgYHO9TfccINbgwEAAACAp7ksSPv27dO+ffv07bffOtdZLBYKEgAAAIDTjsuC9Oqrr3oiBwAAAAB4ncv3IFVXV+uhhx7S1Vdfrf79+ystLU379+/3RDYAAAAA8CiXBSktLU3nnHOOCgoKlJeXpzPPPFMZGRmeyAYAAAAAHuXyFrv//ve/evHFF53L06ZNU3R0tFtDAQAAAIA3uLyCFBwcrO3btzuX7Xa7bDabW0MBAAAAgDe4LEgWi0VxcXGaMmWKUlJSdOONN2rfvn2aPHmyJk+e/Iv7FhUVKTo6WpGRkcrJyWk1vnHjRiUkJCgqKkrp6elqampqMf7VV1/p8ssvP8aXBAAAAADHx+UtdjExMYqJiXEuR0REOL8+ePBgm/tVVVUpKytLK1askL+/v8aOHasBAwbowgsvdG6TmpqquXPnKiwsTDNmzFBeXp7GjRsnSaqvr9fs2bPV2Nh4XC8MAAAAAI6Vy4J00003/eLY+PHjjzhWWlqqgQMHKigoSJIUFRWl4uJiPfDAA5KkyspKNTQ0KCwsTJIUHx+vRYsWOQvSk08+qQkTJuiLL744ltcDAAAAAMfNZUH6JYZhtDlmt9tltVqdyzabTRUVFW2OW61WVVVVSZLeeecdNTQ0aMSIEceVq0ePLse1HwB4gtXa1dsR0I4w3+BpzDmc6k6oIFksljbHjlSefrp9W+PV1dVavHixli5dety59uypk8PRdnkDThb8EmmfqqtrvXJe5lv75K35JjHn2itvzjngaPn4WNq8qOLyIQ3HKzg4WLt373Yu//zpdz8fr66uls1m0/vvv699+/Zp/PjxGj16tCRp9OjRqqurc1dUAAAAAJDkxoIUHh6usrIy1dTUqL6+XiUlJS0e8NCrVy8FBASovLxcklRQUKCIiAiNGTNGb7/9tgoLC1VYWChJKiwsVJcu3DYHAAAAwL3cegUpJSVFSUlJiouLU0xMjEJDQ5WcnKwNGzZIkjIzM7VgwQKNHDlS9fX1SkpKclccAAAAAHDJ5XuQDMNo871GgYGBv7hvbGysYmNjW6xbsmSJ8+uQkBDl5+f/4jE2b97sKiIAAAAA/CpcXkEaOnSosrOzVVlZ2WrsSB/+CgAAAACnKpcFaenSpWpsbNStt96qu+66S8XFxWpqavJENgAAAADwKJcF6fzzz9cjjzyi999/X0lJSXrppZdaPGwBAAAAAE4XR/U5SHv27NGbb76plStXyjAM3Xvvve7OBQAAAAAe57IgTZ48WevWrVNUVJTmzJmjK664whO5AAAAAMDjXBak6667Tk8//bQ6d+7siTwAAAAA4DUuC1JsbKyKi4u1f/9+GYbhXD9x4kS3BgMAAAAAT3NZkFJSUmS323XxxRe3+XlIAAAAgDd1O6OT/AOO6u31OE0cPtSk/d/X/+rHdTmLtm7dqlWrVsnXlwkHAACAk5N/gK/mp+d7OwY8aMa8RLcc1+Vjvs866yy3nBgAAAAATjYuLwtdfPHFSkpK0pAhQ9SxY0fnet6DBAAAAOB047IgrVq1Spdddpm2b9/uiTwAAAAA4DVH9ZjvDz74QOecc46ioqIUFRWl4OBgT2QDAAAAAI9yWZDmzp0rwzC0fv16vfvuu7r11ltls9m0fPlyT+QDAAAAAI9xWZAOHz6szz//XB9//LHWrFkjSbrooovcHgwAAAAAPM1lQerXr5+6deumiRMn6plnnlHv3r09kQsAAAAAPM5lQVqwYIE++ugjvfbaayotLdXgwYN1zTXXcBUJAAAAwGnHZUEaNWqURo0aJUl69913lZmZqaeeekobN250ezgAAAAA8CSXBamsrEwfffSRPvroIx0+fFjDhw/X/PnzPZENAAAAADzKZUFauHChIiMj9fTTT+viiy/2RCYAAAAA8AqXBWnlypWeyAEAAAAAXufj7QAAAAAAcLKgIAEAAACAya0FqaioSNHR0YqMjFROTk6r8Y0bNyohIUFRUVFKT09XU1OTJOnzzz9XfHy8YmNjNXnyZO3fv9+dMQEAAABAkhsLUlVVlbKysrRs2TIVFhYqNzdXW7ZsabFNamqqMjIytHr1ahmGoby8PEnS9OnTtXDhQhUVFenCCy/Uiy++6K6YAAAAAODktoJUWlqqgQMHKigoSIGBgYqKilJxcbFzvLKyUg0NDQoLC5MkxcfHO8dXrVqlCy+8UI2NjaqqqtIZZ5zhrpgAAAAA4OTyKXbHy263y2q1OpdtNpsqKiraHLdaraqqqpIk+fn5afPmzZo4caJ8fX318MMPH9O5e/TocoLpAcB9rNau3o6AdoT5Bk9jzsGT3DHf3FaQDMNotc5isRz1+CWXXKLS0lItX75cKSkpWr58+VGfe8+eOjkcrY8PnGz4JdI+VVfXeuW8zLf2yVvzTWLOtVf8HQdPOt755uNjafOiittusQsODtbu3budy3a7XTabrc3x6upq2Ww2HTp0SG+//bZz/Y033qjNmze7KyYAAAAAOLmtIIWHh6usrEw1NTWqr69XSUmJIiIinOO9evVSQECAysvLJUkFBQWKiIiQr6+vnnjiCf3rX/+SJP3jH//QVVdd5a6YAAAAAODktlvsgoODlZKSoqSkJDU2NioxMVGhoaFKTk7WlClT1LdvX2VmZmrmzJk6cOCA+vTpo6SkJHXo0EFZWVl67LHH1NzcrODgYM2bN89dMQEAAADAyW0FSZJiY2MVGxvbYt2SJUucX4eEhCg/P7/Vfv369dOKFSvcGQ0AAAAAWnHrB8UCAAAAwKmEggQAAAAAJgoSAAAAAJgoSAAAAABgoiABAAAAgImCBAAAAAAmChIAAAAAmChIAAAAAGCiIAEAAACAiYIEAAAAACYKEgAAAACYKEgAAAAAYKIgAQAAAICJggQAAAAAJgoSAAAAAJgoSAAAAABgoiABAAAAgImCBAAAAAAmChIAAAAAmChIAAAAAGCiIAEAAACAiYIEAAAAACa3FqSioiJFR0crMjJSOTk5rcY3btyohIQERUVFKT09XU1NTZKk8vJyJSQkaPTo0brjjjtUWVnpzpgAAAAAIMmNBamqqkpZWVlatmyZCgsLlZubqy1btrTYJjU1VRkZGVq9erUMw1BeXp5z/bx581RYWKjY2FjNnTvXXTEBAAAAwMltBam0tFQDBw5UUFCQAgMDFRUVpeLiYud4ZWWlGhoaFBYWJkmKj49XcXGxDh8+rIceekghISGSpEsuuUS7du1yV0wAAAAAcPJ114HtdrusVqtz2WazqaKios1xq9Wqqqoq+fv7a/To0ZIkh8Oh5557TsOHDz+mc/fo0eUE0wOA+1itXb0dAe0I8w2expyDJ7ljvrmtIBmG0WqdxWI56vHDhw8rLS1NTU1Nuueee47p3Hv21MnhaH184GTDL5H2qbq61ivnZb61T96abxJzrr3i7zh40vHONx8fS5sXVdx2i11wcLB2797tXLbb7bLZbG2OV1dXO8cPHDigSZMmqampSYsXL5afn5+7YgIAAACAk9sKUnh4uMrKylRTU6P6+nqVlJQoIiLCOd6rVy8FBASovLxcklRQUOAcT01N1bnnnqvs7Gz5+/u7KyIAAAAAtOC2W+yCg4OVkpKipKQkNTY2KjExUaGhoUpOTtaUKVPUt29fZWZmaubMmTpw4ID69OmjpKQkffXVV3rnnXd04YUXKi4uTtIP719asmSJu6ICAAAAgCQ3FiRJio2NVWxsbIt1Py06ISEhys/PbzHep08fbd682Z2xAAAAAOCI3PpBsQAAAABwKqEgAQAAAICJggQAAAAAJgoSAAAAAJgoSAAAAABgoiABAAAAgImCBAAAAAAmChIAAAAAmChIAAAAAGCiIAEAAACAiYIEAAAAACYKEgAAAACYKEgAAAAAYPL1doCTTdczOqpjgJ+3Y8CDGg41qvb7Bm/HAAAAwEmAgvQzHQP8NO7RHG/HgActWzhetaIgAQAAgFvsAAAAAMCJggQAAAAAJgoSAAAAAJgoSAAAAABgoiABAAAAgImCBAAAAAAmChIAAAAAmChIAAAAAGBya0EqKipSdHS0IiMjlZPT+sNXN27cqISEBEVFRSk9PV1NTU0txrOzs/Xss8+6MyIAAAAAOLmtIFVVVSkrK0vLli1TYWGhcnNztWXLlhbbpKamKiMjQ6tXr5ZhGMrLy5Mk1dbWasaMGXrppZfcFQ8AAAAAWnFbQSotLdXAgQMVFBSkwMBARUVFqbi42DleWVmphoYGhYWFSZLi4+Od4++8847OO+88TZw40V3xAAAAAKAVX3cd2G63y2q1OpdtNpsqKiraHLdaraqqqpIkxcXFSdJx317Xo0eX49oP7ZfV2tXbEdCOMN/gScw3eBpzDp7kjvnmtoJkGEardRaL5ajHT8SePXVyOFof/2jwh7p9qq6u9cp5mW/tE/MNnuSt+SYx59or/o6DJx3vfPPxsbR5UcVtt9gFBwdr9+7dzmW73S6bzdbmeHV1dYtxAAAAAPA0txWk8PBwlZWVqaamRvX19SopKVFERIRzvFevXgoICFB5ebkkqaCgoMU4AAAAAHiaW68gpaSkKCkpSXFxcYqJiVFoaKiSk5O1YcMGSVJmZqYWLFigkSNHqr6+XklJSe6KAwAAAAAuue09SJIUGxur2NjYFuuWLFni/DokJET5+flt7v/ggw+6LRsAAAAA/JxbPygWAAAAAE4lFCQAAAAAMFGQAAAAAMBEQQIAAAAAEwUJAAAAAEwUJAAAAAAwUZAAAAAAwERBAgAAAAATBQkAAAAATBQkAAAAADBRkAAAAADAREECAAAAABMFCQAAAABMFCQAAAAAMFGQAAAAAMBEQQIAAAAAEwUJAAAAAEwUJAAAAAAwUZAAAAAAwERBAgAAAAATBQkAAAAATBQkAAAAADC5tSAVFRUpOjpakZGRysnJaTW+ceNGJSQkKCoqSunp6WpqapIkfffddxo/frxGjBihe++9VwcOHHBnTAAAAACQ5MaCVFVVpaysLC1btkyFhYXKzc3Vli1bWmyTmpqqjIwMrV69WoZhKC8vT5L0xBNPaNy4cSouLtbll1+uP/3pT+6KCQAAAABOvu46cGlpqQYOHKigoCBJUlRUlIqLi/XAAw9IkiorK9XQ0KCwsDBJUnx8vBYtWqQxY8bos88+0/PPP+9cf9tttyk1NfWoz+3jYzmh7L85s/MJ7Y9Tz4nOmRPhf0YPr50b3uHN+fabLt29dm54hzfnmyR1+g1/x7U33pxz3YICvXZueMfxzrdf2s9tBclut8tqtTqXbTabKioq2hy3Wq2qqqrS3r171aVLF/n6+rZYfyzOPMGCs2h63Antj1NPjx5dvHbuvpOf8tq54R3enG+ZY2Z57dzwDm/ON0ka9sdMr54fnufNOXd/arTXzg3vcMd8c9stdoZhtFpnsVhcjrvaDwAAAADcxW0FKTg4WLt373Yu2+122Wy2Nserq6tls9nUvXt31dXVqbm5ucV6AAAAAHA3txWk8PBwlZWVqaamRvX19SopKVFERIRzvFevXgoICFB5ebkkqaCgQBEREfLz81O/fv20atWqFusBAAAAwN0sxpHuafuVFBUV6c9//rMaGxuVmJio5ORkJScna8qUKerbt682bdqkmTNn6sCBA+rTp48WLFggf39/VVZWKi0tTXv27FHPnj31xz/+Ud26dXNXTAAAAACQ5OaCBAAAAACnErd+UCwAAAAAnEooSAAAAABgoiABAAAAgImCBAAAAAAmChIAAAAAmChIUFFRkaKjoxUZGamcnBxvx0E7UFdXp5iYGO3cudPbUXCae+655zRq1CiNGjVKCxcu9HYctAPZ2dmKjo7WqFGj9PLLL3s7DtqJp556Smlpad6OcdqgILVzVVVVysrK0rJly1RYWKjc3Fxt2bLF27FwGlu/fr1uvfVWbdu2zdtRcJorLS3Vxx9/rJUrV6qgoEBffvml3nrrLW/Hwmns008/1SeffKI333xTb7zxhl599VVt3brV27FwmisrK9PKlSu9HeO0QkFq50pLSzVw4EAFBQUpMDBQUVFRKi4u9nYsnMby8vI0a9Ys2Ww2b0fBac5qtSotLU3+/v7y8/PTBRdcoO+++87bsXAa69+/v1555RX5+vpqz549am5uVmBgoLdj4TS2b98+ZWVlafLkyd6Oclrx9XYAeJfdbpfVanUu22w2VVRUeDERTnfz5s3zdgS0ExdddJHz623btmnVqlVavny5FxOhPfDz89OiRYv00ksvacSIEQoODvZ2JJzGHnvsMaWkpGjXrl3ejnJa4QpSO2cYRqt1FovFC0kAwD3+85//6M4779S0adN03nnneTsO2oEpU6aorKxMu3btUl5enrfj4DT1+uuvq2fPnho0aJC3o5x2uILUzgUHB+vzzz93Ltvtdm59AnDaKC8v15QpUzRjxgyNGjXK23Fwmvv66691+PBhXXrpperUqZNuuOEGbd682duxcJpatWqVqqurNXr0aO3fv18HDx7U/PnzNWPGDG9HO+VRkNq58PBwPfvss6qpqVGnTp1UUlKiOXPmeDsWAJywXbt26f7771dWVhb/wwqP2LlzpxYtWqTXXntNkvTOO+8oISHBy6lwuvrpUxJXrFihTz/9lHL0K6EgtXPBwcFKSUlRUlKSGhsblZiYqNDQUG/HAoAT9uKLL+rQoUN68sknnevGjh2rW2+91YupcDobOnSo1q9fr7i4OHXo0EE33HADVy6BU5DFONKbUAAAAACgHeIhDQAAAABgoiABAAAAgImCBAAAAAAmChIAAAAAmChIAAAAAGCiIAEATivFxcW6/fbbvR0DAHCKoiABAAAAgImCBAA45WVnZ2v48OFKTEzUW2+9JUn65ptvNHHiRN1yyy0aNmyY7r33Xh06dEhvvvmmxo4d69z3u+++0+DBg3X48GFvxQcAnEQoSACAU9rbb7+tkpISFRQUaPny5aqrq5Mk5eXlKS4uTrm5uSopKdHOnTv1/vvva8SIEdq+fbu2bNkiSXr99dd10003yd/f35svAwBwkqAgAQBOaWVlZYqMjFSXLl3k6+urhIQESVJqaqq6d++uJUuW6PHHH5fdbtfBgwfl7++vMWPGKC8vT83NzVq5cqVuueUWL78KAMDJwtfbAQAAOBEWi0WGYTiXO3ToIEl6+OGH1dzcrJEjR+raa6/Vrl27nNvdcsstGjNmjPr376+LLrpIv/3tb72SHQBw8uEKEgDglDZkyBAVFxfr+++/l8PhUGFhoSTp448/1v3336/o6GhZLBatX79ezc3NkqSzzz5bYWFhmj9/vm699VZvxgcAnGS4ggQAOKUNHTpUmzdvVkJCgs444wyFhIRo7969SklJ0f33369u3bqpU6dO+v3vf6/t27c794uPj9ecOXM0dOhQL6YHAJxsLMZP70sAAKAdcDgcmj17ts4++2zdfffd3o4DADiJcIsdAKBdqaur04ABA7Rjxw7ddttt3o4DADjJcAUJAAAAAExcQQIAAAAAEwUJAAAAAEwUJAAAAAAwUZAAAAAAwERBAgAAAADT/wN4lDFJmo/SSwAAAABJRU5ErkJggg==\n",
      "text/plain": [
       "<Figure size 1008x360 with 1 Axes>"
      ]
     },
     "metadata": {},
     "output_type": "display_data"
    }
   ],
   "source": [
    "# % Wnv present during the different days\n",
    "sns.set(rc={'figure.figsize':(14,5)})\n",
    "sns.barplot(data=combined, \n",
    "            x='day', y='wnv_present', ci=None).set(title='Bar plot of Wnv present across the days');"
   ]
  },
  {
   "cell_type": "markdown",
   "id": "9dd000ed",
   "metadata": {},
   "source": [
    "Legend:<br>\n",
    "Day 0: Monday <br>\n",
    "Day 1: Tuesday<br>\n",
    "Day 2: Wednesday<br>\n",
    "Day 3: Thursday<br>\n",
    "Day 4: Friday<br>\n",
    "Day 5: Saturday<br>\n",
    "Day 6: Sunday<br>"
   ]
  },
  {
   "cell_type": "markdown",
   "id": "bbd0f3fb",
   "metadata": {},
   "source": [
    "Top 20 Features that are correlated to Presence of Virus"
   ]
  },
  {
   "cell_type": "code",
   "execution_count": 87,
   "id": "52b96e29",
   "metadata": {},
   "outputs": [
    {
     "data": {
      "text/html": [
       "<div>\n",
       "<style scoped>\n",
       "    .dataframe tbody tr th:only-of-type {\n",
       "        vertical-align: middle;\n",
       "    }\n",
       "\n",
       "    .dataframe tbody tr th {\n",
       "        vertical-align: top;\n",
       "    }\n",
       "\n",
       "    .dataframe thead th {\n",
       "        text-align: right;\n",
       "    }\n",
       "</style>\n",
       "<table border=\"1\" class=\"dataframe\">\n",
       "  <thead>\n",
       "    <tr style=\"text-align: right;\">\n",
       "      <th></th>\n",
       "      <th>wnv_present</th>\n",
       "    </tr>\n",
       "  </thead>\n",
       "  <tbody>\n",
       "    <tr>\n",
       "      <th>num_mosquitos</th>\n",
       "      <td>0.232540</td>\n",
       "    </tr>\n",
       "    <tr>\n",
       "      <th>species_ohe</th>\n",
       "      <td>0.126857</td>\n",
       "    </tr>\n",
       "    <tr>\n",
       "      <th>r_humid_28</th>\n",
       "      <td>0.106161</td>\n",
       "    </tr>\n",
       "    <tr>\n",
       "      <th>week</th>\n",
       "      <td>0.100982</td>\n",
       "    </tr>\n",
       "    <tr>\n",
       "      <th>tavg_28</th>\n",
       "      <td>0.100197</td>\n",
       "    </tr>\n",
       "    <tr>\n",
       "      <th>month</th>\n",
       "      <td>0.098732</td>\n",
       "    </tr>\n",
       "    <tr>\n",
       "      <th>tavg_5</th>\n",
       "      <td>0.095940</td>\n",
       "    </tr>\n",
       "    <tr>\n",
       "      <th>dew_point</th>\n",
       "      <td>0.094684</td>\n",
       "    </tr>\n",
       "    <tr>\n",
       "      <th>wet_bulb</th>\n",
       "      <td>0.092231</td>\n",
       "    </tr>\n",
       "    <tr>\n",
       "      <th>tmin</th>\n",
       "      <td>0.088223</td>\n",
       "    </tr>\n",
       "    <tr>\n",
       "      <th>r_humid_10</th>\n",
       "      <td>0.085318</td>\n",
       "    </tr>\n",
       "    <tr>\n",
       "      <th>r_humid_14</th>\n",
       "      <td>0.084438</td>\n",
       "    </tr>\n",
       "    <tr>\n",
       "      <th>tavg</th>\n",
       "      <td>0.078883</td>\n",
       "    </tr>\n",
       "    <tr>\n",
       "      <th>longitude</th>\n",
       "      <td>0.076109</td>\n",
       "    </tr>\n",
       "    <tr>\n",
       "      <th>cool</th>\n",
       "      <td>0.075831</td>\n",
       "    </tr>\n",
       "    <tr>\n",
       "      <th>daylight</th>\n",
       "      <td>0.072849</td>\n",
       "    </tr>\n",
       "    <tr>\n",
       "      <th>tavg_14</th>\n",
       "      <td>0.072821</td>\n",
       "    </tr>\n",
       "    <tr>\n",
       "      <th>tavg_10</th>\n",
       "      <td>0.072689</td>\n",
       "    </tr>\n",
       "    <tr>\n",
       "      <th>depart</th>\n",
       "      <td>0.069406</td>\n",
       "    </tr>\n",
       "    <tr>\n",
       "      <th>tmax</th>\n",
       "      <td>0.061062</td>\n",
       "    </tr>\n",
       "  </tbody>\n",
       "</table>\n",
       "</div>"
      ],
      "text/plain": [
       "               wnv_present\n",
       "num_mosquitos     0.232540\n",
       "species_ohe       0.126857\n",
       "r_humid_28        0.106161\n",
       "week              0.100982\n",
       "tavg_28           0.100197\n",
       "month             0.098732\n",
       "tavg_5            0.095940\n",
       "dew_point         0.094684\n",
       "wet_bulb          0.092231\n",
       "tmin              0.088223\n",
       "r_humid_10        0.085318\n",
       "r_humid_14        0.084438\n",
       "tavg              0.078883\n",
       "longitude         0.076109\n",
       "cool              0.075831\n",
       "daylight          0.072849\n",
       "tavg_14           0.072821\n",
       "tavg_10           0.072689\n",
       "depart            0.069406\n",
       "tmax              0.061062"
      ]
     },
     "execution_count": 87,
     "metadata": {},
     "output_type": "execute_result"
    }
   ],
   "source": [
    "combined.corr()[['wnv_present']].abs().sort_values('wnv_present',ascending=False)[1:21]"
   ]
  },
  {
   "cell_type": "markdown",
   "id": "35fbb249",
   "metadata": {},
   "source": [
    "Although the number of mosquitos has the highest correlation with the presence of virus, this feature is not a strong indicator of the presence of virus as there is no consistency between the number of mosquitos found in the traps over the years. Additionally, this feature is also not present in our test dataset, hence we will drop this feature. "
   ]
  },
  {
   "cell_type": "code",
   "execution_count": 88,
   "id": "1593cfdb",
   "metadata": {},
   "outputs": [],
   "source": [
    "combined.drop(columns='num_mosquitos', inplace=True)"
   ]
  },
  {
   "cell_type": "markdown",
   "id": "8da7e879",
   "metadata": {},
   "source": [
    "### Test Dataset"
   ]
  },
  {
   "cell_type": "markdown",
   "id": "665a5054",
   "metadata": {},
   "source": [
    "We will one hot encode the species column for the test dataset as well."
   ]
  },
  {
   "cell_type": "code",
   "execution_count": 89,
   "id": "8022ab84",
   "metadata": {},
   "outputs": [],
   "source": [
    "test['species_ohe'] = test['species'].map(\n",
    "    {'CULEX RESTUANS': 1, 'CULEX PIPIENS/RESTUANS': 2, 'CULEX PIPIENS': 3})\n",
    "#0 for all other species\n",
    "test['species_ohe'].fillna(0, inplace=True)"
   ]
  },
  {
   "cell_type": "code",
   "execution_count": 90,
   "id": "ef4fd394",
   "metadata": {},
   "outputs": [],
   "source": [
    "test.drop(columns={'species', 'trap'}, inplace=True)"
   ]
  },
  {
   "cell_type": "markdown",
   "id": "0d8961c4",
   "metadata": {},
   "source": [
    "### Export Cleaned Data"
   ]
  },
  {
   "cell_type": "code",
   "execution_count": 91,
   "id": "b2377636",
   "metadata": {},
   "outputs": [],
   "source": [
<<<<<<< HEAD
    "combined.to_csv('../datasets/combined_cleaned.csv', index = False)\n",
    "test.to_csv('../datasets/test_cleaned.csv', index = False)"
=======
    "combined.to_csv('../datasets/combined_cleaned.csv', index=False)\n"
   ]
  },
  {
   "cell_type": "code",
   "execution_count": 92,
   "id": "8d15a564",
   "metadata": {},
   "outputs": [],
   "source": [
    "test.to_csv('../datasets/test_cleaned.csv', index=False)"
>>>>>>> 2b275d166cea65af4c96769f589d08619d1d1864
   ]
  }
 ],
 "metadata": {
  "kernelspec": {
   "display_name": "Python 3",
   "language": "python",
   "name": "python3"
  },
  "language_info": {
   "codemirror_mode": {
    "name": "ipython",
    "version": 3
   },
   "file_extension": ".py",
   "mimetype": "text/x-python",
   "name": "python",
   "nbconvert_exporter": "python",
   "pygments_lexer": "ipython3",
   "version": "3.6.9"
  },
  "toc": {
   "base_numbering": 1,
   "nav_menu": {},
   "number_sections": true,
   "sideBar": true,
   "skip_h1_title": true,
   "title_cell": "Table of Contents",
   "title_sidebar": "Contents",
   "toc_cell": false,
   "toc_position": {
    "height": "calc(100% - 180px)",
    "left": "10px",
    "top": "150px",
    "width": "288px"
   },
   "toc_section_display": true,
   "toc_window_display": true
  }
 },
 "nbformat": 4,
 "nbformat_minor": 5
}
